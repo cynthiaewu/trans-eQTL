{
 "cells": [
  {
   "cell_type": "code",
   "execution_count": 2,
   "metadata": {},
   "outputs": [],
   "source": [
    "import pandas as pd\n",
    "import matplotlib.pyplot as plt\n"
   ]
  },
  {
   "cell_type": "code",
   "execution_count": 5,
   "metadata": {},
   "outputs": [],
   "source": [
    "data = pd.read_csv('/storage/cynthiawu/trans_eQTL/GTex.v8/Run3_070221/GTEx_Analysis_v8_eQTL/Adipose_Subcutaneous.v8.signif_variant_gene_pairs.txt.gz', sep='\\t', usecols=[0])"
   ]
  },
  {
   "cell_type": "code",
   "execution_count": 6,
   "metadata": {},
   "outputs": [
    {
     "data": {
      "text/plain": [
       "0               chr1_64764_C_T_b38\n",
       "1              chr1_665098_G_A_b38\n",
       "2              chr1_666028_G_A_b38\n",
       "3              chr1_108826_G_C_b38\n",
       "4              chr1_126108_G_A_b38\n",
       "                    ...           \n",
       "2930365     chrX_155636194_A_G_b38\n",
       "2930366     chrX_155656217_A_G_b38\n",
       "2930367    chrX_155682745_A_AT_b38\n",
       "2930368     chrX_155687184_G_T_b38\n",
       "2930369     chrX_155693713_T_A_b38\n",
       "Name: variant_id, Length: 2930370, dtype: object"
      ]
     },
     "execution_count": 6,
     "metadata": {},
     "output_type": "execute_result"
    }
   ],
   "source": [
    "data['variant_id']"
   ]
  },
  {
   "cell_type": "code",
   "execution_count": 8,
   "metadata": {},
   "outputs": [],
   "source": [
    "variants = set(data['variant_id'])"
   ]
  },
  {
   "cell_type": "code",
   "execution_count": 9,
   "metadata": {},
   "outputs": [
    {
     "data": {
      "text/plain": [
       "1502610"
      ]
     },
     "execution_count": 9,
     "metadata": {},
     "output_type": "execute_result"
    }
   ],
   "source": [
    "len(variants)"
   ]
  },
  {
   "cell_type": "code",
   "execution_count": 17,
   "metadata": {},
   "outputs": [],
   "source": [
    "variants = set()\n",
    "with open('/storage/cynthiawu/trans_eQTL/GTex.v8/Run3_070221/GTEx_Analysis_v8_eQTL/variant_gene_pair_fnames.txt') as f:\n",
    "    for line in f:\n",
    "        data=pd.read_csv(f'/storage/cynthiawu/trans_eQTL/GTex.v8/Run3_070221/GTEx_Analysis_v8_eQTL/{line.strip()}', sep='\\t', usecols=[0])\n",
    "        variants.update(set(data['variant_id']))\n",
    "#         break"
   ]
  },
  {
   "cell_type": "code",
   "execution_count": 13,
   "metadata": {},
   "outputs": [
    {
     "data": {
      "text/html": [
       "<div>\n",
       "<style scoped>\n",
       "    .dataframe tbody tr th:only-of-type {\n",
       "        vertical-align: middle;\n",
       "    }\n",
       "\n",
       "    .dataframe tbody tr th {\n",
       "        vertical-align: top;\n",
       "    }\n",
       "\n",
       "    .dataframe thead th {\n",
       "        text-align: right;\n",
       "    }\n",
       "</style>\n",
       "<table border=\"1\" class=\"dataframe\">\n",
       "  <thead>\n",
       "    <tr style=\"text-align: right;\">\n",
       "      <th></th>\n",
       "      <th>variant_id</th>\n",
       "    </tr>\n",
       "  </thead>\n",
       "  <tbody>\n",
       "    <tr>\n",
       "      <th>0</th>\n",
       "      <td>chr1_64764_C_T_b38</td>\n",
       "    </tr>\n",
       "    <tr>\n",
       "      <th>1</th>\n",
       "      <td>chr1_665098_G_A_b38</td>\n",
       "    </tr>\n",
       "    <tr>\n",
       "      <th>2</th>\n",
       "      <td>chr1_666028_G_A_b38</td>\n",
       "    </tr>\n",
       "    <tr>\n",
       "      <th>3</th>\n",
       "      <td>chr1_108826_G_C_b38</td>\n",
       "    </tr>\n",
       "    <tr>\n",
       "      <th>4</th>\n",
       "      <td>chr1_126108_G_A_b38</td>\n",
       "    </tr>\n",
       "    <tr>\n",
       "      <th>...</th>\n",
       "      <td>...</td>\n",
       "    </tr>\n",
       "    <tr>\n",
       "      <th>2930365</th>\n",
       "      <td>chrX_155636194_A_G_b38</td>\n",
       "    </tr>\n",
       "    <tr>\n",
       "      <th>2930366</th>\n",
       "      <td>chrX_155656217_A_G_b38</td>\n",
       "    </tr>\n",
       "    <tr>\n",
       "      <th>2930367</th>\n",
       "      <td>chrX_155682745_A_AT_b38</td>\n",
       "    </tr>\n",
       "    <tr>\n",
       "      <th>2930368</th>\n",
       "      <td>chrX_155687184_G_T_b38</td>\n",
       "    </tr>\n",
       "    <tr>\n",
       "      <th>2930369</th>\n",
       "      <td>chrX_155693713_T_A_b38</td>\n",
       "    </tr>\n",
       "  </tbody>\n",
       "</table>\n",
       "<p>2930370 rows × 1 columns</p>\n",
       "</div>"
      ],
      "text/plain": [
       "                      variant_id\n",
       "0             chr1_64764_C_T_b38\n",
       "1            chr1_665098_G_A_b38\n",
       "2            chr1_666028_G_A_b38\n",
       "3            chr1_108826_G_C_b38\n",
       "4            chr1_126108_G_A_b38\n",
       "...                          ...\n",
       "2930365   chrX_155636194_A_G_b38\n",
       "2930366   chrX_155656217_A_G_b38\n",
       "2930367  chrX_155682745_A_AT_b38\n",
       "2930368   chrX_155687184_G_T_b38\n",
       "2930369   chrX_155693713_T_A_b38\n",
       "\n",
       "[2930370 rows x 1 columns]"
      ]
     },
     "execution_count": 13,
     "metadata": {},
     "output_type": "execute_result"
    }
   ],
   "source": [
    "data"
   ]
  },
  {
   "cell_type": "code",
   "execution_count": 18,
   "metadata": {},
   "outputs": [
    {
     "data": {
      "text/plain": [
       "4632457"
      ]
     },
     "execution_count": 18,
     "metadata": {},
     "output_type": "execute_result"
    }
   ],
   "source": [
    "len(variants)"
   ]
  },
  {
   "cell_type": "code",
   "execution_count": 27,
   "metadata": {},
   "outputs": [],
   "source": [
    "f = open('/storage/cynthiawu/trans_eQTL/GTex.v8/Run3_070221/GTEx_Analysis_v8_eQTL/cis-eqtl_set.txt', 'w')\n",
    "for v in variants:\n",
    "    if (v[:4] != 'chrX'):\n",
    "        f.write(f'{v}\\n')\n",
    "f.close()"
   ]
  },
  {
   "cell_type": "code",
   "execution_count": 2,
   "metadata": {},
   "outputs": [],
   "source": [
    "import numpy as np"
   ]
  },
  {
   "cell_type": "code",
   "execution_count": 31,
   "metadata": {},
   "outputs": [],
   "source": [
    "?np.loadtxt"
   ]
  },
  {
   "cell_type": "code",
   "execution_count": null,
   "metadata": {},
   "outputs": [],
   "source": []
  },
  {
   "cell_type": "code",
   "execution_count": 3,
   "metadata": {},
   "outputs": [],
   "source": [
    "data = np.loadtxt('/storage/cynthiawu/trans_eQTL/GTex.v8/Run4_080221/chr1/GTEx_Analysis_2017-06-05_v8_WholeGenomeSeq_866Indiv_filter3_snplist_chr1.012', delimiter='\\t')\n"
   ]
  },
  {
   "cell_type": "code",
   "execution_count": 4,
   "metadata": {},
   "outputs": [
    {
     "data": {
      "text/plain": [
       "array([[  0.,   0.,   0., ...,   0.,   0.,   0.],\n",
       "       [  1.,   0.,   1., ...,   0.,   0.,   0.],\n",
       "       [  2.,   0.,   1., ...,   0.,   1.,   0.],\n",
       "       ...,\n",
       "       [863.,   0.,   0., ...,   0.,   1.,   0.],\n",
       "       [864.,   0.,   1., ...,   0.,   1.,   0.],\n",
       "       [865.,   0.,   0., ...,   0.,   2.,   0.]])"
      ]
     },
     "execution_count": 4,
     "metadata": {},
     "output_type": "execute_result"
    }
   ],
   "source": [
    "data"
   ]
  },
  {
   "cell_type": "code",
   "execution_count": 25,
   "metadata": {},
   "outputs": [],
   "source": [
    "data = np.delete(data, 0, axis=1)"
   ]
  },
  {
   "cell_type": "code",
   "execution_count": 8,
   "metadata": {},
   "outputs": [
    {
     "data": {
      "text/plain": [
       "(866, 401117)"
      ]
     },
     "execution_count": 8,
     "metadata": {},
     "output_type": "execute_result"
    }
   ],
   "source": [
    "data.shape"
   ]
  },
  {
   "cell_type": "code",
   "execution_count": 14,
   "metadata": {},
   "outputs": [],
   "source": [
    "indv = []\n",
    "with open('/storage/cynthiawu/trans_eQTL/GTex.v8/Run4_080221/chr1/GTEx_Analysis_2017-06-05_v8_WholeGenomeSeq_866Indiv_filter3_snplist_chr1.012.indv', 'r') as f:\n",
    "    for line in f:\n",
    "        indv.append(line.strip())\n",
    "        \n"
   ]
  },
  {
   "cell_type": "code",
   "execution_count": 18,
   "metadata": {},
   "outputs": [],
   "source": [
    "pos = []\n",
    "with open('/storage/cynthiawu/trans_eQTL/GTex.v8/Run4_080221/chr1/GTEx_Analysis_2017-06-05_v8_WholeGenomeSeq_866Indiv_filter3_snplist_chr1.012.pos', 'r') as f:\n",
    "    for line in f:\n",
    "        pos.append(line.strip().replace('\\t', '_'))\n"
   ]
  },
  {
   "cell_type": "code",
   "execution_count": 21,
   "metadata": {},
   "outputs": [],
   "source": [
    "import pandas as pd"
   ]
  },
  {
   "cell_type": "code",
   "execution_count": 27,
   "metadata": {},
   "outputs": [],
   "source": [
    "genotype = pd.DataFrame(data.T, index=pos, columns=indv)"
   ]
  },
  {
   "cell_type": "code",
   "execution_count": 22,
   "metadata": {},
   "outputs": [],
   "source": [
    "?pd.DataFrame"
   ]
  },
  {
   "cell_type": "code",
   "execution_count": 28,
   "metadata": {},
   "outputs": [],
   "source": [
    "genotype.to_csv('/storage/cynthiawu/trans_eQTL/GTex.v8/Run4_080221/chr1/GTEx_Analysis_2017-06-05_v8_WholeGenomeSeq_866Indiv_filter3_snplist_chr1_genotype', sep='\\t')"
   ]
  },
  {
   "cell_type": "code",
   "execution_count": null,
   "metadata": {},
   "outputs": [],
   "source": []
  },
  {
   "cell_type": "code",
   "execution_count": 9,
   "metadata": {},
   "outputs": [],
   "source": [
    "import pandas as pd\n",
    "from collections import Counter\n"
   ]
  },
  {
   "cell_type": "code",
   "execution_count": 5,
   "metadata": {},
   "outputs": [],
   "source": [
    "data = pd.read_csv('/storage/cynthiawu/BE_tool/ERCC2/ERCC2_R33A_vepformat.csv', sep='\\t', header=None)"
   ]
  },
  {
   "cell_type": "code",
   "execution_count": 6,
   "metadata": {},
   "outputs": [
    {
     "data": {
      "text/html": [
       "<div>\n",
       "<style scoped>\n",
       "    .dataframe tbody tr th:only-of-type {\n",
       "        vertical-align: middle;\n",
       "    }\n",
       "\n",
       "    .dataframe tbody tr th {\n",
       "        vertical-align: top;\n",
       "    }\n",
       "\n",
       "    .dataframe thead th {\n",
       "        text-align: right;\n",
       "    }\n",
       "</style>\n",
       "<table border=\"1\" class=\"dataframe\">\n",
       "  <thead>\n",
       "    <tr style=\"text-align: right;\">\n",
       "      <th></th>\n",
       "      <th>0</th>\n",
       "      <th>1</th>\n",
       "      <th>2</th>\n",
       "      <th>3</th>\n",
       "      <th>4</th>\n",
       "      <th>5</th>\n",
       "    </tr>\n",
       "  </thead>\n",
       "  <tbody>\n",
       "    <tr>\n",
       "      <th>0</th>\n",
       "      <td>19</td>\n",
       "      <td>45350364</td>\n",
       "      <td>45350364</td>\n",
       "      <td>C/T</td>\n",
       "      <td>+</td>\n",
       "      <td>ACAGAACAAGTATCAACAAGCGG_sg1</td>\n",
       "    </tr>\n",
       "    <tr>\n",
       "      <th>1</th>\n",
       "      <td>19</td>\n",
       "      <td>45350520</td>\n",
       "      <td>45350520</td>\n",
       "      <td>C/T</td>\n",
       "      <td>+</td>\n",
       "      <td>GCCCCCAACACAGGCACAGCTGG_sg2</td>\n",
       "    </tr>\n",
       "    <tr>\n",
       "      <th>2</th>\n",
       "      <td>19</td>\n",
       "      <td>45350521</td>\n",
       "      <td>45350521</td>\n",
       "      <td>C/T</td>\n",
       "      <td>+</td>\n",
       "      <td>GCCCCCAACACAGGCACAGCTGG_sg2</td>\n",
       "    </tr>\n",
       "    <tr>\n",
       "      <th>3</th>\n",
       "      <td>19</td>\n",
       "      <td>45350539</td>\n",
       "      <td>45350539</td>\n",
       "      <td>C/T</td>\n",
       "      <td>-</td>\n",
       "      <td>GTCACCAGCTGTGCCTGTGTTGG_sg3</td>\n",
       "    </tr>\n",
       "    <tr>\n",
       "      <th>4</th>\n",
       "      <td>19</td>\n",
       "      <td>45350538</td>\n",
       "      <td>45350538</td>\n",
       "      <td>C/T</td>\n",
       "      <td>-</td>\n",
       "      <td>GTCACCAGCTGTGCCTGTGTTGG_sg3</td>\n",
       "    </tr>\n",
       "    <tr>\n",
       "      <th>...</th>\n",
       "      <td>...</td>\n",
       "      <td>...</td>\n",
       "      <td>...</td>\n",
       "      <td>...</td>\n",
       "      <td>...</td>\n",
       "      <td>...</td>\n",
       "    </tr>\n",
       "    <tr>\n",
       "      <th>322</th>\n",
       "      <td>19</td>\n",
       "      <td>45369136</td>\n",
       "      <td>45369136</td>\n",
       "      <td>C/T</td>\n",
       "      <td>-</td>\n",
       "      <td>GGAGTCCTGGAGATGCCCTCAGG_sg221</td>\n",
       "    </tr>\n",
       "    <tr>\n",
       "      <th>323</th>\n",
       "      <td>19</td>\n",
       "      <td>45369100</td>\n",
       "      <td>45369100</td>\n",
       "      <td>C/T</td>\n",
       "      <td>-</td>\n",
       "      <td>ATCCCTGTTGGCCCTGATCATGG_sg222</td>\n",
       "    </tr>\n",
       "    <tr>\n",
       "      <th>324</th>\n",
       "      <td>19</td>\n",
       "      <td>45370227</td>\n",
       "      <td>45370227</td>\n",
       "      <td>C/T</td>\n",
       "      <td>-</td>\n",
       "      <td>GCTCAACGTGGACGGGCTCCTGG_sg223</td>\n",
       "    </tr>\n",
       "    <tr>\n",
       "      <th>325</th>\n",
       "      <td>19</td>\n",
       "      <td>45370178</td>\n",
       "      <td>45370178</td>\n",
       "      <td>C/T</td>\n",
       "      <td>-</td>\n",
       "      <td>CCGAGCAGTTCTCCTACATGCGG_sg224</td>\n",
       "    </tr>\n",
       "    <tr>\n",
       "      <th>326</th>\n",
       "      <td>19</td>\n",
       "      <td>45370178</td>\n",
       "      <td>45370178</td>\n",
       "      <td>C/T</td>\n",
       "      <td>-</td>\n",
       "      <td>CGAGCAGTTCTCCTACATGCGGG_sg225</td>\n",
       "    </tr>\n",
       "  </tbody>\n",
       "</table>\n",
       "<p>327 rows × 6 columns</p>\n",
       "</div>"
      ],
      "text/plain": [
       "      0         1         2    3  4                              5\n",
       "0    19  45350364  45350364  C/T  +    ACAGAACAAGTATCAACAAGCGG_sg1\n",
       "1    19  45350520  45350520  C/T  +    GCCCCCAACACAGGCACAGCTGG_sg2\n",
       "2    19  45350521  45350521  C/T  +    GCCCCCAACACAGGCACAGCTGG_sg2\n",
       "3    19  45350539  45350539  C/T  -    GTCACCAGCTGTGCCTGTGTTGG_sg3\n",
       "4    19  45350538  45350538  C/T  -    GTCACCAGCTGTGCCTGTGTTGG_sg3\n",
       "..   ..       ...       ...  ... ..                            ...\n",
       "322  19  45369136  45369136  C/T  -  GGAGTCCTGGAGATGCCCTCAGG_sg221\n",
       "323  19  45369100  45369100  C/T  -  ATCCCTGTTGGCCCTGATCATGG_sg222\n",
       "324  19  45370227  45370227  C/T  -  GCTCAACGTGGACGGGCTCCTGG_sg223\n",
       "325  19  45370178  45370178  C/T  -  CCGAGCAGTTCTCCTACATGCGG_sg224\n",
       "326  19  45370178  45370178  C/T  -  CGAGCAGTTCTCCTACATGCGGG_sg225\n",
       "\n",
       "[327 rows x 6 columns]"
      ]
     },
     "execution_count": 6,
     "metadata": {},
     "output_type": "execute_result"
    }
   ],
   "source": [
    "data"
   ]
  },
  {
   "cell_type": "code",
   "execution_count": 11,
   "metadata": {},
   "outputs": [],
   "source": [
    "count = Counter(data[5])"
   ]
  },
  {
   "cell_type": "code",
   "execution_count": 14,
   "metadata": {},
   "outputs": [],
   "source": [
    "unique = [k for k, v in count.items() if v == 1]"
   ]
  },
  {
   "cell_type": "code",
   "execution_count": 15,
   "metadata": {},
   "outputs": [
    {
     "data": {
      "text/plain": [
       "133"
      ]
     },
     "execution_count": 15,
     "metadata": {},
     "output_type": "execute_result"
    }
   ],
   "source": [
    "len(unique)"
   ]
  },
  {
   "cell_type": "code",
   "execution_count": null,
   "metadata": {},
   "outputs": [],
   "source": [
    "ACAGAACAAGTATCAACAAGCGG_sg1"
   ]
  },
  {
   "cell_type": "code",
   "execution_count": 20,
   "metadata": {},
   "outputs": [],
   "source": [
    "sgRNAs = []\n",
    "for seq in unique:\n",
    "    sgRNA = (seq[:20])\n",
    "    if sgRNA[0] != 'G':\n",
    "        sgRNA = 'g'+sgRNA\n",
    "    sgRNA = 'ccgc' + sgRNA\n",
    "    sgRNAs.append(sgRNA)"
   ]
  },
  {
   "cell_type": "code",
   "execution_count": 22,
   "metadata": {},
   "outputs": [
    {
     "data": {
      "text/plain": [
       "133"
      ]
     },
     "execution_count": 22,
     "metadata": {},
     "output_type": "execute_result"
    }
   ],
   "source": [
    "len(sgRNAs)"
   ]
  },
  {
   "cell_type": "code",
   "execution_count": 24,
   "metadata": {},
   "outputs": [],
   "source": [
    "pos = []\n",
    "with open('/storage/cynthiawu/BE_tool/ERCC2/ERCC2_R33A_sgRNAseq.csv', 'w') as f:\n",
    "    for seq in sgRNAs:\n",
    "        f.write(f'{seq}\\n')\n"
   ]
  },
  {
   "cell_type": "code",
   "execution_count": null,
   "metadata": {},
   "outputs": [],
   "source": []
  }
 ],
 "metadata": {
  "kernelspec": {
   "display_name": "Python (python3.6)",
   "language": "python",
   "name": "python3.6"
  },
  "language_info": {
   "codemirror_mode": {
    "name": "ipython",
    "version": 3
   },
   "file_extension": ".py",
   "mimetype": "text/x-python",
   "name": "python",
   "nbconvert_exporter": "python",
   "pygments_lexer": "ipython3",
   "version": "3.6.7"
  }
 },
 "nbformat": 4,
 "nbformat_minor": 4
}

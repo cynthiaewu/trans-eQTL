{
 "cells": [
  {
   "cell_type": "code",
   "execution_count": 1,
   "metadata": {},
   "outputs": [],
   "source": [
    "import pandas as pd\n",
    "import sklearn.decomposition\n",
    "import matplotlib.pyplot as plt"
   ]
  },
  {
   "cell_type": "code",
   "execution_count": 3,
   "metadata": {},
   "outputs": [],
   "source": [
    "expression = pd.read_csv('/gymreklab-tscc/cynthiawu/Test_nullsnps/simulate_eqtls_only/FastMultivariate/Single_eqtl/SampleSize100/SingleParameter/numTarget_1000/Beta_1/Simulation_0/expression.csv', sep='\\t')\n",
    "expression.set_index('Unnamed: 0', inplace=True)"
   ]
  },
  {
   "cell_type": "code",
   "execution_count": 4,
   "metadata": {},
   "outputs": [
    {
     "data": {
      "text/html": [
       "<div>\n",
       "<style scoped>\n",
       "    .dataframe tbody tr th:only-of-type {\n",
       "        vertical-align: middle;\n",
       "    }\n",
       "\n",
       "    .dataframe tbody tr th {\n",
       "        vertical-align: top;\n",
       "    }\n",
       "\n",
       "    .dataframe thead th {\n",
       "        text-align: right;\n",
       "    }\n",
       "</style>\n",
       "<table border=\"1\" class=\"dataframe\">\n",
       "  <thead>\n",
       "    <tr style=\"text-align: right;\">\n",
       "      <th></th>\n",
       "      <th>Sample0</th>\n",
       "      <th>Sample1</th>\n",
       "      <th>Sample2</th>\n",
       "      <th>Sample3</th>\n",
       "      <th>Sample4</th>\n",
       "      <th>Sample5</th>\n",
       "      <th>Sample6</th>\n",
       "      <th>Sample7</th>\n",
       "      <th>Sample8</th>\n",
       "      <th>Sample9</th>\n",
       "      <th>...</th>\n",
       "      <th>Sample90</th>\n",
       "      <th>Sample91</th>\n",
       "      <th>Sample92</th>\n",
       "      <th>Sample93</th>\n",
       "      <th>Sample94</th>\n",
       "      <th>Sample95</th>\n",
       "      <th>Sample96</th>\n",
       "      <th>Sample97</th>\n",
       "      <th>Sample98</th>\n",
       "      <th>Sample99</th>\n",
       "    </tr>\n",
       "    <tr>\n",
       "      <th>Unnamed: 0</th>\n",
       "      <th></th>\n",
       "      <th></th>\n",
       "      <th></th>\n",
       "      <th></th>\n",
       "      <th></th>\n",
       "      <th></th>\n",
       "      <th></th>\n",
       "      <th></th>\n",
       "      <th></th>\n",
       "      <th></th>\n",
       "      <th></th>\n",
       "      <th></th>\n",
       "      <th></th>\n",
       "      <th></th>\n",
       "      <th></th>\n",
       "      <th></th>\n",
       "      <th></th>\n",
       "      <th></th>\n",
       "      <th></th>\n",
       "      <th></th>\n",
       "      <th></th>\n",
       "    </tr>\n",
       "  </thead>\n",
       "  <tbody>\n",
       "    <tr>\n",
       "      <th>Gene0</th>\n",
       "      <td>3.126636</td>\n",
       "      <td>0.953960</td>\n",
       "      <td>1.420003</td>\n",
       "      <td>1.128455</td>\n",
       "      <td>0.191852</td>\n",
       "      <td>2.105815</td>\n",
       "      <td>1.001566</td>\n",
       "      <td>1.303819</td>\n",
       "      <td>-0.056657</td>\n",
       "      <td>0.864387</td>\n",
       "      <td>...</td>\n",
       "      <td>0.339889</td>\n",
       "      <td>0.037205</td>\n",
       "      <td>-0.155129</td>\n",
       "      <td>1.669261</td>\n",
       "      <td>-0.135823</td>\n",
       "      <td>-0.899004</td>\n",
       "      <td>1.257552</td>\n",
       "      <td>0.438784</td>\n",
       "      <td>-0.456018</td>\n",
       "      <td>0.500884</td>\n",
       "    </tr>\n",
       "    <tr>\n",
       "      <th>Gene1</th>\n",
       "      <td>0.920068</td>\n",
       "      <td>0.780017</td>\n",
       "      <td>0.962257</td>\n",
       "      <td>1.893747</td>\n",
       "      <td>-0.378534</td>\n",
       "      <td>3.427359</td>\n",
       "      <td>0.294396</td>\n",
       "      <td>1.173832</td>\n",
       "      <td>1.178183</td>\n",
       "      <td>1.790217</td>\n",
       "      <td>...</td>\n",
       "      <td>-1.312914</td>\n",
       "      <td>-0.000630</td>\n",
       "      <td>-0.610889</td>\n",
       "      <td>1.995967</td>\n",
       "      <td>2.751927</td>\n",
       "      <td>-1.364821</td>\n",
       "      <td>1.104497</td>\n",
       "      <td>-1.445590</td>\n",
       "      <td>-0.164452</td>\n",
       "      <td>-0.114984</td>\n",
       "    </tr>\n",
       "    <tr>\n",
       "      <th>Gene2</th>\n",
       "      <td>0.852531</td>\n",
       "      <td>1.322378</td>\n",
       "      <td>1.363194</td>\n",
       "      <td>3.828152</td>\n",
       "      <td>0.332854</td>\n",
       "      <td>0.596787</td>\n",
       "      <td>1.351660</td>\n",
       "      <td>1.802514</td>\n",
       "      <td>0.993597</td>\n",
       "      <td>-0.860892</td>\n",
       "      <td>...</td>\n",
       "      <td>1.638187</td>\n",
       "      <td>-0.145165</td>\n",
       "      <td>1.595090</td>\n",
       "      <td>1.375141</td>\n",
       "      <td>-1.817612</td>\n",
       "      <td>-0.791237</td>\n",
       "      <td>0.669506</td>\n",
       "      <td>0.291842</td>\n",
       "      <td>0.635372</td>\n",
       "      <td>0.983035</td>\n",
       "    </tr>\n",
       "    <tr>\n",
       "      <th>Gene3</th>\n",
       "      <td>1.562180</td>\n",
       "      <td>-0.870546</td>\n",
       "      <td>2.352895</td>\n",
       "      <td>1.393055</td>\n",
       "      <td>-0.904368</td>\n",
       "      <td>0.866692</td>\n",
       "      <td>-0.331100</td>\n",
       "      <td>1.192861</td>\n",
       "      <td>1.307741</td>\n",
       "      <td>0.965796</td>\n",
       "      <td>...</td>\n",
       "      <td>-0.366472</td>\n",
       "      <td>1.258581</td>\n",
       "      <td>-0.128249</td>\n",
       "      <td>1.359346</td>\n",
       "      <td>1.704045</td>\n",
       "      <td>-0.669987</td>\n",
       "      <td>2.036116</td>\n",
       "      <td>-0.676750</td>\n",
       "      <td>-0.016406</td>\n",
       "      <td>-2.130624</td>\n",
       "    </tr>\n",
       "    <tr>\n",
       "      <th>Gene4</th>\n",
       "      <td>1.501968</td>\n",
       "      <td>0.713997</td>\n",
       "      <td>2.421934</td>\n",
       "      <td>1.318364</td>\n",
       "      <td>-0.114837</td>\n",
       "      <td>2.411598</td>\n",
       "      <td>1.107623</td>\n",
       "      <td>2.962497</td>\n",
       "      <td>1.610254</td>\n",
       "      <td>0.781577</td>\n",
       "      <td>...</td>\n",
       "      <td>0.687670</td>\n",
       "      <td>4.137583</td>\n",
       "      <td>0.231547</td>\n",
       "      <td>2.471912</td>\n",
       "      <td>-0.512562</td>\n",
       "      <td>-0.329486</td>\n",
       "      <td>1.228511</td>\n",
       "      <td>-1.967059</td>\n",
       "      <td>-0.417823</td>\n",
       "      <td>1.926266</td>\n",
       "    </tr>\n",
       "    <tr>\n",
       "      <th>...</th>\n",
       "      <td>...</td>\n",
       "      <td>...</td>\n",
       "      <td>...</td>\n",
       "      <td>...</td>\n",
       "      <td>...</td>\n",
       "      <td>...</td>\n",
       "      <td>...</td>\n",
       "      <td>...</td>\n",
       "      <td>...</td>\n",
       "      <td>...</td>\n",
       "      <td>...</td>\n",
       "      <td>...</td>\n",
       "      <td>...</td>\n",
       "      <td>...</td>\n",
       "      <td>...</td>\n",
       "      <td>...</td>\n",
       "      <td>...</td>\n",
       "      <td>...</td>\n",
       "      <td>...</td>\n",
       "      <td>...</td>\n",
       "      <td>...</td>\n",
       "    </tr>\n",
       "    <tr>\n",
       "      <th>Gene14995</th>\n",
       "      <td>2.146744</td>\n",
       "      <td>0.067375</td>\n",
       "      <td>0.837644</td>\n",
       "      <td>0.135872</td>\n",
       "      <td>-0.422714</td>\n",
       "      <td>0.982882</td>\n",
       "      <td>0.191027</td>\n",
       "      <td>-0.246697</td>\n",
       "      <td>0.324645</td>\n",
       "      <td>0.474423</td>\n",
       "      <td>...</td>\n",
       "      <td>0.044241</td>\n",
       "      <td>0.495972</td>\n",
       "      <td>-1.158264</td>\n",
       "      <td>0.072565</td>\n",
       "      <td>-1.390190</td>\n",
       "      <td>0.261786</td>\n",
       "      <td>0.374083</td>\n",
       "      <td>0.455183</td>\n",
       "      <td>0.052348</td>\n",
       "      <td>0.312043</td>\n",
       "    </tr>\n",
       "    <tr>\n",
       "      <th>Gene14996</th>\n",
       "      <td>-1.481986</td>\n",
       "      <td>1.331170</td>\n",
       "      <td>1.160892</td>\n",
       "      <td>-0.181586</td>\n",
       "      <td>-0.339693</td>\n",
       "      <td>-0.358080</td>\n",
       "      <td>0.111724</td>\n",
       "      <td>0.084936</td>\n",
       "      <td>-1.176400</td>\n",
       "      <td>-1.326729</td>\n",
       "      <td>...</td>\n",
       "      <td>-2.453171</td>\n",
       "      <td>-1.001385</td>\n",
       "      <td>-0.166845</td>\n",
       "      <td>0.292951</td>\n",
       "      <td>0.754598</td>\n",
       "      <td>-0.919903</td>\n",
       "      <td>1.501418</td>\n",
       "      <td>0.694080</td>\n",
       "      <td>-2.038732</td>\n",
       "      <td>-1.197848</td>\n",
       "    </tr>\n",
       "    <tr>\n",
       "      <th>Gene14997</th>\n",
       "      <td>-0.104477</td>\n",
       "      <td>-0.903251</td>\n",
       "      <td>1.117009</td>\n",
       "      <td>1.274140</td>\n",
       "      <td>1.041102</td>\n",
       "      <td>-1.492587</td>\n",
       "      <td>-0.828873</td>\n",
       "      <td>-0.881749</td>\n",
       "      <td>-1.079293</td>\n",
       "      <td>-0.073366</td>\n",
       "      <td>...</td>\n",
       "      <td>-1.205227</td>\n",
       "      <td>-0.077823</td>\n",
       "      <td>-0.575902</td>\n",
       "      <td>-0.986193</td>\n",
       "      <td>1.051648</td>\n",
       "      <td>-0.248746</td>\n",
       "      <td>2.259821</td>\n",
       "      <td>0.422269</td>\n",
       "      <td>1.750798</td>\n",
       "      <td>-1.055816</td>\n",
       "    </tr>\n",
       "    <tr>\n",
       "      <th>Gene14998</th>\n",
       "      <td>0.022752</td>\n",
       "      <td>-1.189993</td>\n",
       "      <td>-0.888340</td>\n",
       "      <td>-0.431235</td>\n",
       "      <td>0.507952</td>\n",
       "      <td>1.182740</td>\n",
       "      <td>1.030638</td>\n",
       "      <td>0.545068</td>\n",
       "      <td>-0.711582</td>\n",
       "      <td>-1.524986</td>\n",
       "      <td>...</td>\n",
       "      <td>0.726083</td>\n",
       "      <td>0.399750</td>\n",
       "      <td>-0.516815</td>\n",
       "      <td>-1.301395</td>\n",
       "      <td>0.586276</td>\n",
       "      <td>-1.240053</td>\n",
       "      <td>0.729582</td>\n",
       "      <td>-0.813431</td>\n",
       "      <td>0.773980</td>\n",
       "      <td>-1.546744</td>\n",
       "    </tr>\n",
       "    <tr>\n",
       "      <th>Gene14999</th>\n",
       "      <td>-1.324786</td>\n",
       "      <td>0.907809</td>\n",
       "      <td>-0.152424</td>\n",
       "      <td>-0.502040</td>\n",
       "      <td>2.219001</td>\n",
       "      <td>-1.204821</td>\n",
       "      <td>-1.084958</td>\n",
       "      <td>0.180746</td>\n",
       "      <td>0.904913</td>\n",
       "      <td>-0.046447</td>\n",
       "      <td>...</td>\n",
       "      <td>1.142112</td>\n",
       "      <td>-1.492969</td>\n",
       "      <td>0.696386</td>\n",
       "      <td>-1.437733</td>\n",
       "      <td>-1.823695</td>\n",
       "      <td>-1.083808</td>\n",
       "      <td>0.138546</td>\n",
       "      <td>1.152437</td>\n",
       "      <td>2.183598</td>\n",
       "      <td>0.040031</td>\n",
       "    </tr>\n",
       "  </tbody>\n",
       "</table>\n",
       "<p>15000 rows × 100 columns</p>\n",
       "</div>"
      ],
      "text/plain": [
       "             Sample0   Sample1   Sample2   Sample3   Sample4   Sample5  \\\n",
       "Unnamed: 0                                                               \n",
       "Gene0       3.126636  0.953960  1.420003  1.128455  0.191852  2.105815   \n",
       "Gene1       0.920068  0.780017  0.962257  1.893747 -0.378534  3.427359   \n",
       "Gene2       0.852531  1.322378  1.363194  3.828152  0.332854  0.596787   \n",
       "Gene3       1.562180 -0.870546  2.352895  1.393055 -0.904368  0.866692   \n",
       "Gene4       1.501968  0.713997  2.421934  1.318364 -0.114837  2.411598   \n",
       "...              ...       ...       ...       ...       ...       ...   \n",
       "Gene14995   2.146744  0.067375  0.837644  0.135872 -0.422714  0.982882   \n",
       "Gene14996  -1.481986  1.331170  1.160892 -0.181586 -0.339693 -0.358080   \n",
       "Gene14997  -0.104477 -0.903251  1.117009  1.274140  1.041102 -1.492587   \n",
       "Gene14998   0.022752 -1.189993 -0.888340 -0.431235  0.507952  1.182740   \n",
       "Gene14999  -1.324786  0.907809 -0.152424 -0.502040  2.219001 -1.204821   \n",
       "\n",
       "             Sample6   Sample7   Sample8   Sample9  ...  Sample90  Sample91  \\\n",
       "Unnamed: 0                                          ...                       \n",
       "Gene0       1.001566  1.303819 -0.056657  0.864387  ...  0.339889  0.037205   \n",
       "Gene1       0.294396  1.173832  1.178183  1.790217  ... -1.312914 -0.000630   \n",
       "Gene2       1.351660  1.802514  0.993597 -0.860892  ...  1.638187 -0.145165   \n",
       "Gene3      -0.331100  1.192861  1.307741  0.965796  ... -0.366472  1.258581   \n",
       "Gene4       1.107623  2.962497  1.610254  0.781577  ...  0.687670  4.137583   \n",
       "...              ...       ...       ...       ...  ...       ...       ...   \n",
       "Gene14995   0.191027 -0.246697  0.324645  0.474423  ...  0.044241  0.495972   \n",
       "Gene14996   0.111724  0.084936 -1.176400 -1.326729  ... -2.453171 -1.001385   \n",
       "Gene14997  -0.828873 -0.881749 -1.079293 -0.073366  ... -1.205227 -0.077823   \n",
       "Gene14998   1.030638  0.545068 -0.711582 -1.524986  ...  0.726083  0.399750   \n",
       "Gene14999  -1.084958  0.180746  0.904913 -0.046447  ...  1.142112 -1.492969   \n",
       "\n",
       "            Sample92  Sample93  Sample94  Sample95  Sample96  Sample97  \\\n",
       "Unnamed: 0                                                               \n",
       "Gene0      -0.155129  1.669261 -0.135823 -0.899004  1.257552  0.438784   \n",
       "Gene1      -0.610889  1.995967  2.751927 -1.364821  1.104497 -1.445590   \n",
       "Gene2       1.595090  1.375141 -1.817612 -0.791237  0.669506  0.291842   \n",
       "Gene3      -0.128249  1.359346  1.704045 -0.669987  2.036116 -0.676750   \n",
       "Gene4       0.231547  2.471912 -0.512562 -0.329486  1.228511 -1.967059   \n",
       "...              ...       ...       ...       ...       ...       ...   \n",
       "Gene14995  -1.158264  0.072565 -1.390190  0.261786  0.374083  0.455183   \n",
       "Gene14996  -0.166845  0.292951  0.754598 -0.919903  1.501418  0.694080   \n",
       "Gene14997  -0.575902 -0.986193  1.051648 -0.248746  2.259821  0.422269   \n",
       "Gene14998  -0.516815 -1.301395  0.586276 -1.240053  0.729582 -0.813431   \n",
       "Gene14999   0.696386 -1.437733 -1.823695 -1.083808  0.138546  1.152437   \n",
       "\n",
       "            Sample98  Sample99  \n",
       "Unnamed: 0                      \n",
       "Gene0      -0.456018  0.500884  \n",
       "Gene1      -0.164452 -0.114984  \n",
       "Gene2       0.635372  0.983035  \n",
       "Gene3      -0.016406 -2.130624  \n",
       "Gene4      -0.417823  1.926266  \n",
       "...              ...       ...  \n",
       "Gene14995   0.052348  0.312043  \n",
       "Gene14996  -2.038732 -1.197848  \n",
       "Gene14997   1.750798 -1.055816  \n",
       "Gene14998   0.773980 -1.546744  \n",
       "Gene14999   2.183598  0.040031  \n",
       "\n",
       "[15000 rows x 100 columns]"
      ]
     },
     "execution_count": 4,
     "metadata": {},
     "output_type": "execute_result"
    }
   ],
   "source": [
    "expression"
   ]
  },
  {
   "cell_type": "code",
   "execution_count": null,
   "metadata": {},
   "outputs": [],
   "source": []
  },
  {
   "cell_type": "code",
   "execution_count": 49,
   "metadata": {},
   "outputs": [
    {
     "ename": "ValueError",
     "evalue": "n_components=1000 must be between 0 and min(n_samples, n_features)=100 with svd_solver='full'",
     "output_type": "error",
     "traceback": [
      "\u001b[0;31m---------------------------------------------------------------------------\u001b[0m",
      "\u001b[0;31mValueError\u001b[0m                                Traceback (most recent call last)",
      "\u001b[0;32m<ipython-input-49-00b9d1e9ce34>\u001b[0m in \u001b[0;36m<module>\u001b[0;34m()\u001b[0m\n\u001b[1;32m      1\u001b[0m \u001b[0mpca\u001b[0m \u001b[0;34m=\u001b[0m \u001b[0msklearn\u001b[0m\u001b[0;34m.\u001b[0m\u001b[0mdecomposition\u001b[0m\u001b[0;34m.\u001b[0m\u001b[0mPCA\u001b[0m\u001b[0;34m(\u001b[0m\u001b[0mn_components\u001b[0m\u001b[0;34m=\u001b[0m\u001b[0;36m1000\u001b[0m\u001b[0;34m)\u001b[0m\u001b[0;34m\u001b[0m\u001b[0;34m\u001b[0m\u001b[0m\n\u001b[0;32m----> 2\u001b[0;31m \u001b[0mpca\u001b[0m\u001b[0;34m.\u001b[0m\u001b[0mfit\u001b[0m\u001b[0;34m(\u001b[0m\u001b[0mexpression\u001b[0m\u001b[0;34m)\u001b[0m\u001b[0;34m\u001b[0m\u001b[0;34m\u001b[0m\u001b[0m\n\u001b[0m\u001b[1;32m      3\u001b[0m \u001b[0mexpression_pca\u001b[0m \u001b[0;34m=\u001b[0m \u001b[0mpca\u001b[0m\u001b[0;34m.\u001b[0m\u001b[0mtransform\u001b[0m\u001b[0;34m(\u001b[0m\u001b[0mexpression\u001b[0m\u001b[0;34m)\u001b[0m\u001b[0;34m\u001b[0m\u001b[0;34m\u001b[0m\u001b[0m\n",
      "\u001b[0;32m/storage/cynthiawu/miniconda3/envs/python3.6/lib/python3.6/site-packages/sklearn/decomposition/pca.py\u001b[0m in \u001b[0;36mfit\u001b[0;34m(self, X, y)\u001b[0m\n\u001b[1;32m    339\u001b[0m             \u001b[0mReturns\u001b[0m \u001b[0mthe\u001b[0m \u001b[0minstance\u001b[0m \u001b[0mitself\u001b[0m\u001b[0;34m.\u001b[0m\u001b[0;34m\u001b[0m\u001b[0;34m\u001b[0m\u001b[0m\n\u001b[1;32m    340\u001b[0m         \"\"\"\n\u001b[0;32m--> 341\u001b[0;31m         \u001b[0mself\u001b[0m\u001b[0;34m.\u001b[0m\u001b[0m_fit\u001b[0m\u001b[0;34m(\u001b[0m\u001b[0mX\u001b[0m\u001b[0;34m)\u001b[0m\u001b[0;34m\u001b[0m\u001b[0;34m\u001b[0m\u001b[0m\n\u001b[0m\u001b[1;32m    342\u001b[0m         \u001b[0;32mreturn\u001b[0m \u001b[0mself\u001b[0m\u001b[0;34m\u001b[0m\u001b[0;34m\u001b[0m\u001b[0m\n\u001b[1;32m    343\u001b[0m \u001b[0;34m\u001b[0m\u001b[0m\n",
      "\u001b[0;32m/storage/cynthiawu/miniconda3/envs/python3.6/lib/python3.6/site-packages/sklearn/decomposition/pca.py\u001b[0m in \u001b[0;36m_fit\u001b[0;34m(self, X)\u001b[0m\n\u001b[1;32m    405\u001b[0m         \u001b[0;31m# Call different fits for either full or truncated SVD\u001b[0m\u001b[0;34m\u001b[0m\u001b[0;34m\u001b[0m\u001b[0;34m\u001b[0m\u001b[0m\n\u001b[1;32m    406\u001b[0m         \u001b[0;32mif\u001b[0m \u001b[0mself\u001b[0m\u001b[0;34m.\u001b[0m\u001b[0m_fit_svd_solver\u001b[0m \u001b[0;34m==\u001b[0m \u001b[0;34m'full'\u001b[0m\u001b[0;34m:\u001b[0m\u001b[0;34m\u001b[0m\u001b[0;34m\u001b[0m\u001b[0m\n\u001b[0;32m--> 407\u001b[0;31m             \u001b[0;32mreturn\u001b[0m \u001b[0mself\u001b[0m\u001b[0;34m.\u001b[0m\u001b[0m_fit_full\u001b[0m\u001b[0;34m(\u001b[0m\u001b[0mX\u001b[0m\u001b[0;34m,\u001b[0m \u001b[0mn_components\u001b[0m\u001b[0;34m)\u001b[0m\u001b[0;34m\u001b[0m\u001b[0;34m\u001b[0m\u001b[0m\n\u001b[0m\u001b[1;32m    408\u001b[0m         \u001b[0;32melif\u001b[0m \u001b[0mself\u001b[0m\u001b[0;34m.\u001b[0m\u001b[0m_fit_svd_solver\u001b[0m \u001b[0;32min\u001b[0m \u001b[0;34m[\u001b[0m\u001b[0;34m'arpack'\u001b[0m\u001b[0;34m,\u001b[0m \u001b[0;34m'randomized'\u001b[0m\u001b[0;34m]\u001b[0m\u001b[0;34m:\u001b[0m\u001b[0;34m\u001b[0m\u001b[0;34m\u001b[0m\u001b[0m\n\u001b[1;32m    409\u001b[0m             \u001b[0;32mreturn\u001b[0m \u001b[0mself\u001b[0m\u001b[0;34m.\u001b[0m\u001b[0m_fit_truncated\u001b[0m\u001b[0;34m(\u001b[0m\u001b[0mX\u001b[0m\u001b[0;34m,\u001b[0m \u001b[0mn_components\u001b[0m\u001b[0;34m,\u001b[0m \u001b[0mself\u001b[0m\u001b[0;34m.\u001b[0m\u001b[0m_fit_svd_solver\u001b[0m\u001b[0;34m)\u001b[0m\u001b[0;34m\u001b[0m\u001b[0;34m\u001b[0m\u001b[0m\n",
      "\u001b[0;32m/storage/cynthiawu/miniconda3/envs/python3.6/lib/python3.6/site-packages/sklearn/decomposition/pca.py\u001b[0m in \u001b[0;36m_fit_full\u001b[0;34m(self, X, n_components)\u001b[0m\n\u001b[1;32m    424\u001b[0m                              \u001b[0;34m\"min(n_samples, n_features)=%r with \"\u001b[0m\u001b[0;34m\u001b[0m\u001b[0;34m\u001b[0m\u001b[0m\n\u001b[1;32m    425\u001b[0m                              \u001b[0;34m\"svd_solver='full'\"\u001b[0m\u001b[0;34m\u001b[0m\u001b[0;34m\u001b[0m\u001b[0m\n\u001b[0;32m--> 426\u001b[0;31m                              % (n_components, min(n_samples, n_features)))\n\u001b[0m\u001b[1;32m    427\u001b[0m         \u001b[0;32melif\u001b[0m \u001b[0mn_components\u001b[0m \u001b[0;34m>=\u001b[0m \u001b[0;36m1\u001b[0m\u001b[0;34m:\u001b[0m\u001b[0;34m\u001b[0m\u001b[0;34m\u001b[0m\u001b[0m\n\u001b[1;32m    428\u001b[0m             \u001b[0;32mif\u001b[0m \u001b[0;32mnot\u001b[0m \u001b[0misinstance\u001b[0m\u001b[0;34m(\u001b[0m\u001b[0mn_components\u001b[0m\u001b[0;34m,\u001b[0m \u001b[0;34m(\u001b[0m\u001b[0mnumbers\u001b[0m\u001b[0;34m.\u001b[0m\u001b[0mIntegral\u001b[0m\u001b[0;34m,\u001b[0m \u001b[0mnp\u001b[0m\u001b[0;34m.\u001b[0m\u001b[0minteger\u001b[0m\u001b[0;34m)\u001b[0m\u001b[0;34m)\u001b[0m\u001b[0;34m:\u001b[0m\u001b[0;34m\u001b[0m\u001b[0;34m\u001b[0m\u001b[0m\n",
      "\u001b[0;31mValueError\u001b[0m: n_components=1000 must be between 0 and min(n_samples, n_features)=100 with svd_solver='full'"
     ]
    }
   ],
   "source": [
    "pca = sklearn.decomposition.PCA(n_components=1000)\n",
    "pca.fit(expression)\n",
    "expression_pca = pca.transform(expression)"
   ]
  },
  {
   "cell_type": "code",
   "execution_count": 32,
   "metadata": {},
   "outputs": [
    {
     "data": {
      "text/plain": [
       "(15000, 100)"
      ]
     },
     "execution_count": 32,
     "metadata": {},
     "output_type": "execute_result"
    }
   ],
   "source": [
    "expression_pca.shape"
   ]
  },
  {
   "cell_type": "code",
   "execution_count": 33,
   "metadata": {},
   "outputs": [
    {
     "data": {
      "text/plain": [
       "100"
      ]
     },
     "execution_count": 33,
     "metadata": {},
     "output_type": "execute_result"
    }
   ],
   "source": [
    "len(expression_pca[0,:])"
   ]
  },
  {
   "cell_type": "code",
   "execution_count": 34,
   "metadata": {},
   "outputs": [],
   "source": [
    "PC_df = pd.DataFrame(expression_pca)"
   ]
  },
  {
   "cell_type": "code",
   "execution_count": 36,
   "metadata": {},
   "outputs": [
    {
     "data": {
      "text/plain": [
       "array([11.35365037,  1.15810064,  1.15587683,  1.14603993,  1.14300173,\n",
       "        1.13564505,  1.13456778,  1.1321766 ,  1.12023426,  1.11817786,\n",
       "        1.11625948,  1.11336399,  1.10655192,  1.10486306,  1.09877042,\n",
       "        1.09437493,  1.09039666,  1.08934434,  1.08507923,  1.08225812,\n",
       "        1.08125766,  1.07871322,  1.07546709,  1.07214855,  1.07009763,\n",
       "        1.06432073,  1.06053058,  1.05652778,  1.05575879,  1.05294284,\n",
       "        1.04937769,  1.04803629,  1.04455013,  1.04272866,  1.03971429,\n",
       "        1.03738137,  1.03561274,  1.03321907,  1.03012413,  1.0268237 ,\n",
       "        1.02434057,  1.02237778,  1.02004122,  1.01535908,  1.0126448 ,\n",
       "        1.01252522,  1.00723857,  1.00484107,  1.00268615,  1.00028176,\n",
       "        0.99582521,  0.9926808 ,  0.98970045,  0.98771285,  0.98595746,\n",
       "        0.98182608,  0.9790185 ,  0.97617401,  0.97325113,  0.97165858,\n",
       "        0.97098378,  0.96725075,  0.96306367,  0.95873226,  0.95746123,\n",
       "        0.95538341,  0.95226678,  0.95092027,  0.94708135,  0.94639749,\n",
       "        0.94375493,  0.94224838,  0.94052928,  0.93933244,  0.93604161,\n",
       "        0.93429516,  0.93068158,  0.92692809,  0.92594415,  0.92417499,\n",
       "        0.92017767,  0.9156011 ,  0.91268015,  0.90852627,  0.90801179,\n",
       "        0.90402626,  0.90111641,  0.8983019 ,  0.89400935,  0.89100007,\n",
       "        0.88591413,  0.88255806,  0.87808425,  0.87545698,  0.87109429,\n",
       "        0.86774144,  0.86422909,  0.85813789,  0.85244071,  0.83872719])"
      ]
     },
     "execution_count": 36,
     "metadata": {},
     "output_type": "execute_result"
    }
   ],
   "source": [
    "pca.explained_variance_"
   ]
  },
  {
   "cell_type": "code",
   "execution_count": 50,
   "metadata": {},
   "outputs": [],
   "source": [
    "expression_trans = expression.values.transpose()"
   ]
  },
  {
   "cell_type": "code",
   "execution_count": 51,
   "metadata": {},
   "outputs": [],
   "source": [
    "pca = sklearn.decomposition.PCA()\n",
    "pca.fit(expression_trans)\n",
    "expression_trans_pca = pca.transform(expression_trans)"
   ]
  },
  {
   "cell_type": "code",
   "execution_count": 52,
   "metadata": {},
   "outputs": [
    {
     "data": {
      "text/plain": [
       "array([[-3.22832521e+01, -1.42264283e+00, -4.85969511e+00, ...,\n",
       "         1.96379680e+00, -2.17661576e+01,  1.95399252e-14],\n",
       "       [-8.02543402e-02, -2.14058039e+00,  3.29842887e-01, ...,\n",
       "        -2.74717941e+01, -1.19474653e+01,  1.60982339e-14],\n",
       "       [-3.24297352e+01,  4.71010535e+00, -3.37552561e+00, ...,\n",
       "         6.99064737e+00,  1.38399572e+01, -2.99760217e-14],\n",
       "       ...,\n",
       "       [ 3.76209032e+01, -1.39765331e+01, -4.82200052e+00, ...,\n",
       "        -6.51249585e+00,  4.17835773e+00, -1.03805853e-14],\n",
       "       [ 1.91133331e+00, -6.63658524e+00,  1.00678414e-01, ...,\n",
       "        -9.52598845e+00, -5.16343106e+00,  1.39888101e-14],\n",
       "       [ 3.59238034e+01,  5.70985872e+00, -1.58234896e+00, ...,\n",
       "         4.97448023e+00,  6.42683496e-01,  1.99840144e-15]])"
      ]
     },
     "execution_count": 52,
     "metadata": {},
     "output_type": "execute_result"
    }
   ],
   "source": [
    "expression_trans_pca"
   ]
  },
  {
   "cell_type": "code",
   "execution_count": 53,
   "metadata": {},
   "outputs": [
    {
     "data": {
      "text/plain": [
       "array([6.89998195e+02, 1.75434840e+02, 1.74075242e+02, 1.73610036e+02,\n",
       "       1.73149767e+02, 1.72044862e+02, 1.71868521e+02, 1.71515563e+02,\n",
       "       1.69417873e+02, 1.69127555e+02, 1.69019733e+02, 1.68272957e+02,\n",
       "       1.67608812e+02, 1.67395085e+02, 1.66444188e+02, 1.65405173e+02,\n",
       "       1.65073061e+02, 1.64963142e+02, 1.64407145e+02, 1.63951663e+02,\n",
       "       1.63688560e+02, 1.63347093e+02, 1.62774852e+02, 1.62385825e+02,\n",
       "       1.61296106e+02, 1.60974606e+02, 1.60484954e+02, 1.60079181e+02,\n",
       "       1.59748553e+02, 1.59537908e+02, 1.58963940e+02, 1.58422647e+02,\n",
       "       1.58229140e+02, 1.57598768e+02, 1.57180608e+02, 1.56970334e+02,\n",
       "       1.56593349e+02, 1.56135161e+02, 1.55578240e+02, 1.55270491e+02,\n",
       "       1.55154147e+02, 1.54859086e+02, 1.54545971e+02, 1.53798673e+02,\n",
       "       1.53421187e+02, 1.53204494e+02, 1.52535462e+02, 1.51930161e+02,\n",
       "       1.51705969e+02, 1.50884727e+02, 1.50563275e+02, 1.50181774e+02,\n",
       "       1.49676282e+02, 1.49379774e+02, 1.48917653e+02, 1.48575447e+02,\n",
       "       1.48120106e+02, 1.47797241e+02, 1.47230612e+02, 1.47139671e+02,\n",
       "       1.46647367e+02, 1.46266179e+02, 1.45851153e+02, 1.45260982e+02,\n",
       "       1.44956065e+02, 1.44481439e+02, 1.44114539e+02, 1.43687266e+02,\n",
       "       1.43476712e+02, 1.43018205e+02, 1.42852386e+02, 1.42684698e+02,\n",
       "       1.42343869e+02, 1.41876675e+02, 1.41619528e+02, 1.41355292e+02,\n",
       "       1.40728272e+02, 1.40305756e+02, 1.40034005e+02, 1.39573156e+02,\n",
       "       1.38890245e+02, 1.38554614e+02, 1.38244784e+02, 1.37575576e+02,\n",
       "       1.36990463e+02, 1.36524255e+02, 1.36353429e+02, 1.35496236e+02,\n",
       "       1.35025474e+02, 1.34682766e+02, 1.33824054e+02, 1.33190302e+02,\n",
       "       1.32858282e+02, 1.31988106e+02, 1.31715851e+02, 1.31024417e+02,\n",
       "       1.30082037e+02, 1.29982935e+02, 1.27154485e+02, 1.42474667e-28])"
      ]
     },
     "execution_count": 53,
     "metadata": {},
     "output_type": "execute_result"
    }
   ],
   "source": [
    "pca.explained_variance_"
   ]
  },
  {
   "cell_type": "code",
   "execution_count": 43,
   "metadata": {},
   "outputs": [
    {
     "data": {
      "text/plain": [
       "(100, 100)"
      ]
     },
     "execution_count": 43,
     "metadata": {},
     "output_type": "execute_result"
    }
   ],
   "source": [
    "expression_trans_pca.shape"
   ]
  },
  {
   "cell_type": "code",
   "execution_count": 48,
   "metadata": {},
   "outputs": [
    {
     "data": {
      "text/plain": [
       "100"
      ]
     },
     "execution_count": 48,
     "metadata": {},
     "output_type": "execute_result"
    }
   ],
   "source": [
    "len(expression_trans_pca[:,0])"
   ]
  },
  {
   "cell_type": "code",
   "execution_count": 40,
   "metadata": {},
   "outputs": [
    {
     "data": {
      "text/plain": [
       "(15000, 100)"
      ]
     },
     "execution_count": 40,
     "metadata": {},
     "output_type": "execute_result"
    }
   ],
   "source": [
    "expression.shape"
   ]
  },
  {
   "cell_type": "code",
   "execution_count": 41,
   "metadata": {},
   "outputs": [
    {
     "data": {
      "text/plain": [
       "(100, 15000)"
      ]
     },
     "execution_count": 41,
     "metadata": {},
     "output_type": "execute_result"
    }
   ],
   "source": [
    "expression_trans.shape"
   ]
  },
  {
   "cell_type": "code",
   "execution_count": null,
   "metadata": {},
   "outputs": [],
   "source": []
  }
 ],
 "metadata": {
  "kernelspec": {
   "display_name": "Python (python3.6)",
   "language": "python",
   "name": "python3.6"
  }
 },
 "nbformat": 4,
 "nbformat_minor": 4
}

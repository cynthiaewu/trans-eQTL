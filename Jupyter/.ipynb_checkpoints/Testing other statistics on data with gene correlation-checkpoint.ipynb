{
 "cells": [
  {
   "cell_type": "code",
   "execution_count": 5,
   "metadata": {},
   "outputs": [],
   "source": [
    "import pandas as pd\n",
    "import matplotlib.pyplot as plt\n",
    "import numpy as np"
   ]
  },
  {
   "cell_type": "code",
   "execution_count": 2,
   "metadata": {},
   "outputs": [],
   "source": [
    "data_tar0 = pd.read_csv('/gymreklab-tscc/cynthiawu/gene_correlation_modules_snorlax/test_realdatacorr2/numTarget_0/Beta_0/Simulation_0/CPMA/gene-snp-eqtl', sep='\\t')\n",
    "data_tar1000 = pd.read_csv('/gymreklab-tscc/cynthiawu/gene_correlation_modules_snorlax/test_realdatacorr2/numTarget_1000/Beta_1/Simulation_0/CPMA/gene-snp-eqtl', sep='\\t')\n"
   ]
  },
  {
   "cell_type": "code",
   "execution_count": 6,
   "metadata": {},
   "outputs": [],
   "source": [
    "pvalues_tar0 = -np.log(list(data_tar0['p-value']))\n"
   ]
  },
  {
   "cell_type": "code",
   "execution_count": 7,
   "metadata": {},
   "outputs": [
    {
     "data": {
      "text/plain": [
       "(array([1.068839e+06, 3.075490e+05, 8.814800e+04, 2.546500e+04,\n",
       "        7.239000e+03, 2.047000e+03, 5.340000e+02, 1.410000e+02,\n",
       "        2.600000e+01, 1.200000e+01]),\n",
       " array([5.44534768e-07, 1.22939444e+00, 2.45878834e+00, 3.68818224e+00,\n",
       "        4.91757614e+00, 6.14697003e+00, 7.37636393e+00, 8.60575783e+00,\n",
       "        9.83515173e+00, 1.10645456e+01, 1.22939395e+01]),\n",
       " <a list of 10 Patch objects>)"
      ]
     },
     "execution_count": 7,
     "metadata": {},
     "output_type": "execute_result"
    },
    {
     "data": {
      "image/png": "[encoded data removed]",
      "text/plain": [
       "<Figure size 432x288 with 1 Axes>"
      ]
     },
     "metadata": {},
     "output_type": "display_data"
    }
   ],
   "source": [
    "plt.hist(pvalues_tar0)"
   ]
  },
  {
   "cell_type": "code",
   "execution_count": 8,
   "metadata": {},
   "outputs": [
    {
     "data": {
      "text/plain": [
       "(array([1.467258e+06, 3.115400e+04, 5.800000e+02, 3.800000e+01,\n",
       "        1.790000e+02, 3.040000e+02, 2.960000e+02, 1.500000e+02,\n",
       "        3.500000e+01, 6.000000e+00]),\n",
       " array([5.44534768e-07, 3.79815703e+00, 7.59631351e+00, 1.13944700e+01,\n",
       "        1.51926265e+01, 1.89907830e+01, 2.27889395e+01, 2.65870959e+01,\n",
       "        3.03852524e+01, 3.41834089e+01, 3.79815654e+01]),\n",
       " <a list of 10 Patch objects>)"
      ]
     },
     "execution_count": 8,
     "metadata": {},
     "output_type": "execute_result"
    },
    {
     "data": {
      "image/png": "[encoded data removed]",
      "text/plain": [
       "<Figure size 432x288 with 1 Axes>"
      ]
     },
     "metadata": {},
     "output_type": "display_data"
    }
   ],
   "source": [
    "pvalues_tar1000 = -np.log(list(data_tar1000['p-value']))\n",
    "plt.hist(pvalues_tar1000)"
   ]
  },
  {
   "cell_type": "code",
   "execution_count": null,
   "metadata": {},
   "outputs": [],
   "source": []
  }
 ],
 "metadata": {
  "kernelspec": {
   "display_name": "Python (python3.6)",
   "language": "python",
   "name": "python3.6"
  },
  "language_info": {
   "codemirror_mode": {
    "name": "ipython",
    "version": 3
   },
   "file_extension": ".py",
   "mimetype": "text/x-python",
   "name": "python",
   "nbconvert_exporter": "python",
   "pygments_lexer": "ipython3",
   "version": "3.6.7"
  }
 },
 "nbformat": 4,
 "nbformat_minor": 4
}

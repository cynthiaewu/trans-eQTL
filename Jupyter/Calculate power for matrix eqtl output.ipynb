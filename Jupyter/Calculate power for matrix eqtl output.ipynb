{
 "cells": [
  {
   "cell_type": "code",
   "execution_count": 48,
   "metadata": {},
   "outputs": [],
   "source": [
    "import pandas as pd\n",
    "import numpy as np\n",
    "import yaml"
   ]
  },
  {
   "cell_type": "code",
   "execution_count": 46,
   "metadata": {},
   "outputs": [],
   "source": [
    "def get_pvalues_for_targets(result_file, num_targets):\n",
    "    results = pd.read_csv(result_file, sep='\\t')\n",
    "#     print(len([i for i in list(results['p-value']) if i < 0.05]))\n",
    "\n",
    "    targets = [f'Gene{i}' for i in range(num_targets)]\n",
    "    results_targets = (results[results.gene.isin(targets)])\n",
    "    pvalues = results_targets['p-value']\n",
    "\n",
    "    return list(pvalues)\n",
    "\n",
    "\n",
    "def calculate_power(pvalues, sig_threshold):\n",
    "    true_pos = len([i for i in pvalues if i < sig_threshold])\n",
    "    total_pos = len(pvalues)\n",
    "    false_neg = total_pos - true_pos\n",
    "    type2 = false_neg/total_pos\n",
    "    power = 1-type2\n",
    "    return power\n",
    "\n"
   ]
  },
  {
   "cell_type": "code",
   "execution_count": 47,
   "metadata": {},
   "outputs": [],
   "source": [
    "def get_power(config, folder, iterations):\n",
    "    with open(config) as f:\n",
    "        params = yaml.load(f)\n",
    "        print(params)\n",
    "    num_genes = params['num_genes']\n",
    "    num_targets = params['num_targets']\n",
    "    sig_threshold = params['sig_threshold']\n",
    "    sim_prefix = 'Simulation'\n",
    "    all_power = []\n",
    "    for i in range(iterations):\n",
    "        result_file = f'{folder}/{sim_prefix}_{i}/CPMA/gene-snp-eqtl'\n",
    "        pvalues = get_pvalues_for_targets(result_file, num_targets[0])\n",
    "        power = calculate_power(pvalues, sig_threshold)\n",
    "        all_power.append(power)\n",
    "    np.savetxt(f'{folder}/all_power_matrix-eqtl.txt', all_power)\n"
   ]
  },
  {
   "cell_type": "code",
   "execution_count": 40,
   "metadata": {},
   "outputs": [],
   "source": [
    "config = '/gymreklab-tscc/cynthiawu/Test_nullsnps/simulate_eqtls_only/FastMultivariate/Single_eqtl/SampleSize100/SingleParameter/numTarget_10/Beta_1/metaconfig.yaml'\n",
    "matrixeqtl_out = '/gymreklab-tscc/cynthiawu/Test_nullsnps/simulate_eqtls_only/FastMultivariate/Single_eqtl/SampleSize100/SingleParameter/numTarget_10/Beta_0/Simulation_0/CPMA/gene-snp-eqtl'\n",
    "folder = '/gymreklab-tscc/cynthiawu/Test_nullsnps/simulate_eqtls_only/FastMultivariate/Single_eqtl/SampleSize100/SingleParameter/numTarget_10/Beta_1'\n"
   ]
  },
  {
   "cell_type": "code",
   "execution_count": 26,
   "metadata": {},
   "outputs": [
    {
     "name": "stdout",
     "output_type": "stream",
     "text": [
      "{'allele_freq': 0.5, 'beta': 'value', 'beta_sd': 'NA', 'beta_value': [1], 'identity': True, 'iterations': 100, 'num_genes': 15000, 'num_nullsnps': 0, 'num_snps': 1, 'num_targets': [10], 'rep': 1, 'sample_size': 100, 'sig_threshold': 0.05}\n"
     ]
    }
   ],
   "source": [
    "with open(config) as f:\n",
    "    params = yaml.load(f)\n",
    "    print(params)\n",
    "num_targets = params['num_targets']\n",
    "sig_threshold = params['sig_threshold']"
   ]
  },
  {
   "cell_type": "code",
   "execution_count": 45,
   "metadata": {},
   "outputs": [
    {
     "name": "stdout",
     "output_type": "stream",
     "text": [
      "{'allele_freq': 0.5, 'beta': 'value', 'beta_sd': 'NA', 'beta_value': [1], 'identity': True, 'iterations': 100, 'num_genes': 15000, 'num_nullsnps': 0, 'num_snps': 1, 'num_targets': [10], 'rep': 1, 'sample_size': 100, 'sig_threshold': 0.05}\n",
      "[1.0, 1.0, 1.0, 1.0, 1.0, 1.0, 1.0, 1.0, 1.0, 1.0, 1.0, 1.0, 1.0, 1.0, 1.0, 1.0, 1.0, 1.0, 1.0, 1.0, 1.0, 1.0, 1.0, 1.0, 1.0, 1.0, 1.0, 1.0, 1.0, 1.0, 1.0, 1.0, 1.0, 1.0, 1.0, 1.0, 1.0, 1.0, 1.0, 1.0, 1.0, 1.0, 1.0, 1.0, 1.0, 1.0, 1.0, 1.0, 1.0, 1.0, 1.0, 1.0, 1.0, 1.0, 1.0, 1.0, 1.0, 1.0, 1.0, 1.0, 1.0, 1.0, 1.0, 1.0, 1.0, 1.0, 1.0, 1.0, 1.0, 1.0, 1.0, 1.0, 1.0, 1.0, 1.0, 1.0, 1.0, 1.0, 1.0, 1.0, 1.0, 1.0, 1.0, 1.0, 1.0, 1.0, 1.0, 1.0, 1.0, 1.0, 1.0, 1.0, 1.0, 1.0, 1.0, 1.0, 1.0, 1.0, 1.0, 1.0]\n"
     ]
    }
   ],
   "source": [
    "get_power(config, folder, 100)"
   ]
  },
  {
   "cell_type": "code",
   "execution_count": 15,
   "metadata": {},
   "outputs": [
    {
     "name": "stdout",
     "output_type": "stream",
     "text": [
      "     SNP   gene      beta     t-stat       p-value           FDR\n",
      "0   SNP0  Gene5  1.266024  10.137399  6.091987e-17  9.137981e-13\n",
      "1   SNP0  Gene4  1.180450   7.927114  3.627864e-12  2.720898e-08\n",
      "2   SNP0  Gene7  1.151652   7.447711  3.749624e-11  1.874812e-07\n",
      "3   SNP0  Gene9  0.921491   7.131802  1.713919e-10  5.652218e-07\n",
      "4   SNP0  Gene0  0.953289   7.112002  1.884073e-10  5.652218e-07\n",
      "5   SNP0  Gene8  0.942138   6.831346  7.147193e-10  1.786798e-06\n",
      "6   SNP0  Gene6  0.900519   6.785674  8.865054e-10  1.899654e-06\n",
      "7   SNP0  Gene1  0.890562   6.655592  1.633031e-09  3.061933e-06\n",
      "8   SNP0  Gene3  0.955187   6.383723  5.777507e-09  9.629178e-06\n",
      "10  SNP0  Gene2  0.712799   4.943873  3.167085e-06  4.318752e-03\n"
     ]
    }
   ],
   "source": [
    "get_pvalues_for_targets(matrixeqtl_out, num_targets[0])"
   ]
  },
  {
   "cell_type": "code",
   "execution_count": 37,
   "metadata": {},
   "outputs": [
    {
     "name": "stdout",
     "output_type": "stream",
     "text": [
      "        SNP       gene      beta    t-stat   p-value       FDR\n",
      "0      SNP0   Gene1944 -0.639958 -5.075810  0.000002  0.027534\n",
      "1      SNP0   Gene9369  0.564295  4.656741  0.000010  0.075768\n",
      "2      SNP0   Gene8458  0.481575  4.019763  0.000114  0.572357\n",
      "3      SNP0    Gene993 -0.525892 -3.933137  0.000157  0.582767\n",
      "4      SNP0   Gene9229 -0.498894 -3.872809  0.000194  0.582767\n",
      "...     ...        ...       ...       ...       ...       ...\n",
      "14995  SNP0   Gene8315 -0.000024 -0.000170  0.999865  0.999927\n",
      "14996  SNP0  Gene12533  0.000019  0.000136  0.999891  0.999927\n",
      "14997  SNP0  Gene12139  0.000016  0.000115  0.999908  0.999927\n",
      "14998  SNP0   Gene5855 -0.000017 -0.000115  0.999909  0.999927\n",
      "14999  SNP0  Gene12475 -0.000011 -0.000092  0.999927  0.999927\n",
      "\n",
      "[15000 rows x 6 columns]\n",
      "802\n"
     ]
    }
   ],
   "source": [
    "pvalues = get_pvalues_for_targets(matrixeqtl_out, num_targets[0])"
   ]
  },
  {
   "cell_type": "code",
   "execution_count": 29,
   "metadata": {},
   "outputs": [
    {
     "data": {
      "text/plain": [
       "0.19999999999999996"
      ]
     },
     "execution_count": 29,
     "metadata": {},
     "output_type": "execute_result"
    }
   ],
   "source": [
    "calculate_power(pvalues, sig_threshold)"
   ]
  },
  {
   "cell_type": "code",
   "execution_count": null,
   "metadata": {},
   "outputs": [],
   "source": []
  }
 ],
 "metadata": {
  "kernelspec": {
   "display_name": "Python (python3.6)",
   "language": "python",
   "name": "python3.6"
  },
  "language_info": {
   "codemirror_mode": {
    "name": "ipython",
    "version": 3
   },
   "file_extension": ".py",
   "mimetype": "text/x-python",
   "name": "python",
   "nbconvert_exporter": "python",
   "pygments_lexer": "ipython3",
   "version": "3.6.7"
  }
 },
 "nbformat": 4,
 "nbformat_minor": 4
}

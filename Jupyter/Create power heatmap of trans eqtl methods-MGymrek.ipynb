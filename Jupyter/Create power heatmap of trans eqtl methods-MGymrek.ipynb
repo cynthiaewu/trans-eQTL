{
 "cells": [
  {
   "cell_type": "code",
   "execution_count": 49,
   "metadata": {},
   "outputs": [],
   "source": [
    "# Notes to recompute power\n",
    "\n",
    "# List CPMA pvals\n",
    "# cat /gymreklab-tscc/cynthiawu/Test_nullsnps/simulate_eqtls_only/FastMultivariate/Single_eqtl/SampleSize100/SingleParameter/numTarget_0/Beta_0/Simulation_*/CPMA/gene-snp-eqtl_cpma_pvalues_fixed | grep -v snp | cut -f 4\n",
    "\n",
    "# Get best pairwise SNPxgene pvals\n",
    "# for f in $(ls /gymreklab-tscc/cynthiawu/Test_nullsnps/simulate_eqtls_only/FastMultivariate/Single_eqtl/SampleSize100/SingleParameter/numTarget_30/Beta_1/Simulation_*/CPMA/gene-snp-eqtl); do cat $f | grep -v gene | datamash min 5; done\n",
    "\n",
    "#### First run below before running this notebook! ###\n",
    "# Script ./compile_pvals.sh compiles the pvals so we can recompute power here"
   ]
  },
  {
   "cell_type": "code",
   "execution_count": 1,
   "metadata": {},
   "outputs": [
    {
     "name": "stdout",
     "output_type": "stream",
     "text": [
      "Populating the interactive namespace from numpy and matplotlib\n"
     ]
    }
   ],
   "source": [
    "%pylab inline\n",
    "\n",
    "import pandas as pd\n",
    "import numpy as np\n",
    "import seaborn as sns\n",
    "import matplotlib.pyplot as plt"
   ]
  },
  {
   "cell_type": "code",
   "execution_count": 45,
   "metadata": {},
   "outputs": [],
   "source": [
    "# Params and paths\n",
    "\n",
    "targets = [ 5, 15, 20, 30, 40, 60, 80, 100, 150, 200, 250, 300, 350, 400, 450, 500, 700, 1000, 2000, 3000, 4000, 5000, 6000, 7000, 8000, 9000, 10000, 11000, 12000, 13000, 14000, 15000]\n",
    "beta_values = [0.01, 0.02, 0.03, 0.04, 0.05, 0.1, 0.2, 0.3, 0.4, 0.5, 1]\n",
    "\n",
    "sample_size = 500"
   ]
  },
  {
   "cell_type": "code",
   "execution_count": 50,
   "metadata": {},
   "outputs": [],
   "source": [
    "import os\n",
    "\n",
    "def GetPower(method, tar, value, sample_size, sigthresh, num_snps, num_genes):\n",
    "    pfile = os.path.join(\"/storage/mgymrek/cpma/power/\",\n",
    "                        \"_\".join([method, str(sample_size), str(tar), value]) + \".pvals\")\n",
    "    pvals = [float(item.strip()) for item in open(pfile, \"r\").readlines()]\n",
    "    thresh = 0 # need to set\n",
    "    if method == \"Pairwise\":\n",
    "        thresh = sigthresh/(num_snps*num_genes)\n",
    "    if method == \"CPMA\" or method == \"Mixture\":\n",
    "        thresh = sigthresh/(num_snps)\n",
    "    return np.mean([item<thresh for item in pvals])\n",
    "    \n",
    "def compile_power(targets, beta_values, sample_size, method, sigthresh, num_snps, num_genes):\n",
    "    all_powers = []\n",
    "    for beta in beta_values:\n",
    "        power = []\n",
    "        for tar in targets:   \n",
    "            value = str(beta).replace(\".\",\"\")\n",
    "            pw = GetPower(method, tar, value, sample_size, sigthresh, num_snps, num_genes)\n",
    "            power.append(pw)\n",
    "        all_powers.append(power)\n",
    "    power_df = pd.DataFrame(all_powers, columns=targets, index=beta_values)\n",
    "    return power_df\n",
    "\n",
    "sigthresh = 0.05\n",
    "num_snps = 10000\n",
    "num_genes = 15000\n",
    "power_cpma_df = compile_power(targets, beta_values, sample_size, 'CPMA',\n",
    "                             sigthresh, num_snps, num_genes)\n",
    "power_pairwise_df = compile_power(targets, beta_values, sample_size, 'Pairwise',\n",
    "                             sigthresh, num_snps, num_genes)\n",
    "power_cpmamix_df = compile_power(targets, beta_values, sample_size, 'Mixture',\n",
    "                             sigthresh, num_snps, num_genes)"
   ]
  },
  {
   "cell_type": "code",
   "execution_count": 55,
   "metadata": {},
   "outputs": [
    {
     "data": {
      "image/png": "[encoded data removed]",
      "text/plain": [
       "<Figure size 720x360 with 1 Axes>"
      ]
     },
     "metadata": {
      "needs_background": "light"
     },
     "output_type": "display_data"
    }
   ],
   "source": [
    "def DrawPoint(ax1, xval, yval, size, colors):\n",
    "    if size > 0:\n",
    "        for c in colors:\n",
    "            ax1.scatter([xval], [yval], marker='s',\n",
    "                   s=size, color=c, alpha=0.5)\n",
    "    \n",
    "def power_plot(power_dfs_dict, targets, beta_values):\n",
    "\n",
    "    # First plot power\n",
    "    size_scale = 1\n",
    "    fig = plt.figure()\n",
    "    fig.set_size_inches((10, 5))\n",
    "    \n",
    "    ax1 = fig.add_subplot(111)\n",
    "    size = 150\n",
    "    for xval in range(len(targets)):\n",
    "        for yval in range(len(beta_values)):\n",
    "            colors = []\n",
    "            best_power = 0\n",
    "            for method in power_dfs_dict.keys():\n",
    "                power = power_dfs_dict[method][\"power\"][yval, xval]\n",
    "                if power >= best_power:\n",
    "                    best_power = power\n",
    "                    colors.append(power_dfs_dict[method][\"color\"])\n",
    "            DrawPoint(ax1, xval, yval, size*best_power, colors)\n",
    "    ax1.set_xticks(range(len(targets)))\n",
    "    ax1.set_xticklabels(targets, rotation=60)\n",
    "    ax1.set_yticks(range(len(beta_values)))\n",
    "    ax1.set_yticklabels(beta_values)\n",
    "    ax1.set_xlabel(\"Number of target genes\", size=15)\n",
    "    ax1.set_ylabel(\"weaker <- Effect size -> stronger\")\n",
    "    \n",
    "    ax1.spines['right'].set_visible(False)\n",
    "    ax1.spines['top'].set_visible(False)\n",
    "    ax1.yaxis.set_ticks_position('left')\n",
    "    ax1.xaxis.set_ticks_position('bottom')\n",
    "    \n",
    "power_dfs_dict = {\n",
    "    \"CPMA\": {\"power\": np.matrix(power_cpma_df), \"color\": \"yellow\"},\n",
    "    \"Pairwise\": {\"power\": np.matrix(power_pairwise_df), \"color\": \"blue\"},\n",
    "    #\"CPMAMix\": {\"power\": np.matrix(power_cpmamix_df), \"color\": \"red\"}    \n",
    "}\n",
    "\n",
    "power_plot(power_dfs_dict, targets, beta_values)"
   ]
  }
 ],
 "metadata": {
  "kernelspec": {
   "display_name": "Python 3",
   "language": "python",
   "name": "python3"
  },
  "language_info": {
   "codemirror_mode": {
    "name": "ipython",
    "version": 3
   },
   "file_extension": ".py",
   "mimetype": "text/x-python",
   "name": "python",
   "nbconvert_exporter": "python",
   "pygments_lexer": "ipython3",
   "version": "3.7.4"
  }
 },
 "nbformat": 4,
 "nbformat_minor": 4
}

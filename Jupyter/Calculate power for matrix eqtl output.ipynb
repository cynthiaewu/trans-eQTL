{
 "cells": [
  {
   "cell_type": "code",
   "execution_count": 48,
   "metadata": {},
   "outputs": [],
   "source": [
    "import pandas as pd\n",
    "import numpy as np\n",
    "import yaml"
   ]
  },
  {
   "cell_type": "code",
   "execution_count": 46,
   "metadata": {},
   "outputs": [],
   "source": [
    "def get_pvalues_for_targets(result_file, num_targets):\n",
    "    results = pd.read_csv(result_file, sep='\\t')\n",
    "#     print(len([i for i in list(results['p-value']) if i < 0.05]))\n",
    "\n",
    "    targets = [f'Gene{i}' for i in range(num_targets)]\n",
    "    results_targets = (results[results.gene.isin(targets)])\n",
    "    pvalues = results_targets['p-value']\n",
    "\n",
    "    return list(pvalues)\n",
    "\n",
    "\n",
    "def calculate_power(pvalues, sig_threshold):\n",
    "    true_pos = len([i for i in pvalues if i < sig_threshold])\n",
    "    total_pos = len(pvalues)\n",
    "    false_neg = total_pos - true_pos\n",
    "    type2 = false_neg/total_pos\n",
    "    power = 1-type2\n",
    "    return power\n",
    "\n"
   ]
  },
  {
   "cell_type": "code",
   "execution_count": 47,
   "metadata": {},
   "outputs": [],
   "source": [
    "def get_power(config, folder, iterations):\n",
    "    with open(config) as f:\n",
    "        params = yaml.load(f)\n",
    "        print(params)\n",
    "    num_genes = params['num_genes']\n",
    "    num_targets = params['num_targets']\n",
    "    sig_threshold = params['sig_threshold']\n",
    "    sim_prefix = 'Simulation'\n",
    "    all_power = []\n",
    "    for i in range(iterations):\n",
    "        result_file = f'{folder}/{sim_prefix}_{i}/CPMA/gene-snp-eqtl'\n",
    "        pvalues = get_pvalues_for_targets(result_file, num_targets[0])\n",
    "        power = calculate_power(pvalues, sig_threshold)\n",
    "        all_power.append(power)\n",
    "    np.savetxt(f'{folder}/all_power_matrix-eqtl.txt', all_power)\n"
   ]
  },
  {
   "cell_type": "code",
   "execution_count": 40,
   "metadata": {},
   "outputs": [],
   "source": [
    "config = '/gymreklab-tscc/cynthiawu/Test_nullsnps/simulate_eqtls_only/FastMultivariate/Single_eqtl/SampleSize100/SingleParameter/numTarget_10/Beta_1/metaconfig.yaml'\n",
    "matrixeqtl_out = '/gymreklab-tscc/cynthiawu/Test_nullsnps/simulate_eqtls_only/FastMultivariate/Single_eqtl/SampleSize100/SingleParameter/numTarget_10/Beta_0/Simulation_0/CPMA/gene-snp-eqtl'\n",
    "folder = '/gymreklab-tscc/cynthiawu/Test_nullsnps/simulate_eqtls_only/FastMultivariate/Single_eqtl/SampleSize100/SingleParameter/numTarget_10/Beta_1'\n"
   ]
  },
  {
   "cell_type": "code",
   "execution_count": 26,
   "metadata": {},
   "outputs": [
    {
     "name": "stdout",
     "output_type": "stream",
     "text": [
      "{'allele_freq': 0.5, 'beta': 'value', 'beta_sd': 'NA', 'beta_value': [1], 'identity': True, 'iterations': 100, 'num_genes': 15000, 'num_nullsnps': 0, 'num_snps': 1, 'num_targets': [10], 'rep': 1, 'sample_size': 100, 'sig_threshold': 0.05}\n"
     ]
    }
   ],
   "source": [
    "with open(config) as f:\n",
    "    params = yaml.load(f)\n",
    "    print(params)\n",
    "num_targets = params['num_targets']\n",
    "sig_threshold = params['sig_threshold']"
   ]
  },
  {
   "cell_type": "code",
   "execution_count": 45,
   "metadata": {},
   "outputs": [
    {
     "name": "stdout",
     "output_type": "stream",
     "text": [
      "{'allele_freq': 0.5, 'beta': 'value', 'beta_sd': 'NA', 'beta_value': [1], 'identity': True, 'iterations': 100, 'num_genes': 15000, 'num_nullsnps': 0, 'num_snps': 1, 'num_targets': [10], 'rep': 1, 'sample_size': 100, 'sig_threshold': 0.05}\n",
      "[1.0, 1.0, 1.0, 1.0, 1.0, 1.0, 1.0, 1.0, 1.0, 1.0, 1.0, 1.0, 1.0, 1.0, 1.0, 1.0, 1.0, 1.0, 1.0, 1.0, 1.0, 1.0, 1.0, 1.0, 1.0, 1.0, 1.0, 1.0, 1.0, 1.0, 1.0, 1.0, 1.0, 1.0, 1.0, 1.0, 1.0, 1.0, 1.0, 1.0, 1.0, 1.0, 1.0, 1.0, 1.0, 1.0, 1.0, 1.0, 1.0, 1.0, 1.0, 1.0, 1.0, 1.0, 1.0, 1.0, 1.0, 1.0, 1.0, 1.0, 1.0, 1.0, 1.0, 1.0, 1.0, 1.0, 1.0, 1.0, 1.0, 1.0, 1.0, 1.0, 1.0, 1.0, 1.0, 1.0, 1.0, 1.0, 1.0, 1.0, 1.0, 1.0, 1.0, 1.0, 1.0, 1.0, 1.0, 1.0, 1.0, 1.0, 1.0, 1.0, 1.0, 1.0, 1.0, 1.0, 1.0, 1.0, 1.0, 1.0]\n"
     ]
    }
   ],
   "source": [
    "get_power(config, folder, 100)"
   ]
  },
  {
   "cell_type": "code",
   "execution_count": 15,
   "metadata": {},
   "outputs": [
    {
     "name": "stdout",
     "output_type": "stream",
     "text": [
      "     SNP   gene      beta     t-stat       p-value           FDR\n",
      "0   SNP0  Gene5  1.266024  10.137399  6.091987e-17  9.137981e-13\n",
      "1   SNP0  Gene4  1.180450   7.927114  3.627864e-12  2.720898e-08\n",
      "2   SNP0  Gene7  1.151652   7.447711  3.749624e-11  1.874812e-07\n",
      "3   SNP0  Gene9  0.921491   7.131802  1.713919e-10  5.652218e-07\n",
      "4   SNP0  Gene0  0.953289   7.112002  1.884073e-10  5.652218e-07\n",
      "5   SNP0  Gene8  0.942138   6.831346  7.147193e-10  1.786798e-06\n",
      "6   SNP0  Gene6  0.900519   6.785674  8.865054e-10  1.899654e-06\n",
      "7   SNP0  Gene1  0.890562   6.655592  1.633031e-09  3.061933e-06\n",
      "8   SNP0  Gene3  0.955187   6.383723  5.777507e-09  9.629178e-06\n",
      "10  SNP0  Gene2  0.712799   4.943873  3.167085e-06  4.318752e-03\n"
     ]
    }
   ],
   "source": [
    "get_pvalues_for_targets(matrixeqtl_out, num_targets[0])"
   ]
  },
  {
   "cell_type": "code",
   "execution_count": 37,
   "metadata": {},
   "outputs": [
    {
     "name": "stdout",
     "output_type": "stream",
     "text": [
      "        SNP       gene      beta    t-stat   p-value       FDR\n",
      "0      SNP0   Gene1944 -0.639958 -5.075810  0.000002  0.027534\n",
      "1      SNP0   Gene9369  0.564295  4.656741  0.000010  0.075768\n",
      "2      SNP0   Gene8458  0.481575  4.019763  0.000114  0.572357\n",
      "3      SNP0    Gene993 -0.525892 -3.933137  0.000157  0.582767\n",
      "4      SNP0   Gene9229 -0.498894 -3.872809  0.000194  0.582767\n",
      "...     ...        ...       ...       ...       ...       ...\n",
      "14995  SNP0   Gene8315 -0.000024 -0.000170  0.999865  0.999927\n",
      "14996  SNP0  Gene12533  0.000019  0.000136  0.999891  0.999927\n",
      "14997  SNP0  Gene12139  0.000016  0.000115  0.999908  0.999927\n",
      "14998  SNP0   Gene5855 -0.000017 -0.000115  0.999909  0.999927\n",
      "14999  SNP0  Gene12475 -0.000011 -0.000092  0.999927  0.999927\n",
      "\n",
      "[15000 rows x 6 columns]\n",
      "802\n"
     ]
    }
   ],
   "source": [
    "pvalues = get_pvalues_for_targets(matrixeqtl_out, num_targets[0])"
   ]
  },
  {
   "cell_type": "code",
   "execution_count": 29,
   "metadata": {},
   "outputs": [
    {
     "data": {
      "text/plain": [
       "0.19999999999999996"
      ]
     },
     "execution_count": 29,
     "metadata": {},
     "output_type": "execute_result"
    }
   ],
   "source": [
    "calculate_power(pvalues, sig_threshold)"
   ]
  },
  {
   "cell_type": "code",
   "execution_count": 49,
   "metadata": {},
   "outputs": [],
   "source": [
    "file = pd.read_csv('/gymreklab-tscc/cynthiawu/real_gene_correlation/SampleSize500/numTarget_10000/Beta_01/Simulation_0/CPMA/gene-snp-eqtl_empiricalpvalues_topx_1.0', sep='\\t')"
   ]
  },
  {
   "cell_type": "code",
   "execution_count": 50,
   "metadata": {},
   "outputs": [
    {
     "data": {
      "text/html": [
       "<div>\n",
       "<style scoped>\n",
       "    .dataframe tbody tr th:only-of-type {\n",
       "        vertical-align: middle;\n",
       "    }\n",
       "\n",
       "    .dataframe tbody tr th {\n",
       "        vertical-align: top;\n",
       "    }\n",
       "\n",
       "    .dataframe thead th {\n",
       "        text-align: right;\n",
       "    }\n",
       "</style>\n",
       "<table border=\"1\" class=\"dataframe\">\n",
       "  <thead>\n",
       "    <tr style=\"text-align: right;\">\n",
       "      <th></th>\n",
       "      <th>snp</th>\n",
       "      <th>cpma</th>\n",
       "      <th>pvalue</th>\n",
       "    </tr>\n",
       "  </thead>\n",
       "  <tbody>\n",
       "    <tr>\n",
       "      <th>0</th>\n",
       "      <td>SNP0</td>\n",
       "      <td>12092.572264</td>\n",
       "      <td>0.000052</td>\n",
       "    </tr>\n",
       "    <tr>\n",
       "      <th>1</th>\n",
       "      <td>SNP1</td>\n",
       "      <td>86.263260</td>\n",
       "      <td>0.706435</td>\n",
       "    </tr>\n",
       "    <tr>\n",
       "      <th>2</th>\n",
       "      <td>SNP10</td>\n",
       "      <td>121.045007</td>\n",
       "      <td>0.655535</td>\n",
       "    </tr>\n",
       "    <tr>\n",
       "      <th>3</th>\n",
       "      <td>SNP11</td>\n",
       "      <td>413.258574</td>\n",
       "      <td>0.408323</td>\n",
       "    </tr>\n",
       "    <tr>\n",
       "      <th>4</th>\n",
       "      <td>SNP12</td>\n",
       "      <td>0.452714</td>\n",
       "      <td>0.978206</td>\n",
       "    </tr>\n",
       "    <tr>\n",
       "      <th>...</th>\n",
       "      <td>...</td>\n",
       "      <td>...</td>\n",
       "      <td>...</td>\n",
       "    </tr>\n",
       "    <tr>\n",
       "      <th>95</th>\n",
       "      <td>SNP95</td>\n",
       "      <td>147.201907</td>\n",
       "      <td>0.622511</td>\n",
       "    </tr>\n",
       "    <tr>\n",
       "      <th>96</th>\n",
       "      <td>SNP96</td>\n",
       "      <td>858.371885</td>\n",
       "      <td>0.232002</td>\n",
       "    </tr>\n",
       "    <tr>\n",
       "      <th>97</th>\n",
       "      <td>SNP97</td>\n",
       "      <td>572.101059</td>\n",
       "      <td>0.330395</td>\n",
       "    </tr>\n",
       "    <tr>\n",
       "      <th>98</th>\n",
       "      <td>SNP98</td>\n",
       "      <td>122.902985</td>\n",
       "      <td>0.652971</td>\n",
       "    </tr>\n",
       "    <tr>\n",
       "      <th>99</th>\n",
       "      <td>SNP99</td>\n",
       "      <td>34.404127</td>\n",
       "      <td>0.812450</td>\n",
       "    </tr>\n",
       "  </tbody>\n",
       "</table>\n",
       "<p>100 rows × 3 columns</p>\n",
       "</div>"
      ],
      "text/plain": [
       "      snp          cpma    pvalue\n",
       "0    SNP0  12092.572264  0.000052\n",
       "1    SNP1     86.263260  0.706435\n",
       "2   SNP10    121.045007  0.655535\n",
       "3   SNP11    413.258574  0.408323\n",
       "4   SNP12      0.452714  0.978206\n",
       "..    ...           ...       ...\n",
       "95  SNP95    147.201907  0.622511\n",
       "96  SNP96    858.371885  0.232002\n",
       "97  SNP97    572.101059  0.330395\n",
       "98  SNP98    122.902985  0.652971\n",
       "99  SNP99     34.404127  0.812450\n",
       "\n",
       "[100 rows x 3 columns]"
      ]
     },
     "execution_count": 50,
     "metadata": {},
     "output_type": "execute_result"
    }
   ],
   "source": [
    "file"
   ]
  },
  {
   "cell_type": "code",
   "execution_count": 51,
   "metadata": {},
   "outputs": [
    {
     "data": {
      "text/plain": [
       "5.1999896000208e-05"
      ]
     },
     "execution_count": 51,
     "metadata": {},
     "output_type": "execute_result"
    }
   ],
   "source": [
    "float(file.loc[file['snp'] == 'SNP0']['pvalue'])"
   ]
  },
  {
   "cell_type": "code",
   "execution_count": 52,
   "metadata": {},
   "outputs": [],
   "source": [
    "fdr_sig_threshold = 0.05/10000"
   ]
  },
  {
   "cell_type": "code",
   "execution_count": 53,
   "metadata": {},
   "outputs": [
    {
     "data": {
      "text/plain": [
       "5e-06"
      ]
     },
     "execution_count": 53,
     "metadata": {},
     "output_type": "execute_result"
    }
   ],
   "source": [
    "fdr_sig_threshold"
   ]
  },
  {
   "cell_type": "code",
   "execution_count": 63,
   "metadata": {},
   "outputs": [],
   "source": [
    "def get_pvalues_for_targets_snp(results, num_targets):\n",
    "#     results = pd.read_csv(result_file, sep='\\t')\n",
    "#     print(len([i for i in list(results['p-value']) if i < 0.05]))\n",
    "\n",
    "    results_snp = (results[results.SNP.isin(['SNP0'])])\n",
    "    targets = [f'Gene{i}' for i in range(num_targets)]\n",
    "    results_targets = (results_snp[results_snp.gene.isin(targets)])\n",
    "    pvalues = results_targets['p-value']\n",
    "\n",
    "    return list(pvalues)"
   ]
  },
  {
   "cell_type": "code",
   "execution_count": 54,
   "metadata": {},
   "outputs": [],
   "source": [
    "m_file = pd.read_csv('/gymreklab-tscc/cynthiawu/real_gene_correlation/SampleSize500/numTarget_10000/Beta_01/Simulation_0/CPMA/gene-snp-eqtl', sep='\\t')"
   ]
  },
  {
   "cell_type": "code",
   "execution_count": 55,
   "metadata": {},
   "outputs": [
    {
     "data": {
      "text/html": [
       "<div>\n",
       "<style scoped>\n",
       "    .dataframe tbody tr th:only-of-type {\n",
       "        vertical-align: middle;\n",
       "    }\n",
       "\n",
       "    .dataframe tbody tr th {\n",
       "        vertical-align: top;\n",
       "    }\n",
       "\n",
       "    .dataframe thead th {\n",
       "        text-align: right;\n",
       "    }\n",
       "</style>\n",
       "<table border=\"1\" class=\"dataframe\">\n",
       "  <thead>\n",
       "    <tr style=\"text-align: right;\">\n",
       "      <th></th>\n",
       "      <th>SNP</th>\n",
       "      <th>gene</th>\n",
       "      <th>beta</th>\n",
       "      <th>t-stat</th>\n",
       "      <th>p-value</th>\n",
       "      <th>FDR</th>\n",
       "    </tr>\n",
       "  </thead>\n",
       "  <tbody>\n",
       "    <tr>\n",
       "      <th>0</th>\n",
       "      <td>SNP24</td>\n",
       "      <td>Gene7675</td>\n",
       "      <td>3.154104e-01</td>\n",
       "      <td>5.101994e+00</td>\n",
       "      <td>4.787729e-07</td>\n",
       "      <td>0.448726</td>\n",
       "    </tr>\n",
       "    <tr>\n",
       "      <th>1</th>\n",
       "      <td>SNP59</td>\n",
       "      <td>Gene3276</td>\n",
       "      <td>-3.242472e-01</td>\n",
       "      <td>-5.003828e+00</td>\n",
       "      <td>7.807464e-07</td>\n",
       "      <td>0.448726</td>\n",
       "    </tr>\n",
       "    <tr>\n",
       "      <th>2</th>\n",
       "      <td>SNP61</td>\n",
       "      <td>Gene13820</td>\n",
       "      <td>3.154005e-01</td>\n",
       "      <td>4.872731e+00</td>\n",
       "      <td>1.481640e-06</td>\n",
       "      <td>0.448726</td>\n",
       "    </tr>\n",
       "    <tr>\n",
       "      <th>3</th>\n",
       "      <td>SNP24</td>\n",
       "      <td>Gene11858</td>\n",
       "      <td>2.924077e-01</td>\n",
       "      <td>4.791069e+00</td>\n",
       "      <td>2.192407e-06</td>\n",
       "      <td>0.448726</td>\n",
       "    </tr>\n",
       "    <tr>\n",
       "      <th>4</th>\n",
       "      <td>SNP30</td>\n",
       "      <td>Gene6603</td>\n",
       "      <td>3.104013e-01</td>\n",
       "      <td>4.783924e+00</td>\n",
       "      <td>2.268267e-06</td>\n",
       "      <td>0.448726</td>\n",
       "    </tr>\n",
       "    <tr>\n",
       "      <th>...</th>\n",
       "      <td>...</td>\n",
       "      <td>...</td>\n",
       "      <td>...</td>\n",
       "      <td>...</td>\n",
       "      <td>...</td>\n",
       "      <td>...</td>\n",
       "    </tr>\n",
       "    <tr>\n",
       "      <th>1499995</th>\n",
       "      <td>SNP64</td>\n",
       "      <td>Gene12028</td>\n",
       "      <td>3.758753e-07</td>\n",
       "      <td>5.851129e-06</td>\n",
       "      <td>9.999953e-01</td>\n",
       "      <td>0.999998</td>\n",
       "    </tr>\n",
       "    <tr>\n",
       "      <th>1499996</th>\n",
       "      <td>SNP89</td>\n",
       "      <td>Gene168</td>\n",
       "      <td>2.715882e-07</td>\n",
       "      <td>4.275735e-06</td>\n",
       "      <td>9.999966e-01</td>\n",
       "      <td>0.999998</td>\n",
       "    </tr>\n",
       "    <tr>\n",
       "      <th>1499997</th>\n",
       "      <td>SNP60</td>\n",
       "      <td>Gene6534</td>\n",
       "      <td>-2.566566e-07</td>\n",
       "      <td>-4.221228e-06</td>\n",
       "      <td>9.999966e-01</td>\n",
       "      <td>0.999998</td>\n",
       "    </tr>\n",
       "    <tr>\n",
       "      <th>1499998</th>\n",
       "      <td>SNP70</td>\n",
       "      <td>Gene10102</td>\n",
       "      <td>7.858086e-08</td>\n",
       "      <td>1.250512e-06</td>\n",
       "      <td>9.999990e-01</td>\n",
       "      <td>1.000000</td>\n",
       "    </tr>\n",
       "    <tr>\n",
       "      <th>1499999</th>\n",
       "      <td>SNP82</td>\n",
       "      <td>Gene7559</td>\n",
       "      <td>-4.017909e-08</td>\n",
       "      <td>-6.122253e-07</td>\n",
       "      <td>9.999995e-01</td>\n",
       "      <td>1.000000</td>\n",
       "    </tr>\n",
       "  </tbody>\n",
       "</table>\n",
       "<p>1500000 rows × 6 columns</p>\n",
       "</div>"
      ],
      "text/plain": [
       "           SNP       gene          beta        t-stat       p-value       FDR\n",
       "0        SNP24   Gene7675  3.154104e-01  5.101994e+00  4.787729e-07  0.448726\n",
       "1        SNP59   Gene3276 -3.242472e-01 -5.003828e+00  7.807464e-07  0.448726\n",
       "2        SNP61  Gene13820  3.154005e-01  4.872731e+00  1.481640e-06  0.448726\n",
       "3        SNP24  Gene11858  2.924077e-01  4.791069e+00  2.192407e-06  0.448726\n",
       "4        SNP30   Gene6603  3.104013e-01  4.783924e+00  2.268267e-06  0.448726\n",
       "...        ...        ...           ...           ...           ...       ...\n",
       "1499995  SNP64  Gene12028  3.758753e-07  5.851129e-06  9.999953e-01  0.999998\n",
       "1499996  SNP89    Gene168  2.715882e-07  4.275735e-06  9.999966e-01  0.999998\n",
       "1499997  SNP60   Gene6534 -2.566566e-07 -4.221228e-06  9.999966e-01  0.999998\n",
       "1499998  SNP70  Gene10102  7.858086e-08  1.250512e-06  9.999990e-01  1.000000\n",
       "1499999  SNP82   Gene7559 -4.017909e-08 -6.122253e-07  9.999995e-01  1.000000\n",
       "\n",
       "[1500000 rows x 6 columns]"
      ]
     },
     "execution_count": 55,
     "metadata": {},
     "output_type": "execute_result"
    }
   ],
   "source": [
    "m_file"
   ]
  },
  {
   "cell_type": "code",
   "execution_count": 65,
   "metadata": {},
   "outputs": [],
   "source": [
    "pvalues = get_pvalues_for_targets_snp(m_file, 10000)"
   ]
  },
  {
   "cell_type": "code",
   "execution_count": 66,
   "metadata": {},
   "outputs": [
    {
     "data": {
      "text/plain": [
       "10000"
      ]
     },
     "execution_count": 66,
     "metadata": {},
     "output_type": "execute_result"
    }
   ],
   "source": [
    "len(pvalues)"
   ]
  },
  {
   "cell_type": "code",
   "execution_count": null,
   "metadata": {},
   "outputs": [],
   "source": []
  }
 ],
 "metadata": {
  "kernelspec": {
   "display_name": "Python (python3.6)",
   "language": "python",
   "name": "python3.6"
  },
  "language_info": {
   "codemirror_mode": {
    "name": "ipython",
    "version": 3
   },
   "file_extension": ".py",
   "mimetype": "text/x-python",
   "name": "python",
   "nbconvert_exporter": "python",
   "pygments_lexer": "ipython3",
   "version": "3.6.7"
  }
 },
 "nbformat": 4,
 "nbformat_minor": 4
}

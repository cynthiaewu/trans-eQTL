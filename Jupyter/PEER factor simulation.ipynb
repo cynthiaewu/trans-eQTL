{
 "cells": [
  {
   "cell_type": "code",
   "execution_count": 36,
   "metadata": {},
   "outputs": [],
   "source": [
    "import numpy as np\n",
    "import matplotlib.pyplot as plt\n",
    "import scipy.stats\n",
    "from scipy.stats import norm, kurtosis"
   ]
  },
  {
   "cell_type": "markdown",
   "metadata": {},
   "source": [
    "# Checking which version of gamma PEER paper uses"
   ]
  },
  {
   "cell_type": "code",
   "execution_count": 24,
   "metadata": {},
   "outputs": [],
   "source": [
    "#factor weight \n",
    "#var_k = np.random.gamma(shape, scale, 1000)\n",
    "var_k = 0.8*((np.random.gamma(2.5, 0.6, 10000))**2)"
   ]
  },
  {
   "cell_type": "code",
   "execution_count": 25,
   "metadata": {},
   "outputs": [
    {
     "data": {
      "text/plain": [
       "(array([8.308e+03, 1.172e+03, 3.490e+02, 1.040e+02, 3.400e+01, 2.100e+01,\n",
       "        7.000e+00, 2.000e+00, 1.000e+00, 2.000e+00]),\n",
       " array([7.44200708e-05, 4.42969154e+00, 8.85930866e+00, 1.32889258e+01,\n",
       "        1.77185429e+01, 2.21481600e+01, 2.65777771e+01, 3.10073942e+01,\n",
       "        3.54370114e+01, 3.98666285e+01, 4.42962456e+01]),\n",
       " <a list of 10 Patch objects>)"
      ]
     },
     "execution_count": 25,
     "metadata": {},
     "output_type": "execute_result"
    },
    {
     "data": {
      "image/png": "[encoded data removed]",
      "text/plain": [
       "<Figure size 432x288 with 1 Axes>"
      ]
     },
     "metadata": {},
     "output_type": "display_data"
    }
   ],
   "source": [
    "plt.hist(var_k)"
   ]
  },
  {
   "cell_type": "code",
   "execution_count": 38,
   "metadata": {},
   "outputs": [
    {
     "data": {
      "text/plain": [
       "17.510293630851674"
      ]
     },
     "execution_count": 38,
     "metadata": {},
     "output_type": "execute_result"
    }
   ],
   "source": [
    "kurtosis(var_k)"
   ]
  },
  {
   "cell_type": "code",
   "execution_count": 29,
   "metadata": {},
   "outputs": [],
   "source": [
    "var_k_rate = 0.8*((np.random.gamma(2.5, 1/0.6, 10000))**2)"
   ]
  },
  {
   "cell_type": "code",
   "execution_count": 30,
   "metadata": {},
   "outputs": [
    {
     "data": {
      "text/plain": [
       "(array([9.366e+03, 5.310e+02, 7.300e+01, 1.900e+01, 6.000e+00, 4.000e+00,\n",
       "        0.000e+00, 0.000e+00, 0.000e+00, 1.000e+00]),\n",
       " array([1.63291350e-03, 6.10801496e+01, 1.22158666e+02, 1.83237183e+02,\n",
       "        2.44315700e+02, 3.05394216e+02, 3.66472733e+02, 4.27551250e+02,\n",
       "        4.88629766e+02, 5.49708283e+02, 6.10786799e+02]),\n",
       " <a list of 10 Patch objects>)"
      ]
     },
     "execution_count": 30,
     "metadata": {},
     "output_type": "execute_result"
    },
    {
     "data": {
      "image/png": "[encoded data removed]",
      "text/plain": [
       "<Figure size 432x288 with 1 Axes>"
      ]
     },
     "metadata": {},
     "output_type": "display_data"
    }
   ],
   "source": [
    "plt.hist(var_k_rate)"
   ]
  },
  {
   "cell_type": "code",
   "execution_count": 39,
   "metadata": {},
   "outputs": [
    {
     "data": {
      "text/plain": [
       "41.77937404796436"
      ]
     },
     "execution_count": 39,
     "metadata": {},
     "output_type": "execute_result"
    }
   ],
   "source": [
    "kurtosis(var_k_rate)"
   ]
  },
  {
   "cell_type": "code",
   "execution_count": 31,
   "metadata": {},
   "outputs": [
    {
     "data": {
      "text/plain": [
       "(array([6.287e+03, 2.326e+03, 8.780e+02, 3.210e+02, 1.060e+02, 5.800e+01,\n",
       "        1.300e+01, 7.000e+00, 3.000e+00, 1.000e+00]),\n",
       " array([1.71685744e-04, 9.80926512e-01, 1.96168134e+00, 2.94243616e+00,\n",
       "        3.92319099e+00, 4.90394582e+00, 5.88470064e+00, 6.86545547e+00,\n",
       "        7.84621030e+00, 8.82696512e+00, 9.80771995e+00]),\n",
       " <a list of 10 Patch objects>)"
      ]
     },
     "execution_count": 31,
     "metadata": {},
     "output_type": "execute_result"
    },
    {
     "data": {
      "image/png": "[encoded data removed]",
      "text/plain": [
       "<Figure size 432x288 with 1 Axes>"
      ]
     },
     "metadata": {},
     "output_type": "display_data"
    }
   ],
   "source": [
    "expon = np.random.exponential(1, 10000)\n",
    "plt.hist(expon)"
   ]
  },
  {
   "cell_type": "code",
   "execution_count": 37,
   "metadata": {},
   "outputs": [
    {
     "data": {
      "text/plain": [
       "6.0073877184961315"
      ]
     },
     "execution_count": 37,
     "metadata": {},
     "output_type": "execute_result"
    }
   ],
   "source": [
    "kurtosis(expon)"
   ]
  },
  {
   "cell_type": "code",
   "execution_count": 41,
   "metadata": {},
   "outputs": [
    {
     "data": {
      "text/plain": [
       "-0.019143009840752345"
      ]
     },
     "execution_count": 41,
     "metadata": {},
     "output_type": "execute_result"
    }
   ],
   "source": [
    "normal = np.random.normal(0, 1, 10000)\n",
    "kurtosis(normal)"
   ]
  },
  {
   "cell_type": "markdown",
   "metadata": {},
   "source": [
    "# Peer simulation"
   ]
  },
  {
   "cell_type": "code",
   "execution_count": 42,
   "metadata": {},
   "outputs": [],
   "source": [
    "num_factors = 10\n",
    "sample_size = 50\n",
    "num_genes = 100"
   ]
  },
  {
   "cell_type": "code",
   "execution_count": 45,
   "metadata": {},
   "outputs": [],
   "source": [
    "# factor_level = np.random.normal(0, 0.6, (sample_size, num_factors))\n",
    "# var_k = 0.8*((np.random.gamma(2.5, 0.6))**2)\n",
    "# factor_weight = np.random.normal(0, var_k, (num_factors, num_genes))"
   ]
  },
  {
   "cell_type": "code",
   "execution_count": 44,
   "metadata": {},
   "outputs": [
    {
     "data": {
      "text/plain": [
       "23.42605484834376"
      ]
     },
     "execution_count": 44,
     "metadata": {},
     "output_type": "execute_result"
    }
   ],
   "source": [
    "var_k"
   ]
  },
  {
   "cell_type": "code",
   "execution_count": 46,
   "metadata": {},
   "outputs": [
    {
     "data": {
      "text/plain": [
       "(50, 10)"
      ]
     },
     "execution_count": 46,
     "metadata": {},
     "output_type": "execute_result"
    }
   ],
   "source": [
    "factor_level.shape"
   ]
  },
  {
   "cell_type": "code",
   "execution_count": 47,
   "metadata": {},
   "outputs": [
    {
     "data": {
      "text/plain": [
       "(10, 100)"
      ]
     },
     "execution_count": 47,
     "metadata": {},
     "output_type": "execute_result"
    }
   ],
   "source": [
    "factor_weight.shape"
   ]
  },
  {
   "cell_type": "code",
   "execution_count": 98,
   "metadata": {},
   "outputs": [],
   "source": [
    "factor_level = np.random.normal(0, 0.6, (sample_size, num_factors))\n",
    "\n",
    "factor_weight = []\n",
    "for i in range(num_factors):\n",
    "    var_k = 0.8*((np.random.gamma(2.5, 0.6))**2)\n",
    "    factor_weight.append(np.random.normal(0, var_k, num_genes))\n",
    "factor_weight = np.array(factor_weight)\n",
    "\n",
    "peer_factors = np.dot(factor_level, factor_weight)"
   ]
  },
  {
   "cell_type": "code",
   "execution_count": 86,
   "metadata": {},
   "outputs": [
    {
     "data": {
      "text/plain": [
       "(50, 10)"
      ]
     },
     "execution_count": 86,
     "metadata": {},
     "output_type": "execute_result"
    }
   ],
   "source": [
    "factor_level.shape"
   ]
  },
  {
   "cell_type": "code",
   "execution_count": 79,
   "metadata": {},
   "outputs": [
    {
     "data": {
      "text/plain": [
       "(10, 100)"
      ]
     },
     "execution_count": 79,
     "metadata": {},
     "output_type": "execute_result"
    }
   ],
   "source": [
    "factor_weight.shape"
   ]
  },
  {
   "cell_type": "code",
   "execution_count": 83,
   "metadata": {},
   "outputs": [
    {
     "data": {
      "text/plain": [
       "(50, 100)"
      ]
     },
     "execution_count": 83,
     "metadata": {},
     "output_type": "execute_result"
    }
   ],
   "source": [
    "np.dot(factor_level, factor_weight).shape"
   ]
  },
  {
   "cell_type": "code",
   "execution_count": 99,
   "metadata": {},
   "outputs": [
    {
     "data": {
      "text/plain": [
       "(50, 100)"
      ]
     },
     "execution_count": 99,
     "metadata": {},
     "output_type": "execute_result"
    }
   ],
   "source": [
    "# for i in range(num_factors):\n",
    "#     peer_factors = np.outer(factor_level[i], factor_weight[i])\n",
    "peer_factors.shape"
   ]
  },
  {
   "cell_type": "code",
   "execution_count": 97,
   "metadata": {},
   "outputs": [
    {
     "data": {
      "text/plain": [
       "array([ -2.77999187,  -0.79383927,  -2.43616717,   1.42461037,\n",
       "         0.59894306,   4.30093859,   1.8316498 ,  -6.05180026,\n",
       "        -3.91484488,  -1.13101407,  -0.73593897,  -1.26942189,\n",
       "        -1.63565539,  -3.55930436,   2.29780369,  -2.39648399,\n",
       "         4.19159848,   1.64912958,  -3.21017816,   0.98362677,\n",
       "         4.90079119,  -7.00425273,  -0.88590299,  11.87282135,\n",
       "        -1.78327699,   1.9574532 ,   2.69789011,   0.57883638,\n",
       "        -1.67688498,  -2.38228983,   2.04827393,  -1.21992251,\n",
       "        -3.01376059,  -3.19852759,  -1.65932445,   3.80112966,\n",
       "         9.1889271 ,   4.56895962,   0.40785258,   1.46468084,\n",
       "        -1.20870185,   0.67845547,  -0.89959736,  -5.40188452,\n",
       "        -0.97708005,   1.51571269,   0.42512993, -10.85724918,\n",
       "         2.74531605,   2.30898404,  -5.87155018,  -1.6294561 ,\n",
       "        -1.16882733,  -2.21583151,   2.79072743,   1.06448207,\n",
       "        -5.05417252,  -1.10623763,  -3.24886352,   4.03832294,\n",
       "        -7.64433633,   1.597633  ,  -0.96763677,   1.87965088,\n",
       "         3.88635899,  -2.02513933,   1.3569929 ,   4.74725194,\n",
       "        -0.72843588,   0.76453632,   1.22902436,   1.62150513,\n",
       "         1.86975812,  -3.98203799,   3.55771233,  -1.96355111,\n",
       "         2.10319333,  -0.51187434,  -8.30725321,  -1.96137199,\n",
       "         4.05717427,  -4.53610963,   3.04522521,   5.19100336,\n",
       "         4.13345658,  -0.06537168,  -0.43998661,   5.09416482,\n",
       "        -2.5497958 ,   3.02152091,  -8.31145145,  -0.8987735 ,\n",
       "        -4.00735982,  -3.07220244,   5.40549962,   0.36785443,\n",
       "         4.84106075,   3.70095811,  -4.63406201,   4.09938802])"
      ]
     },
     "execution_count": 97,
     "metadata": {},
     "output_type": "execute_result"
    }
   ],
   "source": [
    "peer_factors[0]"
   ]
  },
  {
   "cell_type": "code",
   "execution_count": 75,
   "metadata": {},
   "outputs": [
    {
     "data": {
      "text/plain": [
       "(10, 100)"
      ]
     },
     "execution_count": 75,
     "metadata": {},
     "output_type": "execute_result"
    }
   ],
   "source": [
    "factor_weight.shape"
   ]
  },
  {
   "cell_type": "code",
   "execution_count": 54,
   "metadata": {},
   "outputs": [],
   "source": [
    "for i in range(1):\n",
    "    peer = np.outer(factor_level[i], factor_weight[i])"
   ]
  },
  {
   "cell_type": "code",
   "execution_count": 59,
   "metadata": {},
   "outputs": [
    {
     "data": {
      "text/plain": [
       "(10, 100)"
      ]
     },
     "execution_count": 59,
     "metadata": {},
     "output_type": "execute_result"
    }
   ],
   "source": [
    "peer.shape"
   ]
  },
  {
   "cell_type": "code",
   "execution_count": 61,
   "metadata": {},
   "outputs": [
    {
     "data": {
      "text/plain": [
       "(10, 100)"
      ]
     },
     "execution_count": 61,
     "metadata": {},
     "output_type": "execute_result"
    }
   ],
   "source": [
    "peer_factors.shape"
   ]
  },
  {
   "cell_type": "code",
   "execution_count": 62,
   "metadata": {},
   "outputs": [
    {
     "data": {
      "text/plain": [
       "array([[ 2.29185364e-01,  8.86914993e-01, -7.39305705e-02,\n",
       "        -8.48940245e-02,  6.24244338e-01,  3.04689165e-01,\n",
       "         1.20761985e-01, -1.52648046e-01, -2.31742738e-01,\n",
       "         7.34462200e-01,  7.52424535e-01,  3.31045364e-01,\n",
       "        -2.24837113e-01, -8.40448504e-01,  6.22997196e-01,\n",
       "         1.03734941e+00, -3.83722281e-01,  1.99308029e-01,\n",
       "        -1.26376176e+00,  4.84271743e-03, -6.30699099e-02,\n",
       "        -4.54543642e-01,  1.29738790e-01,  4.00708229e-01,\n",
       "        -1.95688338e-01,  1.39556461e-01, -1.24918989e+00,\n",
       "        -5.87315619e-01, -6.15027002e-01,  3.01123638e-01,\n",
       "         2.34991131e-01,  7.81887571e-01, -3.16506484e-01,\n",
       "         4.36712952e-01,  7.70076302e-02, -4.86059085e-01,\n",
       "         1.07533373e+00,  4.65617259e-01,  4.53909819e-01,\n",
       "         2.45727705e-01,  4.63051409e-01, -2.28952488e-01,\n",
       "         6.91861180e-02, -1.17580269e+00,  9.30793216e-01,\n",
       "         6.62496192e-01, -2.48461466e-03,  7.12420125e-02,\n",
       "        -8.50309983e-01,  1.29100689e+00,  4.36234821e-01,\n",
       "         1.60385471e+00,  7.88649766e-02,  5.40750816e-01,\n",
       "         2.45983317e-01,  1.77769388e-02, -4.70035009e-01,\n",
       "        -1.21300412e+00,  7.19775829e-01,  1.40213904e-02,\n",
       "         6.28766770e-01, -1.86425288e-02,  3.23219512e-01,\n",
       "        -5.46358601e-01,  5.14518212e-01, -1.20136857e-01,\n",
       "        -2.18866639e+00, -4.65999914e-01,  5.00274929e-01,\n",
       "         1.61805231e-01, -1.15631057e+00, -5.31377592e-01,\n",
       "        -4.80206531e-01,  2.08950832e-01,  4.21142821e-01,\n",
       "        -2.94295861e-01,  9.27776307e-01,  3.66867941e-01,\n",
       "         2.81778766e-01, -3.96051888e-01, -3.58333791e-01,\n",
       "        -3.37693801e-01,  2.53726599e-01, -3.82591833e-01,\n",
       "        -6.26431165e-01,  8.02222817e-02,  1.94886147e-01,\n",
       "        -6.18518307e-01,  2.24731251e-01,  9.45657620e-02,\n",
       "        -4.38333391e-01,  7.37065714e-01, -7.33892243e-01,\n",
       "         5.84612808e-01,  1.00030795e-01, -3.16197057e-01,\n",
       "         1.06869513e+00,  5.48156559e-02, -1.20121432e-01,\n",
       "        -1.38286474e-01],\n",
       "       [ 1.77563117e-03,  6.87144186e-03, -5.72782759e-04,\n",
       "        -6.57722959e-04,  4.83638083e-03,  2.36060265e-03,\n",
       "         9.35612734e-04, -1.18265243e-03, -1.79544461e-03,\n",
       "         5.69030216e-03,  5.82946673e-03,  2.56479932e-03,\n",
       "        -1.74194276e-03, -6.51143917e-03,  4.82671851e-03,\n",
       "         8.03694401e-03, -2.97291777e-03,  1.54415422e-03,\n",
       "        -9.79109109e-03,  3.75193243e-05, -4.88638959e-04,\n",
       "        -3.52161169e-03,  1.00516121e-03,  3.10451771e-03,\n",
       "        -1.51611039e-03,  1.08122437e-03, -9.67819436e-03,\n",
       "        -4.55027275e-03, -4.76496882e-03,  2.33297845e-03,\n",
       "         1.82061179e-03,  6.05773386e-03, -2.45215823e-03,\n",
       "         3.38346706e-03,  5.96622515e-04, -3.76578000e-03,\n",
       "         8.33123048e-03,  3.60740538e-03,  3.51670110e-03,\n",
       "         1.90379422e-03,  3.58752626e-03, -1.77382694e-03,\n",
       "         5.36024750e-04, -9.10962139e-03,  7.21139175e-03,\n",
       "         5.13274001e-03, -1.92497424e-05,  5.51952950e-04,\n",
       "        -6.58784174e-03,  1.00021748e-02,  3.37976270e-03,\n",
       "         1.24259872e-02,  6.11012448e-04,  4.18950838e-03,\n",
       "         1.90577459e-03,  1.37728195e-04, -3.64163225e-03,\n",
       "        -9.39784232e-03,  5.57651838e-03,  1.08631796e-04,\n",
       "         4.87141872e-03, -1.44434420e-04,  2.50416793e-03,\n",
       "        -4.23295512e-03,  3.98626927e-03, -9.30769500e-04,\n",
       "        -1.69568605e-02, -3.61037004e-03,  3.87591834e-03,\n",
       "         1.25359843e-03, -8.95860473e-03, -4.11688860e-03,\n",
       "        -3.72043689e-03,  1.61886258e-03,  3.26283627e-03,\n",
       "        -2.28007973e-03,  7.18801802e-03,  2.84233748e-03,\n",
       "         2.18310257e-03, -3.06844235e-03, -2.77621850e-03,\n",
       "        -2.61630859e-03,  1.96576627e-03, -2.96415954e-03,\n",
       "        -4.85332344e-03,  6.21528274e-04,  1.50989535e-03,\n",
       "        -4.79201797e-03,  1.74112259e-03,  7.32655486e-04,\n",
       "        -3.39602153e-03,  5.71047309e-03, -5.68588638e-03,\n",
       "         4.52933252e-03,  7.74996244e-04, -2.44976093e-03,\n",
       "         8.27979737e-03,  4.24688494e-04, -9.30649999e-04,\n",
       "        -1.07138505e-03],\n",
       "       [ 3.98442356e-01,  1.54191565e+00, -1.28529459e-01,\n",
       "        -1.47589596e-01,  1.08525859e+00,  5.29706902e-01,\n",
       "         2.09946609e-01, -2.65381027e-01, -4.02888391e-01,\n",
       "         1.27687408e+00,  1.30810188e+00,  5.75527567e-01,\n",
       "        -3.90882854e-01, -1.46113293e+00,  1.08309041e+00,\n",
       "         1.80344825e+00, -6.67107214e-01,  3.46500140e-01,\n",
       "        -2.19706969e+00,  8.41914034e-03, -1.09648029e-01,\n",
       "        -7.90231264e-01,  2.25552925e-01,  6.96637553e-01,\n",
       "        -3.40207251e-01,  2.42621100e-01, -2.17173625e+00,\n",
       "        -1.02105743e+00, -1.06923411e+00,  5.23508176e-01,\n",
       "         4.08535774e-01,  1.35932383e+00, -5.50251496e-01,\n",
       "         7.59232330e-01,  1.33878975e-01, -8.45021357e-01,\n",
       "         1.86948459e+00,  8.09482920e-01,  7.89129352e-01,\n",
       "         4.27201476e-01,  8.05022150e-01, -3.98037498e-01,\n",
       "         1.20281153e-01, -2.04415145e+00,  1.61819863e+00,\n",
       "         1.15176004e+00, -4.31954162e-03,  1.23855358e-01,\n",
       "        -1.47827727e+00,  2.24443576e+00,  7.58401092e-01,\n",
       "         2.78832661e+00,  1.37108001e-01,  9.40103790e-01,\n",
       "         4.27645861e-01,  3.09054874e-02, -8.17163249e-01,\n",
       "        -2.10882672e+00,  1.25134159e+00,  2.43764075e-02,\n",
       "         1.09312091e+00, -3.24103293e-02,  5.61922200e-01,\n",
       "        -9.49853012e-01,  8.94497996e-01, -2.08859813e-01,\n",
       "        -3.80503090e+00, -8.10148173e-01,  8.69735825e-01,\n",
       "         2.81300937e-01, -2.01026410e+00, -9.23808293e-01,\n",
       "        -8.34846600e-01,  3.63264304e-01,  7.32163412e-01,\n",
       "        -5.11637979e-01,  1.61295369e+00,  6.37805680e-01,\n",
       "         4.89876812e-01, -6.88542431e-01, -6.22968926e-01,\n",
       "        -5.87085979e-01,  4.41107680e-01, -6.65141913e-01,\n",
       "        -1.08906042e+00,  1.39467697e-01,  3.38812628e-01,\n",
       "        -1.07530380e+00,  3.90698812e-01,  1.64404063e-01,\n",
       "        -7.62049489e-01,  1.28140033e+00, -1.27588320e+00,\n",
       "         1.01635855e+00,  1.73905108e-01, -5.49713553e-01,\n",
       "         1.85794327e+00,  9.52978792e-02, -2.08832997e-01,\n",
       "        -2.40413208e-01],\n",
       "       [ 3.01747499e-01,  1.16772021e+00, -9.73376500e-02,\n",
       "        -1.11772232e-01,  8.21885675e-01,  4.01156479e-01,\n",
       "         1.58996309e-01, -2.00977782e-01, -3.05114560e-01,\n",
       "         9.66999498e-01,  9.90648868e-01,  4.35857285e-01,\n",
       "        -2.96022553e-01, -1.10654201e+00,  8.20243677e-01,\n",
       "         1.36578350e+00, -5.05212184e-01,  2.62410732e-01,\n",
       "        -1.66388004e+00,  6.37596505e-03, -8.30384071e-02,\n",
       "        -5.98456222e-01,  1.70815251e-01,  5.27576036e-01,\n",
       "        -2.57645015e-01,  1.83741284e-01, -1.64469457e+00,\n",
       "        -7.73264993e-01, -8.09750048e-01,  3.96462073e-01,\n",
       "         3.09391424e-01,  1.02944017e+00, -4.16715266e-01,\n",
       "         5.74980177e-01,  1.01388934e-01, -6.39949736e-01,\n",
       "         1.41579400e+00,  6.13035845e-01,  5.97621725e-01,\n",
       "         3.23527293e-01,  6.09657624e-01, -3.01440892e-01,\n",
       "         9.10910614e-02, -1.54807233e+00,  1.22549067e+00,\n",
       "         8.72248409e-01, -3.27126587e-03,  9.37978704e-02,\n",
       "        -1.11952572e+00,  1.69975121e+00,  5.74350665e-01,\n",
       "         2.11164944e+00,  1.03834333e-01,  7.11957358e-01,\n",
       "         3.23863833e-01,  2.34052765e-02, -6.18852295e-01,\n",
       "        -1.59705206e+00,  9.47663290e-01,  1.84606879e-02,\n",
       "         8.27839950e-01, -2.45449201e-02,  4.25553698e-01,\n",
       "        -7.19340617e-01,  6.77419277e-01, -1.58173259e-01,\n",
       "        -2.88161773e+00, -6.13539652e-01,  6.58666443e-01,\n",
       "         2.13034214e-01, -1.52240883e+00, -6.99616487e-01,\n",
       "        -6.32244211e-01,  2.75106533e-01,  5.54480402e-01,\n",
       "        -3.87472561e-01,  1.22151858e+00,  4.83021610e-01,\n",
       "         3.70992441e-01, -5.21445456e-01, -4.71785472e-01,\n",
       "        -4.44610677e-01,  3.34058709e-01, -5.03723827e-01,\n",
       "        -8.24764871e-01,  1.05621373e-01,  2.56588843e-01,\n",
       "        -8.14346731e-01,  2.95883174e-01,  1.24506128e-01,\n",
       "        -5.77113661e-01,  9.70427307e-01, -9.66249087e-01,\n",
       "         7.69706449e-01,  1.31701438e-01, -4.16307872e-01,\n",
       "         1.40705356e+00,  7.21707826e-02, -1.58152951e-01,\n",
       "        -1.82069208e-01],\n",
       "       [-2.56885438e-01, -9.94110366e-01,  8.28660550e-02,\n",
       "         9.51545870e-02, -6.99692498e-01, -3.41514869e-01,\n",
       "        -1.35357664e-01,  1.71097576e-01,  2.59751904e-01,\n",
       "        -8.23231643e-01, -8.43364963e-01, -3.71056562e-01,\n",
       "         2.52011643e-01,  9.42027789e-01, -6.98294623e-01,\n",
       "        -1.16272676e+00,  4.30100179e-01, -2.23397033e-01,\n",
       "         1.41650404e+00, -5.42802370e-03,  7.06927403e-02,\n",
       "         5.09481235e-01, -1.45419434e-01, -4.49139103e-01,\n",
       "         2.19339855e-01, -1.56423700e-01,  1.40017096e+00,\n",
       "         6.58300457e-01,  6.89361126e-01, -3.37518401e-01,\n",
       "        -2.63392909e-01, -8.76388996e-01,  3.54760467e-01,\n",
       "        -4.89495472e-01, -8.63150179e-02,  5.44805735e-01,\n",
       "        -1.20530200e+00, -5.21893245e-01, -5.08770807e-01,\n",
       "        -2.75427139e-01, -5.19017278e-01,  2.56624416e-01,\n",
       "        -7.75481728e-02,  1.31791395e+00, -1.04329185e+00,\n",
       "        -7.42567594e-01,  2.78491311e-03, -7.98525493e-02,\n",
       "         9.53081159e-01, -1.44704210e+00, -4.88959553e-01,\n",
       "        -1.79770170e+00, -8.83968491e-02, -6.06107683e-01,\n",
       "        -2.75713644e-01, -1.99255163e-02,  5.26844939e-01,\n",
       "         1.35961166e+00, -8.06770230e-01, -1.57160603e-02,\n",
       "        -7.04761527e-01,  2.08957243e-02, -3.62284852e-01,\n",
       "         6.12393243e-01, -5.76704523e-01,  1.34656980e-01,\n",
       "         2.45319558e+00,  5.22322149e-01, -5.60739752e-01,\n",
       "        -1.81361527e-01,  1.29606595e+00,  5.95601581e-01,\n",
       "         5.38245823e-01, -2.34205295e-01, -4.72043485e-01,\n",
       "         3.29865397e-01, -1.03991031e+00, -4.11208770e-01,\n",
       "        -3.15835445e-01,  4.43919982e-01,  4.01643155e-01,\n",
       "         3.78508550e-01, -2.84392805e-01,  4.28833101e-01,\n",
       "         7.02143633e-01, -8.99182025e-02, -2.18440708e-01,\n",
       "         6.93274401e-01, -2.51892987e-01, -1.05995282e-01,\n",
       "         4.91311763e-01, -8.26149826e-01,  8.22592799e-01,\n",
       "        -6.55270976e-01, -1.12120835e-01,  3.54413642e-01,\n",
       "        -1.19786103e+00, -6.14408509e-02,  1.34639691e-01,\n",
       "         1.55000218e-01],\n",
       "       [ 2.43649742e-01,  9.42890095e-01, -7.85964869e-02,\n",
       "        -9.02518680e-02,  6.63641733e-01,  3.23918750e-01,\n",
       "         1.28383533e-01, -1.62281991e-01, -2.46368517e-01,\n",
       "         7.80815680e-01,  7.99911656e-01,  3.51938345e-01,\n",
       "        -2.39027064e-01, -8.93491006e-01,  6.62315882e-01,\n",
       "         1.10281875e+00, -4.07939814e-01,  2.11886785e-01,\n",
       "        -1.34352047e+00,  5.14835168e-03, -6.70503868e-02,\n",
       "        -4.83230863e-01,  1.37926882e-01,  4.25997783e-01,\n",
       "        -2.08038648e-01,  1.48364168e-01, -1.32802893e+00,\n",
       "        -6.24382363e-01, -6.53842671e-01,  3.20128195e-01,\n",
       "         2.49821924e-01,  8.31234168e-01, -3.36481885e-01,\n",
       "         4.64274841e-01,  8.18677465e-02, -5.16735313e-01,\n",
       "         1.14320034e+00,  4.95003360e-01,  4.82557038e-01,\n",
       "         2.61236106e-01,  4.92275573e-01, -2.43402169e-01,\n",
       "         7.35526019e-02, -1.25001011e+00,  9.89537567e-01,\n",
       "         7.04307744e-01, -2.64142400e-03,  7.57382483e-02,\n",
       "        -9.03974865e-01,  1.37248509e+00,  4.63766534e-01,\n",
       "         1.70507741e+00,  8.38423139e-02,  5.74878756e-01,\n",
       "         2.61507850e-01,  1.88988794e-02, -4.99699924e-01,\n",
       "        -1.28955940e+00,  7.65202421e-01,  1.49063103e-02,\n",
       "         6.68449586e-01, -1.98190987e-02,  3.43618587e-01,\n",
       "        -5.80840460e-01,  5.46990557e-01, -1.27718951e-01,\n",
       "        -2.32679780e+00, -4.95410165e-01,  5.31848350e-01,\n",
       "         1.72017105e-01, -1.22928780e+00, -5.64913968e-01,\n",
       "        -5.10513392e-01,  2.22138166e-01,  4.47722045e-01,\n",
       "        -3.12869502e-01,  9.86330254e-01,  3.90021761e-01,\n",
       "         2.99562426e-01, -4.21047570e-01, -3.80949003e-01,\n",
       "        -3.59006379e-01,  2.69739828e-01, -4.06738021e-01,\n",
       "        -6.65966576e-01,  8.52852815e-02,  2.07185828e-01,\n",
       "        -6.57554320e-01,  2.38914521e-01,  1.00534010e-01,\n",
       "        -4.65997549e-01,  7.83583508e-01, -7.80209752e-01,\n",
       "         6.21508973e-01,  1.06343952e-01, -3.36152930e-01,\n",
       "         1.13614276e+00,  5.82751892e-02, -1.27702553e-01,\n",
       "        -1.47014029e-01],\n",
       "       [ 8.94414725e-02,  3.46125868e-01, -2.88520130e-02,\n",
       "        -3.31305910e-02,  2.43616485e-01,  1.18907452e-01,\n",
       "         4.71283576e-02, -5.95721550e-02, -9.04395087e-02,\n",
       "         2.86629912e-01,  2.93639861e-01,  1.29193175e-01,\n",
       "        -8.77445318e-02, -3.27991938e-01,  2.43129778e-01,\n",
       "         4.04834135e-01, -1.49750775e-01,  7.77815969e-02,\n",
       "        -4.93193419e-01,  1.88991029e-03, -2.46135509e-02,\n",
       "        -1.77389393e-01,  5.06316294e-02,  1.56379681e-01,\n",
       "        -7.63689828e-02,  5.44630563e-02, -4.87506624e-01,\n",
       "        -2.29204749e-01, -2.40019344e-01,  1.17515975e-01,\n",
       "         9.17072210e-02,  3.05138053e-01, -1.23519258e-01,\n",
       "         1.70430820e-01,  3.00528608e-02, -1.89688554e-01,\n",
       "         4.19657830e-01,  1.81710963e-01,  1.77142039e-01,\n",
       "         9.58972572e-02,  1.80709619e-01, -8.93505909e-02,\n",
       "         2.70004514e-02, -4.58866665e-01,  3.63249705e-01,\n",
       "         2.58544586e-01, -9.69641298e-04,  2.78027811e-02,\n",
       "        -3.31840462e-01,  5.03826052e-01,  1.70244226e-01,\n",
       "         6.25917485e-01,  3.07777055e-02,  2.11032452e-01,\n",
       "         9.59970116e-02,  6.93759651e-03, -1.83435027e-01,\n",
       "        -4.73384829e-01,  2.80898435e-01,  5.47196287e-03,\n",
       "         2.45381402e-01, -7.27540014e-03,  1.26139072e-01,\n",
       "        -2.13220936e-01,  2.00794962e-01, -4.68843960e-02,\n",
       "        -8.54145051e-01, -1.81860298e-01,  1.95236404e-01,\n",
       "         6.31458218e-02, -4.51259707e-01, -2.07374474e-01,\n",
       "        -1.87404547e-01,  8.15447800e-02,  1.64354448e-01,\n",
       "        -1.14851379e-01,  3.62072332e-01,  1.43173230e-01,\n",
       "         1.09966480e-01, -1.54562506e-01, -1.39842708e-01,\n",
       "        -1.31787782e-01,  9.90188914e-02, -1.49309608e-01,\n",
       "        -2.44469912e-01,  3.13074050e-02,  7.60559210e-02,\n",
       "        -2.41381854e-01,  8.77032185e-02,  3.69050661e-02,\n",
       "        -1.71063210e-01,  2.87645955e-01, -2.86407482e-01,\n",
       "         2.28149955e-01,  3.90378400e-02, -1.23398501e-01,\n",
       "         4.17067060e-01,  2.13922604e-02, -4.68783765e-02,\n",
       "        -5.39674334e-02],\n",
       "       [-2.96099099e-01, -1.14586170e+00,  9.55155904e-02,\n",
       "         1.09679972e-01, -8.06500830e-01, -3.93647247e-01,\n",
       "        -1.56020064e-01,  1.97215687e-01,  2.99403133e-01,\n",
       "        -9.48898272e-01, -9.72104951e-01, -4.27698490e-01,\n",
       "         2.90481318e-01,  1.08582870e+00, -8.04889568e-01,\n",
       "        -1.34021746e+00,  4.95755138e-01, -2.57498676e-01,\n",
       "         1.63273393e+00, -6.25661362e-03,  8.14840145e-02,\n",
       "         5.87253743e-01, -1.67617767e-01, -5.17700362e-01,\n",
       "         2.52822168e-01, -1.80301838e-01,  1.61390760e+00,\n",
       "         7.58790277e-01,  7.94592369e-01, -3.89040715e-01,\n",
       "        -3.03599938e-01, -1.01017012e+00,  4.08914790e-01,\n",
       "        -5.64217145e-01, -9.94910389e-02,  6.27970542e-01,\n",
       "        -1.38929181e+00, -6.01560451e-01, -5.86434867e-01,\n",
       "        -3.17471198e-01, -5.98245467e-01,  2.95798232e-01,\n",
       "        -8.93859315e-02,  1.51909402e+00, -1.20255076e+00,\n",
       "        -8.55920825e-01,  3.21003117e-03, -9.20420719e-02,\n",
       "         1.09856937e+00, -1.66793363e+00, -5.63599418e-01,\n",
       "        -2.07212156e+00, -1.01890662e-01, -6.98630256e-01,\n",
       "        -3.17801439e-01, -2.29671540e-02,  6.07268023e-01,\n",
       "         1.56715691e+00, -9.29924018e-01, -1.81151230e-02,\n",
       "        -8.12343647e-01,  2.40854647e-02, -4.17587776e-01,\n",
       "         7.05875309e-01, -6.64738693e-01,  1.55212420e-01,\n",
       "         2.82767684e+00,  6.02054828e-01, -6.46336892e-01,\n",
       "        -2.09046435e-01,  1.49391092e+00,  6.86520394e-01,\n",
       "         6.20409257e-01, -2.69956825e-01, -5.44101106e-01,\n",
       "         3.80219478e-01, -1.19865302e+00, -4.73979948e-01,\n",
       "        -3.64047849e-01,  5.11684539e-01,  4.62954138e-01,\n",
       "         4.36288027e-01, -3.27805477e-01,  4.94294640e-01,\n",
       "         8.09326131e-01, -1.03644251e-01, -2.51785766e-01,\n",
       "         7.99103007e-01, -2.90344549e-01, -1.22175502e-01,\n",
       "         5.66310694e-01, -9.52261917e-01,  9.48161909e-01,\n",
       "        -7.55298345e-01, -1.29236124e-01,  4.08515022e-01,\n",
       "        -1.38071498e+00, -7.08198206e-02,  1.55192493e-01,\n",
       "         1.78661061e-01],\n",
       "       [-5.16380796e-02, -1.99832076e-01,  1.66574018e-02,\n",
       "         1.91275931e-02, -1.40649378e-01, -6.86499483e-02,\n",
       "        -2.72090543e-02,  3.43933479e-02,  5.22142851e-02,\n",
       "        -1.65482721e-01, -1.69529840e-01, -7.45883008e-02,\n",
       "         5.06583690e-02,  1.89362645e-01, -1.40368382e-01,\n",
       "        -2.33726667e-01,  8.64570116e-02, -4.49063748e-02,\n",
       "         2.84739957e-01, -1.09111954e-03,  1.42103709e-02,\n",
       "         1.02413873e-01, -2.92316309e-02, -9.02841398e-02,\n",
       "         4.40908172e-02, -3.14436643e-02,  2.81456746e-01,\n",
       "         1.32328916e-01,  1.38572607e-01, -6.78465942e-02,\n",
       "        -5.29461853e-02, -1.76168198e-01,  7.13125251e-02,\n",
       "        -9.83964151e-02, -1.73506985e-02,  1.09514662e-01,\n",
       "        -2.42284969e-01, -1.04908885e-01, -1.02271065e-01,\n",
       "        -5.53652580e-02, -1.04330770e-01,  5.15856101e-02,\n",
       "        -1.55884224e-02,  2.64921772e-01, -2.09718340e-01,\n",
       "        -1.49267957e-01,  5.59812055e-04, -1.60516389e-02,\n",
       "         1.91584549e-01, -2.90878594e-01, -9.82886867e-02,\n",
       "        -3.61366780e-01, -1.77691798e-02, -1.21837334e-01,\n",
       "        -5.54228502e-02, -4.00534730e-03,  1.05904255e-01,\n",
       "         2.73303679e-01, -1.62173713e-01, -3.15917937e-03,\n",
       "        -1.41668333e-01,  4.20037463e-03, -7.28250469e-02,\n",
       "         1.23100832e-01, -1.15926829e-01,  2.70682057e-02,\n",
       "         4.93131530e-01,  1.04995102e-01, -1.12717654e-01,\n",
       "        -3.64565663e-02,  2.60529976e-01,  1.19725439e-01,\n",
       "         1.08196015e-01, -4.70790085e-02, -9.48882867e-02,\n",
       "         6.63082182e-02, -2.09038596e-01, -8.26595364e-02,\n",
       "        -6.34879736e-02,  8.92350130e-02,  8.07366950e-02,\n",
       "         7.60862696e-02, -5.71675002e-02,  8.62023088e-02,\n",
       "         1.41142095e-01, -1.80749962e-02, -4.39100743e-02,\n",
       "         1.39359238e-01, -5.06345172e-02, -2.13067461e-02,\n",
       "         9.87615185e-02, -1.66069322e-01,  1.65354303e-01,\n",
       "        -1.31719942e-01, -2.25380803e-02,  7.12428078e-02,\n",
       "        -2.40789216e-01, -1.23505932e-02,  2.70647304e-02,\n",
       "         3.11575217e-02],\n",
       "       [ 2.94967354e-02,  1.14148200e-01, -9.51505121e-03,\n",
       "        -1.09260754e-02,  8.03418234e-02,  3.92142654e-02,\n",
       "         1.55423726e-02, -1.96461892e-02, -2.98258758e-02,\n",
       "         9.45271408e-02,  9.68389386e-02,  4.26063747e-02,\n",
       "        -2.89371045e-02, -1.08167846e-01,  8.01813131e-02,\n",
       "         1.33509490e-01, -4.93860270e-02,  2.56514469e-02,\n",
       "        -1.62649332e-01,  6.23269968e-04, -8.11725675e-03,\n",
       "        -5.85009151e-02,  1.66977101e-02,  5.15721615e-02,\n",
       "        -2.51855835e-02,  1.79612691e-02, -1.60773895e-01,\n",
       "        -7.55890040e-02, -7.91555290e-02,  3.87553730e-02,\n",
       "         3.02439523e-02,  1.00630906e-01, -4.07351842e-02,\n",
       "         5.62060603e-02,  9.91107657e-03, -6.25570322e-02,\n",
       "         1.38398168e-01,  5.99261176e-02,  5.84193405e-02,\n",
       "         3.16257765e-02,  5.95958862e-02, -2.94667637e-02,\n",
       "         8.90442819e-03, -1.51328776e-01,  1.19795439e-01,\n",
       "         8.52649338e-02, -3.19776184e-04,  9.16902700e-03,\n",
       "        -1.09437043e-01,  1.66155848e-01,  5.61445237e-02,\n",
       "         2.06420153e-01,  1.01501217e-02,  6.95959962e-02,\n",
       "         3.16586743e-02,  2.28793693e-03, -6.04946932e-02,\n",
       "        -1.56116694e-01,  9.26369677e-02,  1.80458837e-03,\n",
       "         8.09238719e-02, -2.39934056e-03,  4.15991678e-02,\n",
       "        -7.03177323e-02,  6.62197938e-02, -1.54619170e-02,\n",
       "        -2.81686894e-01, -5.99753663e-02,  6.43866473e-02,\n",
       "         2.08247421e-02, -1.48820092e-01, -6.83896386e-02,\n",
       "        -6.18037938e-02,  2.68925000e-02,  5.42021451e-02,\n",
       "        -3.78766209e-02,  1.19407155e-01,  4.72168309e-02,\n",
       "         3.62656390e-02, -5.09728786e-02, -4.61184642e-02,\n",
       "        -4.34620454e-02,  3.26552544e-02, -4.92405355e-02,\n",
       "        -8.06232736e-02,  1.03248103e-02,  2.50823395e-02,\n",
       "        -7.96048688e-02,  2.89234798e-02,  1.21708525e-02,\n",
       "        -5.64146149e-02,  9.48622196e-02, -9.44537859e-02,\n",
       "         7.52411455e-02,  1.28742160e-02, -4.06953602e-02,\n",
       "         1.37543763e-01,  7.05491341e-03, -1.54599318e-02,\n",
       "        -1.77978186e-02]])"
      ]
     },
     "execution_count": 62,
     "metadata": {},
     "output_type": "execute_result"
    }
   ],
   "source": [
    "peer"
   ]
  },
  {
   "cell_type": "code",
   "execution_count": 63,
   "metadata": {},
   "outputs": [
    {
     "data": {
      "text/plain": [
       "array([[ 2.64426659e-01,  1.48301949e-01, -7.47873300e-01,\n",
       "         3.43737220e-01,  2.89235298e-01,  1.15368873e-01,\n",
       "         1.81734622e-02, -2.74597176e-02, -2.15066535e-01,\n",
       "         1.05400649e-02,  2.44112346e-02,  1.68738251e-01,\n",
       "         6.25509015e-01, -1.13785348e-01, -2.17671275e-01,\n",
       "        -3.98672668e-01, -8.61561704e-01, -2.67825027e-01,\n",
       "        -6.43226713e-01,  5.50007730e-03,  5.20344683e-01,\n",
       "         2.76754097e-01, -1.40250872e-02, -5.94026549e-01,\n",
       "         1.19436341e-01, -7.65173177e-01,  7.38824528e-01,\n",
       "         6.19534629e-01,  8.10787505e-01, -3.92261888e-02,\n",
       "         2.93459145e-01,  1.10219505e+00,  1.21415451e-01,\n",
       "        -5.60355023e-01, -1.43243214e+00, -2.90042377e-01,\n",
       "        -3.43674478e-01,  6.94150574e-01, -1.20412794e-01,\n",
       "         3.62388076e-01,  6.08320319e-01,  6.73215928e-01,\n",
       "        -6.36929142e-01, -7.41057375e-01, -3.76509322e-01,\n",
       "         1.58313806e-01, -4.48999610e-01,  7.78547511e-01,\n",
       "        -2.27488406e-01,  3.10279434e-02,  4.56261229e-01,\n",
       "         6.65908156e-01, -7.55383047e-02,  7.47476777e-01,\n",
       "         6.00558200e-01,  1.07717385e+00, -1.21613299e+00,\n",
       "         6.22526040e-01, -4.05434939e-01, -2.96512674e-01,\n",
       "        -1.94799772e-01, -9.30003170e-02,  1.77442592e-01,\n",
       "        -2.75764459e-01,  9.93345595e-02,  4.59058357e-01,\n",
       "        -3.35774350e-01,  3.81696327e-02, -2.70495070e-01,\n",
       "        -4.59526477e-01, -1.45061795e+00,  2.54745579e-01,\n",
       "        -5.01555875e-01, -6.49922626e-02, -4.23064140e-01,\n",
       "        -5.99604739e-01, -1.03220960e+00, -3.00212831e-01,\n",
       "         9.87573795e-02,  9.07316596e-02,  5.03555409e-01,\n",
       "        -6.92293312e-01, -3.89057317e-01,  3.74584545e-01,\n",
       "        -8.44145856e-02, -9.97232933e-01, -1.64960696e-01,\n",
       "        -4.13186342e-01,  9.79385862e-02, -7.98000214e-01,\n",
       "         5.79536385e-02, -1.95868263e-01, -9.66207785e-01,\n",
       "        -1.82868360e-01,  6.59866723e-01, -1.84760774e+00,\n",
       "         9.56265794e-01, -6.37378403e-01, -3.79647540e-01,\n",
       "         9.16299630e-02],\n",
       "       [-5.05752033e-02, -2.83647694e-02,  1.43040964e-01,\n",
       "        -6.57444292e-02, -5.53201937e-02, -2.20658697e-02,\n",
       "        -3.47592240e-03,  5.25204533e-03,  4.11344066e-02,\n",
       "        -2.01593110e-03, -4.66898140e-03, -3.22734907e-02,\n",
       "        -1.19637126e-01,  2.17629990e-02,  4.16325986e-02,\n",
       "         7.62515826e-02,  1.64785421e-01,  5.12251875e-02,\n",
       "         1.23025878e-01, -1.05196476e-03, -9.95230141e-02,\n",
       "        -5.29329939e-02,  2.68248913e-03,  1.13615675e-01,\n",
       "        -2.28438283e-02,  1.46349801e-01, -1.41310263e-01,\n",
       "        -1.18494444e-01, -1.55074163e-01,  7.50254334e-03,\n",
       "        -5.61280621e-02, -2.10809829e-01, -2.32223602e-02,\n",
       "         1.07175537e-01,  2.73972175e-01,  5.54745585e-02,\n",
       "         6.57324290e-02, -1.32765760e-01,  2.30305883e-02,\n",
       "        -6.93116598e-02, -1.16349554e-01, -1.28761724e-01,\n",
       "         1.21821381e-01,  1.41737325e-01,  7.20125405e-02,\n",
       "        -3.02796735e-02,  8.58772962e-02, -1.48907825e-01,\n",
       "         4.35102589e-02, -5.93451715e-03, -8.72661799e-02,\n",
       "        -1.27364013e-01,  1.44477305e-02, -1.42965124e-01,\n",
       "        -1.14864943e-01, -2.06024182e-01,  2.32602013e-01,\n",
       "        -1.19066592e-01,  7.75449590e-02,  5.67120910e-02,\n",
       "         3.72581119e-02,  1.77875784e-02, -3.39383148e-02,\n",
       "         5.27437121e-02, -1.89990887e-02, -8.78011687e-02,\n",
       "         6.42214218e-02, -7.30046260e-03,  5.17358696e-02,\n",
       "         8.78907032e-02,  2.77450458e-01, -4.87235647e-02,\n",
       "         9.59293984e-02,  1.24306562e-02,  8.09167841e-02,\n",
       "         1.14682580e-01,  1.97424158e-01,  5.74197965e-02,\n",
       "        -1.88886951e-02, -1.73536668e-02, -9.63118366e-02,\n",
       "         1.32410533e-01,  7.44125156e-02, -7.16444007e-02,\n",
       "         1.61454403e-02,  1.90734393e-01,  3.15509819e-02,\n",
       "         7.90275205e-02, -1.87320897e-02,  1.52628420e-01,\n",
       "        -1.10844234e-02,  3.74624754e-02,  1.84800410e-01,\n",
       "         3.49760668e-02, -1.26208506e-01,  3.53380168e-01,\n",
       "        -1.82898869e-01,  1.21907308e-01,  7.26127675e-02,\n",
       "        -1.75254795e-02],\n",
       "       [-3.53500735e-01, -1.98258557e-01,  9.99799953e-01,\n",
       "        -4.59527645e-01, -3.86666348e-01, -1.54231731e-01,\n",
       "        -2.42953274e-02,  3.67097266e-02,  2.87513288e-01,\n",
       "        -1.40905637e-02, -3.26343396e-02, -2.25578979e-01,\n",
       "        -8.36216353e-01,  1.52114784e-01,  2.90995454e-01,\n",
       "         5.32968506e-01,  1.15178514e+00,  3.58043869e-01,\n",
       "         8.59902390e-01, -7.35281903e-03, -6.95626639e-01,\n",
       "        -3.69980762e-01,  1.87495416e-02,  7.94128786e-01,\n",
       "        -1.59669355e-01,  1.02292742e+00, -9.87703035e-01,\n",
       "        -8.28229452e-01, -1.08390727e+00,  5.24398206e-02,\n",
       "        -3.92313029e-01, -1.47347760e+00, -1.62315144e-01,\n",
       "         7.49114758e-01,  1.91495751e+00,  3.87745297e-01,\n",
       "         4.59443768e-01, -9.27980329e-01,  1.60974734e-01,\n",
       "        -4.84461181e-01, -8.13237518e-01, -8.99993694e-01,\n",
       "         8.51483435e-01,  9.90688033e-01,  5.03339272e-01,\n",
       "        -2.11642982e-01,  6.00248449e-01, -1.04080700e+00,\n",
       "         3.04119559e-01, -4.14799356e-02, -6.09956199e-01,\n",
       "        -8.90224245e-01,  1.00983941e-01, -9.99269859e-01,\n",
       "        -8.02860672e-01, -1.44002782e+00,  1.62579638e+00,\n",
       "        -8.32228542e-01,  5.42008697e-01,  3.96395161e-01,\n",
       "         2.60419516e-01,  1.24328162e-01, -2.37215442e-01,\n",
       "         3.68657757e-01, -1.32796141e-01, -6.13695560e-01,\n",
       "         4.48882424e-01, -5.10273559e-02,  3.61613335e-01,\n",
       "         6.14321371e-01,  1.93926933e+00, -3.40558512e-01,\n",
       "         6.70508681e-01,  8.68853870e-02,  5.65576425e-01,\n",
       "         8.01586031e-01,  1.37991704e+00,  4.01341744e-01,\n",
       "        -1.32024533e-01, -1.21295290e-01, -6.73181774e-01,\n",
       "         9.25497435e-01,  5.20114152e-01, -5.00766120e-01,\n",
       "         1.12850263e-01,  1.33315822e+00,  2.20528927e-01,\n",
       "         5.52371217e-01, -1.30929923e-01,  1.06681249e+00,\n",
       "        -7.74757504e-02,  2.61847936e-01,  1.29168202e+00,\n",
       "         2.44468920e-01, -8.82147709e-01,  2.46998808e+00,\n",
       "        -1.27839100e+00,  8.52084032e-01,  5.07534622e-01,\n",
       "        -1.22496194e-01],\n",
       "       [ 1.11929640e-01,  6.27750008e-02, -3.16568645e-01,\n",
       "         1.45501151e-01,  1.22430934e-01,  4.88346994e-02,\n",
       "         7.69267779e-03, -1.16234737e-02, -9.10359035e-02,\n",
       "         4.46152318e-03,  1.03330758e-02,  7.14255202e-02,\n",
       "         2.64772845e-01, -4.81644063e-02, -9.21384686e-02,\n",
       "        -1.68754877e-01, -3.64692016e-01, -1.13368141e-01,\n",
       "        -2.72272602e-01,  2.32813770e-03,  2.20257644e-01,\n",
       "         1.17147744e-01, -5.93670461e-03, -2.51446575e-01,\n",
       "         5.05564252e-02, -3.23891542e-01,  3.12738374e-01,\n",
       "         2.62243937e-01,  3.43199713e-01, -1.66041246e-02,\n",
       "         1.24218854e-01,  4.66550141e-01,  5.13941666e-02,\n",
       "        -2.37193694e-01, -6.06336799e-01, -1.22772564e-01,\n",
       "        -1.45474593e-01,  2.93828255e-01, -5.09697498e-02,\n",
       "         1.53395906e-01,  2.57497011e-01,  2.84966791e-01,\n",
       "        -2.69606892e-01, -3.13683520e-01, -1.59373314e-01,\n",
       "         6.70129379e-02, -1.90057859e-01,  3.29552788e-01,\n",
       "        -9.62939801e-02,  1.31338744e-02,  1.93131643e-01,\n",
       "         2.81873471e-01, -3.19747460e-02,  3.16400801e-01,\n",
       "         2.54211370e-01,  4.55958871e-01, -5.14779138e-01,\n",
       "         2.63510177e-01, -1.71617290e-01, -1.25511387e-01,\n",
       "        -8.24571486e-02, -3.93662728e-02,  7.51099968e-02,\n",
       "        -1.16728838e-01,  4.20475058e-02,  1.94315644e-01,\n",
       "        -1.42130534e-01,  1.61568931e-02, -1.14498349e-01,\n",
       "        -1.94513796e-01, -6.14034702e-01,  1.07831718e-01,\n",
       "        -2.12304496e-01, -2.75106927e-02, -1.79079587e-01,\n",
       "        -2.53807777e-01, -4.36925874e-01, -1.27077634e-01,\n",
       "         4.18031903e-02,  3.84059687e-02,  2.13150882e-01,\n",
       "        -2.93042092e-01, -1.64684777e-01,  1.58558571e-01,\n",
       "        -3.57320030e-02, -4.22120537e-01, -6.98265121e-02,\n",
       "        -1.74898396e-01,  4.14566018e-02, -3.37786958e-01,\n",
       "         2.45313008e-02, -8.29094323e-02, -4.08987845e-01,\n",
       "        -7.74066797e-02,  2.79316182e-01, -7.82077233e-01,\n",
       "         4.04779482e-01, -2.69797060e-01, -1.60701696e-01,\n",
       "         3.87862132e-02],\n",
       "       [ 3.16760254e-01,  1.77652900e-01, -8.95887491e-01,\n",
       "         4.11767442e-01,  3.46478856e-01,  1.38201925e-01,\n",
       "         2.17702350e-02, -3.28943653e-02, -2.57631096e-01,\n",
       "         1.26260856e-02,  2.92425465e-02,  2.02133821e-01,\n",
       "         7.49305667e-01, -1.36305000e-01, -2.60751349e-01,\n",
       "        -4.77575355e-01, -1.03207636e+00, -3.20831205e-01,\n",
       "        -7.70529937e-01,  6.58861662e-03,  6.23327899e-01,\n",
       "         3.31527458e-01, -1.68008408e-02, -7.11592397e-01,\n",
       "         1.43074400e-01, -9.16611247e-01,  8.85047845e-01,\n",
       "         7.42148870e-01,  9.71253264e-01, -4.69895794e-02,\n",
       "         3.51538660e-01,  1.32033428e+00,  1.45445203e-01,\n",
       "        -6.71256823e-01, -1.71592974e+00, -3.47445667e-01,\n",
       "        -4.11692282e-01,  8.31532314e-01, -1.44244106e-01,\n",
       "         4.34109554e-01,  7.28715097e-01,  8.06454421e-01,\n",
       "        -7.62985991e-01, -8.87722603e-01, -4.51025584e-01,\n",
       "         1.89646238e-01, -5.37862675e-01,  9.32632541e-01,\n",
       "        -2.72511424e-01,  3.71687910e-02,  5.46561467e-01,\n",
       "         7.97700342e-01, -9.04883518e-02,  8.95412491e-01,\n",
       "         7.19416750e-01,  1.29036105e+00, -1.45682207e+00,\n",
       "         7.45732322e-01, -4.85675969e-01, -3.55196522e-01,\n",
       "        -2.33353268e-01, -1.11406331e-01,  2.12560870e-01,\n",
       "        -3.30341957e-01,  1.18994206e-01,  5.49912184e-01,\n",
       "        -4.02228613e-01,  4.57239167e-02, -3.24029685e-01,\n",
       "        -5.50472952e-01, -1.73771476e+00,  3.05163157e-01,\n",
       "        -6.00820532e-01, -7.78551060e-02, -5.06794227e-01,\n",
       "        -7.18274586e-01, -1.23649777e+00, -3.59628991e-01,\n",
       "         1.18302794e-01,  1.08688676e-01,  6.03215802e-01,\n",
       "        -8.29307475e-01, -4.66056996e-01,  4.48719868e-01,\n",
       "        -1.01121368e-01, -1.19459875e+00, -1.97608638e-01,\n",
       "        -4.94961479e-01,  1.17321950e-01, -9.55935196e-01,\n",
       "         6.94234435e-02, -2.34633228e-01, -1.15743331e+00,\n",
       "        -2.19060469e-01,  7.90463228e-01, -2.21327418e+00,\n",
       "         1.14552366e+00, -7.63524166e-01, -4.54784898e-01,\n",
       "         1.09764766e-01],\n",
       "       [-1.54379761e-01, -8.65828715e-02,  4.36629581e-01,\n",
       "        -2.00683509e-01, -1.68863746e-01, -6.73556104e-02,\n",
       "        -1.06101812e-02,  1.60317597e-02,  1.25561925e-01,\n",
       "        -6.15358795e-03, -1.42519691e-02, -9.85141625e-02,\n",
       "        -3.65189851e-01,  6.64311039e-02,  1.27082646e-01,\n",
       "         2.32756378e-01,  5.03004087e-01,  1.56363825e-01,\n",
       "         3.75533945e-01, -3.21110066e-03, -3.03791941e-01,\n",
       "        -1.61576868e-01,  8.18824254e-03,  3.46809498e-01,\n",
       "        -6.97303132e-02,  4.46729739e-01, -4.31346652e-01,\n",
       "        -3.61701836e-01, -4.73360674e-01,  2.29013583e-02,\n",
       "        -1.71329748e-01, -6.43492638e-01, -7.08857739e-02,\n",
       "         3.27151109e-01,  8.36294392e-01,  1.69334942e-01,\n",
       "         2.00646879e-01, -4.05264735e-01,  7.03003940e-02,\n",
       "        -2.11572407e-01, -3.55154605e-01, -3.93042497e-01,\n",
       "         3.71857245e-01,  4.32650252e-01,  2.19816789e-01,\n",
       "        -9.24280766e-02,  2.62138669e-01, -4.54538053e-01,\n",
       "         1.32814165e-01, -1.81149908e-02, -2.66378208e-01,\n",
       "        -3.88776013e-01,  4.41013984e-02, -4.36398080e-01,\n",
       "        -3.50622860e-01, -6.28884553e-01,  7.10012829e-01,\n",
       "        -3.63448307e-01,  2.36704382e-01,  1.73112484e-01,\n",
       "         1.13729615e-01,  5.42962150e-02, -1.03596003e-01,\n",
       "         1.60999089e-01, -5.79943249e-02, -2.68011250e-01,\n",
       "         1.96034561e-01, -2.22845110e-02,  1.57922671e-01,\n",
       "         2.68284552e-01,  8.46911780e-01, -1.48727673e-01,\n",
       "         2.92822503e-01,  3.79443208e-02,  2.46996809e-01,\n",
       "         3.50066203e-01,  6.02633155e-01,  1.75272740e-01,\n",
       "        -5.76573509e-02, -5.29717086e-02, -2.93989888e-01,\n",
       "         4.04180413e-01,  2.27142664e-01, -2.18693050e-01,\n",
       "         4.92836222e-02,  5.82212787e-01,  9.63087192e-02,\n",
       "         2.41229871e-01, -5.71793162e-02,  4.65895091e-01,\n",
       "        -3.38349730e-02,  1.14353431e-01,  5.64099428e-01,\n",
       "         1.06763720e-01, -3.85248853e-01,  1.07868565e+00,\n",
       "        -5.58295012e-01,  3.72119536e-01,  2.21648970e-01,\n",
       "        -5.34961636e-02],\n",
       "       [-2.02926677e-01, -1.13810089e-01,  5.73933974e-01,\n",
       "        -2.63791298e-01, -2.21965357e-01, -8.85365418e-02,\n",
       "        -1.39467038e-02,  2.10731749e-02,  1.65046661e-01,\n",
       "        -8.08867135e-03, -1.87337038e-02, -1.29493345e-01,\n",
       "        -4.80029004e-01,  8.73213110e-02,  1.67045594e-01,\n",
       "         3.05949937e-01,  6.61180889e-01,  2.05534657e-01,\n",
       "         4.93625945e-01, -4.22087702e-03, -3.99323645e-01,\n",
       "        -2.12387017e-01,  1.07631521e-02,  4.55868686e-01,\n",
       "        -9.16580037e-02,  5.87210270e-01, -5.66989753e-01,\n",
       "        -4.75444132e-01, -6.22215682e-01,  3.01030167e-02,\n",
       "        -2.25206828e-01, -8.45848067e-01, -9.31768156e-02,\n",
       "         4.30028436e-01,  1.09927908e+00,  2.22584727e-01,\n",
       "         2.63743149e-01, -5.32706005e-01,  9.24073546e-02,\n",
       "        -2.78104365e-01, -4.66838030e-01, -5.16640310e-01,\n",
       "         4.88793054e-01,  5.68703288e-01,  2.88941311e-01,\n",
       "        -1.21493402e-01,  3.44571909e-01, -5.97474020e-01,\n",
       "         1.74579471e-01, -2.38115077e-02, -3.50144631e-01,\n",
       "        -5.11032169e-01,  5.79697115e-02, -5.73629675e-01,\n",
       "        -4.60881214e-01, -8.26646261e-01,  9.33286480e-01,\n",
       "        -4.77739805e-01,  3.11139448e-01,  2.27550171e-01,\n",
       "         1.49493513e-01,  7.13704334e-02, -1.36173243e-01,\n",
       "         2.11627547e-01, -7.62314667e-02, -3.52291207e-01,\n",
       "         2.57680422e-01, -2.92921930e-02,  2.07583705e-01,\n",
       "         3.52650453e-01,  1.11323526e+00, -1.95497209e-01,\n",
       "         3.84904711e-01,  4.98764531e-02,  3.24668474e-01,\n",
       "         4.60149508e-01,  7.92139737e-01,  2.30389751e-01,\n",
       "        -7.57885264e-02, -6.96294172e-02, -3.86439197e-01,\n",
       "         5.31280703e-01,  2.98570911e-01, -2.87464196e-01,\n",
       "         6.47815594e-02,  7.65297893e-01,  1.26594368e-01,\n",
       "         3.17088041e-01, -7.51601669e-02,  6.12402441e-01,\n",
       "        -4.44748624e-02,  1.50313497e-01,  7.41488530e-01,\n",
       "         1.40337093e-01, -5.06395844e-01,  1.41789372e+00,\n",
       "        -7.33858834e-01,  4.89137826e-01,  2.91349647e-01,\n",
       "        -7.03187944e-02],\n",
       "       [ 5.67585995e-02,  3.18326864e-02, -1.60529355e-01,\n",
       "         7.37824365e-02,  6.20837192e-02,  2.47636742e-02,\n",
       "         3.90089361e-03, -5.89416785e-03, -4.61635576e-02,\n",
       "         2.26240169e-03,  5.23981770e-03,  3.62192935e-02,\n",
       "         1.34264131e-01, -2.44237741e-02, -4.67226592e-02,\n",
       "        -8.55742094e-02, -1.84932321e-01, -5.74880517e-02,\n",
       "        -1.38067196e-01,  1.18057947e-03,  1.11690839e-01,\n",
       "         5.94046569e-02, -3.01045406e-03, -1.27506489e-01,\n",
       "         2.56367472e-02, -1.64242736e-01,  1.58587056e-01,\n",
       "         1.32981742e-01,  1.74033751e-01, -8.41981494e-03,\n",
       "         6.29903586e-02,  2.36583738e-01,  2.60615590e-02,\n",
       "        -1.20278970e-01, -3.07468402e-01, -6.22569568e-02,\n",
       "        -7.37689691e-02,  1.48997890e-01, -2.58463407e-02,\n",
       "         7.77858017e-02,  1.30574615e-01,  1.44504315e-01,\n",
       "        -1.36715436e-01, -1.59066332e-01, -8.08168960e-02,\n",
       "         3.39817094e-02, -9.63767764e-02,  1.67113507e-01,\n",
       "        -4.88298849e-02,  6.66007965e-03,  9.79354670e-02,\n",
       "         1.42935718e-01, -1.62141306e-02,  1.60444243e-01,\n",
       "         1.28908494e-01,  2.31212992e-01, -2.61040265e-01,\n",
       "         1.33623842e-01, -8.70257158e-02, -6.36457918e-02,\n",
       "        -4.18133416e-02, -1.99623130e-02,  3.80876613e-02,\n",
       "        -5.91922332e-02,  2.13219442e-02,  9.85358643e-02,\n",
       "        -7.20732240e-02,  8.19302752e-03, -5.80611705e-02,\n",
       "        -9.86363454e-02, -3.11371945e-01,  5.46805770e-02,\n",
       "        -1.07657863e-01, -1.39504459e-02, -9.08097850e-02,\n",
       "        -1.28703835e-01, -2.21561516e-01, -6.44400224e-02,\n",
       "         2.11980538e-02,  1.94753507e-02,  1.08087059e-01,\n",
       "        -1.48599233e-01, -8.35102954e-02,  8.04037469e-02,\n",
       "        -1.81194047e-02, -2.14053851e-01, -3.54084497e-02,\n",
       "        -8.86895374e-02,  2.10223016e-02, -1.71288987e-01,\n",
       "         1.24396208e-02, -4.20426909e-02, -2.07394371e-01,\n",
       "        -3.92522903e-02,  1.41638937e-01, -3.96584929e-01,\n",
       "         2.05260345e-01, -1.36811869e-01, -8.14905076e-02,\n",
       "         1.96681696e-02],\n",
       "       [ 3.73777327e-01,  2.09630550e-01, -1.05714788e+00,\n",
       "         4.85885877e-01,  4.08845300e-01,  1.63078371e-01,\n",
       "         2.56888930e-02, -3.88153747e-02, -3.04004879e-01,\n",
       "         1.48987901e-02,  3.45062259e-02,  2.38518055e-01,\n",
       "         8.84181226e-01, -1.60839998e-01, -3.07686780e-01,\n",
       "        -5.63539262e-01, -1.21785085e+00, -3.78581052e-01,\n",
       "        -9.09225880e-01,  7.77457236e-03,  7.35527369e-01,\n",
       "         3.91202639e-01, -1.98250042e-02, -8.39679541e-01,\n",
       "         1.68827895e-01, -1.08160193e+00,  1.04435709e+00,\n",
       "         8.75736201e-01,  1.14607955e+00, -5.54477375e-02,\n",
       "         4.14815871e-01,  1.55799540e+00,  1.71625444e-01,\n",
       "        -7.92083535e-01, -2.02479833e+00, -4.09986137e-01,\n",
       "        -4.85797189e-01,  9.81208729e-01, -1.70208149e-01,\n",
       "         5.12249586e-01,  8.59884338e-01,  9.51616797e-01,\n",
       "        -9.00324019e-01, -1.04751331e+00, -5.32210514e-01,\n",
       "         2.23782698e-01, -6.34678344e-01,  1.10050707e+00,\n",
       "        -3.21563676e-01,  4.38592001e-02,  6.44942924e-01,\n",
       "         9.41286978e-01, -1.06776320e-01,  1.05658738e+00,\n",
       "         8.48912283e-01,  1.52262696e+00, -1.71905110e+00,\n",
       "         8.79964677e-01, -5.73097994e-01, -4.19132152e-01,\n",
       "        -2.75357024e-01, -1.31459551e-01,  2.50821979e-01,\n",
       "        -3.89803747e-01,  1.40413248e-01,  6.48896772e-01,\n",
       "        -4.74630053e-01,  5.39542547e-02, -3.82355261e-01,\n",
       "        -6.49558479e-01, -2.05050467e+00,  3.60092745e-01,\n",
       "        -7.08968661e-01, -9.18690811e-02, -5.98017553e-01,\n",
       "        -8.47564529e-01, -1.45906826e+00, -4.24362468e-01,\n",
       "         1.39597382e-01,  1.28252716e-01,  7.11795080e-01,\n",
       "        -9.78583418e-01, -5.49947591e-01,  5.29489767e-01,\n",
       "        -1.19323287e-01, -1.40962739e+00, -2.33178335e-01,\n",
       "        -5.84054902e-01,  1.38439986e-01, -1.12800422e+00,\n",
       "         8.19197133e-02, -2.76867378e-01, -1.36577214e+00,\n",
       "        -2.58491512e-01,  9.32747177e-01, -2.61166513e+00,\n",
       "         1.35171875e+00, -9.00959066e-01, -5.36646507e-01,\n",
       "         1.29522503e-01],\n",
       "       [ 4.77635520e-01,  2.67878733e-01, -1.35088820e+00,\n",
       "         6.20894680e-01,  5.22447520e-01,  2.08391513e-01,\n",
       "         3.28268380e-02, -4.96006589e-02, -3.88476021e-01,\n",
       "         1.90385848e-02,  4.40941650e-02,  3.04792953e-01,\n",
       "         1.12986083e+00, -2.05531182e-01, -3.93180978e-01,\n",
       "        -7.20124923e-01, -1.55624427e+00, -4.83774014e-01,\n",
       "        -1.16186442e+00,  9.93482387e-03,  9.39901840e-01,\n",
       "         4.99902649e-01, -2.53336024e-02, -1.07299385e+00,\n",
       "         2.15738606e-01, -1.38213707e+00,  1.33454334e+00,\n",
       "         1.11906926e+00,  1.46453052e+00, -7.08545089e-02,\n",
       "         5.30077081e-01,  1.99090178e+00,  2.19313486e-01,\n",
       "        -1.01217277e+00, -2.58741110e+00, -5.23905351e-01,\n",
       "        -6.20781349e-01,  1.25384850e+00, -2.17502379e-01,\n",
       "         6.54583839e-01,  1.09881278e+00,  1.21603412e+00,\n",
       "        -1.15048907e+00, -1.33857655e+00, -6.80091132e-01,\n",
       "         2.85963213e-01, -8.11030790e-01,  1.40629522e+00,\n",
       "        -4.10913725e-01,  5.60459673e-02,  8.24147498e-01,\n",
       "         1.20283405e+00, -1.36445310e-01,  1.35017196e+00,\n",
       "         1.08479202e+00,  1.94570582e+00, -2.19670859e+00,\n",
       "         1.12447266e+00, -7.32339654e-01, -5.35592688e-01,\n",
       "        -3.51868040e-01, -1.67987051e-01,  3.20515659e-01,\n",
       "        -4.98115059e-01,  1.79428633e-01,  8.29199968e-01,\n",
       "        -6.06511299e-01,  6.89460452e-02, -4.88596929e-01,\n",
       "        -8.30045537e-01, -2.62026023e+00,  4.60148525e-01,\n",
       "        -9.05963499e-01, -1.17395928e-01, -7.64183390e-01,\n",
       "        -1.08306977e+00, -1.86448663e+00, -5.42276306e-01,\n",
       "         1.78386069e-01,  1.63889162e-01,  9.09575270e-01,\n",
       "        -1.25049372e+00, -7.02756654e-01,  6.76614396e-01,\n",
       "        -1.52478591e-01, -1.80130806e+00, -2.97969532e-01,\n",
       "        -7.46341061e-01,  1.76907078e-01, -1.44143275e+00,\n",
       "         1.04682018e-01, -3.53798063e-01, -1.74526714e+00,\n",
       "        -3.30316257e-01,  1.19192137e+00, -3.33734537e+00,\n",
       "         1.72730886e+00, -1.15130058e+00, -6.85759715e-01,\n",
       "         1.65511773e-01]])"
      ]
     },
     "execution_count": 63,
     "metadata": {},
     "output_type": "execute_result"
    }
   ],
   "source": [
    "peer_factors"
   ]
  },
  {
   "cell_type": "code",
   "execution_count": 57,
   "metadata": {},
   "outputs": [
    {
     "data": {
      "text/plain": [
       "array([[-0.99379501,  0.50849048, -1.76186892, ...,  0.64696073,\n",
       "        -0.40052636, -0.43663442],\n",
       "       [-0.04480621,  3.43803161, -1.79801102, ..., -0.24664918,\n",
       "         0.72689315,  2.09056617],\n",
       "       [ 2.89692773, -7.56046911,  1.77497484, ..., -4.01277805,\n",
       "        -2.29706696, -0.31906049],\n",
       "       ...,\n",
       "       [-0.60385619,  1.62098245, -0.06657476, ...,  0.90656377,\n",
       "         0.65779467,  0.48011252],\n",
       "       [-0.14630976,  1.34903897, -1.82330604, ..., -0.5959519 ,\n",
       "        -0.2057498 ,  0.77838055],\n",
       "       [-0.88888282, -1.67713482,  0.68832319, ..., -3.38896158,\n",
       "        -0.81840883, -0.92850456]])"
      ]
     },
     "execution_count": 57,
     "metadata": {},
     "output_type": "execute_result"
    }
   ],
   "source": [
    "np.dot(factor_level, factor_weight)"
   ]
  },
  {
   "cell_type": "code",
   "execution_count": null,
   "metadata": {},
   "outputs": [],
   "source": []
  }
 ],
 "metadata": {
  "kernelspec": {
   "display_name": "Python (python3.6)",
   "language": "python",
   "name": "python3.6"
  },
  "language_info": {
   "codemirror_mode": {
    "name": "ipython",
    "version": 3
   },
   "file_extension": ".py",
   "mimetype": "text/x-python",
   "name": "python",
   "nbconvert_exporter": "python",
   "pygments_lexer": "ipython3",
   "version": "3.6.7"
  }
 },
 "nbformat": 4,
 "nbformat_minor": 4
}

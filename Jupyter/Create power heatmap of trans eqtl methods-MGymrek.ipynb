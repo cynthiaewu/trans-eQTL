{
 "cells": [
  {
   "cell_type": "code",
   "execution_count": 1,
   "metadata": {},
   "outputs": [
    {
     "name": "stdout",
     "output_type": "stream",
     "text": [
      "Populating the interactive namespace from numpy and matplotlib\n"
     ]
    }
   ],
   "source": [
    "%pylab inline\n",
    "\n",
    "import pandas as pd\n",
    "import numpy as np\n",
    "import seaborn as sns\n",
    "import matplotlib.pyplot as plt"
   ]
  },
  {
   "cell_type": "code",
   "execution_count": 11,
   "metadata": {},
   "outputs": [],
   "source": [
    "# Params and paths\n",
    "\n",
    "targets = [ 0, 5, 15, 20, 30, 40, 60, 80, 100, 150, 200, 250, 300, 350, 400, 450, 500, 700, 1000, 2000, 3000, 4000, 5000, 6000, 7000, 8000, 9000, 10000, 11000, 12000, 13000, 14000, 15000]\n",
    "beta_values = [0, 0.01, 0.02, 0.03, 0.04, 0.05, 0.1, 0.2, 0.3, 0.4, 0.5, 1]\n",
    "\n",
    "sample_size = 100"
   ]
  },
  {
   "cell_type": "code",
   "execution_count": 12,
   "metadata": {},
   "outputs": [],
   "source": [
    "def get_power(targets, beta_values, fname, sample_size, label_name):\n",
    "    power = []\n",
    "    all_powers = []\n",
    "    for beta in beta_values:\n",
    "        for tar in targets:   \n",
    "            value = str(beta).replace(\".\",\"\")\n",
    "            path = f'/gymreklab-tscc/cynthiawu/Test_nullsnps/simulate_eqtls_only/FastMultivariate/Single_eqtl/SampleSize{sample_size}/SingleParameter/numTarget_{tar}/Beta_{value}/{fname}'\n",
    "            cur_file = pd.read_csv(path, sep='\\t')\n",
    "            power.append(float(cur_file['power']))\n",
    "        all_powers.append(power)\n",
    "        power = []\n",
    "    power_df = pd.DataFrame(all_powers, columns=targets, index=beta_values)\n",
    "    return power_df\n",
    "\n",
    "power_cpma_df = get_power(targets, beta_values, 'power_cpmax_1.0.txt', sample_size, 'CPMA_x 1.0 beta_value')\n",
    "#power_pairwise_df = get_power(targets, beta_values, 'power.txt', sample_size, 'Pairwise') #?\n",
    "power_mixture_df = get_power(targets, beta_values, 'power_mixtureModel.txt', sample_size, 'mixtureModel beta_value')"
   ]
  },
  {
   "cell_type": "code",
   "execution_count": 37,
   "metadata": {},
   "outputs": [
    {
     "data": {
      "text/plain": [
       "0.030000000000000027"
      ]
     },
     "execution_count": 37,
     "metadata": {},
     "output_type": "execute_result"
    }
   ],
   "source": [
    "np.matrix(power_cpma_df)[0,0]"
   ]
  },
  {
   "cell_type": "code",
   "execution_count": 73,
   "metadata": {},
   "outputs": [
    {
     "data": {
      "image/png": "[encoded data removed]",
      "text/plain": [
       "<Figure size 720x360 with 1 Axes>"
      ]
     },
     "metadata": {
      "needs_background": "light"
     },
     "output_type": "display_data"
    }
   ],
   "source": [
    "# Set up heatmap plotting\n",
    "\n",
    "def power_plot(power_dfs_dict, targets, beta_values):\n",
    "\n",
    "    # First plot power\n",
    "    size_scale = 1\n",
    "    fig = plt.figure()\n",
    "    fig.set_size_inches((10, 5))\n",
    "    \n",
    "    ax1 = fig.add_subplot(111)\n",
    "    size = 150\n",
    "    for xval in range(len(targets)):\n",
    "        for yval in range(len(beta_values)):\n",
    "            color = \"gray\"\n",
    "            best_power = 0\n",
    "            for method in power_dfs_dict.keys():\n",
    "                power = power_dfs_dict[method][\"power\"][yval, xval]\n",
    "                if power > best_power:\n",
    "                    best_power = power\n",
    "                    color = power_dfs_dict[method][\"color\"]\n",
    "            ax1.scatter([xval], [yval], marker='s', \n",
    "                      s=size*best_power, c=color)\n",
    "    ax1.set_xticks(range(len(targets)))\n",
    "    ax1.set_xticklabels(targets, rotation=60)\n",
    "    ax1.set_yticks(range(len(beta_values)))\n",
    "    ax1.set_yticklabels(beta_values)\n",
    "    ax1.set_xlabel(\"Number of target genes\", size=15)\n",
    "    ax1.set_ylabel(\"Beta\")\n",
    "    \n",
    "    ax1.spines['right'].set_visible(False)\n",
    "    ax1.spines['top'].set_visible(False)\n",
    "    ax1.yaxis.set_ticks_position('left')\n",
    "    ax1.xaxis.set_ticks_position('bottom')\n",
    "\n",
    "    # Draw a line marking off beta=0, these can be interpreted as FPR\n",
    "    ax1.axhline(y=0.5, color=\"gray\")\n",
    "    \n",
    "power_dfs_dict = {\n",
    "    \"CPMA\": {\"power\": np.matrix(power_cpma_df), \"color\": \"purple\"},\n",
    "    \"Mixture\": {\"power\": np.matrix(power_mixture_df), \"color\": \"cyan\"}\n",
    "}\n",
    "\n",
    "power_plot(power_dfs_dict, targets, beta_values)"
   ]
  }
 ],
 "metadata": {
  "kernelspec": {
   "display_name": "Python 3",
   "language": "python",
   "name": "python3"
  },
  "language_info": {
   "codemirror_mode": {
    "name": "ipython",
    "version": 3
   },
   "file_extension": ".py",
   "mimetype": "text/x-python",
   "name": "python",
   "nbconvert_exporter": "python",
   "pygments_lexer": "ipython3",
   "version": "3.7.4"
  }
 },
 "nbformat": 4,
 "nbformat_minor": 4
}

{
 "cells": [
  {
   "cell_type": "code",
   "execution_count": 2,
   "metadata": {},
   "outputs": [],
   "source": [
    "import numpy as np"
   ]
  },
  {
   "cell_type": "code",
   "execution_count": null,
   "metadata": {},
   "outputs": [],
   "source": [
    "def generate_cov(num_genes):\n",
    "    matrix = np.random.uniform(0, 1, (num_genes, num_genes))\n",
    "    symm_matrix = (matrix + matrix.T)/2\n",
    "    np.fill_diagonal(symm_matrix, 1)\n",
    "    return symm_matrix"
   ]
  },
  {
   "cell_type": "code",
   "execution_count": 19,
   "metadata": {},
   "outputs": [],
   "source": [
    "matrix = np.zeros((10,10))"
   ]
  },
  {
   "cell_type": "code",
   "execution_count": 24,
   "metadata": {},
   "outputs": [],
   "source": [
    "matrix[0:3, 0:3] = 0.1"
   ]
  },
  {
   "cell_type": "code",
   "execution_count": 26,
   "metadata": {},
   "outputs": [],
   "source": [
    "matrix[3:6, 3:6] = 0.5"
   ]
  },
  {
   "cell_type": "code",
   "execution_count": 28,
   "metadata": {},
   "outputs": [],
   "source": [
    "matrix[6:10, 6:10] = -0.3"
   ]
  },
  {
   "cell_type": "code",
   "execution_count": 30,
   "metadata": {},
   "outputs": [
    {
     "data": {
      "text/plain": [
       "array([[ 1. ,  0.1,  0.1,  0. ,  0. ,  0. ,  0. ,  0. ,  0. ,  0. ],\n",
       "       [ 0.1,  1. ,  0.1,  0. ,  0. ,  0. ,  0. ,  0. ,  0. ,  0. ],\n",
       "       [ 0.1,  0.1,  1. ,  0. ,  0. ,  0. ,  0. ,  0. ,  0. ,  0. ],\n",
       "       [ 0. ,  0. ,  0. ,  1. ,  0.5,  0.5,  0. ,  0. ,  0. ,  0. ],\n",
       "       [ 0. ,  0. ,  0. ,  0.5,  1. ,  0.5,  0. ,  0. ,  0. ,  0. ],\n",
       "       [ 0. ,  0. ,  0. ,  0.5,  0.5,  1. ,  0. ,  0. ,  0. ,  0. ],\n",
       "       [ 0. ,  0. ,  0. ,  0. ,  0. ,  0. ,  1. , -0.3, -0.3, -0.3],\n",
       "       [ 0. ,  0. ,  0. ,  0. ,  0. ,  0. , -0.3,  1. , -0.3, -0.3],\n",
       "       [ 0. ,  0. ,  0. ,  0. ,  0. ,  0. , -0.3, -0.3,  1. , -0.3],\n",
       "       [ 0. ,  0. ,  0. ,  0. ,  0. ,  0. , -0.3, -0.3, -0.3,  1. ]])"
      ]
     },
     "execution_count": 30,
     "metadata": {},
     "output_type": "execute_result"
    }
   ],
   "source": [
    "np.fill_diagonal(matrix, 1)\n",
    "matrix"
   ]
  },
  {
   "cell_type": "code",
   "execution_count": 31,
   "metadata": {},
   "outputs": [],
   "source": [
    "matrix = np.zeros((15000,15000))"
   ]
  },
  {
   "cell_type": "code",
   "execution_count": 33,
   "metadata": {},
   "outputs": [],
   "source": [
    "matrix = np.zeros((15000,15000))\n",
    "matrix[0:100, 0:100] = 0.15\n",
    "matrix[100:1000, 100:1000] = 0.5\n",
    "matrix[1000:3000, 1000:3000] = -0.4\n",
    "matrix[3000:7000, 3000:7000] = -0.2\n",
    "matrix[7000:7800, 7000:7800] = 0.05\n",
    "matrix[7800:8000, 7800:8000] = 0.65\n",
    "matrix[8000:9000, 8000:9000] = 0.3\n",
    "matrix[9000:10000, 9000:10000] = -0.15\n",
    "matrix[10000:12000, 10000:12000] = 0.1\n",
    "matrix[12000:12500, 12000:12500] = -0.3\n",
    "np.fill_diagonal(matrix, 1)"
   ]
  },
  {
   "cell_type": "code",
   "execution_count": 34,
   "metadata": {},
   "outputs": [
    {
     "data": {
      "text/plain": [
       "array([[1.  , 0.15, 0.15, ..., 0.  , 0.  , 0.  ],\n",
       "       [0.15, 1.  , 0.15, ..., 0.  , 0.  , 0.  ],\n",
       "       [0.15, 0.15, 1.  , ..., 0.  , 0.  , 0.  ],\n",
       "       ...,\n",
       "       [0.  , 0.  , 0.  , ..., 1.  , 0.  , 0.  ],\n",
       "       [0.  , 0.  , 0.  , ..., 0.  , 1.  , 0.  ],\n",
       "       [0.  , 0.  , 0.  , ..., 0.  , 0.  , 1.  ]])"
      ]
     },
     "execution_count": 34,
     "metadata": {},
     "output_type": "execute_result"
    }
   ],
   "source": [
    "matrix"
   ]
  },
  {
   "cell_type": "code",
   "execution_count": 36,
   "metadata": {},
   "outputs": [],
   "source": [
    "np.savetxt(f'/storage/cynthiawu/trans_eQTL/Scripts/genecorrmodules_matrix', matrix)"
   ]
  },
  {
   "cell_type": "code",
   "execution_count": 78,
   "metadata": {},
   "outputs": [],
   "source": [
    "def create_gene_corr():\n",
    "    matrix = np.zeros((15000,15000))\n",
    "    matrix[0:100, 0:100] = 0.15\n",
    "    matrix[100:1000, 100:1000] = 0.5\n",
    "    matrix[1000:3000, 1000:3000] = -0.4\n",
    "    matrix[3000:7000, 3000:7000] = -0.2\n",
    "    matrix[7000:7800, 7000:7800] = 0.05\n",
    "    matrix[7800:8000, 7800:8000] = 0.65\n",
    "    matrix[8000:9000, 8000:9000] = 0.3\n",
    "    matrix[9000:10000, 9000:10000] = -0.15\n",
    "    matrix[10000:12000, 10000:12000] = 0.1\n",
    "    matrix[12000:12500, 12000:12500] = -0.3\n",
    "    np.fill_diagonal(matrix, 1)\n",
    "    return matrix"
   ]
  },
  {
   "cell_type": "code",
   "execution_count": 79,
   "metadata": {},
   "outputs": [],
   "source": [
    "test = create_gene_corr()"
   ]
  },
  {
   "cell_type": "code",
   "execution_count": 82,
   "metadata": {},
   "outputs": [
    {
     "data": {
      "text/plain": [
       "True"
      ]
     },
     "execution_count": 82,
     "metadata": {},
     "output_type": "execute_result"
    }
   ],
   "source": [
    "np.allclose(test, test.T, rtol=1e-05, atol=1e-08)"
   ]
  },
  {
   "cell_type": "code",
   "execution_count": 84,
   "metadata": {},
   "outputs": [
    {
     "data": {
      "text/plain": [
       "15000"
      ]
     },
     "execution_count": 84,
     "metadata": {},
     "output_type": "execute_result"
    }
   ],
   "source": [
    "np.linalg.matrix_rank(test)"
   ]
  },
  {
   "cell_type": "code",
   "execution_count": null,
   "metadata": {},
   "outputs": [],
   "source": []
  },
  {
   "cell_type": "code",
   "execution_count": 72,
   "metadata": {},
   "outputs": [
    {
     "data": {
      "text/plain": [
       "array([1.  , 0.15, 0.15, ..., 0.  , 0.  , 0.  ])"
      ]
     },
     "execution_count": 72,
     "metadata": {},
     "output_type": "execute_result"
    }
   ],
   "source": [
    "test[0]"
   ]
  },
  {
   "cell_type": "code",
   "execution_count": 73,
   "metadata": {},
   "outputs": [
    {
     "name": "stderr",
     "output_type": "stream",
     "text": [
      "/storage/cynthiawu/miniconda3/envs/python3.6/lib/python3.6/site-packages/ipykernel_launcher.py:1: RuntimeWarning: covariance is not symmetric positive-semidefinite.\n",
      "  \"\"\"Entry point for launching an IPython kernel.\n"
     ]
    }
   ],
   "source": [
    "cov = np.random.multivariate_normal(np.zeros(15000), test, size=100*100)"
   ]
  },
  {
   "cell_type": "code",
   "execution_count": 44,
   "metadata": {},
   "outputs": [],
   "source": [
    "samplesize=100\n",
    "iterations=100"
   ]
  },
  {
   "cell_type": "code",
   "execution_count": 45,
   "metadata": {},
   "outputs": [
    {
     "data": {
      "text/plain": [
       "10000"
      ]
     },
     "execution_count": 45,
     "metadata": {},
     "output_type": "execute_result"
    }
   ],
   "source": [
    "samplesize*iterations"
   ]
  },
  {
   "cell_type": "code",
   "execution_count": 49,
   "metadata": {},
   "outputs": [],
   "source": [
    "cor = np.zeros((100,15000))"
   ]
  },
  {
   "cell_type": "code",
   "execution_count": 52,
   "metadata": {},
   "outputs": [
    {
     "data": {
      "text/plain": [
       "(100, 15000)"
      ]
     },
     "execution_count": 52,
     "metadata": {},
     "output_type": "execute_result"
    }
   ],
   "source": [
    "cor.shape"
   ]
  },
  {
   "cell_type": "code",
   "execution_count": 48,
   "metadata": {},
   "outputs": [
    {
     "data": {
      "text/plain": [
       "(100, 15000)"
      ]
     },
     "execution_count": 48,
     "metadata": {},
     "output_type": "execute_result"
    }
   ],
   "source": [
    "cor[10*100:(10*100+100),].shape"
   ]
  },
  {
   "cell_type": "code",
   "execution_count": 54,
   "metadata": {},
   "outputs": [
    {
     "data": {
      "text/plain": [
       "array([[0., 0., 0., ..., 0., 0., 0.],\n",
       "       [0., 0., 0., ..., 0., 0., 0.],\n",
       "       [0., 0., 0., ..., 0., 0., 0.],\n",
       "       ...,\n",
       "       [0., 0., 0., ..., 0., 0., 0.],\n",
       "       [0., 0., 0., ..., 0., 0., 0.],\n",
       "       [0., 0., 0., ..., 0., 0., 0.]])"
      ]
     },
     "execution_count": 54,
     "metadata": {},
     "output_type": "execute_result"
    }
   ],
   "source": [
    "matrix[10*100:(10*100+100),]"
   ]
  },
  {
   "cell_type": "code",
   "execution_count": 55,
   "metadata": {},
   "outputs": [
    {
     "data": {
      "text/plain": [
       "array([[0., 0., 0., ..., 0., 0., 0.],\n",
       "       [0., 0., 0., ..., 0., 0., 0.],\n",
       "       [0., 0., 0., ..., 0., 0., 0.],\n",
       "       ...,\n",
       "       [0., 0., 0., ..., 0., 0., 0.],\n",
       "       [0., 0., 0., ..., 0., 0., 0.],\n",
       "       [0., 0., 0., ..., 0., 0., 0.]])"
      ]
     },
     "execution_count": 55,
     "metadata": {},
     "output_type": "execute_result"
    }
   ],
   "source": [
    "matrix[1*100:(10*100+100),]"
   ]
  },
  {
   "cell_type": "code",
   "execution_count": 56,
   "metadata": {},
   "outputs": [],
   "source": [
    "def create_gene_corr():\n",
    "    matrix = np.zeros((1000,1000))\n",
    "    matrix[0:100, 0:100] = 0.15\n",
    "    matrix[100:1000, 100:1000] = 0.5\n",
    "    np.fill_diagonal(matrix, 1)\n",
    "    return matrix"
   ]
  },
  {
   "cell_type": "code",
   "execution_count": 61,
   "metadata": {},
   "outputs": [],
   "source": [
    "test = create_gene_corr()\n",
    "cov = np.random.multivariate_normal(np.zeros(1000), test, size=200)"
   ]
  },
  {
   "cell_type": "code",
   "execution_count": 62,
   "metadata": {},
   "outputs": [
    {
     "data": {
      "text/plain": [
       "(200, 1000)"
      ]
     },
     "execution_count": 62,
     "metadata": {},
     "output_type": "execute_result"
    }
   ],
   "source": [
    "cov.shape"
   ]
  },
  {
   "cell_type": "code",
   "execution_count": 77,
   "metadata": {},
   "outputs": [
    {
     "name": "stdout",
     "output_type": "stream",
     "text": [
      "[[-0.24262657 -0.99074356  0.56970874 ... -0.29891633 -1.25867376\n",
      "  -0.53440049]\n",
      " [-0.96573481  0.57839786 -0.74472527 ...  1.23843268 -0.87788296\n",
      "   0.1045884 ]\n",
      " [-1.90087006 -0.54613431 -0.05335343 ...  1.35640028  0.09312283\n",
      "  -0.31542408]\n",
      " ...\n",
      " [-0.27052265  0.06823985 -0.84053754 ...  1.86745767  1.2537474\n",
      "   0.05421201]\n",
      " [-1.83047741 -0.30640172 -1.07743311 ... -2.36484959 -1.5413201\n",
      "  -1.10400848]\n",
      " [ 1.21473089  0.1714373  -0.14474669 ... -0.11280062  0.71997089\n",
      "  -2.5073498 ]]\n",
      "break\n",
      "[[-0.94328381 -1.08085853  0.38274138 ...  1.25560309  2.17654793\n",
      "   0.0258427 ]\n",
      " [-0.14218979  0.28020105  0.30597575 ... -0.95182948  2.15435637\n",
      "   0.95009919]\n",
      " [-2.26431884 -0.72096625  0.78267998 ... -0.34081787 -0.00852563\n",
      "   0.66003398]\n",
      " ...\n",
      " [ 0.60973335 -1.77458625  0.14894851 ...  0.28011042 -2.18726595\n",
      "  -0.01843938]\n",
      " [-1.34457858 -0.60918711 -1.8794642  ...  0.07607104  0.22022368\n",
      "  -0.6878344 ]\n",
      " [-0.13596114  0.57724323  0.51005654 ... -1.89806002 -0.04585801\n",
      "   1.5223763 ]]\n",
      "break\n"
     ]
    }
   ],
   "source": [
    "for i in range(2):\n",
    "    noise = cov[i*100:(i*100+100),]\n",
    "    print(noise)\n",
    "    \n",
    "    print('break')"
   ]
  },
  {
   "cell_type": "code",
   "execution_count": 75,
   "metadata": {},
   "outputs": [
    {
     "data": {
      "text/plain": [
       "(10000, 15000)"
      ]
     },
     "execution_count": 75,
     "metadata": {},
     "output_type": "execute_result"
    }
   ],
   "source": [
    "cov.shape"
   ]
  },
  {
   "cell_type": "code",
   "execution_count": 86,
   "metadata": {},
   "outputs": [],
   "source": [
    "realdatacov = np.loadtxt('/storage/cynthiawu/trans_eQTL/Nerve-Tibial/Run2_popPCs/gene-snp_eqtls_popPC_all_chr_cov.csv', delimiter='\\t', skiprows=1)"
   ]
  },
  {
   "cell_type": "code",
   "execution_count": null,
   "metadata": {},
   "outputs": [],
   "source": [
    "np.savetxt(f'/storage/cynthiawu/trans_eQTL/Scripts/genecorr_realdatacov', realdatacov[0:15000, 0:15000])"
   ]
  },
  {
   "cell_type": "code",
   "execution_count": 89,
   "metadata": {},
   "outputs": [
    {
     "data": {
      "text/plain": [
       "(15000, 15000)"
      ]
     },
     "execution_count": 89,
     "metadata": {},
     "output_type": "execute_result"
    }
   ],
   "source": [
    "realdatacov[0:15000, 0:15000].shape"
   ]
  },
  {
   "cell_type": "code",
   "execution_count": null,
   "metadata": {},
   "outputs": [],
   "source": [
    "col = ['Sample' + str(i) for i in range(sample_size)]"
   ]
  }
 ],
 "metadata": {
  "kernelspec": {
   "display_name": "Python (python3.6)",
   "language": "python",
   "name": "python3.6"
  },
  "language_info": {
   "codemirror_mode": {
    "name": "ipython",
    "version": 3
   },
   "file_extension": ".py",
   "mimetype": "text/x-python",
   "name": "python",
   "nbconvert_exporter": "python",
   "pygments_lexer": "ipython3",
   "version": "3.6.7"
  }
 },
 "nbformat": 4,
 "nbformat_minor": 4
}

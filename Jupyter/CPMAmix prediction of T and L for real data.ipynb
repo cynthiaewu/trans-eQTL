{
 "cells": [
  {
   "cell_type": "code",
   "execution_count": 4,
   "metadata": {},
   "outputs": [],
   "source": [
    "import pandas as pd\n",
    "import numpy as np\n",
    "import matplotlib.pyplot as plt\n"
   ]
  },
  {
   "cell_type": "code",
   "execution_count": 22,
   "metadata": {},
   "outputs": [],
   "source": [
    "chr1_data_cpma = pd.read_csv('/storage/cynthiawu/trans_eQTL/GTex.v8/Run2_031621/Nerve_Tibial/chr1/gene-snp_eqtls_cpma_chr1', sep='\\t')"
   ]
  },
  {
   "cell_type": "code",
   "execution_count": 2,
   "metadata": {},
   "outputs": [],
   "source": [
    "chr1_data = pd.read_csv('/storage/cynthiawu/trans_eQTL/GTex.v8/Run2_031621/Nerve_Tibial/chr1/gene-snp_eqtls_cpma-mix_chr1', sep='\\t')"
   ]
  },
  {
   "cell_type": "code",
   "execution_count": 3,
   "metadata": {},
   "outputs": [
    {
     "data": {
      "text/html": [
       "<div>\n",
       "<style scoped>\n",
       "    .dataframe tbody tr th:only-of-type {\n",
       "        vertical-align: middle;\n",
       "    }\n",
       "\n",
       "    .dataframe tbody tr th {\n",
       "        vertical-align: top;\n",
       "    }\n",
       "\n",
       "    .dataframe thead th {\n",
       "        text-align: right;\n",
       "    }\n",
       "</style>\n",
       "<table border=\"1\" class=\"dataframe\">\n",
       "  <thead>\n",
       "    <tr style=\"text-align: right;\">\n",
       "      <th></th>\n",
       "      <th>snp</th>\n",
       "      <th>mixture_tstat</th>\n",
       "      <th>predicted_T</th>\n",
       "      <th>predicted_L</th>\n",
       "    </tr>\n",
       "  </thead>\n",
       "  <tbody>\n",
       "    <tr>\n",
       "      <th>0</th>\n",
       "      <td>chr1_100007048</td>\n",
       "      <td>175.076413</td>\n",
       "      <td>1.000000</td>\n",
       "      <td>0.897231</td>\n",
       "    </tr>\n",
       "    <tr>\n",
       "      <th>1</th>\n",
       "      <td>chr1_100110377</td>\n",
       "      <td>179.806074</td>\n",
       "      <td>0.736814</td>\n",
       "      <td>0.858858</td>\n",
       "    </tr>\n",
       "    <tr>\n",
       "      <th>2</th>\n",
       "      <td>chr1_100133310</td>\n",
       "      <td>240.862862</td>\n",
       "      <td>1.000000</td>\n",
       "      <td>0.880212</td>\n",
       "    </tr>\n",
       "    <tr>\n",
       "      <th>3</th>\n",
       "      <td>chr1_100206504</td>\n",
       "      <td>391.515838</td>\n",
       "      <td>0.963318</td>\n",
       "      <td>0.846666</td>\n",
       "    </tr>\n",
       "    <tr>\n",
       "      <th>4</th>\n",
       "      <td>chr1_100484304</td>\n",
       "      <td>179.460522</td>\n",
       "      <td>1.000000</td>\n",
       "      <td>0.895999</td>\n",
       "    </tr>\n",
       "    <tr>\n",
       "      <th>...</th>\n",
       "      <td>...</td>\n",
       "      <td>...</td>\n",
       "      <td>...</td>\n",
       "      <td>...</td>\n",
       "    </tr>\n",
       "    <tr>\n",
       "      <th>2228</th>\n",
       "      <td>chr1_98953091</td>\n",
       "      <td>138.373144</td>\n",
       "      <td>0.454869</td>\n",
       "      <td>0.800037</td>\n",
       "    </tr>\n",
       "    <tr>\n",
       "      <th>2229</th>\n",
       "      <td>chr1_9922329</td>\n",
       "      <td>228.956702</td>\n",
       "      <td>0.967088</td>\n",
       "      <td>0.879324</td>\n",
       "    </tr>\n",
       "    <tr>\n",
       "      <th>2230</th>\n",
       "      <td>chr1_99870805</td>\n",
       "      <td>202.705721</td>\n",
       "      <td>1.000000</td>\n",
       "      <td>1.119033</td>\n",
       "    </tr>\n",
       "    <tr>\n",
       "      <th>2231</th>\n",
       "      <td>chr1_99892547</td>\n",
       "      <td>143.537460</td>\n",
       "      <td>0.775236</td>\n",
       "      <td>0.879534</td>\n",
       "    </tr>\n",
       "    <tr>\n",
       "      <th>2232</th>\n",
       "      <td>chr1_999842</td>\n",
       "      <td>145.085231</td>\n",
       "      <td>1.000000</td>\n",
       "      <td>0.906143</td>\n",
       "    </tr>\n",
       "  </tbody>\n",
       "</table>\n",
       "<p>2233 rows × 4 columns</p>\n",
       "</div>"
      ],
      "text/plain": [
       "                 snp  mixture_tstat  predicted_T  predicted_L\n",
       "0     chr1_100007048     175.076413     1.000000     0.897231\n",
       "1     chr1_100110377     179.806074     0.736814     0.858858\n",
       "2     chr1_100133310     240.862862     1.000000     0.880212\n",
       "3     chr1_100206504     391.515838     0.963318     0.846666\n",
       "4     chr1_100484304     179.460522     1.000000     0.895999\n",
       "...              ...            ...          ...          ...\n",
       "2228   chr1_98953091     138.373144     0.454869     0.800037\n",
       "2229    chr1_9922329     228.956702     0.967088     0.879324\n",
       "2230   chr1_99870805     202.705721     1.000000     1.119033\n",
       "2231   chr1_99892547     143.537460     0.775236     0.879534\n",
       "2232     chr1_999842     145.085231     1.000000     0.906143\n",
       "\n",
       "[2233 rows x 4 columns]"
      ]
     },
     "execution_count": 3,
     "metadata": {},
     "output_type": "execute_result"
    }
   ],
   "source": [
    "chr1_data"
   ]
  },
  {
   "cell_type": "code",
   "execution_count": 26,
   "metadata": {},
   "outputs": [
    {
     "data": {
      "text/plain": [
       "Text(0.5, 0, 'Predicted T')"
      ]
     },
     "execution_count": 26,
     "metadata": {},
     "output_type": "execute_result"
    },
    {
     "data": {
      "image/png": "[encoded data removed]",
      "text/plain": [
       "<Figure size 432x288 with 1 Axes>"
      ]
     },
     "metadata": {},
     "output_type": "display_data"
    }
   ],
   "source": [
    "plt.hist(chr1_data['predicted_T'])\n",
    "plt.title('Histogram for predicted T')\n",
    "plt.xlabel('Predicted T')"
   ]
  },
  {
   "cell_type": "code",
   "execution_count": 27,
   "metadata": {},
   "outputs": [
    {
     "data": {
      "text/plain": [
       "Text(0.5, 0, 'Predicted L')"
      ]
     },
     "execution_count": 27,
     "metadata": {},
     "output_type": "execute_result"
    },
    {
     "data": {
      "image/png": "[encoded data removed]",
      "text/plain": [
       "<Figure size 432x288 with 1 Axes>"
      ]
     },
     "metadata": {},
     "output_type": "display_data"
    }
   ],
   "source": [
    "plt.hist(chr1_data['predicted_L'])\n",
    "plt.title('Histogram for predicted L')\n",
    "plt.xlabel('Predicted L')"
   ]
  },
  {
   "cell_type": "code",
   "execution_count": 7,
   "metadata": {},
   "outputs": [],
   "source": [
    "chr7_data = pd.read_csv('/storage/cynthiawu/trans_eQTL/GTex.v8/Run2_031621/Nerve_Tibial/chr7/gene-snp_eqtls_cpma-mix_chr7', sep='\\t')"
   ]
  },
  {
   "cell_type": "code",
   "execution_count": 8,
   "metadata": {},
   "outputs": [
    {
     "data": {
      "text/plain": [
       "(array([  5.,  10.,  15.,  22., 146.,  31.,  30.,  29.,  32., 802.]),\n",
       " array([0.03618037, 0.13256233, 0.22894429, 0.32532626, 0.42170822,\n",
       "        0.51809018, 0.61447215, 0.71085411, 0.80723607, 0.90361804,\n",
       "        1.        ]),\n",
       " <a list of 10 Patch objects>)"
      ]
     },
     "execution_count": 8,
     "metadata": {},
     "output_type": "execute_result"
    },
    {
     "data": {
      "image/png": "[encoded data removed]",
      "text/plain": [
       "<Figure size 432x288 with 1 Axes>"
      ]
     },
     "metadata": {},
     "output_type": "display_data"
    }
   ],
   "source": [
    "plt.hist(chr7_data['predicted_T'])"
   ]
  },
  {
   "cell_type": "code",
   "execution_count": 9,
   "metadata": {},
   "outputs": [
    {
     "data": {
      "text/plain": [
       "(array([  8., 661., 370.,  59.,  15.,   7.,   0.,   1.,   0.,   1.]),\n",
       " array([0.46359001, 0.71691335, 0.97023668, 1.22356001, 1.47688334,\n",
       "        1.73020668, 1.98353001, 2.23685334, 2.49017667, 2.74350001,\n",
       "        2.99682334]),\n",
       " <a list of 10 Patch objects>)"
      ]
     },
     "execution_count": 9,
     "metadata": {},
     "output_type": "execute_result"
    },
    {
     "data": {
      "image/png": "[encoded data removed]",
      "text/plain": [
       "<Figure size 432x288 with 1 Axes>"
      ]
     },
     "metadata": {},
     "output_type": "display_data"
    }
   ],
   "source": [
    "plt.hist(chr7_data['predicted_L'])"
   ]
  },
  {
   "cell_type": "code",
   "execution_count": 24,
   "metadata": {},
   "outputs": [],
   "source": [
    "sim_cpmamix2 = np.loadtxt('/storage/cynthiawu/trans_eQTL/GTex.v8/Run2_031621/Nerve_Tibial/chr1/gene-snp_eqtls_sim500000_cpma-mix_chr1')"
   ]
  },
  {
   "cell_type": "code",
   "execution_count": 25,
   "metadata": {},
   "outputs": [
    {
     "data": {
      "text/plain": [
       "(array([4.43425e+05, 4.27470e+04, 1.02970e+04, 2.59700e+03, 6.86000e+02,\n",
       "        1.84000e+02, 4.70000e+01, 1.20000e+01, 3.00000e+00, 2.00000e+00]),\n",
       " array([    0.       ,  3617.1606625,  7234.321325 , 10851.4819875,\n",
       "        14468.64265  , 18085.8033125, 21702.963975 , 25320.1246375,\n",
       "        28937.2853   , 32554.4459625, 36171.606625 ]),\n",
       " <a list of 10 Patch objects>)"
      ]
     },
     "execution_count": 25,
     "metadata": {},
     "output_type": "execute_result"
    },
    {
     "data": {
      "image/png": "[encoded data removed]",
      "text/plain": [
       "<Figure size 432x288 with 1 Axes>"
      ]
     },
     "metadata": {},
     "output_type": "display_data"
    }
   ],
   "source": [
    "plt.hist(sim_cpmamix2)"
   ]
  },
  {
   "cell_type": "code",
   "execution_count": 20,
   "metadata": {},
   "outputs": [],
   "source": [
    "sim_cpmamix = np.loadtxt('/storage/cynthiawu/trans_eQTL/GTex.v8/Run2_031621/Nerve_Tibial/chr1/gene-snp_eqtls_sim500000_cpma-mix_chr1')"
   ]
  },
  {
   "cell_type": "code",
   "execution_count": 21,
   "metadata": {},
   "outputs": [
    {
     "data": {
      "text/plain": [
       "(array([1.18747e+05, 1.92663e+05, 9.97980e+04, 5.75230e+04, 2.52090e+04,\n",
       "        5.40800e+03, 4.07000e+02, 2.24000e+02, 1.80000e+01, 3.00000e+00]),\n",
       " array([  608.987974 ,  3391.6248389,  6174.2617038,  8956.8985687,\n",
       "        11739.5354336, 14522.1722985, 17304.8091634, 20087.4460283,\n",
       "        22870.0828932, 25652.7197581, 28435.356623 ]),\n",
       " <a list of 10 Patch objects>)"
      ]
     },
     "execution_count": 21,
     "metadata": {},
     "output_type": "execute_result"
    },
    {
     "data": {
      "image/png": "[encoded data removed]",
      "text/plain": [
       "<Figure size 432x288 with 1 Axes>"
      ]
     },
     "metadata": {},
     "output_type": "display_data"
    }
   ],
   "source": [
    "plt.hist(sim_cpmamix)"
   ]
  },
  {
   "cell_type": "code",
   "execution_count": 14,
   "metadata": {},
   "outputs": [],
   "source": [
    "sim_cpma = np.loadtxt('/storage/cynthiawu/trans_eQTL/GTex.v8/Run2_031621/Nerve_Tibial/chr1/gene-snp_eqtls_sim500000_cpma_chr1')"
   ]
  },
  {
   "cell_type": "code",
   "execution_count": 15,
   "metadata": {},
   "outputs": [
    {
     "data": {
      "text/plain": [
       "(array([4.5206e+05, 3.9753e+04, 6.4080e+03, 1.3060e+03, 3.3200e+02,\n",
       "        9.7000e+01, 2.8000e+01, 1.1000e+01, 3.0000e+00, 2.0000e+00]),\n",
       " array([    0.       ,  3617.1606625,  7234.321325 , 10851.4819875,\n",
       "        14468.64265  , 18085.8033125, 21702.963975 , 25320.1246375,\n",
       "        28937.2853   , 32554.4459625, 36171.606625 ]),\n",
       " <a list of 10 Patch objects>)"
      ]
     },
     "execution_count": 15,
     "metadata": {},
     "output_type": "execute_result"
    },
    {
     "data": {
      "image/png": "[encoded data removed]",
      "text/plain": [
       "<Figure size 432x288 with 1 Axes>"
      ]
     },
     "metadata": {},
     "output_type": "display_data"
    }
   ],
   "source": [
    "plt.hist(sim_cpma)"
   ]
  },
  {
   "cell_type": "code",
   "execution_count": null,
   "metadata": {},
   "outputs": [],
   "source": []
  },
  {
   "cell_type": "code",
   "execution_count": null,
   "metadata": {},
   "outputs": [],
   "source": []
  },
  {
   "cell_type": "code",
   "execution_count": 17,
   "metadata": {},
   "outputs": [
    {
     "data": {
      "text/plain": [
       "(array([2.131e+03, 6.600e+01, 1.900e+01, 8.000e+00, 2.000e+00, 4.000e+00,\n",
       "        1.000e+00, 1.000e+00, 0.000e+00, 1.000e+00]),\n",
       " array([5.25904292e-04, 1.19754680e+03, 2.39509307e+03, 3.59263934e+03,\n",
       "        4.79018562e+03, 5.98773189e+03, 7.18527816e+03, 8.38282443e+03,\n",
       "        9.58037071e+03, 1.07779170e+04, 1.19754633e+04]),\n",
       " <a list of 10 Patch objects>)"
      ]
     },
     "execution_count": 17,
     "metadata": {},
     "output_type": "execute_result"
    },
    {
     "data": {
      "image/png": "[encoded data removed]",
      "text/plain": [
       "<Figure size 432x288 with 1 Axes>"
      ]
     },
     "metadata": {},
     "output_type": "display_data"
    }
   ],
   "source": [
    "plt.hist(chr1_data['mixture_tstat'])"
   ]
  },
  {
   "cell_type": "code",
   "execution_count": 23,
   "metadata": {},
   "outputs": [
    {
     "data": {
      "text/plain": [
       "(array([2.131e+03, 6.600e+01, 1.900e+01, 8.000e+00, 2.000e+00, 4.000e+00,\n",
       "        1.000e+00, 1.000e+00, 0.000e+00, 1.000e+00]),\n",
       " array([5.41459993e-04, 1.19754681e+03, 2.39509308e+03, 3.59263935e+03,\n",
       "        4.79018563e+03, 5.98773190e+03, 7.18527817e+03, 8.38282444e+03,\n",
       "        9.58037071e+03, 1.07779170e+04, 1.19754633e+04]),\n",
       " <a list of 10 Patch objects>)"
      ]
     },
     "execution_count": 23,
     "metadata": {},
     "output_type": "execute_result"
    },
    {
     "data": {
      "image/png": "[encoded data removed]",
      "text/plain": [
       "<Figure size 432x288 with 1 Axes>"
      ]
     },
     "metadata": {},
     "output_type": "display_data"
    }
   ],
   "source": [
    "plt.hist(chr1_data_cpma['cpma'])"
   ]
  },
  {
   "cell_type": "code",
   "execution_count": null,
   "metadata": {},
   "outputs": [],
   "source": []
  }
 ],
 "metadata": {
  "kernelspec": {
   "display_name": "Python (python3.6)",
   "language": "python",
   "name": "python3.6"
  },
  "language_info": {
   "codemirror_mode": {
    "name": "ipython",
    "version": 3
   },
   "file_extension": ".py",
   "mimetype": "text/x-python",
   "name": "python",
   "nbconvert_exporter": "python",
   "pygments_lexer": "ipython3",
   "version": "3.6.7"
  }
 },
 "nbformat": 4,
 "nbformat_minor": 4
}

{
 "cells": [
  {
   "cell_type": "code",
   "execution_count": 1,
   "metadata": {},
   "outputs": [],
   "source": [
    "from sklearn.decomposition import PCA\n",
    "import pandas as pd\n",
    "import numpy as np\n",
    "import statsmodels.stats.multitest\n",
    "import matplotlib.pyplot as plt\n",
    "from scipy import stats\n"
   ]
  },
  {
   "cell_type": "code",
   "execution_count": 4,
   "metadata": {},
   "outputs": [],
   "source": [
    " covariates = pd.read_csv('/storage/polo/GTEx_v8_matrix_eQTL/run2_GTEx_v8_Euro_only_PEER/Adipose-Subcutaneous_Euro/chr1_covariance_intersect.tsv', sep='\\t', index_col=0)"
   ]
  },
  {
   "cell_type": "code",
   "execution_count": 7,
   "metadata": {},
   "outputs": [
    {
     "data": {
      "text/html": [
       "<div>\n",
       "<style scoped>\n",
       "    .dataframe tbody tr th:only-of-type {\n",
       "        vertical-align: middle;\n",
       "    }\n",
       "\n",
       "    .dataframe tbody tr th {\n",
       "        vertical-align: top;\n",
       "    }\n",
       "\n",
       "    .dataframe thead th {\n",
       "        text-align: right;\n",
       "    }\n",
       "</style>\n",
       "<table border=\"1\" class=\"dataframe\">\n",
       "  <thead>\n",
       "    <tr style=\"text-align: right;\">\n",
       "      <th>id</th>\n",
       "      <th>SEX</th>\n",
       "      <th>AGE</th>\n",
       "      <th>PC1_178.652</th>\n",
       "      <th>PC2_119.536</th>\n",
       "      <th>PC3_31.844</th>\n",
       "      <th>PC4_11.937</th>\n",
       "      <th>PC5_7.826</th>\n",
       "      <th>PC6_7.463</th>\n",
       "      <th>PC7_6.971</th>\n",
       "      <th>PC8_6.877</th>\n",
       "      <th>PC9_6.644</th>\n",
       "      <th>PC10_6.431</th>\n",
       "    </tr>\n",
       "  </thead>\n",
       "  <tbody>\n",
       "    <tr>\n",
       "      <th>GTEX-111CU</th>\n",
       "      <td>1.0</td>\n",
       "      <td>57.0</td>\n",
       "      <td>-0.0002</td>\n",
       "      <td>0.0235</td>\n",
       "      <td>-0.0056</td>\n",
       "      <td>0.0159</td>\n",
       "      <td>0.0065</td>\n",
       "      <td>-0.0123</td>\n",
       "      <td>-0.0027</td>\n",
       "      <td>0.0136</td>\n",
       "      <td>0.0205</td>\n",
       "      <td>-0.0019</td>\n",
       "    </tr>\n",
       "    <tr>\n",
       "      <th>GTEX-111FC</th>\n",
       "      <td>1.0</td>\n",
       "      <td>61.0</td>\n",
       "      <td>-0.0018</td>\n",
       "      <td>0.0245</td>\n",
       "      <td>-0.0029</td>\n",
       "      <td>0.0158</td>\n",
       "      <td>0.0030</td>\n",
       "      <td>-0.0072</td>\n",
       "      <td>-0.0076</td>\n",
       "      <td>-0.0366</td>\n",
       "      <td>-0.0009</td>\n",
       "      <td>0.0302</td>\n",
       "    </tr>\n",
       "    <tr>\n",
       "      <th>GTEX-111VG</th>\n",
       "      <td>1.0</td>\n",
       "      <td>63.0</td>\n",
       "      <td>-0.0008</td>\n",
       "      <td>0.0238</td>\n",
       "      <td>-0.0051</td>\n",
       "      <td>0.0049</td>\n",
       "      <td>-0.0441</td>\n",
       "      <td>0.0225</td>\n",
       "      <td>0.0035</td>\n",
       "      <td>-0.0069</td>\n",
       "      <td>-0.0204</td>\n",
       "      <td>0.0112</td>\n",
       "    </tr>\n",
       "    <tr>\n",
       "      <th>GTEX-111YS</th>\n",
       "      <td>1.0</td>\n",
       "      <td>62.0</td>\n",
       "      <td>0.0020</td>\n",
       "      <td>0.0252</td>\n",
       "      <td>0.0045</td>\n",
       "      <td>0.0129</td>\n",
       "      <td>-0.0049</td>\n",
       "      <td>-0.0057</td>\n",
       "      <td>-0.0092</td>\n",
       "      <td>0.0371</td>\n",
       "      <td>-0.0096</td>\n",
       "      <td>-0.0133</td>\n",
       "    </tr>\n",
       "    <tr>\n",
       "      <th>GTEX-1122O</th>\n",
       "      <td>2.0</td>\n",
       "      <td>64.0</td>\n",
       "      <td>-0.0003</td>\n",
       "      <td>0.0246</td>\n",
       "      <td>-0.0023</td>\n",
       "      <td>0.0096</td>\n",
       "      <td>0.0212</td>\n",
       "      <td>-0.0103</td>\n",
       "      <td>0.0043</td>\n",
       "      <td>-0.0214</td>\n",
       "      <td>0.0063</td>\n",
       "      <td>0.0125</td>\n",
       "    </tr>\n",
       "    <tr>\n",
       "      <th>...</th>\n",
       "      <td>...</td>\n",
       "      <td>...</td>\n",
       "      <td>...</td>\n",
       "      <td>...</td>\n",
       "      <td>...</td>\n",
       "      <td>...</td>\n",
       "      <td>...</td>\n",
       "      <td>...</td>\n",
       "      <td>...</td>\n",
       "      <td>...</td>\n",
       "      <td>...</td>\n",
       "      <td>...</td>\n",
       "    </tr>\n",
       "    <tr>\n",
       "      <th>GTEX-ZYT6</th>\n",
       "      <td>1.0</td>\n",
       "      <td>30.0</td>\n",
       "      <td>-0.0003</td>\n",
       "      <td>0.0234</td>\n",
       "      <td>-0.0069</td>\n",
       "      <td>0.0055</td>\n",
       "      <td>0.0066</td>\n",
       "      <td>-0.0222</td>\n",
       "      <td>-0.0263</td>\n",
       "      <td>-0.0033</td>\n",
       "      <td>-0.0104</td>\n",
       "      <td>-0.0092</td>\n",
       "    </tr>\n",
       "    <tr>\n",
       "      <th>GTEX-ZYVF</th>\n",
       "      <td>2.0</td>\n",
       "      <td>54.0</td>\n",
       "      <td>-0.0015</td>\n",
       "      <td>0.0237</td>\n",
       "      <td>-0.0095</td>\n",
       "      <td>0.0016</td>\n",
       "      <td>-0.0114</td>\n",
       "      <td>-0.0181</td>\n",
       "      <td>0.0038</td>\n",
       "      <td>-0.0054</td>\n",
       "      <td>-0.0121</td>\n",
       "      <td>-0.0079</td>\n",
       "    </tr>\n",
       "    <tr>\n",
       "      <th>GTEX-ZYY3</th>\n",
       "      <td>2.0</td>\n",
       "      <td>67.0</td>\n",
       "      <td>-0.0024</td>\n",
       "      <td>0.0197</td>\n",
       "      <td>0.0004</td>\n",
       "      <td>-0.0040</td>\n",
       "      <td>-0.0142</td>\n",
       "      <td>-0.0099</td>\n",
       "      <td>-0.0015</td>\n",
       "      <td>0.0029</td>\n",
       "      <td>-0.0033</td>\n",
       "      <td>-0.0054</td>\n",
       "    </tr>\n",
       "    <tr>\n",
       "      <th>GTEX-ZZ64</th>\n",
       "      <td>1.0</td>\n",
       "      <td>24.0</td>\n",
       "      <td>0.0009</td>\n",
       "      <td>0.0223</td>\n",
       "      <td>0.0028</td>\n",
       "      <td>-0.0141</td>\n",
       "      <td>0.0185</td>\n",
       "      <td>-0.0067</td>\n",
       "      <td>0.0153</td>\n",
       "      <td>-0.0088</td>\n",
       "      <td>0.0149</td>\n",
       "      <td>-0.0108</td>\n",
       "    </tr>\n",
       "    <tr>\n",
       "      <th>GTEX-ZZPU</th>\n",
       "      <td>2.0</td>\n",
       "      <td>50.0</td>\n",
       "      <td>-0.0017</td>\n",
       "      <td>0.0289</td>\n",
       "      <td>-0.0029</td>\n",
       "      <td>0.0029</td>\n",
       "      <td>0.0003</td>\n",
       "      <td>-0.0029</td>\n",
       "      <td>0.0262</td>\n",
       "      <td>0.0059</td>\n",
       "      <td>0.0238</td>\n",
       "      <td>0.0080</td>\n",
       "    </tr>\n",
       "  </tbody>\n",
       "</table>\n",
       "<p>492 rows × 12 columns</p>\n",
       "</div>"
      ],
      "text/plain": [
       "id          SEX   AGE  PC1_178.652  PC2_119.536  PC3_31.844  PC4_11.937  \\\n",
       "GTEX-111CU  1.0  57.0      -0.0002       0.0235     -0.0056      0.0159   \n",
       "GTEX-111FC  1.0  61.0      -0.0018       0.0245     -0.0029      0.0158   \n",
       "GTEX-111VG  1.0  63.0      -0.0008       0.0238     -0.0051      0.0049   \n",
       "GTEX-111YS  1.0  62.0       0.0020       0.0252      0.0045      0.0129   \n",
       "GTEX-1122O  2.0  64.0      -0.0003       0.0246     -0.0023      0.0096   \n",
       "...         ...   ...          ...          ...         ...         ...   \n",
       "GTEX-ZYT6   1.0  30.0      -0.0003       0.0234     -0.0069      0.0055   \n",
       "GTEX-ZYVF   2.0  54.0      -0.0015       0.0237     -0.0095      0.0016   \n",
       "GTEX-ZYY3   2.0  67.0      -0.0024       0.0197      0.0004     -0.0040   \n",
       "GTEX-ZZ64   1.0  24.0       0.0009       0.0223      0.0028     -0.0141   \n",
       "GTEX-ZZPU   2.0  50.0      -0.0017       0.0289     -0.0029      0.0029   \n",
       "\n",
       "id          PC5_7.826  PC6_7.463  PC7_6.971  PC8_6.877  PC9_6.644  PC10_6.431  \n",
       "GTEX-111CU     0.0065    -0.0123    -0.0027     0.0136     0.0205     -0.0019  \n",
       "GTEX-111FC     0.0030    -0.0072    -0.0076    -0.0366    -0.0009      0.0302  \n",
       "GTEX-111VG    -0.0441     0.0225     0.0035    -0.0069    -0.0204      0.0112  \n",
       "GTEX-111YS    -0.0049    -0.0057    -0.0092     0.0371    -0.0096     -0.0133  \n",
       "GTEX-1122O     0.0212    -0.0103     0.0043    -0.0214     0.0063      0.0125  \n",
       "...               ...        ...        ...        ...        ...         ...  \n",
       "GTEX-ZYT6      0.0066    -0.0222    -0.0263    -0.0033    -0.0104     -0.0092  \n",
       "GTEX-ZYVF     -0.0114    -0.0181     0.0038    -0.0054    -0.0121     -0.0079  \n",
       "GTEX-ZYY3     -0.0142    -0.0099    -0.0015     0.0029    -0.0033     -0.0054  \n",
       "GTEX-ZZ64      0.0185    -0.0067     0.0153    -0.0088     0.0149     -0.0108  \n",
       "GTEX-ZZPU      0.0003    -0.0029     0.0262     0.0059     0.0238      0.0080  \n",
       "\n",
       "[492 rows x 12 columns]"
      ]
     },
     "execution_count": 7,
     "metadata": {},
     "output_type": "execute_result"
    }
   ],
   "source": [
    "covariates.T"
   ]
  },
  {
   "cell_type": "code",
   "execution_count": 11,
   "metadata": {},
   "outputs": [
    {
     "data": {
      "text/plain": [
       "<matplotlib.axes._subplots.AxesSubplot at 0x7f36e798b320>"
      ]
     },
     "execution_count": 11,
     "metadata": {},
     "output_type": "execute_result"
    },
    {
     "data": {
      "image/png": "[encoded data removed]",
      "text/plain": [
       "<Figure size 432x288 with 1 Axes>"
      ]
     },
     "metadata": {},
     "output_type": "display_data"
    }
   ],
   "source": [
    "covariates.T.plot.scatter(x = 'PC1_178.652', y = 'PC2_119.536')"
   ]
  },
  {
   "cell_type": "code",
   "execution_count": 12,
   "metadata": {},
   "outputs": [
    {
     "data": {
      "text/plain": [
       "<matplotlib.axes._subplots.AxesSubplot at 0x7f36e7942dd8>"
      ]
     },
     "execution_count": 12,
     "metadata": {},
     "output_type": "execute_result"
    },
    {
     "data": {
      "image/png": "[encoded data removed]",
      "text/plain": [
       "<Figure size 432x288 with 1 Axes>"
      ]
     },
     "metadata": {},
     "output_type": "display_data"
    }
   ],
   "source": [
    "covariates.T.plot.scatter(x = 'PC3_31.844', y = 'PC4_11.937')"
   ]
  },
  {
   "cell_type": "code",
   "execution_count": 14,
   "metadata": {},
   "outputs": [],
   "source": [
    "?covariates.T.plot.hist()"
   ]
  },
  {
   "cell_type": "code",
   "execution_count": 16,
   "metadata": {},
   "outputs": [
    {
     "data": {
      "text/plain": [
       "<matplotlib.axes._subplots.AxesSubplot at 0x7f36e777a908>"
      ]
     },
     "execution_count": 16,
     "metadata": {},
     "output_type": "execute_result"
    },
    {
     "data": {
      "image/png": "[encoded data removed]",
      "text/plain": [
       "<Figure size 432x288 with 1 Axes>"
      ]
     },
     "metadata": {},
     "output_type": "display_data"
    }
   ],
   "source": [
    "covariates.T.AGE.hist()"
   ]
  },
  {
   "cell_type": "code",
   "execution_count": null,
   "metadata": {},
   "outputs": [],
   "source": []
  },
  {
   "cell_type": "code",
   "execution_count": null,
   "metadata": {},
   "outputs": [],
   "source": []
  },
  {
   "cell_type": "code",
   "execution_count": 72,
   "metadata": {},
   "outputs": [],
   "source": [
    "data = pd.read_csv('/storage/cynthiawu/trans_eQTL/GTex.v8/Run3_070221/Adipose-Subcutaneous_Euro/chr1/CPMA/gene-snp_eqtls_empiricalpvalues_chr1_converted', sep='\\t')"
   ]
  },
  {
   "cell_type": "code",
   "execution_count": 73,
   "metadata": {},
   "outputs": [
    {
     "data": {
      "text/html": [
       "<div>\n",
       "<style scoped>\n",
       "    .dataframe tbody tr th:only-of-type {\n",
       "        vertical-align: middle;\n",
       "    }\n",
       "\n",
       "    .dataframe tbody tr th {\n",
       "        vertical-align: top;\n",
       "    }\n",
       "\n",
       "    .dataframe thead th {\n",
       "        text-align: right;\n",
       "    }\n",
       "</style>\n",
       "<table border=\"1\" class=\"dataframe\">\n",
       "  <thead>\n",
       "    <tr style=\"text-align: right;\">\n",
       "      <th></th>\n",
       "      <th>snp</th>\n",
       "      <th>cpma</th>\n",
       "      <th>pvalue</th>\n",
       "    </tr>\n",
       "  </thead>\n",
       "  <tbody>\n",
       "    <tr>\n",
       "      <th>0</th>\n",
       "      <td>chr1_100007048</td>\n",
       "      <td>1.067542</td>\n",
       "      <td>0.950184</td>\n",
       "    </tr>\n",
       "    <tr>\n",
       "      <th>1</th>\n",
       "      <td>chr1_100110377</td>\n",
       "      <td>257.226857</td>\n",
       "      <td>0.329001</td>\n",
       "    </tr>\n",
       "    <tr>\n",
       "      <th>2</th>\n",
       "      <td>chr1_100133310</td>\n",
       "      <td>4.186443</td>\n",
       "      <td>0.901352</td>\n",
       "    </tr>\n",
       "    <tr>\n",
       "      <th>3</th>\n",
       "      <td>chr1_100206504</td>\n",
       "      <td>176.663141</td>\n",
       "      <td>0.419093</td>\n",
       "    </tr>\n",
       "    <tr>\n",
       "      <th>4</th>\n",
       "      <td>chr1_100484304</td>\n",
       "      <td>56.436950</td>\n",
       "      <td>0.650165</td>\n",
       "    </tr>\n",
       "    <tr>\n",
       "      <th>...</th>\n",
       "      <td>...</td>\n",
       "      <td>...</td>\n",
       "      <td>...</td>\n",
       "    </tr>\n",
       "    <tr>\n",
       "      <th>2250</th>\n",
       "      <td>chr1_98953091</td>\n",
       "      <td>152.600027</td>\n",
       "      <td>0.453367</td>\n",
       "    </tr>\n",
       "    <tr>\n",
       "      <th>2251</th>\n",
       "      <td>chr1_9922329</td>\n",
       "      <td>393.789745</td>\n",
       "      <td>0.226272</td>\n",
       "    </tr>\n",
       "    <tr>\n",
       "      <th>2252</th>\n",
       "      <td>chr1_99870805</td>\n",
       "      <td>818.347138</td>\n",
       "      <td>0.081502</td>\n",
       "    </tr>\n",
       "    <tr>\n",
       "      <th>2253</th>\n",
       "      <td>chr1_99892547</td>\n",
       "      <td>128.856986</td>\n",
       "      <td>0.491703</td>\n",
       "    </tr>\n",
       "    <tr>\n",
       "      <th>2254</th>\n",
       "      <td>chr1_999842</td>\n",
       "      <td>116.078501</td>\n",
       "      <td>0.514113</td>\n",
       "    </tr>\n",
       "  </tbody>\n",
       "</table>\n",
       "<p>2255 rows × 3 columns</p>\n",
       "</div>"
      ],
      "text/plain": [
       "                 snp        cpma    pvalue\n",
       "0     chr1_100007048    1.067542  0.950184\n",
       "1     chr1_100110377  257.226857  0.329001\n",
       "2     chr1_100133310    4.186443  0.901352\n",
       "3     chr1_100206504  176.663141  0.419093\n",
       "4     chr1_100484304   56.436950  0.650165\n",
       "...              ...         ...       ...\n",
       "2250   chr1_98953091  152.600027  0.453367\n",
       "2251    chr1_9922329  393.789745  0.226272\n",
       "2252   chr1_99870805  818.347138  0.081502\n",
       "2253   chr1_99892547  128.856986  0.491703\n",
       "2254     chr1_999842  116.078501  0.514113\n",
       "\n",
       "[2255 rows x 3 columns]"
      ]
     },
     "execution_count": 73,
     "metadata": {},
     "output_type": "execute_result"
    }
   ],
   "source": [
    "data"
   ]
  },
  {
   "cell_type": "code",
   "execution_count": 74,
   "metadata": {},
   "outputs": [],
   "source": [
    "pvals = np.array(data['pvalue'])\n",
    "pvals_adj = statsmodels.stats.multitest.multipletests(pvals, alpha=0.25, method='holm')"
   ]
  },
  {
   "cell_type": "code",
   "execution_count": 75,
   "metadata": {},
   "outputs": [
    {
     "data": {
      "text/plain": [
       "1"
      ]
     },
     "execution_count": 75,
     "metadata": {},
     "output_type": "execute_result"
    }
   ],
   "source": [
    "sum(pvals_adj[0])"
   ]
  },
  {
   "cell_type": "code",
   "execution_count": 76,
   "metadata": {},
   "outputs": [
    {
     "data": {
      "text/plain": [
       "1.5999968000064e-05"
      ]
     },
     "execution_count": 76,
     "metadata": {},
     "output_type": "execute_result"
    }
   ],
   "source": [
    "min(pvals)"
   ]
  },
  {
   "cell_type": "code",
   "execution_count": 77,
   "metadata": {},
   "outputs": [
    {
     "data": {
      "text/plain": [
       "104"
      ]
     },
     "execution_count": 77,
     "metadata": {},
     "output_type": "execute_result"
    }
   ],
   "source": [
    "np.argmin(pvals)"
   ]
  },
  {
   "cell_type": "code",
   "execution_count": 58,
   "metadata": {},
   "outputs": [],
   "source": [
    "pvals.sort()"
   ]
  },
  {
   "cell_type": "code",
   "execution_count": 59,
   "metadata": {},
   "outputs": [
    {
     "data": {
      "text/plain": [
       "array([9.11998176e-04, 4.13199174e-03, 5.21198958e-03, ...,\n",
       "       9.99474001e-01, 9.99532001e-01, 9.99842000e-01])"
      ]
     },
     "execution_count": 59,
     "metadata": {},
     "output_type": "execute_result"
    }
   ],
   "source": [
    "pvals[1:]"
   ]
  },
  {
   "cell_type": "code",
   "execution_count": 60,
   "metadata": {},
   "outputs": [],
   "source": [
    "pvals_adj_filter = statsmodels.stats.multitest.multipletests(pvals[1:], alpha=0.5, method='holm')"
   ]
  },
  {
   "cell_type": "code",
   "execution_count": 61,
   "metadata": {},
   "outputs": [
    {
     "data": {
      "text/plain": [
       "0"
      ]
     },
     "execution_count": 61,
     "metadata": {},
     "output_type": "execute_result"
    }
   ],
   "source": [
    "sum(pvals_adj_filter[0])"
   ]
  },
  {
   "cell_type": "code",
   "execution_count": 62,
   "metadata": {},
   "outputs": [
    {
     "data": {
      "text/plain": [
       "0"
      ]
     },
     "execution_count": 62,
     "metadata": {},
     "output_type": "execute_result"
    }
   ],
   "source": [
    "np.argmin(pvals_adj_filter[1])"
   ]
  },
  {
   "cell_type": "code",
   "execution_count": 78,
   "metadata": {},
   "outputs": [
    {
     "data": {
      "text/plain": [
       "KstestResult(statistic=0.07911123246489649, pvalue=1.0085361917563234e-12)"
      ]
     },
     "execution_count": 78,
     "metadata": {},
     "output_type": "execute_result"
    }
   ],
   "source": [
    "stats.kstest(pvals, 'uniform')"
   ]
  },
  {
   "cell_type": "code",
   "execution_count": 82,
   "metadata": {},
   "outputs": [
    {
     "data": {
      "text/plain": [
       "Text(0, 0.5, 'count')"
      ]
     },
     "execution_count": 82,
     "metadata": {},
     "output_type": "execute_result"
    },
    {
     "data": {
      "image/png": "[encoded data removed]",
      "text/plain": [
       "<Figure size 432x288 with 1 Axes>"
      ]
     },
     "metadata": {},
     "output_type": "display_data"
    }
   ],
   "source": [
    "plt.hist(pvals)\n",
    "plt.title('CPMA empirical pvalues for Adipose Tissue chr1 with new preprocessed expression')\n",
    "plt.xlabel('pvalues')\n",
    "plt.ylabel('count')"
   ]
  },
  {
   "cell_type": "code",
   "execution_count": 87,
   "metadata": {},
   "outputs": [],
   "source": [
    "data = pd.read_csv('/storage/cynthiawu/trans_eQTL/GTex.v8/Run2_031621/Nerve-Tibial_Euro/chr1/gene-snp_eqtls_empiricalpvalues_chr1_converted', sep='\\t')"
   ]
  },
  {
   "cell_type": "code",
   "execution_count": 88,
   "metadata": {},
   "outputs": [],
   "source": [
    "pvals = np.array(data['pvalue'])\n",
    "pvals_adj = statsmodels.stats.multitest.multipletests(pvals, alpha=0.25, method='holm')"
   ]
  },
  {
   "cell_type": "code",
   "execution_count": 89,
   "metadata": {},
   "outputs": [
    {
     "data": {
      "text/plain": [
       "0"
      ]
     },
     "execution_count": 89,
     "metadata": {},
     "output_type": "execute_result"
    }
   ],
   "source": [
    "sum(pvals_adj[0])"
   ]
  },
  {
   "cell_type": "code",
   "execution_count": 90,
   "metadata": {},
   "outputs": [
    {
     "data": {
      "text/plain": [
       "KstestResult(statistic=0.10249060558753043, pvalue=7.107437156251278e-21)"
      ]
     },
     "execution_count": 90,
     "metadata": {},
     "output_type": "execute_result"
    }
   ],
   "source": [
    "stats.kstest(pvals, 'uniform')"
   ]
  },
  {
   "cell_type": "code",
   "execution_count": 86,
   "metadata": {},
   "outputs": [
    {
     "data": {
      "text/plain": [
       "Text(0, 0.5, 'count')"
      ]
     },
     "execution_count": 86,
     "metadata": {},
     "output_type": "execute_result"
    },
    {
     "data": {
      "image/png": "[encoded data removed]",
      "text/plain": [
       "<Figure size 432x288 with 1 Axes>"
      ]
     },
     "metadata": {},
     "output_type": "display_data"
    }
   ],
   "source": [
    "plt.hist(pvals)\n",
    "plt.title('CPMA empirical pvalues for Adipose Tissue chr1 with old preprocessed expression')\n",
    "plt.xlabel('pvalues')\n",
    "plt.ylabel('count')"
   ]
  },
  {
   "cell_type": "code",
   "execution_count": 166,
   "metadata": {},
   "outputs": [],
   "source": [
    "data = pd.read_csv('/storage/cynthiawu/trans_eQTL/GTex.v8/Run3_070221/Nerve-Tibial/chr1/CPMA/gene-snp_eqtls_empiricalpvalues_chr1_converted', sep='\\t')\n",
    "pvals = np.array(data['pvalue'])\n",
    "pvals_adj = statsmodels.stats.multitest.multipletests(pvals, alpha=0.25, method='holm')"
   ]
  },
  {
   "cell_type": "code",
   "execution_count": 167,
   "metadata": {},
   "outputs": [
    {
     "data": {
      "text/plain": [
       "2"
      ]
     },
     "execution_count": 167,
     "metadata": {},
     "output_type": "execute_result"
    }
   ],
   "source": [
    "sum(pvals_adj[0])"
   ]
  },
  {
   "cell_type": "code",
   "execution_count": 168,
   "metadata": {},
   "outputs": [
    {
     "data": {
      "text/plain": [
       "KstestResult(statistic=0.06177528352511591, pvalue=7.51370130128672e-08)"
      ]
     },
     "execution_count": 168,
     "metadata": {},
     "output_type": "execute_result"
    }
   ],
   "source": [
    "stats.kstest(pvals, 'uniform')"
   ]
  },
  {
   "cell_type": "code",
   "execution_count": 169,
   "metadata": {},
   "outputs": [
    {
     "data": {
      "text/plain": [
       "Text(0, 0.5, 'count')"
      ]
     },
     "execution_count": 169,
     "metadata": {},
     "output_type": "execute_result"
    },
    {
     "data": {
      "image/png": "[encoded data removed]",
      "text/plain": [
       "<Figure size 432x288 with 1 Axes>"
      ]
     },
     "metadata": {},
     "output_type": "display_data"
    }
   ],
   "source": [
    "plt.hist(pvals)\n",
    "plt.title('CPMA empirical pvalues for Nerve Tibial chr1 with new preprocessed expression')\n",
    "plt.xlabel('pvalues')\n",
    "plt.ylabel('count')"
   ]
  },
  {
   "cell_type": "code",
   "execution_count": null,
   "metadata": {},
   "outputs": [],
   "source": []
  },
  {
   "cell_type": "code",
   "execution_count": null,
   "metadata": {},
   "outputs": [],
   "source": []
  },
  {
   "cell_type": "code",
   "execution_count": 94,
   "metadata": {},
   "outputs": [],
   "source": [
    "data = pd.read_csv('/storage/cynthiawu/trans_eQTL/GTex.v8/Run3_070221/Adipose-Subcutaneous_Euro/chr1/matrixeqtl/matrixeQTL_results_chr1_factors.gz', sep='\\t')"
   ]
  },
  {
   "cell_type": "code",
   "execution_count": 95,
   "metadata": {},
   "outputs": [
    {
     "data": {
      "text/html": [
       "<div>\n",
       "<style scoped>\n",
       "    .dataframe tbody tr th:only-of-type {\n",
       "        vertical-align: middle;\n",
       "    }\n",
       "\n",
       "    .dataframe tbody tr th {\n",
       "        vertical-align: top;\n",
       "    }\n",
       "\n",
       "    .dataframe thead th {\n",
       "        text-align: right;\n",
       "    }\n",
       "</style>\n",
       "<table border=\"1\" class=\"dataframe\">\n",
       "  <thead>\n",
       "    <tr style=\"text-align: right;\">\n",
       "      <th></th>\n",
       "      <th>SNP</th>\n",
       "      <th>gene</th>\n",
       "      <th>beta</th>\n",
       "      <th>t-stat</th>\n",
       "      <th>p-value</th>\n",
       "      <th>FDR</th>\n",
       "    </tr>\n",
       "  </thead>\n",
       "  <tbody>\n",
       "    <tr>\n",
       "      <th>0</th>\n",
       "      <td>chr1_248323998</td>\n",
       "      <td>V2</td>\n",
       "      <td>-0.243548</td>\n",
       "      <td>-3.847850</td>\n",
       "      <td>0.000135</td>\n",
       "      <td>0.867994</td>\n",
       "    </tr>\n",
       "    <tr>\n",
       "      <th>1</th>\n",
       "      <td>chr1_66770414</td>\n",
       "      <td>V5</td>\n",
       "      <td>-0.326424</td>\n",
       "      <td>-3.593284</td>\n",
       "      <td>0.000360</td>\n",
       "      <td>0.867994</td>\n",
       "    </tr>\n",
       "    <tr>\n",
       "      <th>2</th>\n",
       "      <td>chr1_248349335</td>\n",
       "      <td>V2</td>\n",
       "      <td>-0.222217</td>\n",
       "      <td>-3.488979</td>\n",
       "      <td>0.000530</td>\n",
       "      <td>0.867994</td>\n",
       "    </tr>\n",
       "    <tr>\n",
       "      <th>3</th>\n",
       "      <td>chr1_63323280</td>\n",
       "      <td>V4</td>\n",
       "      <td>-0.306656</td>\n",
       "      <td>-3.477301</td>\n",
       "      <td>0.000553</td>\n",
       "      <td>0.867994</td>\n",
       "    </tr>\n",
       "    <tr>\n",
       "      <th>4</th>\n",
       "      <td>chr1_19683244</td>\n",
       "      <td>V2</td>\n",
       "      <td>0.327067</td>\n",
       "      <td>3.398385</td>\n",
       "      <td>0.000735</td>\n",
       "      <td>0.867994</td>\n",
       "    </tr>\n",
       "    <tr>\n",
       "      <th>...</th>\n",
       "      <td>...</td>\n",
       "      <td>...</td>\n",
       "      <td>...</td>\n",
       "      <td>...</td>\n",
       "      <td>...</td>\n",
       "      <td>...</td>\n",
       "    </tr>\n",
       "    <tr>\n",
       "      <th>11280</th>\n",
       "      <td>chr1_78492806</td>\n",
       "      <td>V4</td>\n",
       "      <td>0.000102</td>\n",
       "      <td>0.000967</td>\n",
       "      <td>0.999229</td>\n",
       "      <td>0.999583</td>\n",
       "    </tr>\n",
       "    <tr>\n",
       "      <th>11281</th>\n",
       "      <td>chr1_186132407</td>\n",
       "      <td>V4</td>\n",
       "      <td>0.000057</td>\n",
       "      <td>0.000764</td>\n",
       "      <td>0.999391</td>\n",
       "      <td>0.999656</td>\n",
       "    </tr>\n",
       "    <tr>\n",
       "      <th>11282</th>\n",
       "      <td>chr1_201999954</td>\n",
       "      <td>V5</td>\n",
       "      <td>0.000013</td>\n",
       "      <td>0.000192</td>\n",
       "      <td>0.999847</td>\n",
       "      <td>0.999896</td>\n",
       "    </tr>\n",
       "    <tr>\n",
       "      <th>11283</th>\n",
       "      <td>chr1_248039042</td>\n",
       "      <td>V6</td>\n",
       "      <td>0.000013</td>\n",
       "      <td>0.000133</td>\n",
       "      <td>0.999894</td>\n",
       "      <td>0.999896</td>\n",
       "    </tr>\n",
       "    <tr>\n",
       "      <th>11284</th>\n",
       "      <td>chr1_201983470</td>\n",
       "      <td>V6</td>\n",
       "      <td>-0.000009</td>\n",
       "      <td>-0.000131</td>\n",
       "      <td>0.999896</td>\n",
       "      <td>0.999896</td>\n",
       "    </tr>\n",
       "  </tbody>\n",
       "</table>\n",
       "<p>11285 rows × 6 columns</p>\n",
       "</div>"
      ],
      "text/plain": [
       "                  SNP gene      beta    t-stat   p-value       FDR\n",
       "0      chr1_248323998   V2 -0.243548 -3.847850  0.000135  0.867994\n",
       "1       chr1_66770414   V5 -0.326424 -3.593284  0.000360  0.867994\n",
       "2      chr1_248349335   V2 -0.222217 -3.488979  0.000530  0.867994\n",
       "3       chr1_63323280   V4 -0.306656 -3.477301  0.000553  0.867994\n",
       "4       chr1_19683244   V2  0.327067  3.398385  0.000735  0.867994\n",
       "...               ...  ...       ...       ...       ...       ...\n",
       "11280   chr1_78492806   V4  0.000102  0.000967  0.999229  0.999583\n",
       "11281  chr1_186132407   V4  0.000057  0.000764  0.999391  0.999656\n",
       "11282  chr1_201999954   V5  0.000013  0.000192  0.999847  0.999896\n",
       "11283  chr1_248039042   V6  0.000013  0.000133  0.999894  0.999896\n",
       "11284  chr1_201983470   V6 -0.000009 -0.000131  0.999896  0.999896\n",
       "\n",
       "[11285 rows x 6 columns]"
      ]
     },
     "execution_count": 95,
     "metadata": {},
     "output_type": "execute_result"
    }
   ],
   "source": [
    "data"
   ]
  },
  {
   "cell_type": "code",
   "execution_count": 96,
   "metadata": {},
   "outputs": [],
   "source": [
    "pvals = np.array(data['p-value'])\n",
    "pvals_adj = statsmodels.stats.multitest.multipletests(pvals, alpha=0.25, method='holm')"
   ]
  },
  {
   "cell_type": "code",
   "execution_count": 97,
   "metadata": {},
   "outputs": [
    {
     "data": {
      "text/plain": [
       "0"
      ]
     },
     "execution_count": 97,
     "metadata": {},
     "output_type": "execute_result"
    }
   ],
   "source": [
    "sum(pvals_adj[0])"
   ]
  },
  {
   "cell_type": "code",
   "execution_count": 98,
   "metadata": {},
   "outputs": [
    {
     "data": {
      "text/plain": [
       "KstestResult(statistic=0.0070530502760063896, pvalue=0.628426831090628)"
      ]
     },
     "execution_count": 98,
     "metadata": {},
     "output_type": "execute_result"
    }
   ],
   "source": [
    "stats.kstest(pvals, 'uniform')"
   ]
  },
  {
   "cell_type": "code",
   "execution_count": 99,
   "metadata": {},
   "outputs": [
    {
     "data": {
      "text/plain": [
       "Text(0, 0.5, 'count')"
      ]
     },
     "execution_count": 99,
     "metadata": {},
     "output_type": "execute_result"
    },
    {
     "data": {
      "image/png": "[encoded data removed]",
      "text/plain": [
       "<Figure size 432x288 with 1 Axes>"
      ]
     },
     "metadata": {},
     "output_type": "display_data"
    }
   ],
   "source": [
    "plt.hist(pvals)\n",
    "plt.title('matrix eqtl  pvalues for Adipose Tissue chr1 with peer factors')\n",
    "plt.xlabel('pvalues')\n",
    "plt.ylabel('count')"
   ]
  },
  {
   "cell_type": "code",
   "execution_count": 100,
   "metadata": {},
   "outputs": [
    {
     "data": {
      "text/plain": [
       "0"
      ]
     },
     "execution_count": 100,
     "metadata": {},
     "output_type": "execute_result"
    }
   ],
   "source": [
    "data = pd.read_csv('/storage/cynthiawu/trans_eQTL/GTex.v8/Run3_070221/Adipose-Subcutaneous_Euro/chr1/matrixeqtl/matrixeQTL_results_chr1.gz', sep='\\t')\n",
    "pvals = np.array(data['p-value'])\n",
    "pvals_adj = statsmodels.stats.multitest.multipletests(pvals, alpha=0.25, method='holm')\n",
    "sum(pvals_adj[0])"
   ]
  },
  {
   "cell_type": "code",
   "execution_count": 101,
   "metadata": {},
   "outputs": [
    {
     "data": {
      "text/plain": [
       "KstestResult(statistic=0.0014246242564381895, pvalue=6.160530120990648e-68)"
      ]
     },
     "execution_count": 101,
     "metadata": {},
     "output_type": "execute_result"
    }
   ],
   "source": [
    "stats.kstest(pvals, 'uniform')"
   ]
  },
  {
   "cell_type": "code",
   "execution_count": 102,
   "metadata": {},
   "outputs": [
    {
     "data": {
      "text/plain": [
       "Text(0, 0.5, 'count')"
      ]
     },
     "execution_count": 102,
     "metadata": {},
     "output_type": "execute_result"
    },
    {
     "data": {
      "image/png": "[encoded data removed]",
      "text/plain": [
       "<Figure size 432x288 with 1 Axes>"
      ]
     },
     "metadata": {},
     "output_type": "display_data"
    }
   ],
   "source": [
    "plt.hist(pvals)\n",
    "plt.title('matrix eqtl  pvalues for Adipose Tissue chr1 with new preprocessed expression')\n",
    "plt.xlabel('pvalues')\n",
    "plt.ylabel('count')"
   ]
  },
  {
   "cell_type": "code",
   "execution_count": null,
   "metadata": {},
   "outputs": [],
   "source": []
  },
  {
   "cell_type": "code",
   "execution_count": 65,
   "metadata": {},
   "outputs": [],
   "source": [
    "genotype = pd.read_csv('/storage/cynthiawu/trans_eQTL/GTex.v8/Run3_070221/Adipose-Subcutaneous_Euro/chr1/chr1_SNP_intersect.tsv', sep='\\t', index_col=0)"
   ]
  },
  {
   "cell_type": "code",
   "execution_count": 66,
   "metadata": {},
   "outputs": [
    {
     "data": {
      "text/html": [
       "<div>\n",
       "<style scoped>\n",
       "    .dataframe tbody tr th:only-of-type {\n",
       "        vertical-align: middle;\n",
       "    }\n",
       "\n",
       "    .dataframe tbody tr th {\n",
       "        vertical-align: top;\n",
       "    }\n",
       "\n",
       "    .dataframe thead th {\n",
       "        text-align: right;\n",
       "    }\n",
       "</style>\n",
       "<table border=\"1\" class=\"dataframe\">\n",
       "  <thead>\n",
       "    <tr style=\"text-align: right;\">\n",
       "      <th></th>\n",
       "      <th>GTEX-1LSNL</th>\n",
       "      <th>GTEX-YJ8O</th>\n",
       "      <th>GTEX-17HGU</th>\n",
       "      <th>GTEX-1I4MK</th>\n",
       "      <th>GTEX-1CAMR</th>\n",
       "      <th>GTEX-1I6K7</th>\n",
       "      <th>GTEX-QCQG</th>\n",
       "      <th>GTEX-U8XE</th>\n",
       "      <th>GTEX-1QEPI</th>\n",
       "      <th>GTEX-R3RS</th>\n",
       "      <th>...</th>\n",
       "      <th>GTEX-16MT8</th>\n",
       "      <th>GTEX-1MA7X</th>\n",
       "      <th>GTEX-QEL4</th>\n",
       "      <th>GTEX-13FTW</th>\n",
       "      <th>GTEX-1L5NE</th>\n",
       "      <th>GTEX-1A3MV</th>\n",
       "      <th>GTEX-P4PQ</th>\n",
       "      <th>GTEX-1QAET</th>\n",
       "      <th>GTEX-ZPCL</th>\n",
       "      <th>GTEX-1ICLY</th>\n",
       "    </tr>\n",
       "    <tr>\n",
       "      <th>id</th>\n",
       "      <th></th>\n",
       "      <th></th>\n",
       "      <th></th>\n",
       "      <th></th>\n",
       "      <th></th>\n",
       "      <th></th>\n",
       "      <th></th>\n",
       "      <th></th>\n",
       "      <th></th>\n",
       "      <th></th>\n",
       "      <th></th>\n",
       "      <th></th>\n",
       "      <th></th>\n",
       "      <th></th>\n",
       "      <th></th>\n",
       "      <th></th>\n",
       "      <th></th>\n",
       "      <th></th>\n",
       "      <th></th>\n",
       "      <th></th>\n",
       "      <th></th>\n",
       "    </tr>\n",
       "  </thead>\n",
       "  <tbody>\n",
       "    <tr>\n",
       "      <th>chr1_946247</th>\n",
       "      <td>1</td>\n",
       "      <td>1</td>\n",
       "      <td>1</td>\n",
       "      <td>2</td>\n",
       "      <td>1</td>\n",
       "      <td>2</td>\n",
       "      <td>0</td>\n",
       "      <td>1</td>\n",
       "      <td>2</td>\n",
       "      <td>1</td>\n",
       "      <td>...</td>\n",
       "      <td>1</td>\n",
       "      <td>0</td>\n",
       "      <td>0</td>\n",
       "      <td>1</td>\n",
       "      <td>1</td>\n",
       "      <td>2</td>\n",
       "      <td>1</td>\n",
       "      <td>2</td>\n",
       "      <td>1</td>\n",
       "      <td>2</td>\n",
       "    </tr>\n",
       "    <tr>\n",
       "      <th>chr1_965125</th>\n",
       "      <td>1</td>\n",
       "      <td>0</td>\n",
       "      <td>1</td>\n",
       "      <td>0</td>\n",
       "      <td>1</td>\n",
       "      <td>0</td>\n",
       "      <td>1</td>\n",
       "      <td>0</td>\n",
       "      <td>0</td>\n",
       "      <td>1</td>\n",
       "      <td>...</td>\n",
       "      <td>0</td>\n",
       "      <td>1</td>\n",
       "      <td>2</td>\n",
       "      <td>1</td>\n",
       "      <td>1</td>\n",
       "      <td>0</td>\n",
       "      <td>1</td>\n",
       "      <td>0</td>\n",
       "      <td>1</td>\n",
       "      <td>0</td>\n",
       "    </tr>\n",
       "    <tr>\n",
       "      <th>chr1_973858</th>\n",
       "      <td>1</td>\n",
       "      <td>0</td>\n",
       "      <td>0</td>\n",
       "      <td>2</td>\n",
       "      <td>2</td>\n",
       "      <td>0</td>\n",
       "      <td>1</td>\n",
       "      <td>1</td>\n",
       "      <td>1</td>\n",
       "      <td>1</td>\n",
       "      <td>...</td>\n",
       "      <td>2</td>\n",
       "      <td>1</td>\n",
       "      <td>2</td>\n",
       "      <td>2</td>\n",
       "      <td>1</td>\n",
       "      <td>1</td>\n",
       "      <td>0</td>\n",
       "      <td>1</td>\n",
       "      <td>1</td>\n",
       "      <td>1</td>\n",
       "    </tr>\n",
       "    <tr>\n",
       "      <th>chr1_973929</th>\n",
       "      <td>0</td>\n",
       "      <td>0</td>\n",
       "      <td>0</td>\n",
       "      <td>1</td>\n",
       "      <td>1</td>\n",
       "      <td>0</td>\n",
       "      <td>1</td>\n",
       "      <td>0</td>\n",
       "      <td>0</td>\n",
       "      <td>0</td>\n",
       "      <td>...</td>\n",
       "      <td>0</td>\n",
       "      <td>0</td>\n",
       "      <td>2</td>\n",
       "      <td>0</td>\n",
       "      <td>1</td>\n",
       "      <td>0</td>\n",
       "      <td>0</td>\n",
       "      <td>0</td>\n",
       "      <td>0</td>\n",
       "      <td>0</td>\n",
       "    </tr>\n",
       "    <tr>\n",
       "      <th>chr1_974039</th>\n",
       "      <td>1</td>\n",
       "      <td>2</td>\n",
       "      <td>0</td>\n",
       "      <td>0</td>\n",
       "      <td>0</td>\n",
       "      <td>0</td>\n",
       "      <td>1</td>\n",
       "      <td>1</td>\n",
       "      <td>0</td>\n",
       "      <td>1</td>\n",
       "      <td>...</td>\n",
       "      <td>0</td>\n",
       "      <td>0</td>\n",
       "      <td>0</td>\n",
       "      <td>0</td>\n",
       "      <td>0</td>\n",
       "      <td>1</td>\n",
       "      <td>1</td>\n",
       "      <td>1</td>\n",
       "      <td>1</td>\n",
       "      <td>0</td>\n",
       "    </tr>\n",
       "    <tr>\n",
       "      <th>...</th>\n",
       "      <td>...</td>\n",
       "      <td>...</td>\n",
       "      <td>...</td>\n",
       "      <td>...</td>\n",
       "      <td>...</td>\n",
       "      <td>...</td>\n",
       "      <td>...</td>\n",
       "      <td>...</td>\n",
       "      <td>...</td>\n",
       "      <td>...</td>\n",
       "      <td>...</td>\n",
       "      <td>...</td>\n",
       "      <td>...</td>\n",
       "      <td>...</td>\n",
       "      <td>...</td>\n",
       "      <td>...</td>\n",
       "      <td>...</td>\n",
       "      <td>...</td>\n",
       "      <td>...</td>\n",
       "      <td>...</td>\n",
       "      <td>...</td>\n",
       "    </tr>\n",
       "    <tr>\n",
       "      <th>chr1_248681658</th>\n",
       "      <td>0</td>\n",
       "      <td>0</td>\n",
       "      <td>0</td>\n",
       "      <td>1</td>\n",
       "      <td>0</td>\n",
       "      <td>0</td>\n",
       "      <td>0</td>\n",
       "      <td>0</td>\n",
       "      <td>0</td>\n",
       "      <td>1</td>\n",
       "      <td>...</td>\n",
       "      <td>0</td>\n",
       "      <td>0</td>\n",
       "      <td>0</td>\n",
       "      <td>1</td>\n",
       "      <td>0</td>\n",
       "      <td>0</td>\n",
       "      <td>0</td>\n",
       "      <td>0</td>\n",
       "      <td>0</td>\n",
       "      <td>0</td>\n",
       "    </tr>\n",
       "    <tr>\n",
       "      <th>chr1_248681796</th>\n",
       "      <td>2</td>\n",
       "      <td>2</td>\n",
       "      <td>2</td>\n",
       "      <td>1</td>\n",
       "      <td>2</td>\n",
       "      <td>2</td>\n",
       "      <td>2</td>\n",
       "      <td>2</td>\n",
       "      <td>2</td>\n",
       "      <td>1</td>\n",
       "      <td>...</td>\n",
       "      <td>2</td>\n",
       "      <td>2</td>\n",
       "      <td>2</td>\n",
       "      <td>1</td>\n",
       "      <td>2</td>\n",
       "      <td>2</td>\n",
       "      <td>2</td>\n",
       "      <td>2</td>\n",
       "      <td>2</td>\n",
       "      <td>2</td>\n",
       "    </tr>\n",
       "    <tr>\n",
       "      <th>chr1_248682055</th>\n",
       "      <td>0</td>\n",
       "      <td>0</td>\n",
       "      <td>0</td>\n",
       "      <td>1</td>\n",
       "      <td>0</td>\n",
       "      <td>0</td>\n",
       "      <td>0</td>\n",
       "      <td>0</td>\n",
       "      <td>0</td>\n",
       "      <td>1</td>\n",
       "      <td>...</td>\n",
       "      <td>0</td>\n",
       "      <td>0</td>\n",
       "      <td>0</td>\n",
       "      <td>1</td>\n",
       "      <td>0</td>\n",
       "      <td>0</td>\n",
       "      <td>0</td>\n",
       "      <td>0</td>\n",
       "      <td>0</td>\n",
       "      <td>0</td>\n",
       "    </tr>\n",
       "    <tr>\n",
       "      <th>chr1_248682157</th>\n",
       "      <td>2</td>\n",
       "      <td>2</td>\n",
       "      <td>2</td>\n",
       "      <td>1</td>\n",
       "      <td>2</td>\n",
       "      <td>2</td>\n",
       "      <td>2</td>\n",
       "      <td>2</td>\n",
       "      <td>2</td>\n",
       "      <td>1</td>\n",
       "      <td>...</td>\n",
       "      <td>2</td>\n",
       "      <td>2</td>\n",
       "      <td>2</td>\n",
       "      <td>1</td>\n",
       "      <td>2</td>\n",
       "      <td>2</td>\n",
       "      <td>2</td>\n",
       "      <td>2</td>\n",
       "      <td>2</td>\n",
       "      <td>2</td>\n",
       "    </tr>\n",
       "    <tr>\n",
       "      <th>chr1_248685554</th>\n",
       "      <td>2</td>\n",
       "      <td>2</td>\n",
       "      <td>2</td>\n",
       "      <td>1</td>\n",
       "      <td>2</td>\n",
       "      <td>2</td>\n",
       "      <td>2</td>\n",
       "      <td>2</td>\n",
       "      <td>2</td>\n",
       "      <td>1</td>\n",
       "      <td>...</td>\n",
       "      <td>2</td>\n",
       "      <td>2</td>\n",
       "      <td>2</td>\n",
       "      <td>1</td>\n",
       "      <td>2</td>\n",
       "      <td>2</td>\n",
       "      <td>2</td>\n",
       "      <td>2</td>\n",
       "      <td>2</td>\n",
       "      <td>2</td>\n",
       "    </tr>\n",
       "  </tbody>\n",
       "</table>\n",
       "<p>2257 rows × 491 columns</p>\n",
       "</div>"
      ],
      "text/plain": [
       "                GTEX-1LSNL  GTEX-YJ8O  GTEX-17HGU  GTEX-1I4MK  GTEX-1CAMR  \\\n",
       "id                                                                          \n",
       "chr1_946247              1          1           1           2           1   \n",
       "chr1_965125              1          0           1           0           1   \n",
       "chr1_973858              1          0           0           2           2   \n",
       "chr1_973929              0          0           0           1           1   \n",
       "chr1_974039              1          2           0           0           0   \n",
       "...                    ...        ...         ...         ...         ...   \n",
       "chr1_248681658           0          0           0           1           0   \n",
       "chr1_248681796           2          2           2           1           2   \n",
       "chr1_248682055           0          0           0           1           0   \n",
       "chr1_248682157           2          2           2           1           2   \n",
       "chr1_248685554           2          2           2           1           2   \n",
       "\n",
       "                GTEX-1I6K7  GTEX-QCQG  GTEX-U8XE  GTEX-1QEPI  GTEX-R3RS  ...  \\\n",
       "id                                                                       ...   \n",
       "chr1_946247              2          0          1           2          1  ...   \n",
       "chr1_965125              0          1          0           0          1  ...   \n",
       "chr1_973858              0          1          1           1          1  ...   \n",
       "chr1_973929              0          1          0           0          0  ...   \n",
       "chr1_974039              0          1          1           0          1  ...   \n",
       "...                    ...        ...        ...         ...        ...  ...   \n",
       "chr1_248681658           0          0          0           0          1  ...   \n",
       "chr1_248681796           2          2          2           2          1  ...   \n",
       "chr1_248682055           0          0          0           0          1  ...   \n",
       "chr1_248682157           2          2          2           2          1  ...   \n",
       "chr1_248685554           2          2          2           2          1  ...   \n",
       "\n",
       "                GTEX-16MT8  GTEX-1MA7X  GTEX-QEL4  GTEX-13FTW  GTEX-1L5NE  \\\n",
       "id                                                                          \n",
       "chr1_946247              1           0          0           1           1   \n",
       "chr1_965125              0           1          2           1           1   \n",
       "chr1_973858              2           1          2           2           1   \n",
       "chr1_973929              0           0          2           0           1   \n",
       "chr1_974039              0           0          0           0           0   \n",
       "...                    ...         ...        ...         ...         ...   \n",
       "chr1_248681658           0           0          0           1           0   \n",
       "chr1_248681796           2           2          2           1           2   \n",
       "chr1_248682055           0           0          0           1           0   \n",
       "chr1_248682157           2           2          2           1           2   \n",
       "chr1_248685554           2           2          2           1           2   \n",
       "\n",
       "                GTEX-1A3MV  GTEX-P4PQ  GTEX-1QAET  GTEX-ZPCL  GTEX-1ICLY  \n",
       "id                                                                        \n",
       "chr1_946247              2          1           2          1           2  \n",
       "chr1_965125              0          1           0          1           0  \n",
       "chr1_973858              1          0           1          1           1  \n",
       "chr1_973929              0          0           0          0           0  \n",
       "chr1_974039              1          1           1          1           0  \n",
       "...                    ...        ...         ...        ...         ...  \n",
       "chr1_248681658           0          0           0          0           0  \n",
       "chr1_248681796           2          2           2          2           2  \n",
       "chr1_248682055           0          0           0          0           0  \n",
       "chr1_248682157           2          2           2          2           2  \n",
       "chr1_248685554           2          2           2          2           2  \n",
       "\n",
       "[2257 rows x 491 columns]"
      ]
     },
     "execution_count": 66,
     "metadata": {},
     "output_type": "execute_result"
    }
   ],
   "source": [
    "genotype"
   ]
  },
  {
   "cell_type": "code",
   "execution_count": 69,
   "metadata": {},
   "outputs": [
    {
     "data": {
      "text/html": [
       "<div>\n",
       "<style scoped>\n",
       "    .dataframe tbody tr th:only-of-type {\n",
       "        vertical-align: middle;\n",
       "    }\n",
       "\n",
       "    .dataframe tbody tr th {\n",
       "        vertical-align: top;\n",
       "    }\n",
       "\n",
       "    .dataframe thead th {\n",
       "        text-align: right;\n",
       "    }\n",
       "</style>\n",
       "<table border=\"1\" class=\"dataframe\">\n",
       "  <thead>\n",
       "    <tr style=\"text-align: right;\">\n",
       "      <th></th>\n",
       "      <th>GTEX-1LSNL</th>\n",
       "      <th>GTEX-YJ8O</th>\n",
       "      <th>GTEX-17HGU</th>\n",
       "      <th>GTEX-1I4MK</th>\n",
       "      <th>GTEX-1CAMR</th>\n",
       "      <th>GTEX-1I6K7</th>\n",
       "      <th>GTEX-QCQG</th>\n",
       "      <th>GTEX-U8XE</th>\n",
       "      <th>GTEX-1QEPI</th>\n",
       "      <th>GTEX-R3RS</th>\n",
       "      <th>...</th>\n",
       "      <th>GTEX-16MT8</th>\n",
       "      <th>GTEX-1MA7X</th>\n",
       "      <th>GTEX-QEL4</th>\n",
       "      <th>GTEX-13FTW</th>\n",
       "      <th>GTEX-1L5NE</th>\n",
       "      <th>GTEX-1A3MV</th>\n",
       "      <th>GTEX-P4PQ</th>\n",
       "      <th>GTEX-1QAET</th>\n",
       "      <th>GTEX-ZPCL</th>\n",
       "      <th>GTEX-1ICLY</th>\n",
       "    </tr>\n",
       "    <tr>\n",
       "      <th>id</th>\n",
       "      <th></th>\n",
       "      <th></th>\n",
       "      <th></th>\n",
       "      <th></th>\n",
       "      <th></th>\n",
       "      <th></th>\n",
       "      <th></th>\n",
       "      <th></th>\n",
       "      <th></th>\n",
       "      <th></th>\n",
       "      <th></th>\n",
       "      <th></th>\n",
       "      <th></th>\n",
       "      <th></th>\n",
       "      <th></th>\n",
       "      <th></th>\n",
       "      <th></th>\n",
       "      <th></th>\n",
       "      <th></th>\n",
       "      <th></th>\n",
       "      <th></th>\n",
       "    </tr>\n",
       "  </thead>\n",
       "  <tbody>\n",
       "    <tr>\n",
       "      <th>chr1_111241360</th>\n",
       "      <td>0</td>\n",
       "      <td>0</td>\n",
       "      <td>0</td>\n",
       "      <td>1</td>\n",
       "      <td>1</td>\n",
       "      <td>0</td>\n",
       "      <td>1</td>\n",
       "      <td>1</td>\n",
       "      <td>1</td>\n",
       "      <td>2</td>\n",
       "      <td>...</td>\n",
       "      <td>0</td>\n",
       "      <td>1</td>\n",
       "      <td>0</td>\n",
       "      <td>0</td>\n",
       "      <td>1</td>\n",
       "      <td>1</td>\n",
       "      <td>0</td>\n",
       "      <td>0</td>\n",
       "      <td>0</td>\n",
       "      <td>1</td>\n",
       "    </tr>\n",
       "    <tr>\n",
       "      <th>chr1_111241360</th>\n",
       "      <td>0</td>\n",
       "      <td>1</td>\n",
       "      <td>1</td>\n",
       "      <td>1</td>\n",
       "      <td>0</td>\n",
       "      <td>0</td>\n",
       "      <td>0</td>\n",
       "      <td>1</td>\n",
       "      <td>0</td>\n",
       "      <td>0</td>\n",
       "      <td>...</td>\n",
       "      <td>0</td>\n",
       "      <td>0</td>\n",
       "      <td>1</td>\n",
       "      <td>0</td>\n",
       "      <td>1</td>\n",
       "      <td>0</td>\n",
       "      <td>1</td>\n",
       "      <td>0</td>\n",
       "      <td>1</td>\n",
       "      <td>0</td>\n",
       "    </tr>\n",
       "  </tbody>\n",
       "</table>\n",
       "<p>2 rows × 491 columns</p>\n",
       "</div>"
      ],
      "text/plain": [
       "                GTEX-1LSNL  GTEX-YJ8O  GTEX-17HGU  GTEX-1I4MK  GTEX-1CAMR  \\\n",
       "id                                                                          \n",
       "chr1_111241360           0          0           0           1           1   \n",
       "chr1_111241360           0          1           1           1           0   \n",
       "\n",
       "                GTEX-1I6K7  GTEX-QCQG  GTEX-U8XE  GTEX-1QEPI  GTEX-R3RS  ...  \\\n",
       "id                                                                       ...   \n",
       "chr1_111241360           0          1          1           1          2  ...   \n",
       "chr1_111241360           0          0          1           0          0  ...   \n",
       "\n",
       "                GTEX-16MT8  GTEX-1MA7X  GTEX-QEL4  GTEX-13FTW  GTEX-1L5NE  \\\n",
       "id                                                                          \n",
       "chr1_111241360           0           1          0           0           1   \n",
       "chr1_111241360           0           0          1           0           1   \n",
       "\n",
       "                GTEX-1A3MV  GTEX-P4PQ  GTEX-1QAET  GTEX-ZPCL  GTEX-1ICLY  \n",
       "id                                                                        \n",
       "chr1_111241360           1          0           0          0           1  \n",
       "chr1_111241360           0          1           0          1           0  \n",
       "\n",
       "[2 rows x 491 columns]"
      ]
     },
     "execution_count": 69,
     "metadata": {},
     "output_type": "execute_result"
    }
   ],
   "source": [
    "genotype.loc['chr1_111241360']"
   ]
  },
  {
   "cell_type": "code",
   "execution_count": null,
   "metadata": {},
   "outputs": [],
   "source": []
  },
  {
   "cell_type": "code",
   "execution_count": 70,
   "metadata": {},
   "outputs": [],
   "source": [
    "genotype = pd.read_csv('/storage/cynthiawu/trans_eQTL/GTex.v8/Run3_070221/Adipose-Subcutaneous_Euro/chr2/chr2_SNP_intersect.tsv', sep='\\t', index_col=0)"
   ]
  },
  {
   "cell_type": "code",
   "execution_count": 71,
   "metadata": {},
   "outputs": [
    {
     "data": {
      "text/plain": [
       "GTEX-139TT    0\n",
       "GTEX-1C6VQ    1\n",
       "GTEX-1B932    0\n",
       "GTEX-1L5NE    2\n",
       "GTEX-XQ8I     0\n",
       "             ..\n",
       "GTEX-1AX9K    0\n",
       "GTEX-17EVP    0\n",
       "GTEX-REY6     1\n",
       "GTEX-ZQG8     0\n",
       "GTEX-16BQI    2\n",
       "Name: chr2_176169393, Length: 491, dtype: int64"
      ]
     },
     "execution_count": 71,
     "metadata": {},
     "output_type": "execute_result"
    }
   ],
   "source": [
    "genotype.loc['chr2_176169393']"
   ]
  },
  {
   "cell_type": "code",
   "execution_count": 91,
   "metadata": {},
   "outputs": [],
   "source": [
    "data = pd.read_csv('/storage/cynthiawu/trans_eQTL/GTex.v8/Run3_070221/Adipose-Subcutaneous_Euro/chr1/CPMA/gene-snp_eqtls_cpma-mix_converted_chr1', sep='\\t')"
   ]
  },
  {
   "cell_type": "code",
   "execution_count": 92,
   "metadata": {},
   "outputs": [
    {
     "data": {
      "text/plain": [
       "(array([  22.,   24.,   24.,   16.,  310.,   30.,   55.,   65.,   51.,\n",
       "        1658.]),\n",
       " array([0.0211462 , 0.11903158, 0.21691696, 0.31480234, 0.41268772,\n",
       "        0.5105731 , 0.60845848, 0.70634386, 0.80422924, 0.90211462,\n",
       "        1.        ]),\n",
       " <a list of 10 Patch objects>)"
      ]
     },
     "execution_count": 92,
     "metadata": {},
     "output_type": "execute_result"
    },
    {
     "data": {
      "image/png": "[encoded data removed]",
      "text/plain": [
       "<Figure size 432x288 with 1 Axes>"
      ]
     },
     "metadata": {},
     "output_type": "display_data"
    }
   ],
   "source": [
    "plt.hist(np.array(data['predicted_T']))\n"
   ]
  },
  {
   "cell_type": "code",
   "execution_count": 108,
   "metadata": {},
   "outputs": [
    {
     "name": "stderr",
     "output_type": "stream",
     "text": [
      "/storage/cynthiawu/miniconda3/envs/python3.6/lib/python3.6/site-packages/ipykernel_launcher.py:1: ParserWarning: Falling back to the 'python' engine because the 'c' engine does not support regex separators (separators > 1 char and different from '\\s+' are interpreted as regex); you can avoid this warning by specifying engine='python'.\n",
      "  \"\"\"Entry point for launching an IPython kernel.\n",
      "/storage/cynthiawu/miniconda3/envs/python3.6/lib/python3.6/site-packages/pandas/io/parsers.py:2420: FutureWarning: split() requires a non-empty pattern match.\n",
      "  yield pat.split(line.strip())\n",
      "/storage/cynthiawu/miniconda3/envs/python3.6/lib/python3.6/site-packages/pandas/io/parsers.py:2423: FutureWarning: split() requires a non-empty pattern match.\n",
      "  yield pat.split(line.strip())\n"
     ]
    }
   ],
   "source": [
    "data = pd.read_csv('/storage/polo/GTEx_v8_1000_genotypePCA/GTEx_1KG_merged.gtex.pca.evec', sep='\\s*', index_col=0)\n"
   ]
  },
  {
   "cell_type": "code",
   "execution_count": 109,
   "metadata": {},
   "outputs": [
    {
     "data": {
      "text/html": [
       "<div>\n",
       "<style scoped>\n",
       "    .dataframe tbody tr th:only-of-type {\n",
       "        vertical-align: middle;\n",
       "    }\n",
       "\n",
       "    .dataframe tbody tr th {\n",
       "        vertical-align: top;\n",
       "    }\n",
       "\n",
       "    .dataframe thead th {\n",
       "        text-align: right;\n",
       "    }\n",
       "</style>\n",
       "<table border=\"1\" class=\"dataframe\">\n",
       "  <thead>\n",
       "    <tr style=\"text-align: right;\">\n",
       "      <th></th>\n",
       "      <th>#eigvals:</th>\n",
       "      <th>42.777</th>\n",
       "      <th>4.607</th>\n",
       "      <th>4.453</th>\n",
       "      <th>4.192</th>\n",
       "      <th>4.106</th>\n",
       "      <th>3.953</th>\n",
       "      <th>3.884</th>\n",
       "      <th>3.787</th>\n",
       "      <th>3.691</th>\n",
       "      <th>3.659</th>\n",
       "    </tr>\n",
       "  </thead>\n",
       "  <tbody>\n",
       "    <tr>\n",
       "      <th>GTEX-1A3MV</th>\n",
       "      <td>0.0184</td>\n",
       "      <td>-0.0259</td>\n",
       "      <td>0.0706</td>\n",
       "      <td>0.0026</td>\n",
       "      <td>0.0346</td>\n",
       "      <td>0.0338</td>\n",
       "      <td>0.0470</td>\n",
       "      <td>-0.0476</td>\n",
       "      <td>0.0564</td>\n",
       "      <td>0.0238</td>\n",
       "      <td>European</td>\n",
       "    </tr>\n",
       "    <tr>\n",
       "      <th>GTEX-1A3MW</th>\n",
       "      <td>0.0097</td>\n",
       "      <td>-0.0067</td>\n",
       "      <td>-0.0396</td>\n",
       "      <td>-0.0461</td>\n",
       "      <td>-0.0216</td>\n",
       "      <td>0.0203</td>\n",
       "      <td>0.0383</td>\n",
       "      <td>-0.0340</td>\n",
       "      <td>-0.0561</td>\n",
       "      <td>-0.0399</td>\n",
       "      <td>European</td>\n",
       "    </tr>\n",
       "    <tr>\n",
       "      <th>GTEX-1A3MX</th>\n",
       "      <td>0.0146</td>\n",
       "      <td>0.0531</td>\n",
       "      <td>0.0050</td>\n",
       "      <td>0.0544</td>\n",
       "      <td>-0.0096</td>\n",
       "      <td>0.0432</td>\n",
       "      <td>-0.0698</td>\n",
       "      <td>0.0435</td>\n",
       "      <td>-0.0230</td>\n",
       "      <td>0.0036</td>\n",
       "      <td>European</td>\n",
       "    </tr>\n",
       "    <tr>\n",
       "      <th>GTEX-1A8FM</th>\n",
       "      <td>0.0132</td>\n",
       "      <td>-0.0011</td>\n",
       "      <td>0.0218</td>\n",
       "      <td>0.0174</td>\n",
       "      <td>-0.0662</td>\n",
       "      <td>0.0045</td>\n",
       "      <td>-0.0294</td>\n",
       "      <td>0.0420</td>\n",
       "      <td>-0.0098</td>\n",
       "      <td>-0.0299</td>\n",
       "      <td>European</td>\n",
       "    </tr>\n",
       "    <tr>\n",
       "      <th>GTEX-1A8G6</th>\n",
       "      <td>0.0129</td>\n",
       "      <td>0.0361</td>\n",
       "      <td>0.0097</td>\n",
       "      <td>0.0114</td>\n",
       "      <td>0.0281</td>\n",
       "      <td>-0.0085</td>\n",
       "      <td>0.0384</td>\n",
       "      <td>0.0310</td>\n",
       "      <td>0.0526</td>\n",
       "      <td>-0.0170</td>\n",
       "      <td>European</td>\n",
       "    </tr>\n",
       "    <tr>\n",
       "      <th>...</th>\n",
       "      <td>...</td>\n",
       "      <td>...</td>\n",
       "      <td>...</td>\n",
       "      <td>...</td>\n",
       "      <td>...</td>\n",
       "      <td>...</td>\n",
       "      <td>...</td>\n",
       "      <td>...</td>\n",
       "      <td>...</td>\n",
       "      <td>...</td>\n",
       "      <td>...</td>\n",
       "    </tr>\n",
       "    <tr>\n",
       "      <th>NA21601</th>\n",
       "      <td>-0.0867</td>\n",
       "      <td>0.0133</td>\n",
       "      <td>-0.0251</td>\n",
       "      <td>-0.0002</td>\n",
       "      <td>0.0054</td>\n",
       "      <td>0.0231</td>\n",
       "      <td>-0.0099</td>\n",
       "      <td>0.0072</td>\n",
       "      <td>0.0306</td>\n",
       "      <td>0.0007</td>\n",
       "      <td>NaN</td>\n",
       "    </tr>\n",
       "    <tr>\n",
       "      <th>NA21608</th>\n",
       "      <td>-0.0916</td>\n",
       "      <td>0.0052</td>\n",
       "      <td>0.0105</td>\n",
       "      <td>0.0281</td>\n",
       "      <td>-0.0036</td>\n",
       "      <td>0.0164</td>\n",
       "      <td>-0.0134</td>\n",
       "      <td>-0.0181</td>\n",
       "      <td>0.0037</td>\n",
       "      <td>-0.0482</td>\n",
       "      <td>NaN</td>\n",
       "    </tr>\n",
       "    <tr>\n",
       "      <th>NA21636</th>\n",
       "      <td>-0.0774</td>\n",
       "      <td>0.0041</td>\n",
       "      <td>-0.0209</td>\n",
       "      <td>0.0321</td>\n",
       "      <td>-0.0028</td>\n",
       "      <td>0.0148</td>\n",
       "      <td>-0.0083</td>\n",
       "      <td>0.0070</td>\n",
       "      <td>0.0138</td>\n",
       "      <td>-0.0233</td>\n",
       "      <td>NaN</td>\n",
       "    </tr>\n",
       "    <tr>\n",
       "      <th>NA21648</th>\n",
       "      <td>-0.0801</td>\n",
       "      <td>-0.0168</td>\n",
       "      <td>-0.0280</td>\n",
       "      <td>-0.0042</td>\n",
       "      <td>-0.0122</td>\n",
       "      <td>0.0075</td>\n",
       "      <td>0.0082</td>\n",
       "      <td>0.0117</td>\n",
       "      <td>0.0415</td>\n",
       "      <td>-0.0157</td>\n",
       "      <td>NaN</td>\n",
       "    </tr>\n",
       "    <tr>\n",
       "      <th>NA21718</th>\n",
       "      <td>-0.0851</td>\n",
       "      <td>-0.0198</td>\n",
       "      <td>0.0059</td>\n",
       "      <td>0.0007</td>\n",
       "      <td>0.0204</td>\n",
       "      <td>0.0297</td>\n",
       "      <td>-0.0145</td>\n",
       "      <td>0.0143</td>\n",
       "      <td>-0.0005</td>\n",
       "      <td>0.0383</td>\n",
       "      <td>NaN</td>\n",
       "    </tr>\n",
       "  </tbody>\n",
       "</table>\n",
       "<p>3174 rows × 11 columns</p>\n",
       "</div>"
      ],
      "text/plain": [
       "            #eigvals:  42.777   4.607   4.453   4.192   4.106   3.953   3.884  \\\n",
       "GTEX-1A3MV     0.0184 -0.0259  0.0706  0.0026  0.0346  0.0338  0.0470 -0.0476   \n",
       "GTEX-1A3MW     0.0097 -0.0067 -0.0396 -0.0461 -0.0216  0.0203  0.0383 -0.0340   \n",
       "GTEX-1A3MX     0.0146  0.0531  0.0050  0.0544 -0.0096  0.0432 -0.0698  0.0435   \n",
       "GTEX-1A8FM     0.0132 -0.0011  0.0218  0.0174 -0.0662  0.0045 -0.0294  0.0420   \n",
       "GTEX-1A8G6     0.0129  0.0361  0.0097  0.0114  0.0281 -0.0085  0.0384  0.0310   \n",
       "...               ...     ...     ...     ...     ...     ...     ...     ...   \n",
       "NA21601       -0.0867  0.0133 -0.0251 -0.0002  0.0054  0.0231 -0.0099  0.0072   \n",
       "NA21608       -0.0916  0.0052  0.0105  0.0281 -0.0036  0.0164 -0.0134 -0.0181   \n",
       "NA21636       -0.0774  0.0041 -0.0209  0.0321 -0.0028  0.0148 -0.0083  0.0070   \n",
       "NA21648       -0.0801 -0.0168 -0.0280 -0.0042 -0.0122  0.0075  0.0082  0.0117   \n",
       "NA21718       -0.0851 -0.0198  0.0059  0.0007  0.0204  0.0297 -0.0145  0.0143   \n",
       "\n",
       "             3.787   3.691     3.659  \n",
       "GTEX-1A3MV  0.0564  0.0238  European  \n",
       "GTEX-1A3MW -0.0561 -0.0399  European  \n",
       "GTEX-1A3MX -0.0230  0.0036  European  \n",
       "GTEX-1A8FM -0.0098 -0.0299  European  \n",
       "GTEX-1A8G6  0.0526 -0.0170  European  \n",
       "...            ...     ...       ...  \n",
       "NA21601     0.0306  0.0007       NaN  \n",
       "NA21608     0.0037 -0.0482       NaN  \n",
       "NA21636     0.0138 -0.0233       NaN  \n",
       "NA21648     0.0415 -0.0157       NaN  \n",
       "NA21718    -0.0005  0.0383       NaN  \n",
       "\n",
       "[3174 rows x 11 columns]"
      ]
     },
     "execution_count": 109,
     "metadata": {},
     "output_type": "execute_result"
    }
   ],
   "source": [
    "data"
   ]
  },
  {
   "cell_type": "code",
   "execution_count": 117,
   "metadata": {},
   "outputs": [
    {
     "data": {
      "text/plain": [
       "{'AfricanAmerican', 'Amerindian', 'Asian', 'European', 'Unknown', nan}"
      ]
     },
     "execution_count": 117,
     "metadata": {},
     "output_type": "execute_result"
    }
   ],
   "source": [
    "set(data['3.659'])"
   ]
  },
  {
   "cell_type": "code",
   "execution_count": 142,
   "metadata": {},
   "outputs": [],
   "source": [
    "colors = []\n",
    "trans = []\n",
    "for sample in data['3.659']:\n",
    "    if sample == 'European':\n",
    "        colors.append('red')\n",
    "        trans.append(1)\n",
    "    elif sample == 'Amerindian':\n",
    "        colors.append('gold') \n",
    "        trans.append(1)\n",
    "    elif sample == 'Asian':\n",
    "        colors.append('green')\n",
    "        trans.append(1)\n",
    "    elif sample == 'AfricanAmerican':\n",
    "        colors.append('blue')\n",
    "        trans.append(1)\n",
    "    elif sample == 'Unknown':\n",
    "        colors.append('purple')\n",
    "        trans.append(1)\n",
    "    else:\n",
    "        colors.append('gray')\n",
    "        trans.append(0)\n",
    "    "
   ]
  },
  {
   "cell_type": "code",
   "execution_count": 130,
   "metadata": {},
   "outputs": [
    {
     "data": {
      "text/plain": [
       "<matplotlib.axes._subplots.AxesSubplot at 0x7f36d67a6198>"
      ]
     },
     "execution_count": 130,
     "metadata": {},
     "output_type": "execute_result"
    },
    {
     "data": {
      "image/png": "[encoded data removed]",
      "text/plain": [
       "<Figure size 432x288 with 1 Axes>"
      ]
     },
     "metadata": {},
     "output_type": "display_data"
    }
   ],
   "source": [
    "data.plot.scatter(x='#eigvals:', y='42.777', c=colors)"
   ]
  },
  {
   "cell_type": "code",
   "execution_count": 163,
   "metadata": {},
   "outputs": [
    {
     "data": {
      "text/plain": [
       "<matplotlib.axes._subplots.AxesSubplot at 0x7f36dcd5f0f0>"
      ]
     },
     "execution_count": 163,
     "metadata": {},
     "output_type": "execute_result"
    },
    {
     "data": {
      "image/png": "[encoded data removed]",
      "text/plain": [
       "<Figure size 432x288 with 1 Axes>"
      ]
     },
     "metadata": {},
     "output_type": "display_data"
    }
   ],
   "source": [
    "data[:856].plot.scatter(x='#eigvals:', y='42.777', c=colors[:856])"
   ]
  },
  {
   "cell_type": "code",
   "execution_count": 165,
   "metadata": {},
   "outputs": [
    {
     "data": {
      "text/plain": [
       "<matplotlib.axes._subplots.AxesSubplot at 0x7f36c75250f0>"
      ]
     },
     "execution_count": 165,
     "metadata": {},
     "output_type": "execute_result"
    },
    {
     "data": {
      "image/png": "[encoded data removed]",
      "text/plain": [
       "<Figure size 432x288 with 1 Axes>"
      ]
     },
     "metadata": {},
     "output_type": "display_data"
    }
   ],
   "source": [
    "data.plot.scatter(x='4.607', y='4.453', c=colors)"
   ]
  },
  {
   "cell_type": "code",
   "execution_count": 164,
   "metadata": {},
   "outputs": [
    {
     "data": {
      "text/plain": [
       "<matplotlib.axes._subplots.AxesSubplot at 0x7f36c711b908>"
      ]
     },
     "execution_count": 164,
     "metadata": {},
     "output_type": "execute_result"
    },
    {
     "data": {
      "image/png": "[encoded data removed]",
      "text/plain": [
       "<Figure size 432x288 with 1 Axes>"
      ]
     },
     "metadata": {},
     "output_type": "display_data"
    }
   ],
   "source": [
    "data[:856].plot.scatter(x='4.607', y='4.453', c=colors[:856])"
   ]
  },
  {
   "cell_type": "code",
   "execution_count": 162,
   "metadata": {},
   "outputs": [
    {
     "data": {
      "text/html": [
       "<div>\n",
       "<style scoped>\n",
       "    .dataframe tbody tr th:only-of-type {\n",
       "        vertical-align: middle;\n",
       "    }\n",
       "\n",
       "    .dataframe tbody tr th {\n",
       "        vertical-align: top;\n",
       "    }\n",
       "\n",
       "    .dataframe thead th {\n",
       "        text-align: right;\n",
       "    }\n",
       "</style>\n",
       "<table border=\"1\" class=\"dataframe\">\n",
       "  <thead>\n",
       "    <tr style=\"text-align: right;\">\n",
       "      <th></th>\n",
       "      <th>#eigvals:</th>\n",
       "      <th>42.777</th>\n",
       "      <th>4.607</th>\n",
       "      <th>4.453</th>\n",
       "      <th>4.192</th>\n",
       "      <th>4.106</th>\n",
       "      <th>3.953</th>\n",
       "      <th>3.884</th>\n",
       "      <th>3.787</th>\n",
       "      <th>3.691</th>\n",
       "      <th>3.659</th>\n",
       "    </tr>\n",
       "  </thead>\n",
       "  <tbody>\n",
       "    <tr>\n",
       "      <th>GTEX-1A3MV</th>\n",
       "      <td>0.0184</td>\n",
       "      <td>-0.0259</td>\n",
       "      <td>0.0706</td>\n",
       "      <td>0.0026</td>\n",
       "      <td>0.0346</td>\n",
       "      <td>0.0338</td>\n",
       "      <td>0.0470</td>\n",
       "      <td>-0.0476</td>\n",
       "      <td>0.0564</td>\n",
       "      <td>0.0238</td>\n",
       "      <td>European</td>\n",
       "    </tr>\n",
       "    <tr>\n",
       "      <th>GTEX-1A3MW</th>\n",
       "      <td>0.0097</td>\n",
       "      <td>-0.0067</td>\n",
       "      <td>-0.0396</td>\n",
       "      <td>-0.0461</td>\n",
       "      <td>-0.0216</td>\n",
       "      <td>0.0203</td>\n",
       "      <td>0.0383</td>\n",
       "      <td>-0.0340</td>\n",
       "      <td>-0.0561</td>\n",
       "      <td>-0.0399</td>\n",
       "      <td>European</td>\n",
       "    </tr>\n",
       "    <tr>\n",
       "      <th>GTEX-1A3MX</th>\n",
       "      <td>0.0146</td>\n",
       "      <td>0.0531</td>\n",
       "      <td>0.0050</td>\n",
       "      <td>0.0544</td>\n",
       "      <td>-0.0096</td>\n",
       "      <td>0.0432</td>\n",
       "      <td>-0.0698</td>\n",
       "      <td>0.0435</td>\n",
       "      <td>-0.0230</td>\n",
       "      <td>0.0036</td>\n",
       "      <td>European</td>\n",
       "    </tr>\n",
       "    <tr>\n",
       "      <th>GTEX-1A8FM</th>\n",
       "      <td>0.0132</td>\n",
       "      <td>-0.0011</td>\n",
       "      <td>0.0218</td>\n",
       "      <td>0.0174</td>\n",
       "      <td>-0.0662</td>\n",
       "      <td>0.0045</td>\n",
       "      <td>-0.0294</td>\n",
       "      <td>0.0420</td>\n",
       "      <td>-0.0098</td>\n",
       "      <td>-0.0299</td>\n",
       "      <td>European</td>\n",
       "    </tr>\n",
       "    <tr>\n",
       "      <th>GTEX-1A8G6</th>\n",
       "      <td>0.0129</td>\n",
       "      <td>0.0361</td>\n",
       "      <td>0.0097</td>\n",
       "      <td>0.0114</td>\n",
       "      <td>0.0281</td>\n",
       "      <td>-0.0085</td>\n",
       "      <td>0.0384</td>\n",
       "      <td>0.0310</td>\n",
       "      <td>0.0526</td>\n",
       "      <td>-0.0170</td>\n",
       "      <td>European</td>\n",
       "    </tr>\n",
       "    <tr>\n",
       "      <th>...</th>\n",
       "      <td>...</td>\n",
       "      <td>...</td>\n",
       "      <td>...</td>\n",
       "      <td>...</td>\n",
       "      <td>...</td>\n",
       "      <td>...</td>\n",
       "      <td>...</td>\n",
       "      <td>...</td>\n",
       "      <td>...</td>\n",
       "      <td>...</td>\n",
       "      <td>...</td>\n",
       "    </tr>\n",
       "    <tr>\n",
       "      <th>GTEX-ZYWO</th>\n",
       "      <td>0.0087</td>\n",
       "      <td>-0.0296</td>\n",
       "      <td>-0.0040</td>\n",
       "      <td>0.0097</td>\n",
       "      <td>-0.0014</td>\n",
       "      <td>0.0116</td>\n",
       "      <td>-0.0041</td>\n",
       "      <td>0.0282</td>\n",
       "      <td>-0.0175</td>\n",
       "      <td>0.0975</td>\n",
       "      <td>European</td>\n",
       "    </tr>\n",
       "    <tr>\n",
       "      <th>GTEX-ZYY3</th>\n",
       "      <td>0.0026</td>\n",
       "      <td>-0.0051</td>\n",
       "      <td>-0.0119</td>\n",
       "      <td>-0.0692</td>\n",
       "      <td>0.0352</td>\n",
       "      <td>-0.0191</td>\n",
       "      <td>-0.0632</td>\n",
       "      <td>-0.0037</td>\n",
       "      <td>-0.0073</td>\n",
       "      <td>-0.0586</td>\n",
       "      <td>European</td>\n",
       "    </tr>\n",
       "    <tr>\n",
       "      <th>GTEX-ZZ64</th>\n",
       "      <td>0.0147</td>\n",
       "      <td>-0.0317</td>\n",
       "      <td>-0.0431</td>\n",
       "      <td>0.0117</td>\n",
       "      <td>-0.0463</td>\n",
       "      <td>0.0345</td>\n",
       "      <td>0.0027</td>\n",
       "      <td>-0.0215</td>\n",
       "      <td>-0.0590</td>\n",
       "      <td>-0.0243</td>\n",
       "      <td>European</td>\n",
       "    </tr>\n",
       "    <tr>\n",
       "      <th>GTEX-ZZPT</th>\n",
       "      <td>0.0169</td>\n",
       "      <td>-0.0618</td>\n",
       "      <td>-0.0795</td>\n",
       "      <td>0.0236</td>\n",
       "      <td>0.0821</td>\n",
       "      <td>0.0702</td>\n",
       "      <td>0.0046</td>\n",
       "      <td>-0.0287</td>\n",
       "      <td>-0.0053</td>\n",
       "      <td>-0.0195</td>\n",
       "      <td>European</td>\n",
       "    </tr>\n",
       "    <tr>\n",
       "      <th>GTEX-ZZPU</th>\n",
       "      <td>0.0157</td>\n",
       "      <td>0.0393</td>\n",
       "      <td>-0.0527</td>\n",
       "      <td>-0.0095</td>\n",
       "      <td>-0.0363</td>\n",
       "      <td>0.0248</td>\n",
       "      <td>0.0375</td>\n",
       "      <td>0.0105</td>\n",
       "      <td>-0.0385</td>\n",
       "      <td>0.0118</td>\n",
       "      <td>European</td>\n",
       "    </tr>\n",
       "  </tbody>\n",
       "</table>\n",
       "<p>856 rows × 11 columns</p>\n",
       "</div>"
      ],
      "text/plain": [
       "            #eigvals:  42.777   4.607   4.453   4.192   4.106   3.953   3.884  \\\n",
       "GTEX-1A3MV     0.0184 -0.0259  0.0706  0.0026  0.0346  0.0338  0.0470 -0.0476   \n",
       "GTEX-1A3MW     0.0097 -0.0067 -0.0396 -0.0461 -0.0216  0.0203  0.0383 -0.0340   \n",
       "GTEX-1A3MX     0.0146  0.0531  0.0050  0.0544 -0.0096  0.0432 -0.0698  0.0435   \n",
       "GTEX-1A8FM     0.0132 -0.0011  0.0218  0.0174 -0.0662  0.0045 -0.0294  0.0420   \n",
       "GTEX-1A8G6     0.0129  0.0361  0.0097  0.0114  0.0281 -0.0085  0.0384  0.0310   \n",
       "...               ...     ...     ...     ...     ...     ...     ...     ...   \n",
       "GTEX-ZYWO      0.0087 -0.0296 -0.0040  0.0097 -0.0014  0.0116 -0.0041  0.0282   \n",
       "GTEX-ZYY3      0.0026 -0.0051 -0.0119 -0.0692  0.0352 -0.0191 -0.0632 -0.0037   \n",
       "GTEX-ZZ64      0.0147 -0.0317 -0.0431  0.0117 -0.0463  0.0345  0.0027 -0.0215   \n",
       "GTEX-ZZPT      0.0169 -0.0618 -0.0795  0.0236  0.0821  0.0702  0.0046 -0.0287   \n",
       "GTEX-ZZPU      0.0157  0.0393 -0.0527 -0.0095 -0.0363  0.0248  0.0375  0.0105   \n",
       "\n",
       "             3.787   3.691     3.659  \n",
       "GTEX-1A3MV  0.0564  0.0238  European  \n",
       "GTEX-1A3MW -0.0561 -0.0399  European  \n",
       "GTEX-1A3MX -0.0230  0.0036  European  \n",
       "GTEX-1A8FM -0.0098 -0.0299  European  \n",
       "GTEX-1A8G6  0.0526 -0.0170  European  \n",
       "...            ...     ...       ...  \n",
       "GTEX-ZYWO  -0.0175  0.0975  European  \n",
       "GTEX-ZYY3  -0.0073 -0.0586  European  \n",
       "GTEX-ZZ64  -0.0590 -0.0243  European  \n",
       "GTEX-ZZPT  -0.0053 -0.0195  European  \n",
       "GTEX-ZZPU  -0.0385  0.0118  European  \n",
       "\n",
       "[856 rows x 11 columns]"
      ]
     },
     "execution_count": 162,
     "metadata": {},
     "output_type": "execute_result"
    }
   ],
   "source": [
    "data[:856]"
   ]
  },
  {
   "cell_type": "code",
   "execution_count": 23,
   "metadata": {},
   "outputs": [],
   "source": [
    "adipose = pd.read_csv('/storage/cynthiawu/trans_eQTL/GTex.v8/Run3_070221/Adipose-Subcutaneous_Euro/matrixeQTL_PCs_sig_results_factors_pairwise', sep='\\t', index_col=0)\n",
    "nerve = pd.read_csv('/storage/cynthiawu/trans_eQTL/GTex.v8/Run3_070221/Nerve-Tibial/matrixeQTL_PCs_sig_results_factors_pairwise', sep='\\t', index_col=0)\n"
   ]
  },
  {
   "cell_type": "code",
   "execution_count": 24,
   "metadata": {},
   "outputs": [],
   "source": [
    "intersect = pd.merge(nerve, adipose, left_index=True, right_index=True)\n"
   ]
  },
  {
   "cell_type": "code",
   "execution_count": 180,
   "metadata": {},
   "outputs": [
    {
     "data": {
      "text/html": [
       "<div>\n",
       "<style scoped>\n",
       "    .dataframe tbody tr th:only-of-type {\n",
       "        vertical-align: middle;\n",
       "    }\n",
       "\n",
       "    .dataframe tbody tr th {\n",
       "        vertical-align: top;\n",
       "    }\n",
       "\n",
       "    .dataframe thead th {\n",
       "        text-align: right;\n",
       "    }\n",
       "</style>\n",
       "<table border=\"1\" class=\"dataframe\">\n",
       "  <thead>\n",
       "    <tr style=\"text-align: right;\">\n",
       "      <th></th>\n",
       "      <th>gene_x</th>\n",
       "      <th>beta_x</th>\n",
       "      <th>t-stat_x</th>\n",
       "      <th>p-value_x</th>\n",
       "      <th>FDR_x</th>\n",
       "      <th>gene_y</th>\n",
       "      <th>beta_y</th>\n",
       "      <th>t-stat_y</th>\n",
       "      <th>p-value_y</th>\n",
       "      <th>FDR_y</th>\n",
       "    </tr>\n",
       "    <tr>\n",
       "      <th>SNP</th>\n",
       "      <th></th>\n",
       "      <th></th>\n",
       "      <th></th>\n",
       "      <th></th>\n",
       "      <th></th>\n",
       "      <th></th>\n",
       "      <th></th>\n",
       "      <th></th>\n",
       "      <th></th>\n",
       "      <th></th>\n",
       "    </tr>\n",
       "  </thead>\n",
       "  <tbody>\n",
       "    <tr>\n",
       "      <th>chr10_101580387</th>\n",
       "      <td>V2</td>\n",
       "      <td>0.163757</td>\n",
       "      <td>2.257405</td>\n",
       "      <td>0.024478</td>\n",
       "      <td>0.97004</td>\n",
       "      <td>V6</td>\n",
       "      <td>-0.201250</td>\n",
       "      <td>-2.976140</td>\n",
       "      <td>0.003067</td>\n",
       "      <td>0.775617</td>\n",
       "    </tr>\n",
       "    <tr>\n",
       "      <th>chr10_101580387</th>\n",
       "      <td>V2</td>\n",
       "      <td>0.163757</td>\n",
       "      <td>2.257405</td>\n",
       "      <td>0.024478</td>\n",
       "      <td>0.97004</td>\n",
       "      <td>V5</td>\n",
       "      <td>-0.167227</td>\n",
       "      <td>-2.447599</td>\n",
       "      <td>0.014741</td>\n",
       "      <td>0.988280</td>\n",
       "    </tr>\n",
       "    <tr>\n",
       "      <th>chr10_101694645</th>\n",
       "      <td>V2</td>\n",
       "      <td>0.178730</td>\n",
       "      <td>2.155739</td>\n",
       "      <td>0.031652</td>\n",
       "      <td>0.97004</td>\n",
       "      <td>V6</td>\n",
       "      <td>-0.169579</td>\n",
       "      <td>-2.208801</td>\n",
       "      <td>0.027663</td>\n",
       "      <td>0.988280</td>\n",
       "    </tr>\n",
       "    <tr>\n",
       "      <th>chr10_101694645</th>\n",
       "      <td>V2</td>\n",
       "      <td>0.178730</td>\n",
       "      <td>2.155739</td>\n",
       "      <td>0.031652</td>\n",
       "      <td>0.97004</td>\n",
       "      <td>V5</td>\n",
       "      <td>-0.162074</td>\n",
       "      <td>-2.094490</td>\n",
       "      <td>0.036743</td>\n",
       "      <td>0.988280</td>\n",
       "    </tr>\n",
       "    <tr>\n",
       "      <th>chr10_102415138</th>\n",
       "      <td>V3</td>\n",
       "      <td>-0.205121</td>\n",
       "      <td>-2.003779</td>\n",
       "      <td>0.045713</td>\n",
       "      <td>0.97004</td>\n",
       "      <td>V4</td>\n",
       "      <td>0.207629</td>\n",
       "      <td>2.064664</td>\n",
       "      <td>0.039495</td>\n",
       "      <td>0.988280</td>\n",
       "    </tr>\n",
       "    <tr>\n",
       "      <th>...</th>\n",
       "      <td>...</td>\n",
       "      <td>...</td>\n",
       "      <td>...</td>\n",
       "      <td>...</td>\n",
       "      <td>...</td>\n",
       "      <td>...</td>\n",
       "      <td>...</td>\n",
       "      <td>...</td>\n",
       "      <td>...</td>\n",
       "      <td>...</td>\n",
       "    </tr>\n",
       "    <tr>\n",
       "      <th>chr9_97308069</th>\n",
       "      <td>V2</td>\n",
       "      <td>-0.194489</td>\n",
       "      <td>-2.483943</td>\n",
       "      <td>0.013369</td>\n",
       "      <td>0.99908</td>\n",
       "      <td>V6</td>\n",
       "      <td>0.206207</td>\n",
       "      <td>2.797351</td>\n",
       "      <td>0.005361</td>\n",
       "      <td>0.671123</td>\n",
       "    </tr>\n",
       "    <tr>\n",
       "      <th>chr9_97343500</th>\n",
       "      <td>V2</td>\n",
       "      <td>-0.183400</td>\n",
       "      <td>-2.331452</td>\n",
       "      <td>0.020185</td>\n",
       "      <td>0.99908</td>\n",
       "      <td>V6</td>\n",
       "      <td>0.193159</td>\n",
       "      <td>2.623733</td>\n",
       "      <td>0.008976</td>\n",
       "      <td>0.822430</td>\n",
       "    </tr>\n",
       "    <tr>\n",
       "      <th>chr9_97922437</th>\n",
       "      <td>V2</td>\n",
       "      <td>0.133155</td>\n",
       "      <td>1.986201</td>\n",
       "      <td>0.047638</td>\n",
       "      <td>0.99908</td>\n",
       "      <td>V4</td>\n",
       "      <td>-0.134069</td>\n",
       "      <td>-2.077030</td>\n",
       "      <td>0.038333</td>\n",
       "      <td>0.954862</td>\n",
       "    </tr>\n",
       "    <tr>\n",
       "      <th>chr9_98293840</th>\n",
       "      <td>V5</td>\n",
       "      <td>0.203279</td>\n",
       "      <td>2.289944</td>\n",
       "      <td>0.022502</td>\n",
       "      <td>0.99908</td>\n",
       "      <td>V5</td>\n",
       "      <td>-0.184412</td>\n",
       "      <td>-2.221278</td>\n",
       "      <td>0.026801</td>\n",
       "      <td>0.953368</td>\n",
       "    </tr>\n",
       "    <tr>\n",
       "      <th>chr9_98796327</th>\n",
       "      <td>V4</td>\n",
       "      <td>-0.159526</td>\n",
       "      <td>-2.253205</td>\n",
       "      <td>0.024744</td>\n",
       "      <td>0.99908</td>\n",
       "      <td>V4</td>\n",
       "      <td>-0.148360</td>\n",
       "      <td>-2.137910</td>\n",
       "      <td>0.033032</td>\n",
       "      <td>0.953368</td>\n",
       "    </tr>\n",
       "  </tbody>\n",
       "</table>\n",
       "<p>1377 rows × 10 columns</p>\n",
       "</div>"
      ],
      "text/plain": [
       "                gene_x    beta_x  t-stat_x  p-value_x    FDR_x gene_y  \\\n",
       "SNP                                                                     \n",
       "chr10_101580387     V2  0.163757  2.257405   0.024478  0.97004     V6   \n",
       "chr10_101580387     V2  0.163757  2.257405   0.024478  0.97004     V5   \n",
       "chr10_101694645     V2  0.178730  2.155739   0.031652  0.97004     V6   \n",
       "chr10_101694645     V2  0.178730  2.155739   0.031652  0.97004     V5   \n",
       "chr10_102415138     V3 -0.205121 -2.003779   0.045713  0.97004     V4   \n",
       "...                ...       ...       ...        ...      ...    ...   \n",
       "chr9_97308069       V2 -0.194489 -2.483943   0.013369  0.99908     V6   \n",
       "chr9_97343500       V2 -0.183400 -2.331452   0.020185  0.99908     V6   \n",
       "chr9_97922437       V2  0.133155  1.986201   0.047638  0.99908     V4   \n",
       "chr9_98293840       V5  0.203279  2.289944   0.022502  0.99908     V5   \n",
       "chr9_98796327       V4 -0.159526 -2.253205   0.024744  0.99908     V4   \n",
       "\n",
       "                   beta_y  t-stat_y  p-value_y     FDR_y  \n",
       "SNP                                                       \n",
       "chr10_101580387 -0.201250 -2.976140   0.003067  0.775617  \n",
       "chr10_101580387 -0.167227 -2.447599   0.014741  0.988280  \n",
       "chr10_101694645 -0.169579 -2.208801   0.027663  0.988280  \n",
       "chr10_101694645 -0.162074 -2.094490   0.036743  0.988280  \n",
       "chr10_102415138  0.207629  2.064664   0.039495  0.988280  \n",
       "...                   ...       ...        ...       ...  \n",
       "chr9_97308069    0.206207  2.797351   0.005361  0.671123  \n",
       "chr9_97343500    0.193159  2.623733   0.008976  0.822430  \n",
       "chr9_97922437   -0.134069 -2.077030   0.038333  0.954862  \n",
       "chr9_98293840   -0.184412 -2.221278   0.026801  0.953368  \n",
       "chr9_98796327   -0.148360 -2.137910   0.033032  0.953368  \n",
       "\n",
       "[1377 rows x 10 columns]"
      ]
     },
     "execution_count": 180,
     "metadata": {},
     "output_type": "execute_result"
    }
   ],
   "source": [
    "intersect"
   ]
  },
  {
   "cell_type": "code",
   "execution_count": 183,
   "metadata": {},
   "outputs": [
    {
     "data": {
      "text/plain": [
       "<matplotlib.axes._subplots.AxesSubplot at 0x7f36da04f128>"
      ]
     },
     "execution_count": 183,
     "metadata": {},
     "output_type": "execute_result"
    },
    {
     "data": {
      "image/png": "[encoded data removed]",
      "text/plain": [
       "<Figure size 432x288 with 1 Axes>"
      ]
     },
     "metadata": {},
     "output_type": "display_data"
    }
   ],
   "source": [
    "intersect.plot.scatter('p-value_x', 'p-value_y')"
   ]
  },
  {
   "cell_type": "code",
   "execution_count": 27,
   "metadata": {},
   "outputs": [
    {
     "data": {
      "text/plain": [
       "Text(0, 0.5, 'Adipose 5 peer factors -log(pvalue)')"
      ]
     },
     "execution_count": 27,
     "metadata": {},
     "output_type": "execute_result"
    },
    {
     "data": {
      "image/png": "[encoded data removed]",
      "text/plain": [
       "<Figure size 432x288 with 1 Axes>"
      ]
     },
     "metadata": {},
     "output_type": "display_data"
    }
   ],
   "source": [
    "plt.scatter(np.sign(intersect['beta_x'])*-np.log(intersect['p-value_x']), np.sign(intersect['beta_y'])*-np.log(intersect['p-value_y']), s=4)\n",
    "plt.title('Matrix eqtl: Significant hits in both Nerve and Adipose tissues')\n",
    "plt.xlabel('Nerve 5 peer factors -log(pvalue)')\n",
    "plt.ylabel('Adipose 5 peer factors -log(pvalue)')"
   ]
  },
  {
   "cell_type": "code",
   "execution_count": 190,
   "metadata": {},
   "outputs": [
    {
     "data": {
      "text/plain": [
       "SNP\n",
       "chr10_101580387    3.709984\n",
       "chr10_101580387    3.709984\n",
       "chr10_101694645    3.452960\n",
       "chr10_101694645    3.452960\n",
       "chr10_102415138   -3.085365\n",
       "                     ...   \n",
       "chr9_97308069     -4.314807\n",
       "chr9_97343500     -3.902795\n",
       "chr9_97922437      3.044122\n",
       "chr9_98293840      3.794129\n",
       "chr9_98796327     -3.699187\n",
       "Length: 1377, dtype: float64"
      ]
     },
     "execution_count": 190,
     "metadata": {},
     "output_type": "execute_result"
    }
   ],
   "source": [
    "np.sign(intersect['beta_x'])*-np.log(intersect['p-value_x'])"
   ]
  },
  {
   "cell_type": "code",
   "execution_count": 30,
   "metadata": {},
   "outputs": [
    {
     "data": {
      "text/html": [
       "<div>\n",
       "<style scoped>\n",
       "    .dataframe tbody tr th:only-of-type {\n",
       "        vertical-align: middle;\n",
       "    }\n",
       "\n",
       "    .dataframe tbody tr th {\n",
       "        vertical-align: top;\n",
       "    }\n",
       "\n",
       "    .dataframe thead th {\n",
       "        text-align: right;\n",
       "    }\n",
       "</style>\n",
       "<table border=\"1\" class=\"dataframe\">\n",
       "  <thead>\n",
       "    <tr style=\"text-align: right;\">\n",
       "      <th></th>\n",
       "      <th>gene_x</th>\n",
       "      <th>beta_x</th>\n",
       "      <th>t-stat_x</th>\n",
       "      <th>p-value_x</th>\n",
       "      <th>FDR_x</th>\n",
       "      <th>gene_y</th>\n",
       "      <th>beta_y</th>\n",
       "      <th>t-stat_y</th>\n",
       "      <th>p-value_y</th>\n",
       "      <th>FDR_y</th>\n",
       "    </tr>\n",
       "    <tr>\n",
       "      <th>SNP</th>\n",
       "      <th></th>\n",
       "      <th></th>\n",
       "      <th></th>\n",
       "      <th></th>\n",
       "      <th></th>\n",
       "      <th></th>\n",
       "      <th></th>\n",
       "      <th></th>\n",
       "      <th></th>\n",
       "      <th></th>\n",
       "    </tr>\n",
       "  </thead>\n",
       "  <tbody>\n",
       "    <tr>\n",
       "      <th>chr10_1000772</th>\n",
       "      <td>V21</td>\n",
       "      <td>0.159836</td>\n",
       "      <td>2.392305</td>\n",
       "      <td>0.017166</td>\n",
       "      <td>0.946242</td>\n",
       "      <td>V8</td>\n",
       "      <td>0.135489</td>\n",
       "      <td>2.059043</td>\n",
       "      <td>0.040032</td>\n",
       "      <td>0.991643</td>\n",
       "    </tr>\n",
       "    <tr>\n",
       "      <th>chr10_100152307</th>\n",
       "      <td>V12</td>\n",
       "      <td>0.225361</td>\n",
       "      <td>3.304337</td>\n",
       "      <td>0.001031</td>\n",
       "      <td>0.859855</td>\n",
       "      <td>V9</td>\n",
       "      <td>-0.136639</td>\n",
       "      <td>-2.054890</td>\n",
       "      <td>0.040434</td>\n",
       "      <td>0.991643</td>\n",
       "    </tr>\n",
       "    <tr>\n",
       "      <th>chr10_100152307</th>\n",
       "      <td>V12</td>\n",
       "      <td>0.225361</td>\n",
       "      <td>3.304337</td>\n",
       "      <td>0.001031</td>\n",
       "      <td>0.859855</td>\n",
       "      <td>V22</td>\n",
       "      <td>0.134739</td>\n",
       "      <td>2.043328</td>\n",
       "      <td>0.041569</td>\n",
       "      <td>0.991643</td>\n",
       "    </tr>\n",
       "    <tr>\n",
       "      <th>chr10_100329906</th>\n",
       "      <td>V6</td>\n",
       "      <td>0.210019</td>\n",
       "      <td>2.191125</td>\n",
       "      <td>0.028972</td>\n",
       "      <td>0.986394</td>\n",
       "      <td>V15</td>\n",
       "      <td>-0.223003</td>\n",
       "      <td>-2.463087</td>\n",
       "      <td>0.014127</td>\n",
       "      <td>0.886491</td>\n",
       "    </tr>\n",
       "    <tr>\n",
       "      <th>chr10_100463200</th>\n",
       "      <td>V23</td>\n",
       "      <td>-0.189393</td>\n",
       "      <td>-2.378364</td>\n",
       "      <td>0.017821</td>\n",
       "      <td>0.946242</td>\n",
       "      <td>V12</td>\n",
       "      <td>0.152991</td>\n",
       "      <td>1.978943</td>\n",
       "      <td>0.048397</td>\n",
       "      <td>0.991643</td>\n",
       "    </tr>\n",
       "    <tr>\n",
       "      <th>...</th>\n",
       "      <td>...</td>\n",
       "      <td>...</td>\n",
       "      <td>...</td>\n",
       "      <td>...</td>\n",
       "      <td>...</td>\n",
       "      <td>...</td>\n",
       "      <td>...</td>\n",
       "      <td>...</td>\n",
       "      <td>...</td>\n",
       "      <td>...</td>\n",
       "    </tr>\n",
       "    <tr>\n",
       "      <th>chr9_99218085</th>\n",
       "      <td>V7</td>\n",
       "      <td>-0.389915</td>\n",
       "      <td>-3.227371</td>\n",
       "      <td>0.001344</td>\n",
       "      <td>0.806819</td>\n",
       "      <td>V5</td>\n",
       "      <td>0.280191</td>\n",
       "      <td>2.428944</td>\n",
       "      <td>0.015511</td>\n",
       "      <td>0.922155</td>\n",
       "    </tr>\n",
       "    <tr>\n",
       "      <th>chr9_99218085</th>\n",
       "      <td>V7</td>\n",
       "      <td>-0.389915</td>\n",
       "      <td>-3.227371</td>\n",
       "      <td>0.001344</td>\n",
       "      <td>0.806819</td>\n",
       "      <td>V11</td>\n",
       "      <td>0.230740</td>\n",
       "      <td>2.011438</td>\n",
       "      <td>0.044841</td>\n",
       "      <td>0.978529</td>\n",
       "    </tr>\n",
       "    <tr>\n",
       "      <th>chr9_99218085</th>\n",
       "      <td>V11</td>\n",
       "      <td>-0.246458</td>\n",
       "      <td>-2.014433</td>\n",
       "      <td>0.044579</td>\n",
       "      <td>0.971739</td>\n",
       "      <td>V5</td>\n",
       "      <td>0.280191</td>\n",
       "      <td>2.428944</td>\n",
       "      <td>0.015511</td>\n",
       "      <td>0.922155</td>\n",
       "    </tr>\n",
       "    <tr>\n",
       "      <th>chr9_99218085</th>\n",
       "      <td>V11</td>\n",
       "      <td>-0.246458</td>\n",
       "      <td>-2.014433</td>\n",
       "      <td>0.044579</td>\n",
       "      <td>0.971739</td>\n",
       "      <td>V11</td>\n",
       "      <td>0.230740</td>\n",
       "      <td>2.011438</td>\n",
       "      <td>0.044841</td>\n",
       "      <td>0.978529</td>\n",
       "    </tr>\n",
       "    <tr>\n",
       "      <th>chr9_99833403</th>\n",
       "      <td>V19</td>\n",
       "      <td>0.149258</td>\n",
       "      <td>2.210259</td>\n",
       "      <td>0.027607</td>\n",
       "      <td>0.971739</td>\n",
       "      <td>V5</td>\n",
       "      <td>0.154405</td>\n",
       "      <td>2.338468</td>\n",
       "      <td>0.019775</td>\n",
       "      <td>0.954365</td>\n",
       "    </tr>\n",
       "  </tbody>\n",
       "</table>\n",
       "<p>34667 rows × 10 columns</p>\n",
       "</div>"
      ],
      "text/plain": [
       "                gene_x    beta_x  t-stat_x  p-value_x     FDR_x gene_y  \\\n",
       "SNP                                                                      \n",
       "chr10_1000772      V21  0.159836  2.392305   0.017166  0.946242     V8   \n",
       "chr10_100152307    V12  0.225361  3.304337   0.001031  0.859855     V9   \n",
       "chr10_100152307    V12  0.225361  3.304337   0.001031  0.859855    V22   \n",
       "chr10_100329906     V6  0.210019  2.191125   0.028972  0.986394    V15   \n",
       "chr10_100463200    V23 -0.189393 -2.378364   0.017821  0.946242    V12   \n",
       "...                ...       ...       ...        ...       ...    ...   \n",
       "chr9_99218085       V7 -0.389915 -3.227371   0.001344  0.806819     V5   \n",
       "chr9_99218085       V7 -0.389915 -3.227371   0.001344  0.806819    V11   \n",
       "chr9_99218085      V11 -0.246458 -2.014433   0.044579  0.971739     V5   \n",
       "chr9_99218085      V11 -0.246458 -2.014433   0.044579  0.971739    V11   \n",
       "chr9_99833403      V19  0.149258  2.210259   0.027607  0.971739     V5   \n",
       "\n",
       "                   beta_y  t-stat_y  p-value_y     FDR_y  \n",
       "SNP                                                       \n",
       "chr10_1000772    0.135489  2.059043   0.040032  0.991643  \n",
       "chr10_100152307 -0.136639 -2.054890   0.040434  0.991643  \n",
       "chr10_100152307  0.134739  2.043328   0.041569  0.991643  \n",
       "chr10_100329906 -0.223003 -2.463087   0.014127  0.886491  \n",
       "chr10_100463200  0.152991  1.978943   0.048397  0.991643  \n",
       "...                   ...       ...        ...       ...  \n",
       "chr9_99218085    0.280191  2.428944   0.015511  0.922155  \n",
       "chr9_99218085    0.230740  2.011438   0.044841  0.978529  \n",
       "chr9_99218085    0.280191  2.428944   0.015511  0.922155  \n",
       "chr9_99218085    0.230740  2.011438   0.044841  0.978529  \n",
       "chr9_99833403    0.154405  2.338468   0.019775  0.954365  \n",
       "\n",
       "[34667 rows x 10 columns]"
      ]
     },
     "execution_count": 30,
     "metadata": {},
     "output_type": "execute_result"
    }
   ],
   "source": [
    "adipose = pd.read_csv('/storage/cynthiawu/trans_eQTL/GTex.v8/Run3_070221/Adipose-Subcutaneous_Euro/matrixeQTL_PCs_sig_results_pairwise_25factors', sep='\\t', index_col=0)\n",
    "nerve = pd.read_csv('/storage/cynthiawu/trans_eQTL/GTex.v8/Run3_070221/Nerve-Tibial/matrixeQTL_PCs_sig_results_pairwise_25factors', sep='\\t', index_col=0)\n",
    "intersect = pd.merge(nerve, adipose, left_index=True, right_index=True)\n",
    "intersect"
   ]
  },
  {
   "cell_type": "code",
   "execution_count": 31,
   "metadata": {},
   "outputs": [
    {
     "data": {
      "text/plain": [
       "Text(0, 0.5, 'Adipose 25 peer factors -log(pvalue)')"
      ]
     },
     "execution_count": 31,
     "metadata": {},
     "output_type": "execute_result"
    },
    {
     "data": {
      "image/png": "[encoded data removed]",
      "text/plain": [
       "<Figure size 432x288 with 1 Axes>"
      ]
     },
     "metadata": {},
     "output_type": "display_data"
    }
   ],
   "source": [
    "plt.scatter(np.sign(intersect['beta_x'])*-np.log(intersect['p-value_x']), np.sign(intersect['beta_y'])*-np.log(intersect['p-value_y']), s=4)\n",
    "plt.title('Matrix eqtl: Significant hits in both Nerve and Adipose tissues')\n",
    "plt.xlabel('Nerve 25 peer factors -log(pvalue)')\n",
    "plt.ylabel('Adipose 25 peer factors -log(pvalue)')"
   ]
  },
  {
   "cell_type": "code",
   "execution_count": 18,
   "metadata": {},
   "outputs": [
    {
     "data": {
      "text/html": [
       "<div>\n",
       "<style scoped>\n",
       "    .dataframe tbody tr th:only-of-type {\n",
       "        vertical-align: middle;\n",
       "    }\n",
       "\n",
       "    .dataframe tbody tr th {\n",
       "        vertical-align: top;\n",
       "    }\n",
       "\n",
       "    .dataframe thead th {\n",
       "        text-align: right;\n",
       "    }\n",
       "</style>\n",
       "<table border=\"1\" class=\"dataframe\">\n",
       "  <thead>\n",
       "    <tr style=\"text-align: right;\">\n",
       "      <th></th>\n",
       "      <th>gene_x</th>\n",
       "      <th>beta_x</th>\n",
       "      <th>t-stat_x</th>\n",
       "      <th>p-value_x</th>\n",
       "      <th>FDR_x</th>\n",
       "      <th>gene_y</th>\n",
       "      <th>beta_y</th>\n",
       "      <th>t-stat_y</th>\n",
       "      <th>p-value_y</th>\n",
       "      <th>FDR_y</th>\n",
       "    </tr>\n",
       "    <tr>\n",
       "      <th>SNP</th>\n",
       "      <th></th>\n",
       "      <th></th>\n",
       "      <th></th>\n",
       "      <th></th>\n",
       "      <th></th>\n",
       "      <th></th>\n",
       "      <th></th>\n",
       "      <th></th>\n",
       "      <th></th>\n",
       "      <th></th>\n",
       "    </tr>\n",
       "  </thead>\n",
       "  <tbody>\n",
       "    <tr>\n",
       "      <th>chr19_31277510</th>\n",
       "      <td>V47</td>\n",
       "      <td>-0.510914</td>\n",
       "      <td>-4.953989</td>\n",
       "      <td>0.000001</td>\n",
       "      <td>0.099643</td>\n",
       "      <td>V22</td>\n",
       "      <td>-0.230235</td>\n",
       "      <td>-2.289002</td>\n",
       "      <td>0.022515</td>\n",
       "      <td>0.994302</td>\n",
       "    </tr>\n",
       "    <tr>\n",
       "      <th>chr19_31277510</th>\n",
       "      <td>V47</td>\n",
       "      <td>-0.510914</td>\n",
       "      <td>-4.953989</td>\n",
       "      <td>0.000001</td>\n",
       "      <td>0.099643</td>\n",
       "      <td>V38</td>\n",
       "      <td>-0.224587</td>\n",
       "      <td>-2.215274</td>\n",
       "      <td>0.027213</td>\n",
       "      <td>0.994302</td>\n",
       "    </tr>\n",
       "    <tr>\n",
       "      <th>chr19_31277510</th>\n",
       "      <td>V47</td>\n",
       "      <td>-0.510914</td>\n",
       "      <td>-4.953989</td>\n",
       "      <td>0.000001</td>\n",
       "      <td>0.099643</td>\n",
       "      <td>V19</td>\n",
       "      <td>-0.197076</td>\n",
       "      <td>-1.970371</td>\n",
       "      <td>0.049374</td>\n",
       "      <td>0.994302</td>\n",
       "    </tr>\n",
       "    <tr>\n",
       "      <th>chr17_321307</th>\n",
       "      <td>V10</td>\n",
       "      <td>0.480378</td>\n",
       "      <td>4.838593</td>\n",
       "      <td>0.000002</td>\n",
       "      <td>0.127492</td>\n",
       "      <td>V10</td>\n",
       "      <td>0.306295</td>\n",
       "      <td>3.115331</td>\n",
       "      <td>0.001948</td>\n",
       "      <td>0.862609</td>\n",
       "    </tr>\n",
       "    <tr>\n",
       "      <th>chr17_321307</th>\n",
       "      <td>V10</td>\n",
       "      <td>0.480378</td>\n",
       "      <td>4.838593</td>\n",
       "      <td>0.000002</td>\n",
       "      <td>0.127492</td>\n",
       "      <td>V51</td>\n",
       "      <td>0.302369</td>\n",
       "      <td>3.077085</td>\n",
       "      <td>0.002211</td>\n",
       "      <td>0.862609</td>\n",
       "    </tr>\n",
       "    <tr>\n",
       "      <th>...</th>\n",
       "      <td>...</td>\n",
       "      <td>...</td>\n",
       "      <td>...</td>\n",
       "      <td>...</td>\n",
       "      <td>...</td>\n",
       "      <td>...</td>\n",
       "      <td>...</td>\n",
       "      <td>...</td>\n",
       "      <td>...</td>\n",
       "      <td>...</td>\n",
       "    </tr>\n",
       "    <tr>\n",
       "      <th>chr1_160882036</th>\n",
       "      <td>V38</td>\n",
       "      <td>0.140220</td>\n",
       "      <td>1.965460</td>\n",
       "      <td>0.049997</td>\n",
       "      <td>0.996806</td>\n",
       "      <td>V34</td>\n",
       "      <td>0.143761</td>\n",
       "      <td>2.143030</td>\n",
       "      <td>0.032616</td>\n",
       "      <td>0.963792</td>\n",
       "    </tr>\n",
       "    <tr>\n",
       "      <th>chr5_170258159</th>\n",
       "      <td>V28</td>\n",
       "      <td>-0.127039</td>\n",
       "      <td>-1.965441</td>\n",
       "      <td>0.049999</td>\n",
       "      <td>0.986062</td>\n",
       "      <td>V15</td>\n",
       "      <td>0.183648</td>\n",
       "      <td>2.951078</td>\n",
       "      <td>0.003323</td>\n",
       "      <td>0.928248</td>\n",
       "    </tr>\n",
       "    <tr>\n",
       "      <th>chr5_170258159</th>\n",
       "      <td>V28</td>\n",
       "      <td>-0.127039</td>\n",
       "      <td>-1.965441</td>\n",
       "      <td>0.049999</td>\n",
       "      <td>0.986062</td>\n",
       "      <td>V24</td>\n",
       "      <td>-0.165897</td>\n",
       "      <td>-2.659021</td>\n",
       "      <td>0.008100</td>\n",
       "      <td>0.928248</td>\n",
       "    </tr>\n",
       "    <tr>\n",
       "      <th>chr5_170258159</th>\n",
       "      <td>V28</td>\n",
       "      <td>-0.127039</td>\n",
       "      <td>-1.965441</td>\n",
       "      <td>0.049999</td>\n",
       "      <td>0.986062</td>\n",
       "      <td>V33</td>\n",
       "      <td>0.128008</td>\n",
       "      <td>2.043457</td>\n",
       "      <td>0.041556</td>\n",
       "      <td>0.995201</td>\n",
       "    </tr>\n",
       "    <tr>\n",
       "      <th>chr5_170258159</th>\n",
       "      <td>V28</td>\n",
       "      <td>-0.127039</td>\n",
       "      <td>-1.965441</td>\n",
       "      <td>0.049999</td>\n",
       "      <td>0.986062</td>\n",
       "      <td>V22</td>\n",
       "      <td>-0.124334</td>\n",
       "      <td>-1.980056</td>\n",
       "      <td>0.048271</td>\n",
       "      <td>0.995201</td>\n",
       "    </tr>\n",
       "  </tbody>\n",
       "</table>\n",
       "<p>138186 rows × 10 columns</p>\n",
       "</div>"
      ],
      "text/plain": [
       "               gene_x    beta_x  t-stat_x  p-value_x     FDR_x gene_y  \\\n",
       "SNP                                                                     \n",
       "chr19_31277510    V47 -0.510914 -4.953989   0.000001  0.099643    V22   \n",
       "chr19_31277510    V47 -0.510914 -4.953989   0.000001  0.099643    V38   \n",
       "chr19_31277510    V47 -0.510914 -4.953989   0.000001  0.099643    V19   \n",
       "chr17_321307      V10  0.480378  4.838593   0.000002  0.127492    V10   \n",
       "chr17_321307      V10  0.480378  4.838593   0.000002  0.127492    V51   \n",
       "...               ...       ...       ...        ...       ...    ...   \n",
       "chr1_160882036    V38  0.140220  1.965460   0.049997  0.996806    V34   \n",
       "chr5_170258159    V28 -0.127039 -1.965441   0.049999  0.986062    V15   \n",
       "chr5_170258159    V28 -0.127039 -1.965441   0.049999  0.986062    V24   \n",
       "chr5_170258159    V28 -0.127039 -1.965441   0.049999  0.986062    V33   \n",
       "chr5_170258159    V28 -0.127039 -1.965441   0.049999  0.986062    V22   \n",
       "\n",
       "                  beta_y  t-stat_y  p-value_y     FDR_y  \n",
       "SNP                                                      \n",
       "chr19_31277510 -0.230235 -2.289002   0.022515  0.994302  \n",
       "chr19_31277510 -0.224587 -2.215274   0.027213  0.994302  \n",
       "chr19_31277510 -0.197076 -1.970371   0.049374  0.994302  \n",
       "chr17_321307    0.306295  3.115331   0.001948  0.862609  \n",
       "chr17_321307    0.302369  3.077085   0.002211  0.862609  \n",
       "...                  ...       ...        ...       ...  \n",
       "chr1_160882036  0.143761  2.143030   0.032616  0.963792  \n",
       "chr5_170258159  0.183648  2.951078   0.003323  0.928248  \n",
       "chr5_170258159 -0.165897 -2.659021   0.008100  0.928248  \n",
       "chr5_170258159  0.128008  2.043457   0.041556  0.995201  \n",
       "chr5_170258159 -0.124334 -1.980056   0.048271  0.995201  \n",
       "\n",
       "[138186 rows x 10 columns]"
      ]
     },
     "execution_count": 18,
     "metadata": {},
     "output_type": "execute_result"
    }
   ],
   "source": [
    "intersect.sort_values(by=['p-value_x', 'p-value_y'])"
   ]
  },
  {
   "cell_type": "code",
   "execution_count": null,
   "metadata": {},
   "outputs": [],
   "source": []
  },
  {
   "cell_type": "code",
   "execution_count": null,
   "metadata": {},
   "outputs": [],
   "source": []
  },
  {
   "cell_type": "code",
   "execution_count": 15,
   "metadata": {},
   "outputs": [
    {
     "data": {
      "text/plain": [
       "<matplotlib.collections.PathCollection at 0x7fa2871e9e48>"
      ]
     },
     "execution_count": 15,
     "metadata": {},
     "output_type": "execute_result"
    },
    {
     "data": {
      "image/png": "[encoded data removed]",
      "text/plain": [
       "<Figure size 432x288 with 1 Axes>"
      ]
     },
     "metadata": {},
     "output_type": "display_data"
    }
   ],
   "source": [
    "plt.scatter(np.sign(intersect['beta_x'])*-np.log(intersect['p-value_x']), np.sign(intersect['beta_y'])*-np.log(intersect['p-value_y']), s=4)"
   ]
  },
  {
   "cell_type": "code",
   "execution_count": null,
   "metadata": {},
   "outputs": [],
   "source": []
  },
  {
   "cell_type": "code",
   "execution_count": 19,
   "metadata": {},
   "outputs": [],
   "source": [
    "adipose = pd.read_csv('/storage/cynthiawu/trans_eQTL/GTex.v8/Run3_070221/Adipose-Subcutaneous_Euro/matrixeQTL_PCs_sig_results_cpma', sep='\\t', index_col=0)\n",
    "nerve = pd.read_csv('/storage/cynthiawu/trans_eQTL/GTex.v8/Run3_070221/Nerve-Tibial/matrixeQTL_PCs_sig_results_cpma', sep='\\t', index_col=0)\n"
   ]
  },
  {
   "cell_type": "code",
   "execution_count": 12,
   "metadata": {},
   "outputs": [],
   "source": [
    "?intersect.sort_values"
   ]
  },
  {
   "cell_type": "code",
   "execution_count": 21,
   "metadata": {},
   "outputs": [],
   "source": [
    "intersect = pd.merge(nerve, adipose, left_index=True, right_index=True)\n",
    "# intersect.sort_values"
   ]
  },
  {
   "cell_type": "code",
   "execution_count": 13,
   "metadata": {},
   "outputs": [
    {
     "data": {
      "text/html": [
       "<div>\n",
       "<style scoped>\n",
       "    .dataframe tbody tr th:only-of-type {\n",
       "        vertical-align: middle;\n",
       "    }\n",
       "\n",
       "    .dataframe tbody tr th {\n",
       "        vertical-align: top;\n",
       "    }\n",
       "\n",
       "    .dataframe thead th {\n",
       "        text-align: right;\n",
       "    }\n",
       "</style>\n",
       "<table border=\"1\" class=\"dataframe\">\n",
       "  <thead>\n",
       "    <tr style=\"text-align: right;\">\n",
       "      <th></th>\n",
       "      <th>cpma_x</th>\n",
       "      <th>pvalue_x</th>\n",
       "      <th>cpma_y</th>\n",
       "      <th>pvalue_y</th>\n",
       "    </tr>\n",
       "    <tr>\n",
       "      <th>snp</th>\n",
       "      <th></th>\n",
       "      <th></th>\n",
       "      <th></th>\n",
       "      <th></th>\n",
       "    </tr>\n",
       "  </thead>\n",
       "  <tbody>\n",
       "    <tr>\n",
       "      <th>chr16_57903952</th>\n",
       "      <td>19951.727017</td>\n",
       "      <td>0.000002</td>\n",
       "      <td>14654.188775</td>\n",
       "      <td>0.000002</td>\n",
       "    </tr>\n",
       "    <tr>\n",
       "      <th>chr14_104714369</th>\n",
       "      <td>19288.511720</td>\n",
       "      <td>0.000002</td>\n",
       "      <td>14662.758942</td>\n",
       "      <td>0.000002</td>\n",
       "    </tr>\n",
       "    <tr>\n",
       "      <th>chr11_5200415</th>\n",
       "      <td>17882.628012</td>\n",
       "      <td>0.000002</td>\n",
       "      <td>16420.167177</td>\n",
       "      <td>0.000002</td>\n",
       "    </tr>\n",
       "    <tr>\n",
       "      <th>chr6_89693121</th>\n",
       "      <td>13243.260650</td>\n",
       "      <td>0.000002</td>\n",
       "      <td>14457.316738</td>\n",
       "      <td>0.000002</td>\n",
       "    </tr>\n",
       "    <tr>\n",
       "      <th>chr22_50030478</th>\n",
       "      <td>11544.328700</td>\n",
       "      <td>0.000008</td>\n",
       "      <td>17207.238886</td>\n",
       "      <td>0.000002</td>\n",
       "    </tr>\n",
       "    <tr>\n",
       "      <th>chr8_6532368</th>\n",
       "      <td>10260.254518</td>\n",
       "      <td>0.000030</td>\n",
       "      <td>9310.913186</td>\n",
       "      <td>0.000012</td>\n",
       "    </tr>\n",
       "    <tr>\n",
       "      <th>chr17_50278899</th>\n",
       "      <td>8799.456687</td>\n",
       "      <td>0.000054</td>\n",
       "      <td>7002.770226</td>\n",
       "      <td>0.000096</td>\n",
       "    </tr>\n",
       "    <tr>\n",
       "      <th>chr1_111241360</th>\n",
       "      <td>8549.683542</td>\n",
       "      <td>0.000056</td>\n",
       "      <td>8606.163582</td>\n",
       "      <td>0.000016</td>\n",
       "    </tr>\n",
       "    <tr>\n",
       "      <th>chr5_50761895</th>\n",
       "      <td>8349.592879</td>\n",
       "      <td>0.000140</td>\n",
       "      <td>8854.966001</td>\n",
       "      <td>0.000012</td>\n",
       "    </tr>\n",
       "    <tr>\n",
       "      <th>chr4_41013806</th>\n",
       "      <td>8214.407086</td>\n",
       "      <td>0.000068</td>\n",
       "      <td>5346.771444</td>\n",
       "      <td>0.000236</td>\n",
       "    </tr>\n",
       "    <tr>\n",
       "      <th>chr1_147242742</th>\n",
       "      <td>8000.132410</td>\n",
       "      <td>0.000080</td>\n",
       "      <td>4062.967759</td>\n",
       "      <td>0.001108</td>\n",
       "    </tr>\n",
       "    <tr>\n",
       "      <th>chr11_5968185</th>\n",
       "      <td>7691.645964</td>\n",
       "      <td>0.000100</td>\n",
       "      <td>10913.650937</td>\n",
       "      <td>0.000010</td>\n",
       "    </tr>\n",
       "    <tr>\n",
       "      <th>chr19_51746419</th>\n",
       "      <td>5399.882510</td>\n",
       "      <td>0.000536</td>\n",
       "      <td>6229.181029</td>\n",
       "      <td>0.000094</td>\n",
       "    </tr>\n",
       "    <tr>\n",
       "      <th>chr18_37067360</th>\n",
       "      <td>5094.296862</td>\n",
       "      <td>0.001554</td>\n",
       "      <td>4242.036758</td>\n",
       "      <td>0.001138</td>\n",
       "    </tr>\n",
       "    <tr>\n",
       "      <th>chr22_37066896</th>\n",
       "      <td>4700.416127</td>\n",
       "      <td>0.001216</td>\n",
       "      <td>1725.510690</td>\n",
       "      <td>0.018540</td>\n",
       "    </tr>\n",
       "    <tr>\n",
       "      <th>chr19_45365051</th>\n",
       "      <td>3696.529170</td>\n",
       "      <td>0.002290</td>\n",
       "      <td>1641.935888</td>\n",
       "      <td>0.014964</td>\n",
       "    </tr>\n",
       "    <tr>\n",
       "      <th>chr13_24793144</th>\n",
       "      <td>3325.020033</td>\n",
       "      <td>0.003170</td>\n",
       "      <td>1324.372071</td>\n",
       "      <td>0.044840</td>\n",
       "    </tr>\n",
       "    <tr>\n",
       "      <th>chr16_58516580</th>\n",
       "      <td>2131.306532</td>\n",
       "      <td>0.013490</td>\n",
       "      <td>1309.641078</td>\n",
       "      <td>0.035750</td>\n",
       "    </tr>\n",
       "    <tr>\n",
       "      <th>chr20_63563360</th>\n",
       "      <td>1905.640014</td>\n",
       "      <td>0.016020</td>\n",
       "      <td>1530.505117</td>\n",
       "      <td>0.031170</td>\n",
       "    </tr>\n",
       "    <tr>\n",
       "      <th>chr6_36856623</th>\n",
       "      <td>1749.282913</td>\n",
       "      <td>0.016266</td>\n",
       "      <td>2110.174806</td>\n",
       "      <td>0.011778</td>\n",
       "    </tr>\n",
       "    <tr>\n",
       "      <th>chr15_68357249</th>\n",
       "      <td>1379.814286</td>\n",
       "      <td>0.038102</td>\n",
       "      <td>1643.546635</td>\n",
       "      <td>0.022746</td>\n",
       "    </tr>\n",
       "    <tr>\n",
       "      <th>chr2_96114968</th>\n",
       "      <td>1242.407458</td>\n",
       "      <td>0.045840</td>\n",
       "      <td>1538.493096</td>\n",
       "      <td>0.023862</td>\n",
       "    </tr>\n",
       "    <tr>\n",
       "      <th>chr1_156768177</th>\n",
       "      <td>1210.786088</td>\n",
       "      <td>0.042722</td>\n",
       "      <td>1881.468418</td>\n",
       "      <td>0.012704</td>\n",
       "    </tr>\n",
       "  </tbody>\n",
       "</table>\n",
       "</div>"
      ],
      "text/plain": [
       "                       cpma_x  pvalue_x        cpma_y  pvalue_y\n",
       "snp                                                            \n",
       "chr16_57903952   19951.727017  0.000002  14654.188775  0.000002\n",
       "chr14_104714369  19288.511720  0.000002  14662.758942  0.000002\n",
       "chr11_5200415    17882.628012  0.000002  16420.167177  0.000002\n",
       "chr6_89693121    13243.260650  0.000002  14457.316738  0.000002\n",
       "chr22_50030478   11544.328700  0.000008  17207.238886  0.000002\n",
       "chr8_6532368     10260.254518  0.000030   9310.913186  0.000012\n",
       "chr17_50278899    8799.456687  0.000054   7002.770226  0.000096\n",
       "chr1_111241360    8549.683542  0.000056   8606.163582  0.000016\n",
       "chr5_50761895     8349.592879  0.000140   8854.966001  0.000012\n",
       "chr4_41013806     8214.407086  0.000068   5346.771444  0.000236\n",
       "chr1_147242742    8000.132410  0.000080   4062.967759  0.001108\n",
       "chr11_5968185     7691.645964  0.000100  10913.650937  0.000010\n",
       "chr19_51746419    5399.882510  0.000536   6229.181029  0.000094\n",
       "chr18_37067360    5094.296862  0.001554   4242.036758  0.001138\n",
       "chr22_37066896    4700.416127  0.001216   1725.510690  0.018540\n",
       "chr19_45365051    3696.529170  0.002290   1641.935888  0.014964\n",
       "chr13_24793144    3325.020033  0.003170   1324.372071  0.044840\n",
       "chr16_58516580    2131.306532  0.013490   1309.641078  0.035750\n",
       "chr20_63563360    1905.640014  0.016020   1530.505117  0.031170\n",
       "chr6_36856623     1749.282913  0.016266   2110.174806  0.011778\n",
       "chr15_68357249    1379.814286  0.038102   1643.546635  0.022746\n",
       "chr2_96114968     1242.407458  0.045840   1538.493096  0.023862\n",
       "chr1_156768177    1210.786088  0.042722   1881.468418  0.012704"
      ]
     },
     "execution_count": 13,
     "metadata": {},
     "output_type": "execute_result"
    }
   ],
   "source": [
    "intersect.sort_values(by=['cpma_x', 'cpma_y'], ascending=False)"
   ]
  },
  {
   "cell_type": "code",
   "execution_count": 22,
   "metadata": {},
   "outputs": [
    {
     "data": {
      "text/plain": [
       "Text(0, 0.5, 'Adipose CPMA -log(pvalue)')"
      ]
     },
     "execution_count": 22,
     "metadata": {},
     "output_type": "execute_result"
    },
    {
     "data": {
      "image/png": "[encoded data removed]",
      "text/plain": [
       "<Figure size 432x288 with 1 Axes>"
      ]
     },
     "metadata": {},
     "output_type": "display_data"
    }
   ],
   "source": [
    "plt.scatter(-np.log(intersect['pvalue_x']), -np.log(intersect['pvalue_y']))\n",
    "plt.title('Significant hits in both Nerve and Adipose tissues')\n",
    "plt.xlabel('Nerve CPMA -log(pvalue)')\n",
    "plt.ylabel('Adipose CPMA -log(pvalue)')"
   ]
  },
  {
   "cell_type": "code",
   "execution_count": null,
   "metadata": {},
   "outputs": [],
   "source": []
  },
  {
   "cell_type": "code",
   "execution_count": 3,
   "metadata": {},
   "outputs": [],
   "source": [
    "adipose = pd.read_csv('/storage/cynthiawu/trans_eQTL/GTex.v8/Run3_070221/Adipose-Subcutaneous_Euro/matrixeQTL_PCs_sig_results_pairwise', sep='\\t', index_col=0)\n",
    "nerve = pd.read_csv('/storage/cynthiawu/trans_eQTL/GTex.v8/Run3_070221/Nerve-Tibial/matrixeQTL_PCs_sig_results_pairwise', sep='\\t', index_col=0)\n"
   ]
  },
  {
   "cell_type": "code",
   "execution_count": 4,
   "metadata": {},
   "outputs": [
    {
     "data": {
      "text/html": [
       "<div>\n",
       "<style scoped>\n",
       "    .dataframe tbody tr th:only-of-type {\n",
       "        vertical-align: middle;\n",
       "    }\n",
       "\n",
       "    .dataframe tbody tr th {\n",
       "        vertical-align: top;\n",
       "    }\n",
       "\n",
       "    .dataframe thead th {\n",
       "        text-align: right;\n",
       "    }\n",
       "</style>\n",
       "<table border=\"1\" class=\"dataframe\">\n",
       "  <thead>\n",
       "    <tr style=\"text-align: right;\">\n",
       "      <th></th>\n",
       "      <th>gene</th>\n",
       "      <th>beta</th>\n",
       "      <th>t-stat</th>\n",
       "      <th>p-value</th>\n",
       "      <th>FDR</th>\n",
       "    </tr>\n",
       "    <tr>\n",
       "      <th>SNP</th>\n",
       "      <th></th>\n",
       "      <th></th>\n",
       "      <th></th>\n",
       "      <th></th>\n",
       "      <th></th>\n",
       "    </tr>\n",
       "  </thead>\n",
       "  <tbody>\n",
       "    <tr>\n",
       "      <th>chr1_52854602</th>\n",
       "      <td>ENSG00000166143.9</td>\n",
       "      <td>0.402690</td>\n",
       "      <td>5.785610</td>\n",
       "      <td>1.383015e-08</td>\n",
       "      <td>0.530299</td>\n",
       "    </tr>\n",
       "    <tr>\n",
       "      <th>chr1_186304862</th>\n",
       "      <td>ENSG00000196865.4</td>\n",
       "      <td>0.384253</td>\n",
       "      <td>5.515079</td>\n",
       "      <td>5.991230e-08</td>\n",
       "      <td>0.610657</td>\n",
       "    </tr>\n",
       "    <tr>\n",
       "      <th>chr1_18849352</th>\n",
       "      <td>ENSG00000204065.2</td>\n",
       "      <td>-0.430280</td>\n",
       "      <td>-5.402971</td>\n",
       "      <td>1.081666e-07</td>\n",
       "      <td>0.610657</td>\n",
       "    </tr>\n",
       "    <tr>\n",
       "      <th>chr1_91514890</th>\n",
       "      <td>ENSG00000172780.16</td>\n",
       "      <td>-0.424626</td>\n",
       "      <td>-5.392229</td>\n",
       "      <td>1.144069e-07</td>\n",
       "      <td>0.610657</td>\n",
       "    </tr>\n",
       "    <tr>\n",
       "      <th>chr1_156768177</th>\n",
       "      <td>ENSG00000185915.5</td>\n",
       "      <td>0.425842</td>\n",
       "      <td>5.392135</td>\n",
       "      <td>1.144630e-07</td>\n",
       "      <td>0.610657</td>\n",
       "    </tr>\n",
       "    <tr>\n",
       "      <th>...</th>\n",
       "      <td>...</td>\n",
       "      <td>...</td>\n",
       "      <td>...</td>\n",
       "      <td>...</td>\n",
       "      <td>...</td>\n",
       "    </tr>\n",
       "    <tr>\n",
       "      <th>chr22_30870559</th>\n",
       "      <td>ENSG00000144659.10</td>\n",
       "      <td>-0.135089</td>\n",
       "      <td>-1.965434</td>\n",
       "      <td>4.999978e-02</td>\n",
       "      <td>0.999000</td>\n",
       "    </tr>\n",
       "    <tr>\n",
       "      <th>chr22_49961171</th>\n",
       "      <td>ENSG00000118271.9</td>\n",
       "      <td>-0.137189</td>\n",
       "      <td>-1.965434</td>\n",
       "      <td>4.999979e-02</td>\n",
       "      <td>0.999000</td>\n",
       "    </tr>\n",
       "    <tr>\n",
       "      <th>chr22_22487881</th>\n",
       "      <td>ENSG00000154473.17</td>\n",
       "      <td>0.215407</td>\n",
       "      <td>1.965433</td>\n",
       "      <td>4.999988e-02</td>\n",
       "      <td>0.999000</td>\n",
       "    </tr>\n",
       "    <tr>\n",
       "      <th>chr22_50283705</th>\n",
       "      <td>ENSG00000021574.11</td>\n",
       "      <td>-0.139945</td>\n",
       "      <td>-1.965433</td>\n",
       "      <td>4.999991e-02</td>\n",
       "      <td>0.999000</td>\n",
       "    </tr>\n",
       "    <tr>\n",
       "      <th>chr22_23743920</th>\n",
       "      <td>ENSG00000198535.5</td>\n",
       "      <td>-0.134491</td>\n",
       "      <td>-1.965433</td>\n",
       "      <td>4.999994e-02</td>\n",
       "      <td>0.999000</td>\n",
       "    </tr>\n",
       "  </tbody>\n",
       "</table>\n",
       "<p>19475453 rows × 5 columns</p>\n",
       "</div>"
      ],
      "text/plain": [
       "                              gene      beta    t-stat       p-value       FDR\n",
       "SNP                                                                           \n",
       "chr1_52854602    ENSG00000166143.9  0.402690  5.785610  1.383015e-08  0.530299\n",
       "chr1_186304862   ENSG00000196865.4  0.384253  5.515079  5.991230e-08  0.610657\n",
       "chr1_18849352    ENSG00000204065.2 -0.430280 -5.402971  1.081666e-07  0.610657\n",
       "chr1_91514890   ENSG00000172780.16 -0.424626 -5.392229  1.144069e-07  0.610657\n",
       "chr1_156768177   ENSG00000185915.5  0.425842  5.392135  1.144630e-07  0.610657\n",
       "...                            ...       ...       ...           ...       ...\n",
       "chr22_30870559  ENSG00000144659.10 -0.135089 -1.965434  4.999978e-02  0.999000\n",
       "chr22_49961171   ENSG00000118271.9 -0.137189 -1.965434  4.999979e-02  0.999000\n",
       "chr22_22487881  ENSG00000154473.17  0.215407  1.965433  4.999988e-02  0.999000\n",
       "chr22_50283705  ENSG00000021574.11 -0.139945 -1.965433  4.999991e-02  0.999000\n",
       "chr22_23743920   ENSG00000198535.5 -0.134491 -1.965433  4.999994e-02  0.999000\n",
       "\n",
       "[19475453 rows x 5 columns]"
      ]
     },
     "execution_count": 4,
     "metadata": {},
     "output_type": "execute_result"
    }
   ],
   "source": [
    "nerve"
   ]
  },
  {
   "cell_type": "code",
   "execution_count": 204,
   "metadata": {},
   "outputs": [
    {
     "data": {
      "text/html": [
       "<div>\n",
       "<style scoped>\n",
       "    .dataframe tbody tr th:only-of-type {\n",
       "        vertical-align: middle;\n",
       "    }\n",
       "\n",
       "    .dataframe tbody tr th {\n",
       "        vertical-align: top;\n",
       "    }\n",
       "\n",
       "    .dataframe thead th {\n",
       "        text-align: right;\n",
       "    }\n",
       "</style>\n",
       "<table border=\"1\" class=\"dataframe\">\n",
       "  <thead>\n",
       "    <tr style=\"text-align: right;\">\n",
       "      <th></th>\n",
       "      <th>gene</th>\n",
       "      <th>beta</th>\n",
       "      <th>t-stat</th>\n",
       "      <th>p-value</th>\n",
       "      <th>FDR</th>\n",
       "    </tr>\n",
       "    <tr>\n",
       "      <th>SNP</th>\n",
       "      <th></th>\n",
       "      <th></th>\n",
       "      <th></th>\n",
       "      <th></th>\n",
       "      <th></th>\n",
       "    </tr>\n",
       "  </thead>\n",
       "  <tbody>\n",
       "    <tr>\n",
       "      <th>chr1_52854602</th>\n",
       "      <td>ENSG00000166143.9</td>\n",
       "      <td>0.402690</td>\n",
       "      <td>5.785610</td>\n",
       "      <td>1.383015e-08</td>\n",
       "      <td>0.530299</td>\n",
       "    </tr>\n",
       "    <tr>\n",
       "      <th>chr1_186304862</th>\n",
       "      <td>ENSG00000196865.4</td>\n",
       "      <td>0.384253</td>\n",
       "      <td>5.515079</td>\n",
       "      <td>5.991230e-08</td>\n",
       "      <td>0.610657</td>\n",
       "    </tr>\n",
       "    <tr>\n",
       "      <th>chr1_18849352</th>\n",
       "      <td>ENSG00000204065.2</td>\n",
       "      <td>-0.430280</td>\n",
       "      <td>-5.402971</td>\n",
       "      <td>1.081666e-07</td>\n",
       "      <td>0.610657</td>\n",
       "    </tr>\n",
       "    <tr>\n",
       "      <th>chr1_91514890</th>\n",
       "      <td>ENSG00000172780.16</td>\n",
       "      <td>-0.424626</td>\n",
       "      <td>-5.392229</td>\n",
       "      <td>1.144069e-07</td>\n",
       "      <td>0.610657</td>\n",
       "    </tr>\n",
       "    <tr>\n",
       "      <th>chr1_156768177</th>\n",
       "      <td>ENSG00000185915.5</td>\n",
       "      <td>0.425842</td>\n",
       "      <td>5.392135</td>\n",
       "      <td>1.144630e-07</td>\n",
       "      <td>0.610657</td>\n",
       "    </tr>\n",
       "    <tr>\n",
       "      <th>...</th>\n",
       "      <td>...</td>\n",
       "      <td>...</td>\n",
       "      <td>...</td>\n",
       "      <td>...</td>\n",
       "      <td>...</td>\n",
       "    </tr>\n",
       "    <tr>\n",
       "      <th>chr22_30870559</th>\n",
       "      <td>ENSG00000144659.10</td>\n",
       "      <td>-0.135089</td>\n",
       "      <td>-1.965434</td>\n",
       "      <td>4.999978e-02</td>\n",
       "      <td>0.999000</td>\n",
       "    </tr>\n",
       "    <tr>\n",
       "      <th>chr22_49961171</th>\n",
       "      <td>ENSG00000118271.9</td>\n",
       "      <td>-0.137189</td>\n",
       "      <td>-1.965434</td>\n",
       "      <td>4.999979e-02</td>\n",
       "      <td>0.999000</td>\n",
       "    </tr>\n",
       "    <tr>\n",
       "      <th>chr22_22487881</th>\n",
       "      <td>ENSG00000154473.17</td>\n",
       "      <td>0.215407</td>\n",
       "      <td>1.965433</td>\n",
       "      <td>4.999988e-02</td>\n",
       "      <td>0.999000</td>\n",
       "    </tr>\n",
       "    <tr>\n",
       "      <th>chr22_50283705</th>\n",
       "      <td>ENSG00000021574.11</td>\n",
       "      <td>-0.139945</td>\n",
       "      <td>-1.965433</td>\n",
       "      <td>4.999991e-02</td>\n",
       "      <td>0.999000</td>\n",
       "    </tr>\n",
       "    <tr>\n",
       "      <th>chr22_23743920</th>\n",
       "      <td>ENSG00000198535.5</td>\n",
       "      <td>-0.134491</td>\n",
       "      <td>-1.965433</td>\n",
       "      <td>4.999994e-02</td>\n",
       "      <td>0.999000</td>\n",
       "    </tr>\n",
       "  </tbody>\n",
       "</table>\n",
       "<p>19475453 rows × 5 columns</p>\n",
       "</div>"
      ],
      "text/plain": [
       "                              gene      beta    t-stat       p-value       FDR\n",
       "SNP                                                                           \n",
       "chr1_52854602    ENSG00000166143.9  0.402690  5.785610  1.383015e-08  0.530299\n",
       "chr1_186304862   ENSG00000196865.4  0.384253  5.515079  5.991230e-08  0.610657\n",
       "chr1_18849352    ENSG00000204065.2 -0.430280 -5.402971  1.081666e-07  0.610657\n",
       "chr1_91514890   ENSG00000172780.16 -0.424626 -5.392229  1.144069e-07  0.610657\n",
       "chr1_156768177   ENSG00000185915.5  0.425842  5.392135  1.144630e-07  0.610657\n",
       "...                            ...       ...       ...           ...       ...\n",
       "chr22_30870559  ENSG00000144659.10 -0.135089 -1.965434  4.999978e-02  0.999000\n",
       "chr22_49961171   ENSG00000118271.9 -0.137189 -1.965434  4.999979e-02  0.999000\n",
       "chr22_22487881  ENSG00000154473.17  0.215407  1.965433  4.999988e-02  0.999000\n",
       "chr22_50283705  ENSG00000021574.11 -0.139945 -1.965433  4.999991e-02  0.999000\n",
       "chr22_23743920   ENSG00000198535.5 -0.134491 -1.965433  4.999994e-02  0.999000\n",
       "\n",
       "[19475453 rows x 5 columns]"
      ]
     },
     "execution_count": 204,
     "metadata": {},
     "output_type": "execute_result"
    }
   ],
   "source": [
    "nerve"
   ]
  },
  {
   "cell_type": "code",
   "execution_count": 7,
   "metadata": {},
   "outputs": [
    {
     "ename": "MemoryError",
     "evalue": "",
     "output_type": "error",
     "traceback": [
      "\u001b[0;31m---------------------------------------------------------------------------\u001b[0m",
      "\u001b[0;31mMemoryError\u001b[0m                               Traceback (most recent call last)",
      "\u001b[0;32m<ipython-input-7-1f3d56234ad3>\u001b[0m in \u001b[0;36m<module>\u001b[0;34m()\u001b[0m\n\u001b[0;32m----> 1\u001b[0;31m \u001b[0mintersect\u001b[0m \u001b[0;34m=\u001b[0m \u001b[0mnerve\u001b[0m\u001b[0;34m.\u001b[0m\u001b[0mmerge\u001b[0m\u001b[0;34m(\u001b[0m\u001b[0madipose\u001b[0m\u001b[0;34m,\u001b[0m \u001b[0mleft_index\u001b[0m\u001b[0;34m=\u001b[0m\u001b[0;32mTrue\u001b[0m\u001b[0;34m,\u001b[0m \u001b[0mright_index\u001b[0m\u001b[0;34m=\u001b[0m\u001b[0;32mTrue\u001b[0m\u001b[0;34m,\u001b[0m \u001b[0mcopy\u001b[0m\u001b[0;34m=\u001b[0m\u001b[0;32mFalse\u001b[0m\u001b[0;34m)\u001b[0m\u001b[0;34m\u001b[0m\u001b[0;34m\u001b[0m\u001b[0m\n\u001b[0m",
      "\u001b[0;32m/storage/cynthiawu/miniconda3/envs/python3.6/lib/python3.6/site-packages/pandas/core/frame.py\u001b[0m in \u001b[0;36mmerge\u001b[0;34m(self, right, how, on, left_on, right_on, left_index, right_index, sort, suffixes, copy, indicator, validate)\u001b[0m\n\u001b[1;32m   7295\u001b[0m             \u001b[0mcopy\u001b[0m\u001b[0;34m=\u001b[0m\u001b[0mcopy\u001b[0m\u001b[0;34m,\u001b[0m\u001b[0;34m\u001b[0m\u001b[0;34m\u001b[0m\u001b[0m\n\u001b[1;32m   7296\u001b[0m             \u001b[0mindicator\u001b[0m\u001b[0;34m=\u001b[0m\u001b[0mindicator\u001b[0m\u001b[0;34m,\u001b[0m\u001b[0;34m\u001b[0m\u001b[0;34m\u001b[0m\u001b[0m\n\u001b[0;32m-> 7297\u001b[0;31m             \u001b[0mvalidate\u001b[0m\u001b[0;34m=\u001b[0m\u001b[0mvalidate\u001b[0m\u001b[0;34m,\u001b[0m\u001b[0;34m\u001b[0m\u001b[0;34m\u001b[0m\u001b[0m\n\u001b[0m\u001b[1;32m   7298\u001b[0m         )\n\u001b[1;32m   7299\u001b[0m \u001b[0;34m\u001b[0m\u001b[0m\n",
      "\u001b[0;32m/storage/cynthiawu/miniconda3/envs/python3.6/lib/python3.6/site-packages/pandas/core/reshape/merge.py\u001b[0m in \u001b[0;36mmerge\u001b[0;34m(left, right, how, on, left_on, right_on, left_index, right_index, sort, suffixes, copy, indicator, validate)\u001b[0m\n\u001b[1;32m     86\u001b[0m         \u001b[0mvalidate\u001b[0m\u001b[0;34m=\u001b[0m\u001b[0mvalidate\u001b[0m\u001b[0;34m,\u001b[0m\u001b[0;34m\u001b[0m\u001b[0;34m\u001b[0m\u001b[0m\n\u001b[1;32m     87\u001b[0m     )\n\u001b[0;32m---> 88\u001b[0;31m     \u001b[0;32mreturn\u001b[0m \u001b[0mop\u001b[0m\u001b[0;34m.\u001b[0m\u001b[0mget_result\u001b[0m\u001b[0;34m(\u001b[0m\u001b[0;34m)\u001b[0m\u001b[0;34m\u001b[0m\u001b[0;34m\u001b[0m\u001b[0m\n\u001b[0m\u001b[1;32m     89\u001b[0m \u001b[0;34m\u001b[0m\u001b[0m\n\u001b[1;32m     90\u001b[0m \u001b[0;34m\u001b[0m\u001b[0m\n",
      "\u001b[0;32m/storage/cynthiawu/miniconda3/envs/python3.6/lib/python3.6/site-packages/pandas/core/reshape/merge.py\u001b[0m in \u001b[0;36mget_result\u001b[0;34m(self)\u001b[0m\n\u001b[1;32m    641\u001b[0m             \u001b[0mself\u001b[0m\u001b[0;34m.\u001b[0m\u001b[0mleft\u001b[0m\u001b[0;34m,\u001b[0m \u001b[0mself\u001b[0m\u001b[0;34m.\u001b[0m\u001b[0mright\u001b[0m \u001b[0;34m=\u001b[0m \u001b[0mself\u001b[0m\u001b[0;34m.\u001b[0m\u001b[0m_indicator_pre_merge\u001b[0m\u001b[0;34m(\u001b[0m\u001b[0mself\u001b[0m\u001b[0;34m.\u001b[0m\u001b[0mleft\u001b[0m\u001b[0;34m,\u001b[0m \u001b[0mself\u001b[0m\u001b[0;34m.\u001b[0m\u001b[0mright\u001b[0m\u001b[0;34m)\u001b[0m\u001b[0;34m\u001b[0m\u001b[0;34m\u001b[0m\u001b[0m\n\u001b[1;32m    642\u001b[0m \u001b[0;34m\u001b[0m\u001b[0m\n\u001b[0;32m--> 643\u001b[0;31m         \u001b[0mjoin_index\u001b[0m\u001b[0;34m,\u001b[0m \u001b[0mleft_indexer\u001b[0m\u001b[0;34m,\u001b[0m \u001b[0mright_indexer\u001b[0m \u001b[0;34m=\u001b[0m \u001b[0mself\u001b[0m\u001b[0;34m.\u001b[0m\u001b[0m_get_join_info\u001b[0m\u001b[0;34m(\u001b[0m\u001b[0;34m)\u001b[0m\u001b[0;34m\u001b[0m\u001b[0;34m\u001b[0m\u001b[0m\n\u001b[0m\u001b[1;32m    644\u001b[0m \u001b[0;34m\u001b[0m\u001b[0m\n\u001b[1;32m    645\u001b[0m         \u001b[0mldata\u001b[0m\u001b[0;34m,\u001b[0m \u001b[0mrdata\u001b[0m \u001b[0;34m=\u001b[0m \u001b[0mself\u001b[0m\u001b[0;34m.\u001b[0m\u001b[0mleft\u001b[0m\u001b[0;34m.\u001b[0m\u001b[0m_data\u001b[0m\u001b[0;34m,\u001b[0m \u001b[0mself\u001b[0m\u001b[0;34m.\u001b[0m\u001b[0mright\u001b[0m\u001b[0;34m.\u001b[0m\u001b[0m_data\u001b[0m\u001b[0;34m\u001b[0m\u001b[0;34m\u001b[0m\u001b[0m\n",
      "\u001b[0;32m/storage/cynthiawu/miniconda3/envs/python3.6/lib/python3.6/site-packages/pandas/core/reshape/merge.py\u001b[0m in \u001b[0;36m_get_join_info\u001b[0;34m(self)\u001b[0m\n\u001b[1;32m    848\u001b[0m         \u001b[0;32mif\u001b[0m \u001b[0mself\u001b[0m\u001b[0;34m.\u001b[0m\u001b[0mleft_index\u001b[0m \u001b[0;32mand\u001b[0m \u001b[0mself\u001b[0m\u001b[0;34m.\u001b[0m\u001b[0mright_index\u001b[0m \u001b[0;32mand\u001b[0m \u001b[0mself\u001b[0m\u001b[0;34m.\u001b[0m\u001b[0mhow\u001b[0m \u001b[0;34m!=\u001b[0m \u001b[0;34m\"asof\"\u001b[0m\u001b[0;34m:\u001b[0m\u001b[0;34m\u001b[0m\u001b[0;34m\u001b[0m\u001b[0m\n\u001b[1;32m    849\u001b[0m             join_index, left_indexer, right_indexer = left_ax.join(\n\u001b[0;32m--> 850\u001b[0;31m                 \u001b[0mright_ax\u001b[0m\u001b[0;34m,\u001b[0m \u001b[0mhow\u001b[0m\u001b[0;34m=\u001b[0m\u001b[0mself\u001b[0m\u001b[0;34m.\u001b[0m\u001b[0mhow\u001b[0m\u001b[0;34m,\u001b[0m \u001b[0mreturn_indexers\u001b[0m\u001b[0;34m=\u001b[0m\u001b[0;32mTrue\u001b[0m\u001b[0;34m,\u001b[0m \u001b[0msort\u001b[0m\u001b[0;34m=\u001b[0m\u001b[0mself\u001b[0m\u001b[0;34m.\u001b[0m\u001b[0msort\u001b[0m\u001b[0;34m\u001b[0m\u001b[0;34m\u001b[0m\u001b[0m\n\u001b[0m\u001b[1;32m    851\u001b[0m             )\n\u001b[1;32m    852\u001b[0m         \u001b[0;32melif\u001b[0m \u001b[0mself\u001b[0m\u001b[0;34m.\u001b[0m\u001b[0mright_index\u001b[0m \u001b[0;32mand\u001b[0m \u001b[0mself\u001b[0m\u001b[0;34m.\u001b[0m\u001b[0mhow\u001b[0m \u001b[0;34m==\u001b[0m \u001b[0;34m\"left\"\u001b[0m\u001b[0;34m:\u001b[0m\u001b[0;34m\u001b[0m\u001b[0;34m\u001b[0m\u001b[0m\n",
      "\u001b[0;32m/storage/cynthiawu/miniconda3/envs/python3.6/lib/python3.6/site-packages/pandas/core/indexes/base.py\u001b[0m in \u001b[0;36mjoin\u001b[0;34m(self, other, how, level, return_indexers, sort)\u001b[0m\n\u001b[1;32m   3300\u001b[0m         \u001b[0;32mif\u001b[0m \u001b[0;32mnot\u001b[0m \u001b[0mself\u001b[0m\u001b[0;34m.\u001b[0m\u001b[0mis_unique\u001b[0m \u001b[0;32mand\u001b[0m \u001b[0;32mnot\u001b[0m \u001b[0mother\u001b[0m\u001b[0;34m.\u001b[0m\u001b[0mis_unique\u001b[0m\u001b[0;34m:\u001b[0m\u001b[0;34m\u001b[0m\u001b[0;34m\u001b[0m\u001b[0m\n\u001b[1;32m   3301\u001b[0m             return self._join_non_unique(\n\u001b[0;32m-> 3302\u001b[0;31m                 \u001b[0mother\u001b[0m\u001b[0;34m,\u001b[0m \u001b[0mhow\u001b[0m\u001b[0;34m=\u001b[0m\u001b[0mhow\u001b[0m\u001b[0;34m,\u001b[0m \u001b[0mreturn_indexers\u001b[0m\u001b[0;34m=\u001b[0m\u001b[0mreturn_indexers\u001b[0m\u001b[0;34m\u001b[0m\u001b[0;34m\u001b[0m\u001b[0m\n\u001b[0m\u001b[1;32m   3303\u001b[0m             )\n\u001b[1;32m   3304\u001b[0m         \u001b[0;32melif\u001b[0m \u001b[0;32mnot\u001b[0m \u001b[0mself\u001b[0m\u001b[0;34m.\u001b[0m\u001b[0mis_unique\u001b[0m \u001b[0;32mor\u001b[0m \u001b[0;32mnot\u001b[0m \u001b[0mother\u001b[0m\u001b[0;34m.\u001b[0m\u001b[0mis_unique\u001b[0m\u001b[0;34m:\u001b[0m\u001b[0;34m\u001b[0m\u001b[0;34m\u001b[0m\u001b[0m\n",
      "\u001b[0;32m/storage/cynthiawu/miniconda3/envs/python3.6/lib/python3.6/site-packages/pandas/core/indexes/base.py\u001b[0m in \u001b[0;36m_join_non_unique\u001b[0;34m(self, other, how, return_indexers)\u001b[0m\n\u001b[1;32m   3427\u001b[0m \u001b[0;34m\u001b[0m\u001b[0m\n\u001b[1;32m   3428\u001b[0m         left_idx, right_idx = _get_join_indexers(\n\u001b[0;32m-> 3429\u001b[0;31m             \u001b[0;34m[\u001b[0m\u001b[0mself\u001b[0m\u001b[0;34m.\u001b[0m\u001b[0m_ndarray_values\u001b[0m\u001b[0;34m]\u001b[0m\u001b[0;34m,\u001b[0m \u001b[0;34m[\u001b[0m\u001b[0mother\u001b[0m\u001b[0;34m.\u001b[0m\u001b[0m_ndarray_values\u001b[0m\u001b[0;34m]\u001b[0m\u001b[0;34m,\u001b[0m \u001b[0mhow\u001b[0m\u001b[0;34m=\u001b[0m\u001b[0mhow\u001b[0m\u001b[0;34m,\u001b[0m \u001b[0msort\u001b[0m\u001b[0;34m=\u001b[0m\u001b[0;32mTrue\u001b[0m\u001b[0;34m\u001b[0m\u001b[0;34m\u001b[0m\u001b[0m\n\u001b[0m\u001b[1;32m   3430\u001b[0m         )\n\u001b[1;32m   3431\u001b[0m \u001b[0;34m\u001b[0m\u001b[0m\n",
      "\u001b[0;32m/storage/cynthiawu/miniconda3/envs/python3.6/lib/python3.6/site-packages/pandas/core/reshape/merge.py\u001b[0m in \u001b[0;36m_get_join_indexers\u001b[0;34m(left_keys, right_keys, sort, how, **kwargs)\u001b[0m\n\u001b[1;32m   1326\u001b[0m     \u001b[0mjoin_func\u001b[0m \u001b[0;34m=\u001b[0m \u001b[0m_join_functions\u001b[0m\u001b[0;34m[\u001b[0m\u001b[0mhow\u001b[0m\u001b[0;34m]\u001b[0m\u001b[0;34m\u001b[0m\u001b[0;34m\u001b[0m\u001b[0m\n\u001b[1;32m   1327\u001b[0m \u001b[0;34m\u001b[0m\u001b[0m\n\u001b[0;32m-> 1328\u001b[0;31m     \u001b[0;32mreturn\u001b[0m \u001b[0mjoin_func\u001b[0m\u001b[0;34m(\u001b[0m\u001b[0mlkey\u001b[0m\u001b[0;34m,\u001b[0m \u001b[0mrkey\u001b[0m\u001b[0;34m,\u001b[0m \u001b[0mcount\u001b[0m\u001b[0;34m,\u001b[0m \u001b[0;34m**\u001b[0m\u001b[0mkwargs\u001b[0m\u001b[0;34m)\u001b[0m\u001b[0;34m\u001b[0m\u001b[0;34m\u001b[0m\u001b[0m\n\u001b[0m\u001b[1;32m   1329\u001b[0m \u001b[0;34m\u001b[0m\u001b[0m\n\u001b[1;32m   1330\u001b[0m \u001b[0;34m\u001b[0m\u001b[0m\n",
      "\u001b[0;32mpandas/_libs/join.pyx\u001b[0m in \u001b[0;36mpandas._libs.join.inner_join\u001b[0;34m()\u001b[0m\n",
      "\u001b[0;31mMemoryError\u001b[0m: "
     ]
    }
   ],
   "source": [
    "intersect = nerve.merge(adipose, left_index=True, right_index=True, copy=False)\n"
   ]
  },
  {
   "cell_type": "code",
   "execution_count": 2,
   "metadata": {},
   "outputs": [],
   "source": [
    "import dask.dataframe as dd"
   ]
  },
  {
   "cell_type": "code",
   "execution_count": 10,
   "metadata": {},
   "outputs": [],
   "source": [
    "?dd.read_csv"
   ]
  },
  {
   "cell_type": "code",
   "execution_count": 3,
   "metadata": {},
   "outputs": [],
   "source": [
    "adipose = dd.read_csv('/storage/cynthiawu/trans_eQTL/GTex.v8/Run3_070221/Adipose-Subcutaneous_Euro/matrixeQTL_PCs_sig_results_pairwise', sep='\\t')\n",
    "nerve = dd.read_csv('/storage/cynthiawu/trans_eQTL/GTex.v8/Run3_070221/Nerve-Tibial/matrixeQTL_PCs_sig_results_pairwise', sep='\\t')\n"
   ]
  },
  {
   "cell_type": "code",
   "execution_count": 13,
   "metadata": {},
   "outputs": [
    {
     "data": {
      "text/html": [
       "<div><strong>Dask DataFrame Structure:</strong></div>\n",
       "<div>\n",
       "<style scoped>\n",
       "    .dataframe tbody tr th:only-of-type {\n",
       "        vertical-align: middle;\n",
       "    }\n",
       "\n",
       "    .dataframe tbody tr th {\n",
       "        vertical-align: top;\n",
       "    }\n",
       "\n",
       "    .dataframe thead th {\n",
       "        text-align: right;\n",
       "    }\n",
       "</style>\n",
       "<table border=\"1\" class=\"dataframe\">\n",
       "  <thead>\n",
       "    <tr style=\"text-align: right;\">\n",
       "      <th></th>\n",
       "      <th>SNP</th>\n",
       "      <th>gene</th>\n",
       "      <th>beta</th>\n",
       "      <th>t-stat</th>\n",
       "      <th>p-value</th>\n",
       "      <th>FDR</th>\n",
       "    </tr>\n",
       "    <tr>\n",
       "      <th>npartitions=33</th>\n",
       "      <th></th>\n",
       "      <th></th>\n",
       "      <th></th>\n",
       "      <th></th>\n",
       "      <th></th>\n",
       "      <th></th>\n",
       "    </tr>\n",
       "  </thead>\n",
       "  <tbody>\n",
       "    <tr>\n",
       "      <th></th>\n",
       "      <td>object</td>\n",
       "      <td>object</td>\n",
       "      <td>float64</td>\n",
       "      <td>float64</td>\n",
       "      <td>float64</td>\n",
       "      <td>float64</td>\n",
       "    </tr>\n",
       "    <tr>\n",
       "      <th></th>\n",
       "      <td>...</td>\n",
       "      <td>...</td>\n",
       "      <td>...</td>\n",
       "      <td>...</td>\n",
       "      <td>...</td>\n",
       "      <td>...</td>\n",
       "    </tr>\n",
       "    <tr>\n",
       "      <th>...</th>\n",
       "      <td>...</td>\n",
       "      <td>...</td>\n",
       "      <td>...</td>\n",
       "      <td>...</td>\n",
       "      <td>...</td>\n",
       "      <td>...</td>\n",
       "    </tr>\n",
       "    <tr>\n",
       "      <th></th>\n",
       "      <td>...</td>\n",
       "      <td>...</td>\n",
       "      <td>...</td>\n",
       "      <td>...</td>\n",
       "      <td>...</td>\n",
       "      <td>...</td>\n",
       "    </tr>\n",
       "    <tr>\n",
       "      <th></th>\n",
       "      <td>...</td>\n",
       "      <td>...</td>\n",
       "      <td>...</td>\n",
       "      <td>...</td>\n",
       "      <td>...</td>\n",
       "      <td>...</td>\n",
       "    </tr>\n",
       "  </tbody>\n",
       "</table>\n",
       "</div>\n",
       "<div>Dask Name: from-delayed, 99 tasks</div>"
      ],
      "text/plain": [
       "Dask DataFrame Structure:\n",
       "                   SNP    gene     beta   t-stat  p-value      FDR\n",
       "npartitions=33                                                    \n",
       "                object  object  float64  float64  float64  float64\n",
       "                   ...     ...      ...      ...      ...      ...\n",
       "...                ...     ...      ...      ...      ...      ...\n",
       "                   ...     ...      ...      ...      ...      ...\n",
       "                   ...     ...      ...      ...      ...      ...\n",
       "Dask Name: from-delayed, 99 tasks"
      ]
     },
     "execution_count": 13,
     "metadata": {},
     "output_type": "execute_result"
    }
   ],
   "source": [
    "adipose"
   ]
  },
  {
   "cell_type": "code",
   "execution_count": 6,
   "metadata": {},
   "outputs": [],
   "source": [
    "df = dd.merge(adipose, nerve, how='inner', on=['SNP', 'gene'])"
   ]
  },
  {
   "cell_type": "code",
   "execution_count": 17,
   "metadata": {},
   "outputs": [],
   "source": [
    "?dd.merge"
   ]
  },
  {
   "cell_type": "code",
   "execution_count": 18,
   "metadata": {},
   "outputs": [
    {
     "data": {
      "text/html": [
       "<div><strong>Dask DataFrame Structure:</strong></div>\n",
       "<div>\n",
       "<style scoped>\n",
       "    .dataframe tbody tr th:only-of-type {\n",
       "        vertical-align: middle;\n",
       "    }\n",
       "\n",
       "    .dataframe tbody tr th {\n",
       "        vertical-align: top;\n",
       "    }\n",
       "\n",
       "    .dataframe thead th {\n",
       "        text-align: right;\n",
       "    }\n",
       "</style>\n",
       "<table border=\"1\" class=\"dataframe\">\n",
       "  <thead>\n",
       "    <tr style=\"text-align: right;\">\n",
       "      <th></th>\n",
       "      <th>SNP</th>\n",
       "      <th>gene_x</th>\n",
       "      <th>beta_x</th>\n",
       "      <th>t-stat_x</th>\n",
       "      <th>p-value_x</th>\n",
       "      <th>FDR_x</th>\n",
       "      <th>gene_y</th>\n",
       "      <th>beta_y</th>\n",
       "      <th>t-stat_y</th>\n",
       "      <th>p-value_y</th>\n",
       "      <th>FDR_y</th>\n",
       "    </tr>\n",
       "    <tr>\n",
       "      <th>npartitions=33</th>\n",
       "      <th></th>\n",
       "      <th></th>\n",
       "      <th></th>\n",
       "      <th></th>\n",
       "      <th></th>\n",
       "      <th></th>\n",
       "      <th></th>\n",
       "      <th></th>\n",
       "      <th></th>\n",
       "      <th></th>\n",
       "      <th></th>\n",
       "    </tr>\n",
       "  </thead>\n",
       "  <tbody>\n",
       "    <tr>\n",
       "      <th></th>\n",
       "      <td>object</td>\n",
       "      <td>object</td>\n",
       "      <td>float64</td>\n",
       "      <td>float64</td>\n",
       "      <td>float64</td>\n",
       "      <td>float64</td>\n",
       "      <td>object</td>\n",
       "      <td>float64</td>\n",
       "      <td>float64</td>\n",
       "      <td>float64</td>\n",
       "      <td>float64</td>\n",
       "    </tr>\n",
       "    <tr>\n",
       "      <th></th>\n",
       "      <td>...</td>\n",
       "      <td>...</td>\n",
       "      <td>...</td>\n",
       "      <td>...</td>\n",
       "      <td>...</td>\n",
       "      <td>...</td>\n",
       "      <td>...</td>\n",
       "      <td>...</td>\n",
       "      <td>...</td>\n",
       "      <td>...</td>\n",
       "      <td>...</td>\n",
       "    </tr>\n",
       "    <tr>\n",
       "      <th>...</th>\n",
       "      <td>...</td>\n",
       "      <td>...</td>\n",
       "      <td>...</td>\n",
       "      <td>...</td>\n",
       "      <td>...</td>\n",
       "      <td>...</td>\n",
       "      <td>...</td>\n",
       "      <td>...</td>\n",
       "      <td>...</td>\n",
       "      <td>...</td>\n",
       "      <td>...</td>\n",
       "    </tr>\n",
       "    <tr>\n",
       "      <th></th>\n",
       "      <td>...</td>\n",
       "      <td>...</td>\n",
       "      <td>...</td>\n",
       "      <td>...</td>\n",
       "      <td>...</td>\n",
       "      <td>...</td>\n",
       "      <td>...</td>\n",
       "      <td>...</td>\n",
       "      <td>...</td>\n",
       "      <td>...</td>\n",
       "      <td>...</td>\n",
       "    </tr>\n",
       "    <tr>\n",
       "      <th></th>\n",
       "      <td>...</td>\n",
       "      <td>...</td>\n",
       "      <td>...</td>\n",
       "      <td>...</td>\n",
       "      <td>...</td>\n",
       "      <td>...</td>\n",
       "      <td>...</td>\n",
       "      <td>...</td>\n",
       "      <td>...</td>\n",
       "      <td>...</td>\n",
       "      <td>...</td>\n",
       "    </tr>\n",
       "  </tbody>\n",
       "</table>\n",
       "</div>\n",
       "<div>Dask Name: hash-join, 765 tasks</div>"
      ],
      "text/plain": [
       "Dask DataFrame Structure:\n",
       "                   SNP  gene_x   beta_x t-stat_x p-value_x    FDR_x  gene_y   beta_y t-stat_y p-value_y    FDR_y\n",
       "npartitions=33                                                                                                  \n",
       "                object  object  float64  float64   float64  float64  object  float64  float64   float64  float64\n",
       "                   ...     ...      ...      ...       ...      ...     ...      ...      ...       ...      ...\n",
       "...                ...     ...      ...      ...       ...      ...     ...      ...      ...       ...      ...\n",
       "                   ...     ...      ...      ...       ...      ...     ...      ...      ...       ...      ...\n",
       "                   ...     ...      ...      ...       ...      ...     ...      ...      ...       ...      ...\n",
       "Dask Name: hash-join, 765 tasks"
      ]
     },
     "execution_count": 18,
     "metadata": {},
     "output_type": "execute_result"
    }
   ],
   "source": [
    "df"
   ]
  },
  {
   "cell_type": "code",
   "execution_count": null,
   "metadata": {},
   "outputs": [],
   "source": []
  },
  {
   "cell_type": "code",
   "execution_count": 7,
   "metadata": {},
   "outputs": [
    {
     "name": "stderr",
     "output_type": "stream",
     "text": [
      "ignoring exception in ensure_cleanup_on_exception\n",
      "Traceback (most recent call last):\n",
      "  File \"/storage/cynthiawu/miniconda3/envs/python3.6/lib/python3.6/site-packages/dask/dataframe/shuffle.py\", line 873, in ensure_cleanup_on_exception\n",
      "    yield\n",
      "  File \"/storage/cynthiawu/miniconda3/envs/python3.6/lib/python3.6/site-packages/dask/dataframe/shuffle.py\", line 888, in shuffle_group_3\n",
      "    p.append(d, fsync=True)\n",
      "  File \"/storage/cynthiawu/miniconda3/envs/python3.6/lib/python3.6/site-packages/partd/encode.py\", line 25, in append\n",
      "    self.partd.append(data, **kwargs)\n",
      "  File \"/storage/cynthiawu/miniconda3/envs/python3.6/lib/python3.6/site-packages/partd/buffer.py\", line 45, in append\n",
      "    self.flush(keys)\n",
      "  File \"/storage/cynthiawu/miniconda3/envs/python3.6/lib/python3.6/site-packages/partd/buffer.py\", line 99, in flush\n",
      "    self.slow.append(dict(zip(keys, self.fast.get(keys))))\n",
      "  File \"/storage/cynthiawu/miniconda3/envs/python3.6/lib/python3.6/site-packages/partd/file.py\", line 44, in append\n",
      "    f.write(v)\n",
      "OSError: [Errno 28] No space left on device\n",
      "\n",
      "During handling of the above exception, another exception occurred:\n",
      "\n",
      "Traceback (most recent call last):\n",
      "  File \"/storage/cynthiawu/miniconda3/envs/python3.6/lib/python3.6/site-packages/dask/dataframe/shuffle.py\", line 878, in ensure_cleanup_on_exception\n",
      "    p.drop()\n",
      "  File \"/storage/cynthiawu/miniconda3/envs/python3.6/lib/python3.6/site-packages/partd/encode.py\", line 39, in drop\n",
      "    return self.partd.drop()\n",
      "  File \"/storage/cynthiawu/miniconda3/envs/python3.6/lib/python3.6/site-packages/partd/buffer.py\", line 78, in drop\n",
      "    self.slow.drop()\n",
      "  File \"/storage/cynthiawu/miniconda3/envs/python3.6/lib/python3.6/site-packages/partd/file.py\", line 95, in drop\n",
      "    shutil.rmtree(self.path)\n",
      "  File \"/storage/cynthiawu/miniconda3/envs/python3.6/lib/python3.6/shutil.py\", line 480, in rmtree\n",
      "    _rmtree_safe_fd(fd, path, onerror)\n",
      "  File \"/storage/cynthiawu/miniconda3/envs/python3.6/lib/python3.6/shutil.py\", line 438, in _rmtree_safe_fd\n",
      "    onerror(os.unlink, fullname, sys.exc_info())\n",
      "  File \"/storage/cynthiawu/miniconda3/envs/python3.6/lib/python3.6/shutil.py\", line 436, in _rmtree_safe_fd\n",
      "    os.unlink(name, dir_fd=topfd)\n",
      "FileNotFoundError: [Errno 2] No such file or directory: '22'\n",
      "ignoring exception in ensure_cleanup_on_exception\n",
      "Traceback (most recent call last):\n",
      "  File \"/storage/cynthiawu/miniconda3/envs/python3.6/lib/python3.6/site-packages/dask/dataframe/shuffle.py\", line 873, in ensure_cleanup_on_exception\n",
      "    yield\n",
      "  File \"/storage/cynthiawu/miniconda3/envs/python3.6/lib/python3.6/site-packages/dask/dataframe/shuffle.py\", line 888, in shuffle_group_3\n",
      "    p.append(d, fsync=True)\n",
      "  File \"/storage/cynthiawu/miniconda3/envs/python3.6/lib/python3.6/site-packages/partd/encode.py\", line 25, in append\n",
      "    self.partd.append(data, **kwargs)\n",
      "  File \"/storage/cynthiawu/miniconda3/envs/python3.6/lib/python3.6/site-packages/partd/buffer.py\", line 45, in append\n",
      "    self.flush(keys)\n",
      "  File \"/storage/cynthiawu/miniconda3/envs/python3.6/lib/python3.6/site-packages/partd/buffer.py\", line 99, in flush\n",
      "    self.slow.append(dict(zip(keys, self.fast.get(keys))))\n",
      "  File \"/storage/cynthiawu/miniconda3/envs/python3.6/lib/python3.6/site-packages/partd/file.py\", line 44, in append\n",
      "    f.write(v)\n",
      "OSError: [Errno 28] No space left on device\n",
      "\n",
      "During handling of the above exception, another exception occurred:\n",
      "\n",
      "Traceback (most recent call last):\n",
      "  File \"/storage/cynthiawu/miniconda3/envs/python3.6/lib/python3.6/site-packages/dask/dataframe/shuffle.py\", line 878, in ensure_cleanup_on_exception\n",
      "    p.drop()\n",
      "  File \"/storage/cynthiawu/miniconda3/envs/python3.6/lib/python3.6/site-packages/partd/encode.py\", line 39, in drop\n",
      "    return self.partd.drop()\n",
      "  File \"/storage/cynthiawu/miniconda3/envs/python3.6/lib/python3.6/site-packages/partd/buffer.py\", line 78, in drop\n",
      "    self.slow.drop()\n",
      "  File \"/storage/cynthiawu/miniconda3/envs/python3.6/lib/python3.6/site-packages/partd/file.py\", line 95, in drop\n",
      "    shutil.rmtree(self.path)\n",
      "  File \"/storage/cynthiawu/miniconda3/envs/python3.6/lib/python3.6/shutil.py\", line 484, in rmtree\n",
      "    onerror(os.rmdir, path, sys.exc_info())\n",
      "  File \"/storage/cynthiawu/miniconda3/envs/python3.6/lib/python3.6/shutil.py\", line 482, in rmtree\n",
      "    os.rmdir(path)\n",
      "OSError: [Errno 39] Directory not empty: '/tmp/tmpno94q06i.partd'\n"
     ]
    },
    {
     "ename": "OSError",
     "evalue": "[Errno 28] No space left on device",
     "output_type": "error",
     "traceback": [
      "\u001b[0;31m---------------------------------------------------------------------------\u001b[0m",
      "\u001b[0;31mOSError\u001b[0m                                   Traceback (most recent call last)",
      "\u001b[0;32m<ipython-input-7-3465a55bcc35>\u001b[0m in \u001b[0;36m<module>\u001b[0;34m()\u001b[0m\n\u001b[0;32m----> 1\u001b[0;31m \u001b[0mdf\u001b[0m\u001b[0;34m.\u001b[0m\u001b[0mto_csv\u001b[0m\u001b[0;34m(\u001b[0m\u001b[0;34m'/storage/cynthiawu/trans_eQTL/GTex.v8/Run3_070221/nerve_adipose_intersect.tsv'\u001b[0m\u001b[0;34m,\u001b[0m \u001b[0msep\u001b[0m\u001b[0;34m=\u001b[0m\u001b[0;34m'\\t'\u001b[0m\u001b[0;34m,\u001b[0m \u001b[0mindex\u001b[0m\u001b[0;34m=\u001b[0m\u001b[0;32mFalse\u001b[0m\u001b[0;34m)\u001b[0m\u001b[0;34m\u001b[0m\u001b[0;34m\u001b[0m\u001b[0m\n\u001b[0m",
      "\u001b[0;32m/storage/cynthiawu/miniconda3/envs/python3.6/lib/python3.6/site-packages/dask/dataframe/core.py\u001b[0m in \u001b[0;36mto_csv\u001b[0;34m(self, filename, **kwargs)\u001b[0m\n\u001b[1;32m   1406\u001b[0m         \u001b[0;32mfrom\u001b[0m \u001b[0;34m.\u001b[0m\u001b[0mio\u001b[0m \u001b[0;32mimport\u001b[0m \u001b[0mto_csv\u001b[0m\u001b[0;34m\u001b[0m\u001b[0;34m\u001b[0m\u001b[0m\n\u001b[1;32m   1407\u001b[0m \u001b[0;34m\u001b[0m\u001b[0m\n\u001b[0;32m-> 1408\u001b[0;31m         \u001b[0;32mreturn\u001b[0m \u001b[0mto_csv\u001b[0m\u001b[0;34m(\u001b[0m\u001b[0mself\u001b[0m\u001b[0;34m,\u001b[0m \u001b[0mfilename\u001b[0m\u001b[0;34m,\u001b[0m \u001b[0;34m**\u001b[0m\u001b[0mkwargs\u001b[0m\u001b[0;34m)\u001b[0m\u001b[0;34m\u001b[0m\u001b[0;34m\u001b[0m\u001b[0m\n\u001b[0m\u001b[1;32m   1409\u001b[0m \u001b[0;34m\u001b[0m\u001b[0m\n\u001b[1;32m   1410\u001b[0m     def to_sql(\n",
      "\u001b[0;32m/storage/cynthiawu/miniconda3/envs/python3.6/lib/python3.6/site-packages/dask/dataframe/io/csv.py\u001b[0m in \u001b[0;36mto_csv\u001b[0;34m(df, filename, single_file, encoding, mode, name_function, compression, compute, scheduler, storage_options, header_first_partition_only, compute_kwargs, **kwargs)\u001b[0m\n\u001b[1;32m    821\u001b[0m             \u001b[0mcompute_kwargs\u001b[0m\u001b[0;34m[\u001b[0m\u001b[0;34m\"scheduler\"\u001b[0m\u001b[0;34m]\u001b[0m \u001b[0;34m=\u001b[0m \u001b[0mscheduler\u001b[0m\u001b[0;34m\u001b[0m\u001b[0;34m\u001b[0m\u001b[0m\n\u001b[1;32m    822\u001b[0m \u001b[0;34m\u001b[0m\u001b[0m\n\u001b[0;32m--> 823\u001b[0;31m         \u001b[0mdelayed\u001b[0m\u001b[0;34m(\u001b[0m\u001b[0mvalues\u001b[0m\u001b[0;34m)\u001b[0m\u001b[0;34m.\u001b[0m\u001b[0mcompute\u001b[0m\u001b[0;34m(\u001b[0m\u001b[0;34m**\u001b[0m\u001b[0mcompute_kwargs\u001b[0m\u001b[0;34m)\u001b[0m\u001b[0;34m\u001b[0m\u001b[0;34m\u001b[0m\u001b[0m\n\u001b[0m\u001b[1;32m    824\u001b[0m         \u001b[0;32mreturn\u001b[0m \u001b[0;34m[\u001b[0m\u001b[0mf\u001b[0m\u001b[0;34m.\u001b[0m\u001b[0mpath\u001b[0m \u001b[0;32mfor\u001b[0m \u001b[0mf\u001b[0m \u001b[0;32min\u001b[0m \u001b[0mfiles\u001b[0m\u001b[0;34m]\u001b[0m\u001b[0;34m\u001b[0m\u001b[0;34m\u001b[0m\u001b[0m\n\u001b[1;32m    825\u001b[0m     \u001b[0;32melse\u001b[0m\u001b[0;34m:\u001b[0m\u001b[0;34m\u001b[0m\u001b[0;34m\u001b[0m\u001b[0m\n",
      "\u001b[0;32m/storage/cynthiawu/miniconda3/envs/python3.6/lib/python3.6/site-packages/dask/base.py\u001b[0m in \u001b[0;36mcompute\u001b[0;34m(self, **kwargs)\u001b[0m\n\u001b[1;32m    164\u001b[0m         \u001b[0mdask\u001b[0m\u001b[0;34m.\u001b[0m\u001b[0mbase\u001b[0m\u001b[0;34m.\u001b[0m\u001b[0mcompute\u001b[0m\u001b[0;34m\u001b[0m\u001b[0;34m\u001b[0m\u001b[0m\n\u001b[1;32m    165\u001b[0m         \"\"\"\n\u001b[0;32m--> 166\u001b[0;31m         \u001b[0;34m(\u001b[0m\u001b[0mresult\u001b[0m\u001b[0;34m,\u001b[0m\u001b[0;34m)\u001b[0m \u001b[0;34m=\u001b[0m \u001b[0mcompute\u001b[0m\u001b[0;34m(\u001b[0m\u001b[0mself\u001b[0m\u001b[0;34m,\u001b[0m \u001b[0mtraverse\u001b[0m\u001b[0;34m=\u001b[0m\u001b[0;32mFalse\u001b[0m\u001b[0;34m,\u001b[0m \u001b[0;34m**\u001b[0m\u001b[0mkwargs\u001b[0m\u001b[0;34m)\u001b[0m\u001b[0;34m\u001b[0m\u001b[0;34m\u001b[0m\u001b[0m\n\u001b[0m\u001b[1;32m    167\u001b[0m         \u001b[0;32mreturn\u001b[0m \u001b[0mresult\u001b[0m\u001b[0;34m\u001b[0m\u001b[0;34m\u001b[0m\u001b[0m\n\u001b[1;32m    168\u001b[0m \u001b[0;34m\u001b[0m\u001b[0m\n",
      "\u001b[0;32m/storage/cynthiawu/miniconda3/envs/python3.6/lib/python3.6/site-packages/dask/base.py\u001b[0m in \u001b[0;36mcompute\u001b[0;34m(*args, **kwargs)\u001b[0m\n\u001b[1;32m    442\u001b[0m         \u001b[0mpostcomputes\u001b[0m\u001b[0;34m.\u001b[0m\u001b[0mappend\u001b[0m\u001b[0;34m(\u001b[0m\u001b[0mx\u001b[0m\u001b[0;34m.\u001b[0m\u001b[0m__dask_postcompute__\u001b[0m\u001b[0;34m(\u001b[0m\u001b[0;34m)\u001b[0m\u001b[0;34m)\u001b[0m\u001b[0;34m\u001b[0m\u001b[0;34m\u001b[0m\u001b[0m\n\u001b[1;32m    443\u001b[0m \u001b[0;34m\u001b[0m\u001b[0m\n\u001b[0;32m--> 444\u001b[0;31m     \u001b[0mresults\u001b[0m \u001b[0;34m=\u001b[0m \u001b[0mschedule\u001b[0m\u001b[0;34m(\u001b[0m\u001b[0mdsk\u001b[0m\u001b[0;34m,\u001b[0m \u001b[0mkeys\u001b[0m\u001b[0;34m,\u001b[0m \u001b[0;34m**\u001b[0m\u001b[0mkwargs\u001b[0m\u001b[0;34m)\u001b[0m\u001b[0;34m\u001b[0m\u001b[0;34m\u001b[0m\u001b[0m\n\u001b[0m\u001b[1;32m    445\u001b[0m     \u001b[0;32mreturn\u001b[0m \u001b[0mrepack\u001b[0m\u001b[0;34m(\u001b[0m\u001b[0;34m[\u001b[0m\u001b[0mf\u001b[0m\u001b[0;34m(\u001b[0m\u001b[0mr\u001b[0m\u001b[0;34m,\u001b[0m \u001b[0;34m*\u001b[0m\u001b[0ma\u001b[0m\u001b[0;34m)\u001b[0m \u001b[0;32mfor\u001b[0m \u001b[0mr\u001b[0m\u001b[0;34m,\u001b[0m \u001b[0;34m(\u001b[0m\u001b[0mf\u001b[0m\u001b[0;34m,\u001b[0m \u001b[0ma\u001b[0m\u001b[0;34m)\u001b[0m \u001b[0;32min\u001b[0m \u001b[0mzip\u001b[0m\u001b[0;34m(\u001b[0m\u001b[0mresults\u001b[0m\u001b[0;34m,\u001b[0m \u001b[0mpostcomputes\u001b[0m\u001b[0;34m)\u001b[0m\u001b[0;34m]\u001b[0m\u001b[0;34m)\u001b[0m\u001b[0;34m\u001b[0m\u001b[0;34m\u001b[0m\u001b[0m\n\u001b[1;32m    446\u001b[0m \u001b[0;34m\u001b[0m\u001b[0m\n",
      "\u001b[0;32m/storage/cynthiawu/miniconda3/envs/python3.6/lib/python3.6/site-packages/dask/threaded.py\u001b[0m in \u001b[0;36mget\u001b[0;34m(dsk, result, cache, num_workers, pool, **kwargs)\u001b[0m\n\u001b[1;32m     82\u001b[0m         \u001b[0mget_id\u001b[0m\u001b[0;34m=\u001b[0m\u001b[0m_thread_get_id\u001b[0m\u001b[0;34m,\u001b[0m\u001b[0;34m\u001b[0m\u001b[0;34m\u001b[0m\u001b[0m\n\u001b[1;32m     83\u001b[0m         \u001b[0mpack_exception\u001b[0m\u001b[0;34m=\u001b[0m\u001b[0mpack_exception\u001b[0m\u001b[0;34m,\u001b[0m\u001b[0;34m\u001b[0m\u001b[0;34m\u001b[0m\u001b[0m\n\u001b[0;32m---> 84\u001b[0;31m         \u001b[0;34m**\u001b[0m\u001b[0mkwargs\u001b[0m\u001b[0;34m\u001b[0m\u001b[0;34m\u001b[0m\u001b[0m\n\u001b[0m\u001b[1;32m     85\u001b[0m     )\n\u001b[1;32m     86\u001b[0m \u001b[0;34m\u001b[0m\u001b[0m\n",
      "\u001b[0;32m/storage/cynthiawu/miniconda3/envs/python3.6/lib/python3.6/site-packages/dask/local.py\u001b[0m in \u001b[0;36mget_async\u001b[0;34m(apply_async, num_workers, dsk, result, cache, get_id, rerun_exceptions_locally, pack_exception, raise_exception, callbacks, dumps, loads, **kwargs)\u001b[0m\n\u001b[1;32m    484\u001b[0m                         \u001b[0m_execute_task\u001b[0m\u001b[0;34m(\u001b[0m\u001b[0mtask\u001b[0m\u001b[0;34m,\u001b[0m \u001b[0mdata\u001b[0m\u001b[0;34m)\u001b[0m  \u001b[0;31m# Re-execute locally\u001b[0m\u001b[0;34m\u001b[0m\u001b[0;34m\u001b[0m\u001b[0m\n\u001b[1;32m    485\u001b[0m                     \u001b[0;32melse\u001b[0m\u001b[0;34m:\u001b[0m\u001b[0;34m\u001b[0m\u001b[0;34m\u001b[0m\u001b[0m\n\u001b[0;32m--> 486\u001b[0;31m                         \u001b[0mraise_exception\u001b[0m\u001b[0;34m(\u001b[0m\u001b[0mexc\u001b[0m\u001b[0;34m,\u001b[0m \u001b[0mtb\u001b[0m\u001b[0;34m)\u001b[0m\u001b[0;34m\u001b[0m\u001b[0;34m\u001b[0m\u001b[0m\n\u001b[0m\u001b[1;32m    487\u001b[0m                 \u001b[0mres\u001b[0m\u001b[0;34m,\u001b[0m \u001b[0mworker_id\u001b[0m \u001b[0;34m=\u001b[0m \u001b[0mloads\u001b[0m\u001b[0;34m(\u001b[0m\u001b[0mres_info\u001b[0m\u001b[0;34m)\u001b[0m\u001b[0;34m\u001b[0m\u001b[0;34m\u001b[0m\u001b[0m\n\u001b[1;32m    488\u001b[0m                 \u001b[0mstate\u001b[0m\u001b[0;34m[\u001b[0m\u001b[0;34m\"cache\"\u001b[0m\u001b[0;34m]\u001b[0m\u001b[0;34m[\u001b[0m\u001b[0mkey\u001b[0m\u001b[0;34m]\u001b[0m \u001b[0;34m=\u001b[0m \u001b[0mres\u001b[0m\u001b[0;34m\u001b[0m\u001b[0;34m\u001b[0m\u001b[0m\n",
      "\u001b[0;32m/storage/cynthiawu/miniconda3/envs/python3.6/lib/python3.6/site-packages/dask/local.py\u001b[0m in \u001b[0;36mreraise\u001b[0;34m(exc, tb)\u001b[0m\n\u001b[1;32m    314\u001b[0m     \u001b[0;32mif\u001b[0m \u001b[0mexc\u001b[0m\u001b[0;34m.\u001b[0m\u001b[0m__traceback__\u001b[0m \u001b[0;32mis\u001b[0m \u001b[0;32mnot\u001b[0m \u001b[0mtb\u001b[0m\u001b[0;34m:\u001b[0m\u001b[0;34m\u001b[0m\u001b[0;34m\u001b[0m\u001b[0m\n\u001b[1;32m    315\u001b[0m         \u001b[0;32mraise\u001b[0m \u001b[0mexc\u001b[0m\u001b[0;34m.\u001b[0m\u001b[0mwith_traceback\u001b[0m\u001b[0;34m(\u001b[0m\u001b[0mtb\u001b[0m\u001b[0;34m)\u001b[0m\u001b[0;34m\u001b[0m\u001b[0;34m\u001b[0m\u001b[0m\n\u001b[0;32m--> 316\u001b[0;31m     \u001b[0;32mraise\u001b[0m \u001b[0mexc\u001b[0m\u001b[0;34m\u001b[0m\u001b[0;34m\u001b[0m\u001b[0m\n\u001b[0m\u001b[1;32m    317\u001b[0m \u001b[0;34m\u001b[0m\u001b[0m\n\u001b[1;32m    318\u001b[0m \u001b[0;34m\u001b[0m\u001b[0m\n",
      "\u001b[0;32m/storage/cynthiawu/miniconda3/envs/python3.6/lib/python3.6/site-packages/dask/local.py\u001b[0m in \u001b[0;36mexecute_task\u001b[0;34m(key, task_info, dumps, loads, get_id, pack_exception)\u001b[0m\n\u001b[1;32m    220\u001b[0m     \u001b[0;32mtry\u001b[0m\u001b[0;34m:\u001b[0m\u001b[0;34m\u001b[0m\u001b[0;34m\u001b[0m\u001b[0m\n\u001b[1;32m    221\u001b[0m         \u001b[0mtask\u001b[0m\u001b[0;34m,\u001b[0m \u001b[0mdata\u001b[0m \u001b[0;34m=\u001b[0m \u001b[0mloads\u001b[0m\u001b[0;34m(\u001b[0m\u001b[0mtask_info\u001b[0m\u001b[0;34m)\u001b[0m\u001b[0;34m\u001b[0m\u001b[0;34m\u001b[0m\u001b[0m\n\u001b[0;32m--> 222\u001b[0;31m         \u001b[0mresult\u001b[0m \u001b[0;34m=\u001b[0m \u001b[0m_execute_task\u001b[0m\u001b[0;34m(\u001b[0m\u001b[0mtask\u001b[0m\u001b[0;34m,\u001b[0m \u001b[0mdata\u001b[0m\u001b[0;34m)\u001b[0m\u001b[0;34m\u001b[0m\u001b[0;34m\u001b[0m\u001b[0m\n\u001b[0m\u001b[1;32m    223\u001b[0m         \u001b[0mid\u001b[0m \u001b[0;34m=\u001b[0m \u001b[0mget_id\u001b[0m\u001b[0;34m(\u001b[0m\u001b[0;34m)\u001b[0m\u001b[0;34m\u001b[0m\u001b[0;34m\u001b[0m\u001b[0m\n\u001b[1;32m    224\u001b[0m         \u001b[0mresult\u001b[0m \u001b[0;34m=\u001b[0m \u001b[0mdumps\u001b[0m\u001b[0;34m(\u001b[0m\u001b[0;34m(\u001b[0m\u001b[0mresult\u001b[0m\u001b[0;34m,\u001b[0m \u001b[0mid\u001b[0m\u001b[0;34m)\u001b[0m\u001b[0;34m)\u001b[0m\u001b[0;34m\u001b[0m\u001b[0;34m\u001b[0m\u001b[0m\n",
      "\u001b[0;32m/storage/cynthiawu/miniconda3/envs/python3.6/lib/python3.6/site-packages/dask/core.py\u001b[0m in \u001b[0;36m_execute_task\u001b[0;34m(arg, cache, dsk)\u001b[0m\n\u001b[1;32m    119\u001b[0m         \u001b[0;31m# temporaries by their reference count and can execute certain\u001b[0m\u001b[0;34m\u001b[0m\u001b[0;34m\u001b[0m\u001b[0;34m\u001b[0m\u001b[0m\n\u001b[1;32m    120\u001b[0m         \u001b[0;31m# operations in-place.\u001b[0m\u001b[0;34m\u001b[0m\u001b[0;34m\u001b[0m\u001b[0;34m\u001b[0m\u001b[0m\n\u001b[0;32m--> 121\u001b[0;31m         \u001b[0;32mreturn\u001b[0m \u001b[0mfunc\u001b[0m\u001b[0;34m(\u001b[0m\u001b[0;34m*\u001b[0m\u001b[0;34m(\u001b[0m\u001b[0m_execute_task\u001b[0m\u001b[0;34m(\u001b[0m\u001b[0ma\u001b[0m\u001b[0;34m,\u001b[0m \u001b[0mcache\u001b[0m\u001b[0;34m)\u001b[0m \u001b[0;32mfor\u001b[0m \u001b[0ma\u001b[0m \u001b[0;32min\u001b[0m \u001b[0margs\u001b[0m\u001b[0;34m)\u001b[0m\u001b[0;34m)\u001b[0m\u001b[0;34m\u001b[0m\u001b[0;34m\u001b[0m\u001b[0m\n\u001b[0m\u001b[1;32m    122\u001b[0m     \u001b[0;32melif\u001b[0m \u001b[0;32mnot\u001b[0m \u001b[0mishashable\u001b[0m\u001b[0;34m(\u001b[0m\u001b[0marg\u001b[0m\u001b[0;34m)\u001b[0m\u001b[0;34m:\u001b[0m\u001b[0;34m\u001b[0m\u001b[0;34m\u001b[0m\u001b[0m\n\u001b[1;32m    123\u001b[0m         \u001b[0;32mreturn\u001b[0m \u001b[0marg\u001b[0m\u001b[0;34m\u001b[0m\u001b[0;34m\u001b[0m\u001b[0m\n",
      "\u001b[0;32m/storage/cynthiawu/miniconda3/envs/python3.6/lib/python3.6/site-packages/dask/dataframe/shuffle.py\u001b[0m in \u001b[0;36mshuffle_group_3\u001b[0;34m(df, col, npartitions, p)\u001b[0m\n\u001b[1;32m    886\u001b[0m         \u001b[0mg\u001b[0m \u001b[0;34m=\u001b[0m \u001b[0mdf\u001b[0m\u001b[0;34m.\u001b[0m\u001b[0mgroupby\u001b[0m\u001b[0;34m(\u001b[0m\u001b[0mcol\u001b[0m\u001b[0;34m)\u001b[0m\u001b[0;34m\u001b[0m\u001b[0;34m\u001b[0m\u001b[0m\n\u001b[1;32m    887\u001b[0m         \u001b[0md\u001b[0m \u001b[0;34m=\u001b[0m \u001b[0;34m{\u001b[0m\u001b[0mi\u001b[0m\u001b[0;34m:\u001b[0m \u001b[0mg\u001b[0m\u001b[0;34m.\u001b[0m\u001b[0mget_group\u001b[0m\u001b[0;34m(\u001b[0m\u001b[0mi\u001b[0m\u001b[0;34m)\u001b[0m \u001b[0;32mfor\u001b[0m \u001b[0mi\u001b[0m \u001b[0;32min\u001b[0m \u001b[0mg\u001b[0m\u001b[0;34m.\u001b[0m\u001b[0mgroups\u001b[0m\u001b[0;34m}\u001b[0m\u001b[0;34m\u001b[0m\u001b[0;34m\u001b[0m\u001b[0m\n\u001b[0;32m--> 888\u001b[0;31m         \u001b[0mp\u001b[0m\u001b[0;34m.\u001b[0m\u001b[0mappend\u001b[0m\u001b[0;34m(\u001b[0m\u001b[0md\u001b[0m\u001b[0;34m,\u001b[0m \u001b[0mfsync\u001b[0m\u001b[0;34m=\u001b[0m\u001b[0;32mTrue\u001b[0m\u001b[0;34m)\u001b[0m\u001b[0;34m\u001b[0m\u001b[0;34m\u001b[0m\u001b[0m\n\u001b[0m\u001b[1;32m    889\u001b[0m \u001b[0;34m\u001b[0m\u001b[0m\n\u001b[1;32m    890\u001b[0m \u001b[0;34m\u001b[0m\u001b[0m\n",
      "\u001b[0;32m/storage/cynthiawu/miniconda3/envs/python3.6/lib/python3.6/site-packages/partd/encode.py\u001b[0m in \u001b[0;36mappend\u001b[0;34m(self, data, **kwargs)\u001b[0m\n\u001b[1;32m     23\u001b[0m         \u001b[0mdata\u001b[0m \u001b[0;34m=\u001b[0m \u001b[0mvalmap\u001b[0m\u001b[0;34m(\u001b[0m\u001b[0mself\u001b[0m\u001b[0;34m.\u001b[0m\u001b[0mencode\u001b[0m\u001b[0;34m,\u001b[0m \u001b[0mdata\u001b[0m\u001b[0;34m)\u001b[0m\u001b[0;34m\u001b[0m\u001b[0;34m\u001b[0m\u001b[0m\n\u001b[1;32m     24\u001b[0m         \u001b[0mdata\u001b[0m \u001b[0;34m=\u001b[0m \u001b[0mvalmap\u001b[0m\u001b[0;34m(\u001b[0m\u001b[0mframe\u001b[0m\u001b[0;34m,\u001b[0m \u001b[0mdata\u001b[0m\u001b[0;34m)\u001b[0m\u001b[0;34m\u001b[0m\u001b[0;34m\u001b[0m\u001b[0m\n\u001b[0;32m---> 25\u001b[0;31m         \u001b[0mself\u001b[0m\u001b[0;34m.\u001b[0m\u001b[0mpartd\u001b[0m\u001b[0;34m.\u001b[0m\u001b[0mappend\u001b[0m\u001b[0;34m(\u001b[0m\u001b[0mdata\u001b[0m\u001b[0;34m,\u001b[0m \u001b[0;34m**\u001b[0m\u001b[0mkwargs\u001b[0m\u001b[0;34m)\u001b[0m\u001b[0;34m\u001b[0m\u001b[0;34m\u001b[0m\u001b[0m\n\u001b[0m\u001b[1;32m     26\u001b[0m \u001b[0;34m\u001b[0m\u001b[0m\n\u001b[1;32m     27\u001b[0m     \u001b[0;32mdef\u001b[0m \u001b[0m_get\u001b[0m\u001b[0;34m(\u001b[0m\u001b[0mself\u001b[0m\u001b[0;34m,\u001b[0m \u001b[0mkeys\u001b[0m\u001b[0;34m,\u001b[0m \u001b[0;34m**\u001b[0m\u001b[0mkwargs\u001b[0m\u001b[0;34m)\u001b[0m\u001b[0;34m:\u001b[0m\u001b[0;34m\u001b[0m\u001b[0;34m\u001b[0m\u001b[0m\n",
      "\u001b[0;32m/storage/cynthiawu/miniconda3/envs/python3.6/lib/python3.6/site-packages/partd/buffer.py\u001b[0m in \u001b[0;36mappend\u001b[0;34m(self, data, lock, **kwargs)\u001b[0m\n\u001b[1;32m     43\u001b[0m             \u001b[0;32mwhile\u001b[0m \u001b[0mself\u001b[0m\u001b[0;34m.\u001b[0m\u001b[0mmemory_usage\u001b[0m \u001b[0;34m>\u001b[0m \u001b[0mself\u001b[0m\u001b[0;34m.\u001b[0m\u001b[0mavailable_memory\u001b[0m\u001b[0;34m:\u001b[0m\u001b[0;34m\u001b[0m\u001b[0;34m\u001b[0m\u001b[0m\n\u001b[1;32m     44\u001b[0m                 \u001b[0mkeys\u001b[0m \u001b[0;34m=\u001b[0m \u001b[0mkeys_to_flush\u001b[0m\u001b[0;34m(\u001b[0m\u001b[0mself\u001b[0m\u001b[0;34m.\u001b[0m\u001b[0mlengths\u001b[0m\u001b[0;34m,\u001b[0m \u001b[0;36m0.1\u001b[0m\u001b[0;34m,\u001b[0m \u001b[0mmaxcount\u001b[0m\u001b[0;34m=\u001b[0m\u001b[0;36m20\u001b[0m\u001b[0;34m)\u001b[0m\u001b[0;34m\u001b[0m\u001b[0;34m\u001b[0m\u001b[0m\n\u001b[0;32m---> 45\u001b[0;31m                 \u001b[0mself\u001b[0m\u001b[0;34m.\u001b[0m\u001b[0mflush\u001b[0m\u001b[0;34m(\u001b[0m\u001b[0mkeys\u001b[0m\u001b[0;34m)\u001b[0m\u001b[0;34m\u001b[0m\u001b[0;34m\u001b[0m\u001b[0m\n\u001b[0m\u001b[1;32m     46\u001b[0m \u001b[0;34m\u001b[0m\u001b[0m\n\u001b[1;32m     47\u001b[0m         \u001b[0;32mfinally\u001b[0m\u001b[0;34m:\u001b[0m\u001b[0;34m\u001b[0m\u001b[0;34m\u001b[0m\u001b[0m\n",
      "\u001b[0;32m/storage/cynthiawu/miniconda3/envs/python3.6/lib/python3.6/site-packages/partd/buffer.py\u001b[0m in \u001b[0;36mflush\u001b[0;34m(self, keys, block)\u001b[0m\n\u001b[1;32m     97\u001b[0m             \u001b[0mkeys\u001b[0m \u001b[0;34m=\u001b[0m \u001b[0mlist\u001b[0m\u001b[0;34m(\u001b[0m\u001b[0mself\u001b[0m\u001b[0;34m.\u001b[0m\u001b[0mlengths\u001b[0m\u001b[0;34m)\u001b[0m\u001b[0;34m\u001b[0m\u001b[0;34m\u001b[0m\u001b[0m\n\u001b[1;32m     98\u001b[0m \u001b[0;34m\u001b[0m\u001b[0m\n\u001b[0;32m---> 99\u001b[0;31m         \u001b[0mself\u001b[0m\u001b[0;34m.\u001b[0m\u001b[0mslow\u001b[0m\u001b[0;34m.\u001b[0m\u001b[0mappend\u001b[0m\u001b[0;34m(\u001b[0m\u001b[0mdict\u001b[0m\u001b[0;34m(\u001b[0m\u001b[0mzip\u001b[0m\u001b[0;34m(\u001b[0m\u001b[0mkeys\u001b[0m\u001b[0;34m,\u001b[0m \u001b[0mself\u001b[0m\u001b[0;34m.\u001b[0m\u001b[0mfast\u001b[0m\u001b[0;34m.\u001b[0m\u001b[0mget\u001b[0m\u001b[0;34m(\u001b[0m\u001b[0mkeys\u001b[0m\u001b[0;34m)\u001b[0m\u001b[0;34m)\u001b[0m\u001b[0;34m)\u001b[0m\u001b[0;34m)\u001b[0m\u001b[0;34m\u001b[0m\u001b[0;34m\u001b[0m\u001b[0m\n\u001b[0m\u001b[1;32m    100\u001b[0m         \u001b[0mself\u001b[0m\u001b[0;34m.\u001b[0m\u001b[0mfast\u001b[0m\u001b[0;34m.\u001b[0m\u001b[0mdelete\u001b[0m\u001b[0;34m(\u001b[0m\u001b[0mkeys\u001b[0m\u001b[0;34m)\u001b[0m\u001b[0;34m\u001b[0m\u001b[0;34m\u001b[0m\u001b[0m\n\u001b[1;32m    101\u001b[0m \u001b[0;34m\u001b[0m\u001b[0m\n",
      "\u001b[0;32m/storage/cynthiawu/miniconda3/envs/python3.6/lib/python3.6/site-packages/partd/file.py\u001b[0m in \u001b[0;36mappend\u001b[0;34m(self, data, lock, fsync, **kwargs)\u001b[0m\n\u001b[1;32m     42\u001b[0m                     \u001b[0mos\u001b[0m\u001b[0;34m.\u001b[0m\u001b[0mmakedirs\u001b[0m\u001b[0;34m(\u001b[0m\u001b[0mos\u001b[0m\u001b[0;34m.\u001b[0m\u001b[0mpath\u001b[0m\u001b[0;34m.\u001b[0m\u001b[0mdirname\u001b[0m\u001b[0;34m(\u001b[0m\u001b[0mfn\u001b[0m\u001b[0;34m)\u001b[0m\u001b[0;34m)\u001b[0m\u001b[0;34m\u001b[0m\u001b[0;34m\u001b[0m\u001b[0m\n\u001b[1;32m     43\u001b[0m                 \u001b[0;32mwith\u001b[0m \u001b[0mopen\u001b[0m\u001b[0;34m(\u001b[0m\u001b[0mfn\u001b[0m\u001b[0;34m,\u001b[0m \u001b[0;34m'ab'\u001b[0m\u001b[0;34m)\u001b[0m \u001b[0;32mas\u001b[0m \u001b[0mf\u001b[0m\u001b[0;34m:\u001b[0m\u001b[0;34m\u001b[0m\u001b[0;34m\u001b[0m\u001b[0m\n\u001b[0;32m---> 44\u001b[0;31m                     \u001b[0mf\u001b[0m\u001b[0;34m.\u001b[0m\u001b[0mwrite\u001b[0m\u001b[0;34m(\u001b[0m\u001b[0mv\u001b[0m\u001b[0;34m)\u001b[0m\u001b[0;34m\u001b[0m\u001b[0;34m\u001b[0m\u001b[0m\n\u001b[0m\u001b[1;32m     45\u001b[0m                     \u001b[0;32mif\u001b[0m \u001b[0mfsync\u001b[0m\u001b[0;34m:\u001b[0m\u001b[0;34m\u001b[0m\u001b[0;34m\u001b[0m\u001b[0m\n\u001b[1;32m     46\u001b[0m                         \u001b[0mos\u001b[0m\u001b[0;34m.\u001b[0m\u001b[0mfsync\u001b[0m\u001b[0;34m(\u001b[0m\u001b[0mf\u001b[0m\u001b[0;34m)\u001b[0m\u001b[0;34m\u001b[0m\u001b[0;34m\u001b[0m\u001b[0m\n",
      "\u001b[0;31mOSError\u001b[0m: [Errno 28] No space left on device"
     ]
    }
   ],
   "source": [
    "df.to_csv('/storage/cynthiawu/trans_eQTL/GTex.v8/Run3_070221/nerve_adipose_intersect.tsv', sep='\\t', index=False)"
   ]
  },
  {
   "cell_type": "code",
   "execution_count": 1,
   "metadata": {},
   "outputs": [
    {
     "name": "stdout",
     "output_type": "stream",
     "text": [
      "Object `dd.merge` not found.\n"
     ]
    }
   ],
   "source": [
    "?dd.merge"
   ]
  },
  {
   "cell_type": "code",
   "execution_count": null,
   "metadata": {},
   "outputs": [],
   "source": []
  },
  {
   "cell_type": "code",
   "execution_count": null,
   "metadata": {},
   "outputs": [],
   "source": [
    "df1 = dd.read_csv('file1.csv')\n",
    "df2 = dd.read_csv('file2.csv')\n",
    "\n",
    "# Merge the csv files.\n",
    "df = dd.merge(df1, df2, how='outer', on=['product','version'])"
   ]
  },
  {
   "cell_type": "code",
   "execution_count": null,
   "metadata": {},
   "outputs": [],
   "source": []
  },
  {
   "cell_type": "code",
   "execution_count": null,
   "metadata": {},
   "outputs": [],
   "source": [
    "intersect"
   ]
  },
  {
   "cell_type": "code",
   "execution_count": null,
   "metadata": {},
   "outputs": [],
   "source": [
    "plt.scatter(np.sign(intersect['beta_x'])*-np.log(intersect['p-value_x']), np.sign(intersect['beta_y'])*-np.log(intersect['p-value_y']), s=4)"
   ]
  },
  {
   "cell_type": "code",
   "execution_count": null,
   "metadata": {},
   "outputs": [],
   "source": []
  }
 ],
 "metadata": {
  "kernelspec": {
   "display_name": "Python (python3.6)",
   "language": "python",
   "name": "python3.6"
  },
  "language_info": {
   "codemirror_mode": {
    "name": "ipython",
    "version": 3
   },
   "file_extension": ".py",
   "mimetype": "text/x-python",
   "name": "python",
   "nbconvert_exporter": "python",
   "pygments_lexer": "ipython3",
   "version": "3.6.7"
  }
 },
 "nbformat": 4,
 "nbformat_minor": 4
}
